{
  "nbformat": 4,
  "nbformat_minor": 0,
  "metadata": {
    "colab": {
      "provenance": [],
      "authorship_tag": "ABX9TyOmdTnF3FF9gK2u0gw1DS2p",
      "include_colab_link": true
    },
    "kernelspec": {
      "name": "python3",
      "display_name": "Python 3"
    },
    "language_info": {
      "name": "python"
    }
  },
  "cells": [
    {
      "cell_type": "markdown",
      "metadata": {
        "id": "view-in-github",
        "colab_type": "text"
      },
      "source": [
        "<a href=\"https://colab.research.google.com/github/hseongeun/projectmanager/blob/main/1_%ED%8C%8C%EC%9D%B4%EC%8D%AC_1%EC%9D%BC%EC%B0%A8_%EC%8B%A4%EC%8A%B5.ipynb\" target=\"_parent\"><img src=\"https://colab.research.google.com/assets/colab-badge.svg\" alt=\"Open In Colab\"/></a>"
      ]
    },
    {
      "cell_type": "code",
      "execution_count": null,
      "metadata": {
        "id": "Tw2bC3J1diNK"
      },
      "outputs": [],
      "source": []
    },
    {
      "cell_type": "markdown",
      "source": [
        "# 파이썬 기초 프로그래밍-1일차 실습"
      ],
      "metadata": {
        "id": "RmqCk2BIeVPH"
      }
    },
    {
      "cell_type": "markdown",
      "source": [
        "## 1.코랩에서 파이썬 사용하기\n",
        "\n"
      ],
      "metadata": {
        "id": "K33wVMj7e12Y"
      }
    },
    {
      "cell_type": "markdown",
      "source": [
        "### 1-1. 파이썬 실습 1일차"
      ],
      "metadata": {
        "id": "rRCWI97qgg5Y"
      }
    },
    {
      "cell_type": "markdown",
      "source": [
        "\n",
        "#### 시작\n",
        "\n",
        "---"
      ],
      "metadata": {
        "id": "F9-PxLElgj6A"
      }
    },
    {
      "cell_type": "code",
      "source": [
        "import sys\n",
        "\n",
        "sys.version"
      ],
      "metadata": {
        "colab": {
          "base_uri": "https://localhost:8080/",
          "height": 35
        },
        "id": "Xq7Cqnhge7ux",
        "outputId": "9305ac5f-2619-49b8-e08f-86647bfcb915"
      },
      "execution_count": 1,
      "outputs": [
        {
          "output_type": "execute_result",
          "data": {
            "text/plain": [
              "'3.10.12 (main, Jun 11 2023, 05:26:28) [GCC 11.4.0]'"
            ],
            "application/vnd.google.colaboratory.intrinsic+json": {
              "type": "string"
            }
          },
          "metadata": {},
          "execution_count": 1
        }
      ]
    },
    {
      "cell_type": "markdown",
      "source": [
        " **간단 계산기 프로그램 작성하기**\n",
        "\n"
      ],
      "metadata": {
        "id": "2g-9S5kYfMhv"
      }
    },
    {
      "cell_type": "code",
      "source": [
        "a=100\n",
        "b=50\n",
        "print('덧셈: ', a + b)\n",
        "print('뺄셈: ', a - b)\n",
        "print('곱셈: ', a * b)\n",
        "print('나눗셈: ', a / b)"
      ],
      "metadata": {
        "colab": {
          "base_uri": "https://localhost:8080/"
        },
        "id": "a72hJjHrfoYI",
        "outputId": "beac99ec-e90b-4d6b-b0a7-951de3fb1edd"
      },
      "execution_count": 2,
      "outputs": [
        {
          "output_type": "stream",
          "name": "stdout",
          "text": [
            "덧셈:  150\n",
            "뺄셈:  50\n",
            "곱셈:  5000\n",
            "나눗셈:  2.0\n"
          ]
        }
      ]
    }
  ]
}