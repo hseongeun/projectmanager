{
  "nbformat": 4,
  "nbformat_minor": 0,
  "metadata": {
    "colab": {
      "provenance": [],
      "include_colab_link": true
    },
    "kernelspec": {
      "name": "python3",
      "display_name": "Python 3"
    },
    "language_info": {
      "name": "python"
    }
  },
  "cells": [
    {
      "cell_type": "markdown",
      "metadata": {
        "id": "view-in-github",
        "colab_type": "text"
      },
      "source": [
        "<a href=\"https://colab.research.google.com/github/hseongeun/projectmanager/blob/main/9_19.ipynb\" target=\"_parent\"><img src=\"https://colab.research.google.com/assets/colab-badge.svg\" alt=\"Open In Colab\"/></a>"
      ]
    },
    {
      "cell_type": "markdown",
      "source": [
        "### 머신 러닝 Machine Learning\n",
        "• 통계적 수학적 기법으로 모형을 설계\n",
        "\n",
        "• 컴퓨터가 모형을 바탕으로 데이터로부터 학습\n",
        "\n",
        "• 학습의 형태\n",
        "- 지도 학습 x와 y가 짝지어진 형태의 데이터에서 관계를 학습 (90%)\n",
        "- 비지도학습 데이터의 내재적 구조를 학습 (9%)\n",
        "- 강화학습 환경과 상호작용하여 가장 많은 보상을 받는 행동을 학습 (1%)\n",
        "\n",
        "- Big 5 OCEAN\n",
        "-- O(개방) C(성실성) E(외향성) A(친화성) N(신경성)"
      ],
      "metadata": {
        "id": "cRhdNj7k7vKv"
      }
    },
    {
      "cell_type": "markdown",
      "source": [
        "### 지도 학습 (Supervised Learning)\n",
        "• 입력(x)과 출력(y)이 짝지워진 데이터셋이 있을 때\n",
        "\n",
        "• x로부터 y를 예측하는 함수를 학습\n",
        "\n",
        "• 아직 y가 관찰되지 않은 x에 적용하여 y를 예측\n",
        "\n",
        "• 머신 러닝의 90% 이상을 차지하는 학습 형태\n",
        "\n",
        "• 예시\n",
        "- 주택의 정보(x) -> 해당 주택의 시장가격(y)\n",
        "- 개인의 금융 생활 정보(x) -> 대출 상환 가능성(y)\n",
        "- 지원자의 자기소개서(x) -> 입사 후 인사평가 점수(y)\n",
        "\n",
        "• 지도학습이 되려면 하나의 사례마다 x와 y가 있어야 함\n",
        "- 예시 : 수많은 인터넷 뉴스 -> 금융 산업 트렌드\n",
        "\n",
        "• y가 데이터로 관찰 가능해야 함\n",
        "- 예시 : 블로그 맛집 리뷰 -> 진위여부"
      ],
      "metadata": {
        "id": "7Qzr_a8M7wwY"
      }
    },
    {
      "cell_type": "markdown",
      "source": [
        "### GPU\n",
        "게임 등에서 컴퓨터 그래픽을 처리하는데 특화된 장치\n",
        "\n",
        "- 대량의 단순 계산을 병렬로 실행\n",
        "\n",
        "- 여러 가지 계산을 따로따로 계산 한 다음 합치기 가능\n",
        "\n",
        "- 수천 개의 작업을 동시 실행\n",
        "\n",
        "CPU\n",
        "\n",
        "- 병렬 처리에 최적화 X, 처리 능력 제한\n",
        "\n",
        "- 코어 : 코어 하나가 한 번에 한 가지 계산\n",
        "\n",
        "- PC속 CPU : 많아야 열 몇 개 / 최신 GPU : 몇 만개의 코어\n",
        "\n",
        "CPU 코어 : 성능 높, 개수 낮\n",
        "\n",
        "GPU 코어 : 성능 낮, 개수 높\n"
      ],
      "metadata": {
        "id": "KI8E78LE84RZ"
      }
    },
    {
      "cell_type": "markdown",
      "source": [
        "### 딥러닝 프레임 워크\n",
        "GPU 지원 + 딥러닝 모델을 정의하고 학습시키는데 필요한 다양한 기능 제공\n",
        "\n",
        "텐서플로(TensorFlow) / 파이토치와 반대\n",
        "\n",
        "- 구글이 개발\n",
        "\n",
        "- 가장 높은 점유율\n",
        "\n",
        "- 기업용 기능이 많음\n",
        "\n",
        "파이토치(PyTorch) / 텐서플로와 반대\n",
        "\n",
        "- 페이스북이 개발\n",
        "\n",
        "- 새로운 모형을 만들기 편리하여 학계에서 인기\n",
        "\n",
        "작스(jax) / 전문가용\n",
        "\n",
        "- 다양한 수학 계산을 최적화하여 빠르게 실행하는데 초점\n",
        "\n",
        "- 딥러닝도 구현할 수 있음\n",
        "\n",
        "케라스(Keras) 초보자용\n",
        "\n",
        "- 여러 딥러닝 프레임워크를 같은 방법으로 편하게 사용할 수 있도록 하는 라이브러리\n",
        "\n",
        "- 현재 텐서플로를 지원(텐서플로에도 케라스가 내장)\n",
        "\n",
        "- 신버전(베타)부터 파이토치와 작스도 지원"
      ],
      "metadata": {
        "id": "D_YGr1wMO8kL"
      }
    },
    {
      "cell_type": "markdown",
      "source": [
        "### 컴퓨터 비전(computer vision)\n",
        "컴퓨터를 이용해 이미지로부터 의미 있는 정보를 추출하는 것\n",
        "\n",
        "생물의 시각에 해당하는 영역을 다루는 인공지능 의 분야\n",
        "\n",
        "사진, 동영상 등의 입력을 받아 처리\n",
        "\n",
        "더 나아가 새로운 이미지를 생성하는 것까지 포함\n",
        "\n",
        "교통, 의료, 스포츠, 제조 등 다양한 분야에 활용\n",
        "\n",
        "인공지능\n",
        "\n",
        "- 인간이나 동물의 지능을 컴퓨터나 시스템 등으로 만든 것\n",
        "\n",
        "- 지능 다양한 범위의 환경에서 목적을 달성할 수 있는 행위자의 능력\n",
        "\n",
        "- 1956년 미국 다트머스大에서 열린 워크숍에서 John McCarthy McCarthy가 명명\n",
        "\n"
      ],
      "metadata": {
        "id": "BvfOTqKGUBk0"
      }
    },
    {
      "cell_type": "markdown",
      "source": [
        "### 컴퓨터 비전의 응용\n",
        "\n",
        "**OCR**\n",
        "\n",
        "이미지에서 텍스트를 추출하는 기술\n",
        "\n",
        "- 이미지에서 텍스트를 추출하여 디지털 데이터로 전환할 수 있음\n",
        "\n",
        "이는 다양한 문서 처리 및 정보 수집 작업에 사용\n",
        "\n",
        "- 예) 회사의 인보이스, 영수증, 합의서 등 다양한 문서들을 디지털화\n",
        "\n",
        "- 이를 통해 문서 처리 과정을 간소화하고, 데이터의 품질과 정확성을 향상\n",
        "\n",
        "광학 문자 인식 기술은 비대면 계좌 개설에서 신분증 인식 등과 같은 분야에서도 많이 사용\n",
        "\n",
        "- 예) 은행에서는 고객의 신분증 정보를 광학 문자 인식을 이용하여 자동으로 인식\n",
        "\n",
        "- 이를 통해 계좌 개설 과정을 간소화하고, 안전한 계좌 개설을 보장\n",
        "\n",
        "- 또한, 광학 문자 인식 기술을 이용하여 신분증 인식을 하면, 신분증 정보의 정확성을 보다 높일 수 있음\n",
        "\n",
        "**화상 회의**\n",
        "\n",
        "화상 회의 소프트웨어는 오프라인 미팅을 대체하는데 중요한 역할\n",
        "\n",
        "온라인 화상 회의를 기능 중에 배경을 흐리게 하거나 합성하는 기능이 있음\n",
        "\n",
        "과거에는 크로마 키(chroma key) 또는 그린 스크린, 블루 스크린 등이 필요\n",
        "\n",
        "- 배경이 일정한 색상으로 유지되면, 이 색상을 지정하여 제거하고, 다른 배경으로 대체하는 방법\n",
        "\n",
        "- 오랜 시간 사용되어 왔지만, 복잡하고 비용도 많이 듦\n",
        "\n",
        "현재는 image segmentation 기법을 이용하여 사람과 배경을 분리하고, 배경을 흐리게 하거나 합성하는 방법이 주로 사용\n",
        "\n",
        "- 사람과 배경의 경계를 인식하고, 그 경계에서 배경을 흐리게 하거나 합성하는 방법을 사용\n",
        "\n",
        "- 크로마 키 등에 비해 간단하고, 더욱 자연스러운 효과를 보장"
      ],
      "metadata": {
        "id": "UrWTJl7vVP39"
      }
    },
    {
      "cell_type": "markdown",
      "source": [
        "### 이미지 이항 분류"
      ],
      "metadata": {
        "id": "2M2_t2xIUiPh"
      }
    },
    {
      "cell_type": "code",
      "execution_count": null,
      "metadata": {
        "colab": {
          "base_uri": "https://localhost:8080/"
        },
        "id": "xUrv7orM0i4E",
        "outputId": "12bd9436-617a-4406-dca2-7ac955bd0114"
      },
      "outputs": [
        {
          "output_type": "stream",
          "name": "stdout",
          "text": [
            "Requirement already satisfied: tensorflow in /usr/local/lib/python3.10/dist-packages (2.13.0)\n",
            "Requirement already satisfied: absl-py>=1.0.0 in /usr/local/lib/python3.10/dist-packages (from tensorflow) (1.4.0)\n",
            "Requirement already satisfied: astunparse>=1.6.0 in /usr/local/lib/python3.10/dist-packages (from tensorflow) (1.6.3)\n",
            "Requirement already satisfied: flatbuffers>=23.1.21 in /usr/local/lib/python3.10/dist-packages (from tensorflow) (23.5.26)\n",
            "Requirement already satisfied: gast<=0.4.0,>=0.2.1 in /usr/local/lib/python3.10/dist-packages (from tensorflow) (0.4.0)\n",
            "Requirement already satisfied: google-pasta>=0.1.1 in /usr/local/lib/python3.10/dist-packages (from tensorflow) (0.2.0)\n",
            "Requirement already satisfied: grpcio<2.0,>=1.24.3 in /usr/local/lib/python3.10/dist-packages (from tensorflow) (1.57.0)\n",
            "Requirement already satisfied: h5py>=2.9.0 in /usr/local/lib/python3.10/dist-packages (from tensorflow) (3.9.0)\n",
            "Requirement already satisfied: keras<2.14,>=2.13.1 in /usr/local/lib/python3.10/dist-packages (from tensorflow) (2.13.1)\n",
            "Requirement already satisfied: libclang>=13.0.0 in /usr/local/lib/python3.10/dist-packages (from tensorflow) (16.0.6)\n",
            "Requirement already satisfied: numpy<=1.24.3,>=1.22 in /usr/local/lib/python3.10/dist-packages (from tensorflow) (1.23.5)\n",
            "Requirement already satisfied: opt-einsum>=2.3.2 in /usr/local/lib/python3.10/dist-packages (from tensorflow) (3.3.0)\n",
            "Requirement already satisfied: packaging in /usr/local/lib/python3.10/dist-packages (from tensorflow) (23.1)\n",
            "Requirement already satisfied: protobuf!=4.21.0,!=4.21.1,!=4.21.2,!=4.21.3,!=4.21.4,!=4.21.5,<5.0.0dev,>=3.20.3 in /usr/local/lib/python3.10/dist-packages (from tensorflow) (3.20.3)\n",
            "Requirement already satisfied: setuptools in /usr/local/lib/python3.10/dist-packages (from tensorflow) (67.7.2)\n",
            "Requirement already satisfied: six>=1.12.0 in /usr/local/lib/python3.10/dist-packages (from tensorflow) (1.16.0)\n",
            "Requirement already satisfied: tensorboard<2.14,>=2.13 in /usr/local/lib/python3.10/dist-packages (from tensorflow) (2.13.0)\n",
            "Requirement already satisfied: tensorflow-estimator<2.14,>=2.13.0 in /usr/local/lib/python3.10/dist-packages (from tensorflow) (2.13.0)\n",
            "Requirement already satisfied: termcolor>=1.1.0 in /usr/local/lib/python3.10/dist-packages (from tensorflow) (2.3.0)\n",
            "Requirement already satisfied: typing-extensions<4.6.0,>=3.6.6 in /usr/local/lib/python3.10/dist-packages (from tensorflow) (4.5.0)\n",
            "Requirement already satisfied: wrapt>=1.11.0 in /usr/local/lib/python3.10/dist-packages (from tensorflow) (1.15.0)\n",
            "Requirement already satisfied: tensorflow-io-gcs-filesystem>=0.23.1 in /usr/local/lib/python3.10/dist-packages (from tensorflow) (0.33.0)\n",
            "Requirement already satisfied: wheel<1.0,>=0.23.0 in /usr/local/lib/python3.10/dist-packages (from astunparse>=1.6.0->tensorflow) (0.41.2)\n",
            "Requirement already satisfied: google-auth<3,>=1.6.3 in /usr/local/lib/python3.10/dist-packages (from tensorboard<2.14,>=2.13->tensorflow) (2.17.3)\n",
            "Requirement already satisfied: google-auth-oauthlib<1.1,>=0.5 in /usr/local/lib/python3.10/dist-packages (from tensorboard<2.14,>=2.13->tensorflow) (1.0.0)\n",
            "Requirement already satisfied: markdown>=2.6.8 in /usr/local/lib/python3.10/dist-packages (from tensorboard<2.14,>=2.13->tensorflow) (3.4.4)\n",
            "Requirement already satisfied: requests<3,>=2.21.0 in /usr/local/lib/python3.10/dist-packages (from tensorboard<2.14,>=2.13->tensorflow) (2.31.0)\n",
            "Requirement already satisfied: tensorboard-data-server<0.8.0,>=0.7.0 in /usr/local/lib/python3.10/dist-packages (from tensorboard<2.14,>=2.13->tensorflow) (0.7.1)\n",
            "Requirement already satisfied: werkzeug>=1.0.1 in /usr/local/lib/python3.10/dist-packages (from tensorboard<2.14,>=2.13->tensorflow) (2.3.7)\n",
            "Requirement already satisfied: cachetools<6.0,>=2.0.0 in /usr/local/lib/python3.10/dist-packages (from google-auth<3,>=1.6.3->tensorboard<2.14,>=2.13->tensorflow) (5.3.1)\n",
            "Requirement already satisfied: pyasn1-modules>=0.2.1 in /usr/local/lib/python3.10/dist-packages (from google-auth<3,>=1.6.3->tensorboard<2.14,>=2.13->tensorflow) (0.3.0)\n",
            "Requirement already satisfied: rsa<5,>=3.1.4 in /usr/local/lib/python3.10/dist-packages (from google-auth<3,>=1.6.3->tensorboard<2.14,>=2.13->tensorflow) (4.9)\n",
            "Requirement already satisfied: requests-oauthlib>=0.7.0 in /usr/local/lib/python3.10/dist-packages (from google-auth-oauthlib<1.1,>=0.5->tensorboard<2.14,>=2.13->tensorflow) (1.3.1)\n",
            "Requirement already satisfied: charset-normalizer<4,>=2 in /usr/local/lib/python3.10/dist-packages (from requests<3,>=2.21.0->tensorboard<2.14,>=2.13->tensorflow) (3.2.0)\n",
            "Requirement already satisfied: idna<4,>=2.5 in /usr/local/lib/python3.10/dist-packages (from requests<3,>=2.21.0->tensorboard<2.14,>=2.13->tensorflow) (3.4)\n",
            "Requirement already satisfied: urllib3<3,>=1.21.1 in /usr/local/lib/python3.10/dist-packages (from requests<3,>=2.21.0->tensorboard<2.14,>=2.13->tensorflow) (2.0.4)\n",
            "Requirement already satisfied: certifi>=2017.4.17 in /usr/local/lib/python3.10/dist-packages (from requests<3,>=2.21.0->tensorboard<2.14,>=2.13->tensorflow) (2023.7.22)\n",
            "Requirement already satisfied: MarkupSafe>=2.1.1 in /usr/local/lib/python3.10/dist-packages (from werkzeug>=1.0.1->tensorboard<2.14,>=2.13->tensorflow) (2.1.3)\n",
            "Requirement already satisfied: pyasn1<0.6.0,>=0.4.6 in /usr/local/lib/python3.10/dist-packages (from pyasn1-modules>=0.2.1->google-auth<3,>=1.6.3->tensorboard<2.14,>=2.13->tensorflow) (0.5.0)\n",
            "Requirement already satisfied: oauthlib>=3.0.0 in /usr/local/lib/python3.10/dist-packages (from requests-oauthlib>=0.7.0->google-auth-oauthlib<1.1,>=0.5->tensorboard<2.14,>=2.13->tensorflow) (3.2.2)\n"
          ]
        }
      ],
      "source": [
        "!pip install tensorflow"
      ]
    },
    {
      "cell_type": "code",
      "source": [
        "import tensorflow as tf"
      ],
      "metadata": {
        "id": "2-bc7Ru9h67o"
      },
      "execution_count": null,
      "outputs": []
    },
    {
      "cell_type": "code",
      "source": [
        "# 코드가 길때 \\ 이용\n",
        "(x_train, y_train), (x_test, y_test) = \\\n",
        "    tf.keras.datasets.mnist.load_data()"
      ],
      "metadata": {
        "id": "UE6G1pugiAXD"
      },
      "execution_count": null,
      "outputs": []
    },
    {
      "cell_type": "code",
      "source": [
        "# 훈련용 이미지 0번을 그림으로 보기\n",
        "from PIL import Image\n",
        "Image.fromarray(x_train[0])"
      ],
      "metadata": {
        "colab": {
          "base_uri": "https://localhost:8080/",
          "height": 45
        },
        "id": "L-6Z6oIijNiy",
        "outputId": "a4fea751-88ca-4b0f-ec4c-b0195483b81c"
      },
      "execution_count": null,
      "outputs": [
        {
          "output_type": "execute_result",
          "data": {
            "text/plain": [
              "<PIL.Image.Image image mode=L size=28x28>"
            ],
            "image/png": "[encoded data removed]"
          },
          "metadata": {},
          "execution_count": 11
        }
      ]
    },
    {
      "cell_type": "code",
      "source": [
        "# 훈련용 이미지 0번의 숫자\n",
        "y_train[0]"
      ],
      "metadata": {
        "colab": {
          "base_uri": "https://localhost:8080/"
        },
        "id": "5AMZzI91jh_-",
        "outputId": "a78131af-cec6-4cb1-9b67-560462d5fc33"
      },
      "execution_count": null,
      "outputs": [
        {
          "output_type": "execute_result",
          "data": {
            "text/plain": [
              "5"
            ]
          },
          "metadata": {},
          "execution_count": 12
        }
      ]
    },
    {
      "cell_type": "code",
      "source": [
        "y_train"
      ],
      "metadata": {
        "colab": {
          "base_uri": "https://localhost:8080/"
        },
        "id": "_AUY06BMjn-r",
        "outputId": "5cfddc93-c4a1-4717-bcc1-2397a13a99f3"
      },
      "execution_count": null,
      "outputs": [
        {
          "output_type": "execute_result",
          "data": {
            "text/plain": [
              "array([5, 0, 4, ..., 5, 6, 8], dtype=uint8)"
            ]
          },
          "metadata": {},
          "execution_count": 14
        }
      ]
    },
    {
      "cell_type": "code",
      "source": [
        "import numpy as np\n",
        "def filter_dataset(x, y, neg_cls, pos_cls):\n",
        "    # x와 y에서 neg_cls와 pos_cls만 추려내는 함수\n",
        "    m = (y == pos_cls) | (y == neg_cls)\n",
        "    x = x[m]\n",
        "    y = y[m]\n",
        "    y = np.where(y == neg_cls, 0, 1)\n",
        "    return x, y\n",
        "\n",
        "x_train2, y_train2 = filter_dataset(x_train, y_train, 0, 1)"
      ],
      "metadata": {
        "id": "q-CSxzNEjtpK"
      },
      "execution_count": null,
      "outputs": []
    },
    {
      "cell_type": "code",
      "source": [
        "y_train2"
      ],
      "metadata": {
        "colab": {
          "base_uri": "https://localhost:8080/"
        },
        "id": "Onunpjt4kWRj",
        "outputId": "7013a23a-1752-4834-cb08-be9313843f11"
      },
      "execution_count": null,
      "outputs": [
        {
          "output_type": "execute_result",
          "data": {
            "text/plain": [
              "array([0, 1, 1, ..., 1, 0, 1])"
            ]
          },
          "metadata": {},
          "execution_count": 16
        }
      ]
    },
    {
      "cell_type": "code",
      "source": [
        "Image.fromarray(x_train2[0])    # 1로도 바꿔서 확인해보기"
      ],
      "metadata": {
        "colab": {
          "base_uri": "https://localhost:8080/",
          "height": 45
        },
        "id": "fZ1mfXi9kbwJ",
        "outputId": "a07ff5d9-96d4-42f6-b69b-193560968220"
      },
      "execution_count": null,
      "outputs": [
        {
          "output_type": "execute_result",
          "data": {
            "text/plain": [
              "<PIL.Image.Image image mode=L size=28x28>"
            ],
            "image/png": "[encoded data removed]"
          },
          "metadata": {},
          "execution_count": 18
        }
      ]
    },
    {
      "cell_type": "markdown",
      "source": [
        "#### 텐서플로 모형 정의\n",
        "Sequential : 순서대로 층을 쌓아서 모형을 만드는 함수\n",
        "\n",
        "입력이 가로 × 세로 2차원 형태이므로 Flatten을 이용해 1차원 형태로 바꿈\n",
        "\n",
        "Dense : 모든 입력에 가중치를 곱하여 더함\n",
        "- 1 : 출력의 개수, 그림 하나를 0 또는 1로 분류하므로 출력의 개수는 1개"
      ],
      "metadata": {
        "id": "lShsUpignwYC"
      }
    },
    {
      "cell_type": "code",
      "source": [
        "from tensorflow.keras.layers import *\n",
        "model = tf.keras.Sequential([\n",
        "    Flatten(),          # Flatten : 이미지를 평평하게\n",
        "    Dense(1, activation='sigmoid'),   # 1: 1개만 출력해라(0 or 1)\n",
        "])"
      ],
      "metadata": {
        "id": "putoKxXtl7Rw"
      },
      "execution_count": null,
      "outputs": []
    },
    {
      "cell_type": "markdown",
      "source": [
        "#### 설정\n",
        "손실함수 loss: 예측이 부정확한 정도를 평가하는 방법\n",
        "\n",
        "- 이항 분류 문제이므로 binary_crossentropy를 사용\n",
        "- loss=tf.keras.losses.BinaryCrossentropy()로도 가능\n",
        "\n",
        "측정치 metrics: 모형의 성능을 참고하기 위한 지표. 훈련 과정에는 직접적으로 영향 X\n",
        "\n",
        "- accuracy : 확률이 큰 쪽으로 예측하여 맞은 개수"
      ],
      "metadata": {
        "id": "eAczyJVBnbhW"
      }
    },
    {
      "cell_type": "code",
      "source": [
        "model.compile(loss = 'binary_crossentropy', metrics=['accuracy'])\n",
        "\n"
      ],
      "metadata": {
        "id": "tTTe0k4ImuRs"
      },
      "execution_count": null,
      "outputs": []
    },
    {
      "cell_type": "markdown",
      "source": [
        "#### 훈련\n",
        "데이터에 적합(fit)한 파라미터를 추정(parameter)하여 모델을 훈련(train)\n",
        "\n",
        "배치(batch) : 한 번에 모형의 파라미터 조정에 사용하는 데이터(기본 32개)\n",
        "\n",
        "에포크(epoch) : 전체 데이터를 한 번 처음부터 끝까지 훑는 과정 (800=32 × 25)\n",
        "\n",
        "에포크를 거듭할수록 손실(loss)은 감소, 정확도(accuracy)는 향상"
      ],
      "metadata": {
        "id": "qxKoDgnOoJBy"
      }
    },
    {
      "cell_type": "code",
      "source": [
        "result = model.fit(x_train2, y_train2, validation_split=0.1, epochs=10)"
      ],
      "metadata": {
        "colab": {
          "base_uri": "https://localhost:8080/"
        },
        "id": "PZKAfX1_oW8r",
        "outputId": "5ce86a43-e7e1-4204-8ae9-2448f9e410bb"
      },
      "execution_count": null,
      "outputs": [
        {
          "output_type": "stream",
          "name": "stdout",
          "text": [
            "Epoch 1/10\n",
            "357/357 [==============================] - 0s 1ms/step - loss: 0.0140 - accuracy: 0.9992 - val_loss: 2.4658e-19 - val_accuracy: 1.0000\n",
            "Epoch 2/10\n",
            "357/357 [==============================] - 0s 1ms/step - loss: 0.0065 - accuracy: 0.9996 - val_loss: 3.1983e-09 - val_accuracy: 1.0000\n",
            "Epoch 3/10\n",
            "357/357 [==============================] - 0s 1ms/step - loss: 0.0024 - accuracy: 0.9996 - val_loss: 2.0967e-13 - val_accuracy: 1.0000\n",
            "Epoch 4/10\n",
            "357/357 [==============================] - 0s 1ms/step - loss: 0.0075 - accuracy: 0.9993 - val_loss: 3.0749e-22 - val_accuracy: 1.0000\n",
            "Epoch 5/10\n",
            "357/357 [==============================] - 0s 1ms/step - loss: 0.0029 - accuracy: 0.9996 - val_loss: 1.8066e-19 - val_accuracy: 1.0000\n",
            "Epoch 6/10\n",
            "357/357 [==============================] - 0s 1ms/step - loss: 0.0047 - accuracy: 0.9996 - val_loss: 1.5536e-22 - val_accuracy: 1.0000\n",
            "Epoch 7/10\n",
            "357/357 [==============================] - 0s 1ms/step - loss: 0.0014 - accuracy: 0.9998 - val_loss: 2.3698e-16 - val_accuracy: 1.0000\n",
            "Epoch 8/10\n",
            "357/357 [==============================] - 0s 1ms/step - loss: 5.4191e-04 - accuracy: 0.9999 - val_loss: 1.9990e-25 - val_accuracy: 1.0000\n",
            "Epoch 9/10\n",
            "357/357 [==============================] - 0s 1ms/step - loss: 4.0527e-05 - accuracy: 1.0000 - val_loss: 5.1311e-21 - val_accuracy: 1.0000\n",
            "Epoch 10/10\n",
            "357/357 [==============================] - 0s 1ms/step - loss: 0.0010 - accuracy: 0.9997 - val_loss: 8.7065e-17 - val_accuracy: 1.0000\n"
          ]
        }
      ]
    },
    {
      "cell_type": "markdown",
      "source": [
        "--> loss가 줄어들고 accuracy가 증가하는 것을 볼 수 있음"
      ],
      "metadata": {
        "id": "JSEBYb79oZys"
      }
    },
    {
      "cell_type": "markdown",
      "source": [
        "#### 에포크에 따른 정확도 추이\n"
      ],
      "metadata": {
        "id": "jzeWw3fSpuUh"
      }
    },
    {
      "cell_type": "code",
      "source": [
        "import matplotlib.pyplot as plt\n",
        "plt.plot(result.history['accuracy'], 'b-', label='accuracy')\n",
        "plt.plot(result.history['val_accuracy'], 'r--', label='val_accuracy')\n",
        "plt.legend()"
      ],
      "metadata": {
        "colab": {
          "base_uri": "https://localhost:8080/",
          "height": 448
        },
        "id": "EhD0Fk68o7-8",
        "outputId": "a484eb8e-6132-4704-aefc-d3c638050090"
      },
      "execution_count": null,
      "outputs": [
        {
          "output_type": "execute_result",
          "data": {
            "text/plain": [
              "<matplotlib.legend.Legend at 0x7929643faef0>"
            ]
          },
          "metadata": {},
          "execution_count": 28
        },
        {
          "output_type": "display_data",
          "data": {
            "text/plain": [
              "<Figure size 640x480 with 1 Axes>"
            ],
            "image/png": "[encoded data removed]"
          },
          "metadata": {}
        }
      ]
    },
    {
      "cell_type": "markdown",
      "source": [
        "#### 에포크에 따른 손실 추이"
      ],
      "metadata": {
        "id": "2yIGczz5p0J6"
      }
    },
    {
      "cell_type": "code",
      "source": [
        "plt.plot(result.history['loss'], 'b-', label='loss')\n",
        "plt.plot(result.history['val_loss'], 'r--', label='val_loss')\n",
        "plt.legend()"
      ],
      "metadata": {
        "colab": {
          "base_uri": "https://localhost:8080/",
          "height": 448
        },
        "id": "Rt3uL-zypqi8",
        "outputId": "c6779531-ff65-47bc-bfc8-75c228d8d28d"
      },
      "execution_count": null,
      "outputs": [
        {
          "output_type": "execute_result",
          "data": {
            "text/plain": [
              "<matplotlib.legend.Legend at 0x7929656b68c0>"
            ]
          },
          "metadata": {},
          "execution_count": 25
        },
        {
          "output_type": "display_data",
          "data": {
            "text/plain": [
              "<Figure size 640x480 with 1 Axes>"
            ],
            "image/png": "[encoded data removed]"
          },
          "metadata": {}
        }
      ]
    },
    {
      "cell_type": "markdown",
      "source": [
        "epochs를 적어도 몇 번 돌려야 손실이 줄어들고 정확도가 높아지는 것을 볼 수 있을까?\n",
        "\n",
        "-> 에포크가 너무 크면 오히려 성능이 떨어짐.\n",
        "\n",
        "-> 계속 모니터링을 하면서 \"적당히\"\n",
        "\n",
        "Early Stopping : 100번을 하기로 했어도 성능이 떨어지기 시작하면 일찍 멈춤\n",
        "\n",
        "Check point : 중간중간 저장을 해놨다가 제일 성능이 좋았던 시점을 다시 불러옴\n",
        "\n",
        "https://playground.tensorflow.org/"
      ],
      "metadata": {
        "id": "2a9jpUJ4qA7Y"
      }
    },
    {
      "cell_type": "markdown",
      "source": [
        "복잡도 : 얼마나 복잡한가(모델의 특성)\n",
        "\n",
        "정확도 : 얼마나 잘 맞추는가(결과)\n",
        "\n",
        "- 단순해야 할 때는 단순하게, 복잡해야 할 때는 복잡하게\n",
        "\n",
        "- 복잡하다고 정확도가 증가하는 것이 아님\n",
        "\n",
        "-> 문제에 따라 다름"
      ],
      "metadata": {
        "id": "TOxM9qKSrzD7"
      }
    }
  ]
}