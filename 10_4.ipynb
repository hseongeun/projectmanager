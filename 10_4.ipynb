{
  "nbformat": 4,
  "nbformat_minor": 0,
  "metadata": {
    "colab": {
      "provenance": [],
      "authorship_tag": "ABX9TyPOggFlqTS5AGXN+Az4VRe8",
      "include_colab_link": true
    },
    "kernelspec": {
      "name": "python3",
      "display_name": "Python 3"
    },
    "language_info": {
      "name": "python"
    },
    "widgets": {
      "application/vnd.jupyter.widget-state+json": {
        "aa9337c443c04425b9a9213a63113308": {
          "model_module": "@jupyter-widgets/controls",
          "model_name": "HBoxModel",
          "model_module_version": "1.5.0",
          "state": {
            "_dom_classes": [],
            "_model_module": "@jupyter-widgets/controls",
            "_model_module_version": "1.5.0",
            "_model_name": "HBoxModel",
            "_view_count": null,
            "_view_module": "@jupyter-widgets/controls",
            "_view_module_version": "1.5.0",
            "_view_name": "HBoxView",
            "box_style": "",
            "children": [
              "IPY_MODEL_01e08a13709d45808497f4a9816521d2",
              "IPY_MODEL_44299e912382486c955e3974c55a7bdb",
              "IPY_MODEL_fc632e2ac03a489aa04980db7dcaf9c1"
            ],
            "layout": "IPY_MODEL_057025797015431db421603e17edb3a9"
          }
        },
        "01e08a13709d45808497f4a9816521d2": {
          "model_module": "@jupyter-widgets/controls",
          "model_name": "HTMLModel",
          "model_module_version": "1.5.0",
          "state": {
            "_dom_classes": [],
            "_model_module": "@jupyter-widgets/controls",
            "_model_module_version": "1.5.0",
            "_model_name": "HTMLModel",
            "_view_count": null,
            "_view_module": "@jupyter-widgets/controls",
            "_view_module_version": "1.5.0",
            "_view_name": "HTMLView",
            "description": "",
            "description_tooltip": null,
            "layout": "IPY_MODEL_2267fcc6e61b4fa58a0cca68f638ee6c",
            "placeholder": "​",
            "style": "IPY_MODEL_1d48d7cfa30d425282cdff45b62498c9",
            "value": "100%"
          }
        },
        "44299e912382486c955e3974c55a7bdb": {
          "model_module": "@jupyter-widgets/controls",
          "model_name": "FloatProgressModel",
          "model_module_version": "1.5.0",
          "state": {
            "_dom_classes": [],
            "_model_module": "@jupyter-widgets/controls",
            "_model_module_version": "1.5.0",
            "_model_name": "FloatProgressModel",
            "_view_count": null,
            "_view_module": "@jupyter-widgets/controls",
            "_view_module_version": "1.5.0",
            "_view_name": "ProgressView",
            "bar_style": "success",
            "description": "",
            "description_tooltip": null,
            "layout": "IPY_MODEL_f145abae7a5e47e4bb04652a85c3287d",
            "max": 14,
            "min": 0,
            "orientation": "horizontal",
            "style": "IPY_MODEL_ea3cc32a2b1346679a7d707099d191e4",
            "value": 14
          }
        },
        "fc632e2ac03a489aa04980db7dcaf9c1": {
          "model_module": "@jupyter-widgets/controls",
          "model_name": "HTMLModel",
          "model_module_version": "1.5.0",
          "state": {
            "_dom_classes": [],
            "_model_module": "@jupyter-widgets/controls",
            "_model_module_version": "1.5.0",
            "_model_name": "HTMLModel",
            "_view_count": null,
            "_view_module": "@jupyter-widgets/controls",
            "_view_module_version": "1.5.0",
            "_view_name": "HTMLView",
            "description": "",
            "description_tooltip": null,
            "layout": "IPY_MODEL_670b5b5e1c344584829a915099afa0c4",
            "placeholder": "​",
            "style": "IPY_MODEL_1b51b6cc6c7c4e2ca0ea4abb618619af",
            "value": " 14/14 [01:25&lt;00:00,  5.80s/it]"
          }
        },
        "057025797015431db421603e17edb3a9": {
          "model_module": "@jupyter-widgets/base",
          "model_name": "LayoutModel",
          "model_module_version": "1.2.0",
          "state": {
            "_model_module": "@jupyter-widgets/base",
            "_model_module_version": "1.2.0",
            "_model_name": "LayoutModel",
            "_view_count": null,
            "_view_module": "@jupyter-widgets/base",
            "_view_module_version": "1.2.0",
            "_view_name": "LayoutView",
            "align_content": null,
            "align_items": null,
            "align_self": null,
            "border": null,
            "bottom": null,
            "display": null,
            "flex": null,
            "flex_flow": null,
            "grid_area": null,
            "grid_auto_columns": null,
            "grid_auto_flow": null,
            "grid_auto_rows": null,
            "grid_column": null,
            "grid_gap": null,
            "grid_row": null,
            "grid_template_areas": null,
            "grid_template_columns": null,
            "grid_template_rows": null,
            "height": null,
            "justify_content": null,
            "justify_items": null,
            "left": null,
            "margin": null,
            "max_height": null,
            "max_width": null,
            "min_height": null,
            "min_width": null,
            "object_fit": null,
            "object_position": null,
            "order": null,
            "overflow": null,
            "overflow_x": null,
            "overflow_y": null,
            "padding": null,
            "right": null,
            "top": null,
            "visibility": null,
            "width": null
          }
        },
        "2267fcc6e61b4fa58a0cca68f638ee6c": {
          "model_module": "@jupyter-widgets/base",
          "model_name": "LayoutModel",
          "model_module_version": "1.2.0",
          "state": {
            "_model_module": "@jupyter-widgets/base",
            "_model_module_version": "1.2.0",
            "_model_name": "LayoutModel",
            "_view_count": null,
            "_view_module": "@jupyter-widgets/base",
            "_view_module_version": "1.2.0",
            "_view_name": "LayoutView",
            "align_content": null,
            "align_items": null,
            "align_self": null,
            "border": null,
            "bottom": null,
            "display": null,
            "flex": null,
            "flex_flow": null,
            "grid_area": null,
            "grid_auto_columns": null,
            "grid_auto_flow": null,
            "grid_auto_rows": null,
            "grid_column": null,
            "grid_gap": null,
            "grid_row": null,
            "grid_template_areas": null,
            "grid_template_columns": null,
            "grid_template_rows": null,
            "height": null,
            "justify_content": null,
            "justify_items": null,
            "left": null,
            "margin": null,
            "max_height": null,
            "max_width": null,
            "min_height": null,
            "min_width": null,
            "object_fit": null,
            "object_position": null,
            "order": null,
            "overflow": null,
            "overflow_x": null,
            "overflow_y": null,
            "padding": null,
            "right": null,
            "top": null,
            "visibility": null,
            "width": null
          }
        },
        "1d48d7cfa30d425282cdff45b62498c9": {
          "model_module": "@jupyter-widgets/controls",
          "model_name": "DescriptionStyleModel",
          "model_module_version": "1.5.0",
          "state": {
            "_model_module": "@jupyter-widgets/controls",
            "_model_module_version": "1.5.0",
            "_model_name": "DescriptionStyleModel",
            "_view_count": null,
            "_view_module": "@jupyter-widgets/base",
            "_view_module_version": "1.2.0",
            "_view_name": "StyleView",
            "description_width": ""
          }
        },
        "f145abae7a5e47e4bb04652a85c3287d": {
          "model_module": "@jupyter-widgets/base",
          "model_name": "LayoutModel",
          "model_module_version": "1.2.0",
          "state": {
            "_model_module": "@jupyter-widgets/base",
            "_model_module_version": "1.2.0",
            "_model_name": "LayoutModel",
            "_view_count": null,
            "_view_module": "@jupyter-widgets/base",
            "_view_module_version": "1.2.0",
            "_view_name": "LayoutView",
            "align_content": null,
            "align_items": null,
            "align_self": null,
            "border": null,
            "bottom": null,
            "display": null,
            "flex": null,
            "flex_flow": null,
            "grid_area": null,
            "grid_auto_columns": null,
            "grid_auto_flow": null,
            "grid_auto_rows": null,
            "grid_column": null,
            "grid_gap": null,
            "grid_row": null,
            "grid_template_areas": null,
            "grid_template_columns": null,
            "grid_template_rows": null,
            "height": null,
            "justify_content": null,
            "justify_items": null,
            "left": null,
            "margin": null,
            "max_height": null,
            "max_width": null,
            "min_height": null,
            "min_width": null,
            "object_fit": null,
            "object_position": null,
            "order": null,
            "overflow": null,
            "overflow_x": null,
            "overflow_y": null,
            "padding": null,
            "right": null,
            "top": null,
            "visibility": null,
            "width": null
          }
        },
        "ea3cc32a2b1346679a7d707099d191e4": {
          "model_module": "@jupyter-widgets/controls",
          "model_name": "ProgressStyleModel",
          "model_module_version": "1.5.0",
          "state": {
            "_model_module": "@jupyter-widgets/controls",
            "_model_module_version": "1.5.0",
            "_model_name": "ProgressStyleModel",
            "_view_count": null,
            "_view_module": "@jupyter-widgets/base",
            "_view_module_version": "1.2.0",
            "_view_name": "StyleView",
            "bar_color": null,
            "description_width": ""
          }
        },
        "670b5b5e1c344584829a915099afa0c4": {
          "model_module": "@jupyter-widgets/base",
          "model_name": "LayoutModel",
          "model_module_version": "1.2.0",
          "state": {
            "_model_module": "@jupyter-widgets/base",
            "_model_module_version": "1.2.0",
            "_model_name": "LayoutModel",
            "_view_count": null,
            "_view_module": "@jupyter-widgets/base",
            "_view_module_version": "1.2.0",
            "_view_name": "LayoutView",
            "align_content": null,
            "align_items": null,
            "align_self": null,
            "border": null,
            "bottom": null,
            "display": null,
            "flex": null,
            "flex_flow": null,
            "grid_area": null,
            "grid_auto_columns": null,
            "grid_auto_flow": null,
            "grid_auto_rows": null,
            "grid_column": null,
            "grid_gap": null,
            "grid_row": null,
            "grid_template_areas": null,
            "grid_template_columns": null,
            "grid_template_rows": null,
            "height": null,
            "justify_content": null,
            "justify_items": null,
            "left": null,
            "margin": null,
            "max_height": null,
            "max_width": null,
            "min_height": null,
            "min_width": null,
            "object_fit": null,
            "object_position": null,
            "order": null,
            "overflow": null,
            "overflow_x": null,
            "overflow_y": null,
            "padding": null,
            "right": null,
            "top": null,
            "visibility": null,
            "width": null
          }
        },
        "1b51b6cc6c7c4e2ca0ea4abb618619af": {
          "model_module": "@jupyter-widgets/controls",
          "model_name": "DescriptionStyleModel",
          "model_module_version": "1.5.0",
          "state": {
            "_model_module": "@jupyter-widgets/controls",
            "_model_module_version": "1.5.0",
            "_model_name": "DescriptionStyleModel",
            "_view_count": null,
            "_view_module": "@jupyter-widgets/base",
            "_view_module_version": "1.2.0",
            "_view_name": "StyleView",
            "description_width": ""
          }
        }
      }
    }
  },
  "cells": [
    {
      "cell_type": "markdown",
      "metadata": {
        "id": "view-in-github",
        "colab_type": "text"
      },
      "source": [
        "<a href=\"https://colab.research.google.com/github/hseongeun/projectmanager/blob/main/10_4.ipynb\" target=\"_parent\"><img src=\"https://colab.research.google.com/assets/colab-badge.svg\" alt=\"Open In Colab\"/></a>"
      ]
    },
    {
      "cell_type": "markdown",
      "source": [
        "#AI 모델링 실습\n",
        "## 셀레늄"
      ],
      "metadata": {
        "id": "Bx0V56k6JP6l"
      }
    },
    {
      "cell_type": "code",
      "execution_count": null,
      "metadata": {
        "id": "cXYzh0yqJOdH"
      },
      "outputs": [],
      "source": [
        "!pip install selenium"
      ]
    },
    {
      "cell_type": "code",
      "source": [
        "!apt-get update\n",
        "!apt install chromium-chromedriver"
      ],
      "metadata": {
        "id": "b_Ju9B4PY_TK"
      },
      "execution_count": null,
      "outputs": []
    },
    {
      "cell_type": "markdown",
      "source": [
        "### 웹 브라우저 열기"
      ],
      "metadata": {
        "id": "62x42lDqnZNo"
      }
    },
    {
      "cell_type": "code",
      "source": [
        "import selenium\n",
        "from selenium.webdriver import Chrome, ChromeOptions\n",
        "from selenium.webdriver.chrome.service import Service\n",
        "\n",
        "# 옵션 설정\n",
        "options = ChromeOptions()\n",
        "options.binary_location = '/usr/lib/chromium-browser/chromedriver'\n",
        "options.add_argument('--headless')\n",
        "options.add_argument('--no-sandbox')\n",
        "options.add_argument('--disable-dev-shm-usage')\n",
        "options.add_argument(\"--remote-debugging-port=9222\")\n",
        "options.add_argument('--disable-features=VizDisplayCompositor')\n",
        "\n",
        "# 웹 브라우저 열기\n",
        "browser = Chrome(options=options)"
      ],
      "metadata": {
        "id": "Sr2Cw3fAcv0n"
      },
      "execution_count": 36,
      "outputs": []
    },
    {
      "cell_type": "markdown",
      "source": [
        "### 특정 주소로 이동"
      ],
      "metadata": {
        "id": "nWNkAdQNnWNe"
      }
    },
    {
      "cell_type": "code",
      "source": [
        "# 특정 주소로 이동\n",
        "browser.get('https://blog.naver.com')"
      ],
      "metadata": {
        "id": "b8UWsaLGdUka"
      },
      "execution_count": 37,
      "outputs": []
    },
    {
      "cell_type": "code",
      "source": [
        "# 현재 주소\n",
        "browser.current_url"
      ],
      "metadata": {
        "colab": {
          "base_uri": "https://localhost:8080/",
          "height": 35
        },
        "id": "QuQyyxQXdtAA",
        "outputId": "433b1e78-b609-4f83-b4ff-70e0c9b1ba94"
      },
      "execution_count": 38,
      "outputs": [
        {
          "output_type": "execute_result",
          "data": {
            "text/plain": [
              "'https://section.blog.naver.com/BlogHome.naver?directoryNo=0&currentPage=1&groupId=0'"
            ],
            "application/vnd.google.colaboratory.intrinsic+json": {
              "type": "string"
            }
          },
          "metadata": {},
          "execution_count": 38
        }
      ]
    },
    {
      "cell_type": "code",
      "source": [
        "from selenium.webdriver.common.by import By\n",
        "elems = browser.find_elements(By.CSS_SELECTOR, 'a.link_naver')\n",
        "elems"
      ],
      "metadata": {
        "colab": {
          "base_uri": "https://localhost:8080/"
        },
        "id": "r5m0Hp26eNaf",
        "outputId": "f7e8e7ea-2415-4ea0-99ff-f218356887fa"
      },
      "execution_count": 39,
      "outputs": [
        {
          "output_type": "execute_result",
          "data": {
            "text/plain": [
              "[<selenium.webdriver.remote.webelement.WebElement (session=\"61f4824d65b5f64158ed279059964f9c\", element=\"FE6145E82CC0F554B3D257F159E6EF2E_element_2\")>]"
            ]
          },
          "metadata": {},
          "execution_count": 39
        }
      ]
    },
    {
      "cell_type": "markdown",
      "source": [
        "N 로고(Naver 홈으로 가는 버튼)를 검사하면 <a class=\"link_naver\" ~ 로 되어있음\n",
        "\n",
        "-> a.link_naver"
      ],
      "metadata": {
        "id": "M4Ezx9_7eVdR"
      }
    },
    {
      "cell_type": "code",
      "source": [
        "elem = elems[0]\n",
        "elem.text"
      ],
      "metadata": {
        "colab": {
          "base_uri": "https://localhost:8080/",
          "height": 35
        },
        "id": "kSa1-NCMek2Z",
        "outputId": "37d3a773-cfd9-48f4-be4b-22e5906835c2"
      },
      "execution_count": 40,
      "outputs": [
        {
          "output_type": "execute_result",
          "data": {
            "text/plain": [
              "'NAVER'"
            ],
            "application/vnd.google.colaboratory.intrinsic+json": {
              "type": "string"
            }
          },
          "metadata": {},
          "execution_count": 40
        }
      ]
    },
    {
      "cell_type": "code",
      "source": [
        "elem.click()"
      ],
      "metadata": {
        "id": "0VI_Wnqde0ar"
      },
      "execution_count": 41,
      "outputs": []
    },
    {
      "cell_type": "markdown",
      "source": [
        "### 검색 결과 수집"
      ],
      "metadata": {
        "id": "GtpAB35-nKYP"
      }
    },
    {
      "cell_type": "code",
      "source": [
        "# '스타벅스' 검색\n",
        "url = 'https://section.blog.naver.com/Search/Post.naver?pageNo={}&keyword={}'\n",
        "browser.get(url.format(1, '이디야'))   # 원하는 검색어 넣으면 됨"
      ],
      "metadata": {
        "id": "mR7jLQ25jATf"
      },
      "execution_count": 42,
      "outputs": []
    },
    {
      "cell_type": "code",
      "source": [
        "# 제목 링크 찾기\n",
        "elems = browser.find_elements(By.CSS_SELECTOR, 'a.desc_inner')\n",
        "\n",
        "# 주소 수집\n",
        "post_urls = []\n",
        "for elem in elems:\n",
        "    post_urls.append(elem.get_attribute('href'))\n",
        "\n",
        "post_urls"
      ],
      "metadata": {
        "colab": {
          "base_uri": "https://localhost:8080/"
        },
        "id": "4S4DWbZ2jo-h",
        "outputId": "b374d038-a058-45d5-e404-34863a8818c0"
      },
      "execution_count": 43,
      "outputs": [
        {
          "output_type": "execute_result",
          "data": {
            "text/plain": [
              "['https://blog.naver.com/hoinagga5/223219495356',\n",
              " 'https://blog.naver.com/lovelytrue/223221848985',\n",
              " 'https://blog.naver.com/daae15/223214966129',\n",
              " 'https://blog.naver.com/ilchilife/223208777916',\n",
              " 'https://blog.naver.com/amaz1124/223189885657',\n",
              " 'https://blog.naver.com/namheezi/223211626625',\n",
              " 'https://blog.naver.com/shine0920/223224486173']"
            ]
          },
          "metadata": {},
          "execution_count": 43
        }
      ]
    },
    {
      "cell_type": "markdown",
      "source": [
        "### 블로그 내용 긁어오기"
      ],
      "metadata": {
        "id": "MqCqlV-gnGBP"
      }
    },
    {
      "cell_type": "code",
      "source": [
        "# 프레임 주소 추출\n",
        "import re\n",
        "post_url = post_urls[0]\n",
        "m = re.match(r'https://blog.naver.com/(\\w+)/(\\d+)', post_url)  # w:블로그 주인 아이디, d:블로그 글 번호\n",
        "blog_id, log_no = m.groups()\n",
        "frame_url = f'https://blog.naver.com/PostView.naver?blogId={blog_id}&logNo={log_no}'  # w가 blog_id, d가 log_no로 들어감\n",
        "\n",
        "# 프레임 접속\n",
        "browser.get(frame_url)\n",
        "\n",
        "# 본문 추출\n",
        "browser.find_element(By.CSS_SELECTOR, 'div.se-main-container').text"
      ],
      "metadata": {
        "colab": {
          "base_uri": "https://localhost:8080/",
          "height": 311
        },
        "id": "E4XhaCB-m-5H",
        "outputId": "a694ca65-a014-4f20-f8b8-ac7824db1a58"
      },
      "execution_count": 44,
      "outputs": [
        {
          "output_type": "execute_result",
          "data": {
            "text/plain": [
              "'지금 내 상태는 임신 17주! 입덧 중 그래도 전보다 살만함!\\n미리미리 블챌 체크인 챌린지를 채웠어야 하는데\\n시즌1때는 하다가 게을러서 다 못하고\\n시즌2때는 까먹고 있다가 하려고 했지만 입덧하느라 못하고 ㅠㅠ흑흑\\n그래서 일주일 정도밖에 안남은 이 시점에\\n최대한 채워보려고 장소를 짜내는 중인데\\n집근처 이디야는 꼭 기록해두고 싶어서 작성함!\\n나는 커피를 즐겨 마시지 않아서\\n남편이랑 연애할때도 카페에 잘 가지 않았는데\\n임신만 하면 그렇게 커피가 마시고 싶다...ㅎㅎ\\n으뜨미 임신때는 커피의 커도 생각 안하고 있는데\\n당시 햇빛 병원 의사선생님이 임신 확인서를 주시며\\n임산부 커피 제한에 대해 말씀하셨는데\\n그 얘기를 듣자마자\\n한번도 먹고 싶단 생각이 들지 않던 커피가 마시고 싶어서\\n섭취 가능하다는 시점부터 한잔씩 열심히 마셨다\\n요번 임신때도 너무 울렁거려서\\n뭘 먹어도 별로일때\\n사람들이 들고 가는 아이스커피 한잔이 왜 그렇게 땡기는지 ㅠㅠㅠ 진짜 사먹고 싶었는데\\n고열이 났을때 타이레놀을 너무 먹어서\\n혹시나 하는 맘에\\n커피를 열심히 참다가.......\\n입덧하며 두통이 너무 괴로웠는데\\n커피를 마시면 좀 괜찮아질 것 같은 기분이 들어ㅋㅋㅋ(실제로 그랬음)\\n믹스커피를 한잔씩 마셨다.\\n그 한잔 마시는 순간이 진짜 하루의 위안이었는데 ㅠㅠ\\n속이 극도로 안좋은 어느날은 커피도 토할때가 있었다ㅠㅠ\\n(디카페인은 마시면 속이 괜찮아지지도 않고\\n두통이 나아지는 것도 없었고 괜히 돈쓰고 토만함...)\\n그러다 으뜨미 친구를 만나 같이 놀던 어느날!!!\\n믹스커피를 마시기 위해 근처에 자판기나 편의점을 찾고 있는데\\n다 멀었고ㅠㅠ\\n카페에서 사서 마시기엔 한잔의 카페인 함량이 뭔가 찝찝했다 ㅜ\\n근데 으뜨미 친구 엄마가 이디야에서 아이스바닐라라떼 한잔을 나눠 마시자고 얘기해주셨고!!!!!!!!!\\n사다주시기까지 해서\\n얼음 위주로 얻어 먹었는데!!!!!!!!!!!!\\n여태까지 마셨던 커피랑 완전히 달랐다.\\n나는 원래 아바라를 안좋아하는데!!!!!!!!!!!!!!!\\n아바라가 이렇게 맛있는 커피였나 싶고!!!!!!!\\n조금씩 먹어서 그런지 이디야 아바라 효과인지 속도 좀 괜찮았다\\n아 어찌나 행복하고 눈물겹던지...\\n그래서 바로 이디야 앱을 다운 받아\\n집에서 제일 가까운 이디야에서 아바라를 간편주문으로 저장해놓고 픽업주문으로 해서\\n출근길& 으뜨미 미술학원 갈때\\n종종 마시고 있다!!!\\n이디야커피 창동학원가점\\n서울특별시 도봉구 해등로16길 61\\n매일 마시면 참 좋겠지만 ㅜㅜ\\n이디야는 (언제부터인지 모르겠지만ㅠㅠ) 제일 작은 사이즈가 large다 보니\\n한잔 다 마시기가 아무래도 좀 그래서\\n친정엄마가 으뜨미 봐주러 오는날 중 커피 안마시고 오는날이나\\n남편 있는날 주로 마신다👍\\n진짜 힐링!!!\\n이 날도 으뜨미가 미술학원 가 있는 동안\\n엄마랑 나눠 먹으려고 급 픽업주문을 했는데\\n사장님이 참 크래커도 챙기주심!!!!!!!!\\n안그래도 파워F인데 울렁거려 괜히 쓸쓸한 와중에\\n너무나 갬동이었음...!\\n빨리 찍고 싶어서ㅋㅋㅋ\\n엄마한테 덜어주기 전 바닥에 놓고 막 찍음ㅋㅋㅋ\\n또 어느날은 예쁜 직원분께서\\n입가심 사탕 하나랑 같이 챙겨주심..💙💙\\n마음이 참 따뜻하시다...💙💙💙\\n건강하세요 번창하세요💙💙\\n남편과 나눠 마시려고 얼음을 다 꺼내는데\\n얼음 많이로 부탁드렸더니\\n진짜 얼음이 꽤 큰 컵이 넘칠만큼 많았다💙💙💙\\n입덧 하면서\\n목이 너무 말라도 물을 시원하게 마실 수가 없어\\n입이 쩍쩍 붙고 괴로웠는데\\n아바라 얼음을 먹으면\\n커피맛도 나고 얼음이 녹으면서 천천히 목도 적셔주니 ㅠㅠ\\n나에게 딱이었다ㅜㅜ\\n다른 아바라도 괜찮은걸까 해서\\n전 브랜드 모두는 아니어도 기회가 될때 종종 시도해봤는데\\n다른 곳은 이디야 아바라 마실때랑 달랐다.\\n커피를 잘 아는 사람들에게 물어보니\\n다른 곳은 바닐라 시럽을 쓰는데 이디야는 바닐라 파우더를 써서 더 맛있게 느껴질 수도 있다고\\n바닐라 파우더를 쓰는 다른 프랜차이즈 카페도 알려줬는데\\n더 저렴하고 양도 많아 좋았지만\\n너무 달아서 먹기 힘들었다ㅠㅠ\\n(얼음을 녹여서 먹으면 그나마 괜찮았음)\\n그래서 이디야 아바라로 완전 정착!!!!!!!\\n입덧 끝나면 굳이 먹진 않겠지만\\n생각보다 견디기 힘든 입덧 기간에 활력을 불어넣어준 이디야 아바라 사랑합니다ㅠㅜ💙💙'"
            ],
            "application/vnd.google.colaboratory.intrinsic+json": {
              "type": "string"
            }
          },
          "metadata": {},
          "execution_count": 44
        }
      ]
    },
    {
      "cell_type": "markdown",
      "source": [
        "### for문을 이용해서 여러 페이지 긁어오기"
      ],
      "metadata": {
        "id": "hhNXdrEEsy0U"
      }
    },
    {
      "cell_type": "code",
      "source": [
        "# url 주소 긁어오기\n",
        "import time\n",
        "url = 'https://section.blog.naver.com/Search/Post.naver?pageNo={}&keyword={}'\n",
        "\n",
        "post_urls = []\n",
        "\n",
        "for page in range(1, 3): # 1~2페이지(3페이지 포함X)\n",
        "    browser.get(url.format(page, '이디야'))\n",
        "    time.sleep(3) # 3초간 대기\n",
        "    # 제목 링크 찾기\n",
        "    elems = browser.find_elements(By.CSS_SELECTOR, 'a.desc_inner')\n",
        "    # 주소 수집\n",
        "    for elem in elems:\n",
        "        post_urls.append(elem.get_attribute('href'))\n",
        "\n",
        "post_urls"
      ],
      "metadata": {
        "colab": {
          "base_uri": "https://localhost:8080/"
        },
        "id": "k5juCDGZr2N3",
        "outputId": "cf801037-c1bf-4c17-dbb1-8b0af73f49ba"
      },
      "execution_count": 45,
      "outputs": [
        {
          "output_type": "execute_result",
          "data": {
            "text/plain": [
              "['https://blog.naver.com/hoinagga5/223219495356',\n",
              " 'https://blog.naver.com/lovelytrue/223221848985',\n",
              " 'https://blog.naver.com/daae15/223214966129',\n",
              " 'https://blog.naver.com/ilchilife/223208777916',\n",
              " 'https://blog.naver.com/amaz1124/223189885657',\n",
              " 'https://blog.naver.com/namheezi/223211626625',\n",
              " 'https://blog.naver.com/shine0920/223224486173',\n",
              " 'https://blog.naver.com/dalgam89/223168335699',\n",
              " 'https://blog.naver.com/santaco/223202903392',\n",
              " 'https://blog.naver.com/okuimasami/223217912049',\n",
              " 'https://blog.naver.com/peacelkh7/223197153789',\n",
              " 'https://blog.naver.com/aquair4u/223225696591',\n",
              " 'https://blog.naver.com/th3klove/223198068042',\n",
              " 'https://blog.naver.com/dksork03/223220637573']"
            ]
          },
          "metadata": {},
          "execution_count": 45
        }
      ]
    },
    {
      "cell_type": "code",
      "source": [
        "import re\n",
        "import tqdm.auto as tqdm\n",
        "\n",
        "texts = []\n",
        "# tqdm 이용\n",
        "for post_url in tqdm.tqdm(post_urls):\n",
        "    m = re.match(r'https://blog.naver.com/(\\w+)/(\\d+)', post_url)\n",
        "    blog_id, log_no = m.groups()\n",
        "    frame_url = f'https://blog.naver.com/PostView.naver?blogId={blog_id}&logNo={log_no}'\n",
        "\n",
        "    browser.get(frame_url)\n",
        "    time.sleep(3)\n",
        "    texts.append(browser.find_element(By.CSS_SELECTOR, 'div.se-main-container').text)"
      ],
      "metadata": {
        "colab": {
          "base_uri": "https://localhost:8080/",
          "height": 49,
          "referenced_widgets": [
            "aa9337c443c04425b9a9213a63113308",
            "01e08a13709d45808497f4a9816521d2",
            "44299e912382486c955e3974c55a7bdb",
            "fc632e2ac03a489aa04980db7dcaf9c1",
            "057025797015431db421603e17edb3a9",
            "2267fcc6e61b4fa58a0cca68f638ee6c",
            "1d48d7cfa30d425282cdff45b62498c9",
            "f145abae7a5e47e4bb04652a85c3287d",
            "ea3cc32a2b1346679a7d707099d191e4",
            "670b5b5e1c344584829a915099afa0c4",
            "1b51b6cc6c7c4e2ca0ea4abb618619af"
          ]
        },
        "id": "598I_ILRtB4N",
        "outputId": "58cfb89b-4862-4a54-f487-7bc0dbea87a7"
      },
      "execution_count": 46,
      "outputs": [
        {
          "output_type": "display_data",
          "data": {
            "text/plain": [
              "  0%|          | 0/14 [00:00<?, ?it/s]"
            ],
            "application/vnd.jupyter.widget-view+json": {
              "version_major": 2,
              "version_minor": 0,
              "model_id": "aa9337c443c04425b9a9213a63113308"
            }
          },
          "metadata": {}
        }
      ]
    },
    {
      "cell_type": "code",
      "source": [
        "# 엑셀 파일로 저장\n",
        "import pandas as pd\n",
        "df = pd.DataFrame({'url': post_urls, 'text': texts})\n",
        "df.to_excel('blog.xlsx')"
      ],
      "metadata": {
        "id": "AxgahwI0t7Il"
      },
      "execution_count": 47,
      "outputs": []
    },
    {
      "cell_type": "markdown",
      "source": [
        "### 정리\n",
        "(1) 검색을 한다\n",
        "\n",
        "그냥 네이버 블로그 홈에서 검색을 하면 아래와 같은 주소로 이동\n",
        "\n",
        "https://section.blog.naver.com/Search/Post.naver?pageNo=1&rangeType=ALL&orderBy=sim&keyword=%EC%8A%A4%ED%83%80%EB%B2%85%EC%8A%A4\n",
        "\n",
        "---\n",
        "(2) 포스트에 들어가서 본문을 가져온다\n",
        "\n",
        "검색을 한 주소로 들어가면 그 블로그가 프레임으로 되어있다 -> 프레임 보기"
      ],
      "metadata": {
        "id": "HJC27rU6zDbd"
      }
    },
    {
      "cell_type": "code",
      "source": [],
      "metadata": {
        "id": "_NvMNeCd4n5R"
      },
      "execution_count": null,
      "outputs": []
    }
  ]
}