{
  "nbformat": 4,
  "nbformat_minor": 0,
  "metadata": {
    "colab": {
      "provenance": [],
      "authorship_tag": "ABX9TyPHInlMAOpev2xjVmPP8zuo",
      "include_colab_link": true
    },
    "kernelspec": {
      "name": "python3",
      "display_name": "Python 3"
    },
    "language_info": {
      "name": "python"
    }
  },
  "cells": [
    {
      "cell_type": "markdown",
      "metadata": {
        "id": "view-in-github",
        "colab_type": "text"
      },
      "source": [
        "<a href=\"https://colab.research.google.com/github/hseongeun/projectmanager/blob/main/9_25.ipynb\" target=\"_parent\"><img src=\"https://colab.research.google.com/assets/colab-badge.svg\" alt=\"Open In Colab\"/></a>"
      ]
    },
    {
      "cell_type": "markdown",
      "source": [
        "# 생성형 AI와 ChatGPT"
      ],
      "metadata": {
        "id": "xkVvH9xMyuev"
      }
    },
    {
      "cell_type": "markdown",
      "source": [
        "## 생성형 AI(generative AI)\n",
        "𝑋 -> 𝑌\n",
        "\n",
        "텍스트, 이미지, 소리, 영상, 3D 모델 등 다양한 콘텐츠를 Y로 생성"
      ],
      "metadata": {
        "id": "PDakKHc31-w3"
      }
    },
    {
      "cell_type": "markdown",
      "source": [
        "## 규칙 기반 자연어 생성\n",
        "자연어 생성을 여러 단계를 분할\n",
        "- 예) 일기 예보: 데이터에서 예보에 포함시킬 부분 선택 **->** 강조할 부분과 언급만할 부분으로 나눔 **->** 표현 방법을 결정 (전국적으로 라고 할지, 지역별로 이야기해줄지, 특정 지역만 강조할지) **->** 문장으로 표현\n",
        "\n",
        "각 단계에 적용될 규칙을 프로그래밍 단계적으로 자연어를 생성\n",
        "\n",
        "장점: 자연어 생성의 각 과정을 세세하게 제어할 수 있음\n",
        "\n",
        "단점: 개발에 많은 노력이 필요, 자연스러운 문장을 생성하기가 어려움"
      ],
      "metadata": {
        "id": "aFNFpofryxcS"
      }
    },
    {
      "cell_type": "markdown",
      "source": [
        "## 기계 학습을 이용한 자연어 생성\n",
        "기존의 자연어 문장을 학습시켜 새로운 문장을 생성\n",
        "\n",
        "단계를 나누지 않고 종단간(end to end: 처음부터 끝까지) 구현이 가능\n",
        "- 기존의 날씨 데이터와 일기예보 텍스트를 수집해서 날씨 데이터를 X로 입력하면 일기예보 텍스트가 Y로 출력되도록\n",
        "\n",
        "장점: 자연스러운 표현이 가능\n",
        "\n",
        "단점: 많은 데이터가 필요, 제어가 어려움\n",
        "- 일기예보를 기존에 많이 작성 안한 경우(1년에 365건에 불과)\n",
        "- 새로운 데이터가 포함되는 경우(미세먼지?)"
      ],
      "metadata": {
        "id": "Ndw6dhWOzKjN"
      }
    },
    {
      "cell_type": "markdown",
      "source": [
        "## ChatGPT\n",
        "오픈AI가 2022년말 공개한 인공지능 챗봇\n",
        "\n",
        "머신러닝을 통해 학습한 데이터를 기반으로 답변\n",
        "\n",
        "ChatGPT는 2021년까지 데이터로 언어를 구사할 수 있는 능력이 학습되어 있음\n",
        "\n",
        "데이터 -> ChatGPT의 파라미터를 추정하는 데 사용"
      ],
      "metadata": {
        "id": "GxacZDwPznpQ"
      }
    },
    {
      "cell_type": "markdown",
      "source": [
        "## 언어 모형(Language Model)\n",
        "텍스트의 통계적 구조와 패턴을 모델링하여 단어, 문장, 문단 등의 확률 분포를 추정하는 기술\n",
        "\n",
        "Causal LM\n",
        ": 앞의 문장을 바탕으로 다음에 나올 단어를 예측(GPT)\n",
        "- GPT를 변형시킨 게 ChatGPT\n",
        "\n",
        "Masked LM\n",
        ": 앞뒤의 내용을 바탕으로 빈 칸의 단어를 예측(BERT)\n",
        "\n",
        "프롬프트(prompt): 언어 모형에 제시하는 문장"
      ],
      "metadata": {
        "id": "eracZArQ1rc9"
      }
    },
    {
      "cell_type": "markdown",
      "source": [
        "## 모형과 파라미터\n",
        "모형(model): 데이터의 패턴을 나타내는 수식이나 프로그램\n",
        "\n",
        "예시: 2차 함수\n",
        "𝑦 = 𝑎𝑥^2 + 𝑏𝑥 + 𝑐\n",
        "\n",
        "파라미터(parameter): 모형의 구체적 형태를 결정하는 수치\n",
        "- 예시에서 a, b, c\n",
        "- 머신러닝에서 러닝 : 파라미터를 찾는 것\n",
        "- 모델 학습 -> 파라미터를 조정하는 것은 굉장히 길고 오래 걸리는 과정\n",
        "\n",
        "파라미터가 많을수록 더 복잡한 패턴을 나타낼 수 있음"
      ],
      "metadata": {
        "id": "vREPifazCw-E"
      }
    },
    {
      "cell_type": "markdown",
      "source": [
        "## GPT(Generative Pretrained Transformer)\n",
        "오픈 AI가 발표한 언어 모형\n",
        "\n",
        "\"생성적으로 사전학습된 트랜스포머\" 라는 뜻\n",
        "- 생성적 : 언어 모형으로서 학습되었다는 뜻. 언어 모형은 새로운 문장을 생성하는데 쓸 수 있기 때문에\n",
        "- 사전 학습 : GPT를 미리 대량의 데이터로 학습시킨 다음에 이를 바탕으로 다른 과업에 추가 학습시킬 수 있기 때문\n",
        "- 트랜스포머 : 구글에서 2017년 발표한 자연어처리를 위한 딥러닝 모형\n",
        "\n",
        "2018년에 버전 1이 발표, 2023년 버전 4 발표\n",
        "\n",
        "GPT-3의 파라미터 : 1750억개\n",
        "\n",
        "GPT-4의 파라미터 : 1조 7600억개(추정)"
      ],
      "metadata": {
        "id": "rF2kjZMgDdlk"
      }
    },
    {
      "cell_type": "markdown",
      "source": [
        "## 강화학습(reinforcement learning)\n",
        "보상과 처벌을 통해서 원하는 행동을 하도록 학습을 시키는 방식\n",
        "\n",
        "바둑의 알파고로 유명한 방법\n",
        "- 바둑의 경우에는 우리도 정답을 모름\n",
        "- 컴퓨터한테 일단 둬보라고 시키고 이기면 보상(+), 지면 처벌(-)\n",
        "- 컴퓨터끼리 바둑을 두면서 컴퓨터가 인간보다 바둑을 잘 두게 됨\n",
        "\n",
        "ChatGPT도 인간의 지시를 잘 알아듣게 강화학습"
      ],
      "metadata": {
        "id": "7PqMhJKgE9Ft"
      }
    },
    {
      "cell_type": "markdown",
      "source": [
        "## ChatGPT의 학습 1단계 : 지도학습\n",
        "프롬프트와 그 프롬프트에 대해 사람이 답변을 작성\n",
        "\n",
        "예) \"여행 계획을 짜주세요\"(프롬프트) → \"여행을 가서 공항에서 내리면...\"\n",
        "\n",
        "사람의 답변을 GPT에 추가로 학습"
      ],
      "metadata": {
        "id": "vneGxW8EF3RG"
      }
    },
    {
      "cell_type": "markdown",
      "source": [
        "## ChatGPT의 학습 2단계 : 보상 모형\n",
        "GPT가 답변을 생성하기는 하지만 아직 완벽하진 않음\n",
        "\n",
        "GPT에 프롬프트를 주고 그걸 답변을 여러 개 생성(A안, B안,\n",
        "C안, D안 등)\n",
        "\n",
        "각각의 답변을 사람이 평가(B > A > D > C 등)\n",
        "\n",
        "보상 모형이라는 인공지능으로 인간의 평가를 학습"
      ],
      "metadata": {
        "id": "9KJvBrm8GXuP"
      }
    },
    {
      "cell_type": "markdown",
      "source": [
        "## ChatGPT의 학습 3단계 : 강화 학습\n",
        "GPT가 답변을 생성 → 보상 모형이 해당 답변을 사람이 좋아할지 평가\n",
        "\n",
        "평가가 높은 답변(=사람이 좋아할 것으로 예상되는 답변)을 생성하는 방향으로 GPT 학습\n",
        "\n",
        "알파고 컴퓨터끼리 바둑을 두면서 강해짐\n",
        "\n",
        "ChatGPT : 컴퓨터끼리 문장을 생성하고 평가를 하면서 성능이 높아짐"
      ],
      "metadata": {
        "id": "Pp5w9gUoGlyq"
      }
    },
    {
      "cell_type": "markdown",
      "source": [
        "# GPT의 단점"
      ],
      "metadata": {
        "id": "Ip7GJCcRVOaU"
      }
    },
    {
      "cell_type": "markdown",
      "source": [
        "## 환각(hallucination)\n",
        "언어 모형이 사실이 아닌 문장을 지어내는 현상\n",
        "\n",
        "언어 모형의 특성상 문장이 길어질 수록 사실이 아닌 문장이 만들어질 가능성이 기하급수적으로 증가\n",
        "\n",
        "매 단계마다 𝑝의 확률로 올바른 단어를 추가\n",
        "\n",
        "문장의 길이가 𝑛일 때, 전체 문장이 올바른 단어들로 구성될 확률은 𝑝^𝑛\n",
        "\n",
        "𝑛 -> 무한대면 𝑝^𝑛->0으로 수렴\n",
        "\n",
        "질문에 잘못된 전제가 포함되어 있을 경우 잘못된 답변이 생성될 가능성은 더 커짐\n",
        "- 서울에서 충무대교와 세종대교 중 어느 쪽이 더 길까?\n",
        "- 충무대교, 세종대교 중 어느 한 다리가 더 길다고 답변함"
      ],
      "metadata": {
        "id": "1ByjlF8bIC6F"
      }
    },
    {
      "cell_type": "markdown",
      "source": [
        "## 맥락 길이의 제한\n",
        "\n",
        "GPT 모델은 계산량이 맥락 길이의 제곱으로 증가\n",
        "\n",
        "긴 맥락을 처리하는 데 한계\n",
        "\n",
        "수능 국어 지문이 약 2K\n",
        "\n",
        "현재 GPT 3.5는 4K와 16K 토큰을 처리할 수 있는 모델(1K=1024)\n",
        "\n",
        "GPT 4는 8K와 32K 토큰을 처리할 수 있는 모델이 있으나, 8K만 서비스"
      ],
      "metadata": {
        "id": "WgpHAVhFVTrd"
      }
    },
    {
      "cell_type": "markdown",
      "source": [
        "## 데이터 편향의 문제\n",
        "de Vries, et al. (2019) Does Object Recognition Work for Everyone?\n",
        "\n",
        "이미지 인식의 경우 선진국에서 촬영된 사진이 학습 데이터셋에 더 많이 포함, 인식률도 더 높음\n",
        "\n",
        "GPT의 경우에도 영어 데이터에 편향"
      ],
      "metadata": {
        "id": "lFHsV6JWURi0"
      }
    },
    {
      "cell_type": "markdown",
      "source": [
        "## 유해성(toxicity)\n",
        "\n",
        "언어 모형을 학습시키는 대부분의 데이터는 인터넷에서 수집한 텍스트\n",
        "\n",
        "부정확하거나 편향적인 내용, 차별 및 증오 발언, 욕설 등\n",
        "\n",
        "GPT 2를 학습시킨 데이터셋의 4.3% 가 유해한 내용을 포함\n",
        "\n",
        "언어 모형으로 자연어 생성을 할 경우 높은 확률로 유해한 내용이 생성됨"
      ],
      "metadata": {
        "id": "yM5Jkx-kVLo5"
      }
    },
    {
      "cell_type": "markdown",
      "source": [
        "## 그 외\n",
        "수학\n",
        "\n",
        "정확한 인용(검색이 안 됨)"
      ],
      "metadata": {
        "id": "mJqkKkrOVZHO"
      }
    },
    {
      "cell_type": "markdown",
      "source": [
        "## 플러그인\n",
        "ChatGPT에 외부 서비스를 결합해서 기능을 확장\n",
        "\n",
        "검색 실시간 정보, 회사의 문서 저장소에 접근, 프로그램 실행, 예약 주문 등\n",
        "\n",
        "https://www.wolframalpha.com/ (대학교 때 써봄)"
      ],
      "metadata": {
        "id": "1oLgj8NPWgFD"
      }
    },
    {
      "cell_type": "markdown",
      "source": [
        "## 최근 동향\n",
        "ChatGPT를 하나의 구성 요소로 하는 더 큰 AI 시스템을 개발\n",
        "\n",
        "LangChain 등"
      ],
      "metadata": {
        "id": "vgZwEW_1WKQb"
      }
    },
    {
      "cell_type": "markdown",
      "source": [
        "# ChatGPT 프롬프트 쓰기"
      ],
      "metadata": {
        "id": "KPB_r9WcYKRg"
      }
    },
    {
      "cell_type": "markdown",
      "source": [
        "## 좋은 프롬프트의 요소\n",
        "역할과 목표\n",
        "- AI에게 특정한 역할이나 입장에서 작성하도록 지시\n",
        "예) 기자의 입장에서 ~에 대한 질문을 5개 만들어라\n",
        "\n",
        "단계별 지침\n",
        "\n",
        "예시\n",
        "\n",
        "개인화\n",
        "\n",
        "제약 조건"
      ],
      "metadata": {
        "id": "yx2SfqdOYNFj"
      }
    },
    {
      "cell_type": "markdown",
      "source": [
        "## 퓨 샷 학습(Few-shot learnig)\n",
        "수행할 작업의 예시를 보여주면 더 잘함"
      ],
      "metadata": {
        "id": "ObMiDHLBYx01"
      }
    },
    {
      "cell_type": "markdown",
      "source": [
        "## Chain(연쇄) of Thoughts\n",
        "단계별로 명시적인 지침을 제공\n",
        "- ~인지 생각해라. 그 다음에 ~. 그 다음에 ~\n",
        "- 한 번에 쓰기 보다 한 개씩 하는 것도 좋은 방법\n",
        "\n",
        "let's think step by step이라고 써도 비슷한 효과"
      ],
      "metadata": {
        "id": "h4FgpRsGZOE0"
      }
    },
    {
      "cell_type": "markdown",
      "source": [
        "### Chain of Thought에서 발전된 기법들\n",
        "Self Consistency : 답변을 여러 번 생성하여 가장 많이 나온 답변을 선택\n",
        "- 단점 : 앞에서 꼬이면 뒤에도 꼬일 가능성\n",
        "\n",
        "Tree of Thought : 문제를 여러 개의 작은 문제로 나누게 해서 답변"
      ],
      "metadata": {
        "id": "RzGP6mEAZt42"
      }
    },
    {
      "cell_type": "markdown",
      "source": [
        "## 개인화\n",
        "독자에 대한 정보를 제공하여 개인화된 답변을 생성"
      ],
      "metadata": {
        "id": "w7nZahXqaF6d"
      }
    },
    {
      "cell_type": "markdown",
      "source": [
        "## 제약조건\n",
        "길이, 표현 방식, 스타일등에 제약 조건을 줄 수 있음\n",
        "- 한 문장으로\n",
        "- 유치원 선생님 스타일로\n",
        "- ~라는 단어는 빼고"
      ],
      "metadata": {
        "id": "-4fSrEDAdwED"
      }
    },
    {
      "cell_type": "markdown",
      "source": [
        "## ChatGPT에게 질문하게 하기\n",
        "ChatGPT를 잘 활용하기 어렵다면 ChatGPT에게 도움을 요청할 수 있음\n",
        "- (내용을 설명한 뒤)나에게 한 번에 한 가지만 질문을 해라\n",
        "- 일단 질문을 해봐라"
      ],
      "metadata": {
        "id": "aIMgYFgdeAJU"
      }
    },
    {
      "cell_type": "markdown",
      "source": [
        "## 목차 개요 만들기\n",
        "긴 텍스트 생성 작업 시 목차 개요를 만든 후 구체적 내용을 만들어 나가는 방식이 유용\n",
        "- ~에 대해 한시간 동안 강의를 한다. 목차를 작성해."
      ],
      "metadata": {
        "id": "WyxqKUrQeaXE"
      }
    },
    {
      "cell_type": "markdown",
      "source": [
        "##자료 검색\n",
        "검색어 생성 기법\n",
        "- ~를 하고자 한다. 이를 위한 검색어를 제안해라\n",
        "\n",
        "검색 플러그인 사용\n",
        "\n",
        "AI 검색 엔진\n",
        "- perplexity.ai\n",
        "- phind.com\n",
        "- you.com\n",
        "\n",
        "아직까지는 자료 검색은 직접 하는 것이 좋음"
      ],
      "metadata": {
        "id": "NxszVulheskc"
      }
    },
    {
      "cell_type": "markdown",
      "source": [
        "## 번역과 요약"
      ],
      "metadata": {
        "id": "77r5kb0kfDbI"
      }
    },
    {
      "cell_type": "markdown",
      "source": [
        "## 그룹화"
      ],
      "metadata": {
        "id": "4a8ksiFqfP6o"
      }
    },
    {
      "cell_type": "markdown",
      "source": [
        "## Code Interpreter\n",
        "ChatGPT 내에서 Python 프로그래밍 언어를 바로 실행할 수 있는 기능\n",
        "\n",
        "데이터 분석 등을 자연어로 지시하면, 해당 분석을 수행하는 프로그램을 작성하여 바로 실행하고 결과를 제시"
      ],
      "metadata": {
        "id": "pFGmxR4XfRPu"
      }
    },
    {
      "cell_type": "markdown",
      "source": [
        "## 언어 모델 + 컴퓨터 프로그래밍\n",
        "ChatGPT와 같은 언어 모델은 수학을 잘 못 푸는 고질적 문제\n",
        "\n",
        "Code InterpreterInterpreter를 활용하여 문제를 풀도록 프롬프트를 작성하면 성능이 향상\n",
        "\n",
        "ChatGPT가 잘 못하는 것은 외부 툴의 힘을 빌리자"
      ],
      "metadata": {
        "id": "RlufYLsXh4Af"
      }
    },
    {
      "cell_type": "markdown",
      "source": [
        "## 사업 기획\n",
        "유명 대학 재학생들과 비교할 때 ChatGPT가 내놓은 아이디어에 소비자들이 더 높은 구매 의도를 보임"
      ],
      "metadata": {
        "id": "56byvjMciZDq"
      }
    },
    {
      "cell_type": "markdown",
      "source": [
        "## 토론\n",
        "여러 명의 전문가 토론을 모방\n",
        "- 전체 응답을 마크다운 테이블 형식으로 정리한다. 열은 전문가1, 전문가2, 전문가3으로 구성하고 행은 사고의 각 라운드로 구성한다"
      ],
      "metadata": {
        "id": "L1dY7-lgifp2"
      }
    },
    {
      "cell_type": "markdown",
      "source": [
        "## 엑셀 산식\n",
        "엑셀에서 ~한 함수를 만들어라"
      ],
      "metadata": {
        "id": "-iXp4324i6BT"
      }
    },
    {
      "cell_type": "code",
      "execution_count": null,
      "metadata": {
        "id": "mysSHPBjwb-_"
      },
      "outputs": [],
      "source": []
    }
  ]
}