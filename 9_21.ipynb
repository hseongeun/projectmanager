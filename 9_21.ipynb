{
  "nbformat": 4,
  "nbformat_minor": 0,
  "metadata": {
    "colab": {
      "provenance": [],
      "authorship_tag": "ABX9TyMpvLytCOtt9p6ynPzWZnNA",
      "include_colab_link": true
    },
    "kernelspec": {
      "name": "python3",
      "display_name": "Python 3"
    },
    "language_info": {
      "name": "python"
    },
    "widgets": {
      "application/vnd.jupyter.widget-state+json": {
        "2456d23adf2d4ee1822c617e18ff82b6": {
          "model_module": "@jupyter-widgets/controls",
          "model_name": "HBoxModel",
          "model_module_version": "1.5.0",
          "state": {
            "_dom_classes": [],
            "_model_module": "@jupyter-widgets/controls",
            "_model_module_version": "1.5.0",
            "_model_name": "HBoxModel",
            "_view_count": null,
            "_view_module": "@jupyter-widgets/controls",
            "_view_module_version": "1.5.0",
            "_view_name": "HBoxView",
            "box_style": "",
            "children": [
              "IPY_MODEL_95152bc09afd48a0bd6a0112e99e76b9",
              "IPY_MODEL_ea0f40f91b764ba78c18d9f1438f482f",
              "IPY_MODEL_d15bdcb13322428eb24b6f65b899698c"
            ],
            "layout": "IPY_MODEL_4891a42a880a4bffa3dd5955bcf69f65"
          }
        },
        "95152bc09afd48a0bd6a0112e99e76b9": {
          "model_module": "@jupyter-widgets/controls",
          "model_name": "HTMLModel",
          "model_module_version": "1.5.0",
          "state": {
            "_dom_classes": [],
            "_model_module": "@jupyter-widgets/controls",
            "_model_module_version": "1.5.0",
            "_model_name": "HTMLModel",
            "_view_count": null,
            "_view_module": "@jupyter-widgets/controls",
            "_view_module_version": "1.5.0",
            "_view_name": "HTMLView",
            "description": "",
            "description_tooltip": null,
            "layout": "IPY_MODEL_cc3a6d784df84ce08761dfa3f53be6fe",
            "placeholder": "​",
            "style": "IPY_MODEL_bc5fa1f9992046808f134d4ea5c78ec6",
            "value": "100%"
          }
        },
        "ea0f40f91b764ba78c18d9f1438f482f": {
          "model_module": "@jupyter-widgets/controls",
          "model_name": "FloatProgressModel",
          "model_module_version": "1.5.0",
          "state": {
            "_dom_classes": [],
            "_model_module": "@jupyter-widgets/controls",
            "_model_module_version": "1.5.0",
            "_model_name": "FloatProgressModel",
            "_view_count": null,
            "_view_module": "@jupyter-widgets/controls",
            "_view_module_version": "1.5.0",
            "_view_name": "ProgressView",
            "bar_style": "success",
            "description": "",
            "description_tooltip": null,
            "layout": "IPY_MODEL_b4369c0074d74ac784d718cecb18209a",
            "max": 17,
            "min": 0,
            "orientation": "horizontal",
            "style": "IPY_MODEL_c72061db82ed429b8b9742cebe66c46d",
            "value": 17
          }
        },
        "d15bdcb13322428eb24b6f65b899698c": {
          "model_module": "@jupyter-widgets/controls",
          "model_name": "HTMLModel",
          "model_module_version": "1.5.0",
          "state": {
            "_dom_classes": [],
            "_model_module": "@jupyter-widgets/controls",
            "_model_module_version": "1.5.0",
            "_model_name": "HTMLModel",
            "_view_count": null,
            "_view_module": "@jupyter-widgets/controls",
            "_view_module_version": "1.5.0",
            "_view_name": "HTMLView",
            "description": "",
            "description_tooltip": null,
            "layout": "IPY_MODEL_74be319d0da642648bda2da3d8ed455b",
            "placeholder": "​",
            "style": "IPY_MODEL_e22ad903984344a59c9efb0e4cfabd63",
            "value": " 17/17 [00:27&lt;00:00,  1.59s/it]"
          }
        },
        "4891a42a880a4bffa3dd5955bcf69f65": {
          "model_module": "@jupyter-widgets/base",
          "model_name": "LayoutModel",
          "model_module_version": "1.2.0",
          "state": {
            "_model_module": "@jupyter-widgets/base",
            "_model_module_version": "1.2.0",
            "_model_name": "LayoutModel",
            "_view_count": null,
            "_view_module": "@jupyter-widgets/base",
            "_view_module_version": "1.2.0",
            "_view_name": "LayoutView",
            "align_content": null,
            "align_items": null,
            "align_self": null,
            "border": null,
            "bottom": null,
            "display": null,
            "flex": null,
            "flex_flow": null,
            "grid_area": null,
            "grid_auto_columns": null,
            "grid_auto_flow": null,
            "grid_auto_rows": null,
            "grid_column": null,
            "grid_gap": null,
            "grid_row": null,
            "grid_template_areas": null,
            "grid_template_columns": null,
            "grid_template_rows": null,
            "height": null,
            "justify_content": null,
            "justify_items": null,
            "left": null,
            "margin": null,
            "max_height": null,
            "max_width": null,
            "min_height": null,
            "min_width": null,
            "object_fit": null,
            "object_position": null,
            "order": null,
            "overflow": null,
            "overflow_x": null,
            "overflow_y": null,
            "padding": null,
            "right": null,
            "top": null,
            "visibility": null,
            "width": null
          }
        },
        "cc3a6d784df84ce08761dfa3f53be6fe": {
          "model_module": "@jupyter-widgets/base",
          "model_name": "LayoutModel",
          "model_module_version": "1.2.0",
          "state": {
            "_model_module": "@jupyter-widgets/base",
            "_model_module_version": "1.2.0",
            "_model_name": "LayoutModel",
            "_view_count": null,
            "_view_module": "@jupyter-widgets/base",
            "_view_module_version": "1.2.0",
            "_view_name": "LayoutView",
            "align_content": null,
            "align_items": null,
            "align_self": null,
            "border": null,
            "bottom": null,
            "display": null,
            "flex": null,
            "flex_flow": null,
            "grid_area": null,
            "grid_auto_columns": null,
            "grid_auto_flow": null,
            "grid_auto_rows": null,
            "grid_column": null,
            "grid_gap": null,
            "grid_row": null,
            "grid_template_areas": null,
            "grid_template_columns": null,
            "grid_template_rows": null,
            "height": null,
            "justify_content": null,
            "justify_items": null,
            "left": null,
            "margin": null,
            "max_height": null,
            "max_width": null,
            "min_height": null,
            "min_width": null,
            "object_fit": null,
            "object_position": null,
            "order": null,
            "overflow": null,
            "overflow_x": null,
            "overflow_y": null,
            "padding": null,
            "right": null,
            "top": null,
            "visibility": null,
            "width": null
          }
        },
        "bc5fa1f9992046808f134d4ea5c78ec6": {
          "model_module": "@jupyter-widgets/controls",
          "model_name": "DescriptionStyleModel",
          "model_module_version": "1.5.0",
          "state": {
            "_model_module": "@jupyter-widgets/controls",
            "_model_module_version": "1.5.0",
            "_model_name": "DescriptionStyleModel",
            "_view_count": null,
            "_view_module": "@jupyter-widgets/base",
            "_view_module_version": "1.2.0",
            "_view_name": "StyleView",
            "description_width": ""
          }
        },
        "b4369c0074d74ac784d718cecb18209a": {
          "model_module": "@jupyter-widgets/base",
          "model_name": "LayoutModel",
          "model_module_version": "1.2.0",
          "state": {
            "_model_module": "@jupyter-widgets/base",
            "_model_module_version": "1.2.0",
            "_model_name": "LayoutModel",
            "_view_count": null,
            "_view_module": "@jupyter-widgets/base",
            "_view_module_version": "1.2.0",
            "_view_name": "LayoutView",
            "align_content": null,
            "align_items": null,
            "align_self": null,
            "border": null,
            "bottom": null,
            "display": null,
            "flex": null,
            "flex_flow": null,
            "grid_area": null,
            "grid_auto_columns": null,
            "grid_auto_flow": null,
            "grid_auto_rows": null,
            "grid_column": null,
            "grid_gap": null,
            "grid_row": null,
            "grid_template_areas": null,
            "grid_template_columns": null,
            "grid_template_rows": null,
            "height": null,
            "justify_content": null,
            "justify_items": null,
            "left": null,
            "margin": null,
            "max_height": null,
            "max_width": null,
            "min_height": null,
            "min_width": null,
            "object_fit": null,
            "object_position": null,
            "order": null,
            "overflow": null,
            "overflow_x": null,
            "overflow_y": null,
            "padding": null,
            "right": null,
            "top": null,
            "visibility": null,
            "width": null
          }
        },
        "c72061db82ed429b8b9742cebe66c46d": {
          "model_module": "@jupyter-widgets/controls",
          "model_name": "ProgressStyleModel",
          "model_module_version": "1.5.0",
          "state": {
            "_model_module": "@jupyter-widgets/controls",
            "_model_module_version": "1.5.0",
            "_model_name": "ProgressStyleModel",
            "_view_count": null,
            "_view_module": "@jupyter-widgets/base",
            "_view_module_version": "1.2.0",
            "_view_name": "StyleView",
            "bar_color": null,
            "description_width": ""
          }
        },
        "74be319d0da642648bda2da3d8ed455b": {
          "model_module": "@jupyter-widgets/base",
          "model_name": "LayoutModel",
          "model_module_version": "1.2.0",
          "state": {
            "_model_module": "@jupyter-widgets/base",
            "_model_module_version": "1.2.0",
            "_model_name": "LayoutModel",
            "_view_count": null,
            "_view_module": "@jupyter-widgets/base",
            "_view_module_version": "1.2.0",
            "_view_name": "LayoutView",
            "align_content": null,
            "align_items": null,
            "align_self": null,
            "border": null,
            "bottom": null,
            "display": null,
            "flex": null,
            "flex_flow": null,
            "grid_area": null,
            "grid_auto_columns": null,
            "grid_auto_flow": null,
            "grid_auto_rows": null,
            "grid_column": null,
            "grid_gap": null,
            "grid_row": null,
            "grid_template_areas": null,
            "grid_template_columns": null,
            "grid_template_rows": null,
            "height": null,
            "justify_content": null,
            "justify_items": null,
            "left": null,
            "margin": null,
            "max_height": null,
            "max_width": null,
            "min_height": null,
            "min_width": null,
            "object_fit": null,
            "object_position": null,
            "order": null,
            "overflow": null,
            "overflow_x": null,
            "overflow_y": null,
            "padding": null,
            "right": null,
            "top": null,
            "visibility": null,
            "width": null
          }
        },
        "e22ad903984344a59c9efb0e4cfabd63": {
          "model_module": "@jupyter-widgets/controls",
          "model_name": "DescriptionStyleModel",
          "model_module_version": "1.5.0",
          "state": {
            "_model_module": "@jupyter-widgets/controls",
            "_model_module_version": "1.5.0",
            "_model_name": "DescriptionStyleModel",
            "_view_count": null,
            "_view_module": "@jupyter-widgets/base",
            "_view_module_version": "1.2.0",
            "_view_name": "StyleView",
            "description_width": ""
          }
        },
        "5971a1a5102d4b1babfd6bf4f966f254": {
          "model_module": "@jupyter-widgets/controls",
          "model_name": "HBoxModel",
          "model_module_version": "1.5.0",
          "state": {
            "_dom_classes": [],
            "_model_module": "@jupyter-widgets/controls",
            "_model_module_version": "1.5.0",
            "_model_name": "HBoxModel",
            "_view_count": null,
            "_view_module": "@jupyter-widgets/controls",
            "_view_module_version": "1.5.0",
            "_view_name": "HBoxView",
            "box_style": "",
            "children": [
              "IPY_MODEL_10a1ff7a1f7649a4be1eb149b9b3d998",
              "IPY_MODEL_0fb750983c5d48968d9cccd7ae41288b",
              "IPY_MODEL_e0e63ac4bd9944eda1892bca45452acf"
            ],
            "layout": "IPY_MODEL_b79d04d6169a4b98aba9b46b5974514e"
          }
        },
        "10a1ff7a1f7649a4be1eb149b9b3d998": {
          "model_module": "@jupyter-widgets/controls",
          "model_name": "HTMLModel",
          "model_module_version": "1.5.0",
          "state": {
            "_dom_classes": [],
            "_model_module": "@jupyter-widgets/controls",
            "_model_module_version": "1.5.0",
            "_model_name": "HTMLModel",
            "_view_count": null,
            "_view_module": "@jupyter-widgets/controls",
            "_view_module_version": "1.5.0",
            "_view_name": "HTMLView",
            "description": "",
            "description_tooltip": null,
            "layout": "IPY_MODEL_4404fcf8335740f0888dd10e7df7f915",
            "placeholder": "​",
            "style": "IPY_MODEL_a3c85f081ec8424c9fed2ffd9000ba88",
            "value": "100%"
          }
        },
        "0fb750983c5d48968d9cccd7ae41288b": {
          "model_module": "@jupyter-widgets/controls",
          "model_name": "FloatProgressModel",
          "model_module_version": "1.5.0",
          "state": {
            "_dom_classes": [],
            "_model_module": "@jupyter-widgets/controls",
            "_model_module_version": "1.5.0",
            "_model_name": "FloatProgressModel",
            "_view_count": null,
            "_view_module": "@jupyter-widgets/controls",
            "_view_module_version": "1.5.0",
            "_view_name": "ProgressView",
            "bar_style": "success",
            "description": "",
            "description_tooltip": null,
            "layout": "IPY_MODEL_bf38b02c6b1f40d0b5cbf4fcb67e3632",
            "max": 17,
            "min": 0,
            "orientation": "horizontal",
            "style": "IPY_MODEL_bfedbdf0fec34a8d849cee8ed6fa6638",
            "value": 17
          }
        },
        "e0e63ac4bd9944eda1892bca45452acf": {
          "model_module": "@jupyter-widgets/controls",
          "model_name": "HTMLModel",
          "model_module_version": "1.5.0",
          "state": {
            "_dom_classes": [],
            "_model_module": "@jupyter-widgets/controls",
            "_model_module_version": "1.5.0",
            "_model_name": "HTMLModel",
            "_view_count": null,
            "_view_module": "@jupyter-widgets/controls",
            "_view_module_version": "1.5.0",
            "_view_name": "HTMLView",
            "description": "",
            "description_tooltip": null,
            "layout": "IPY_MODEL_5d8a805a5d444fd4a740c0b366edf49b",
            "placeholder": "​",
            "style": "IPY_MODEL_712ee1605e1d44bc8309700b46a3d59e",
            "value": " 17/17 [00:26&lt;00:00,  1.59s/it]"
          }
        },
        "b79d04d6169a4b98aba9b46b5974514e": {
          "model_module": "@jupyter-widgets/base",
          "model_name": "LayoutModel",
          "model_module_version": "1.2.0",
          "state": {
            "_model_module": "@jupyter-widgets/base",
            "_model_module_version": "1.2.0",
            "_model_name": "LayoutModel",
            "_view_count": null,
            "_view_module": "@jupyter-widgets/base",
            "_view_module_version": "1.2.0",
            "_view_name": "LayoutView",
            "align_content": null,
            "align_items": null,
            "align_self": null,
            "border": null,
            "bottom": null,
            "display": null,
            "flex": null,
            "flex_flow": null,
            "grid_area": null,
            "grid_auto_columns": null,
            "grid_auto_flow": null,
            "grid_auto_rows": null,
            "grid_column": null,
            "grid_gap": null,
            "grid_row": null,
            "grid_template_areas": null,
            "grid_template_columns": null,
            "grid_template_rows": null,
            "height": null,
            "justify_content": null,
            "justify_items": null,
            "left": null,
            "margin": null,
            "max_height": null,
            "max_width": null,
            "min_height": null,
            "min_width": null,
            "object_fit": null,
            "object_position": null,
            "order": null,
            "overflow": null,
            "overflow_x": null,
            "overflow_y": null,
            "padding": null,
            "right": null,
            "top": null,
            "visibility": null,
            "width": null
          }
        },
        "4404fcf8335740f0888dd10e7df7f915": {
          "model_module": "@jupyter-widgets/base",
          "model_name": "LayoutModel",
          "model_module_version": "1.2.0",
          "state": {
            "_model_module": "@jupyter-widgets/base",
            "_model_module_version": "1.2.0",
            "_model_name": "LayoutModel",
            "_view_count": null,
            "_view_module": "@jupyter-widgets/base",
            "_view_module_version": "1.2.0",
            "_view_name": "LayoutView",
            "align_content": null,
            "align_items": null,
            "align_self": null,
            "border": null,
            "bottom": null,
            "display": null,
            "flex": null,
            "flex_flow": null,
            "grid_area": null,
            "grid_auto_columns": null,
            "grid_auto_flow": null,
            "grid_auto_rows": null,
            "grid_column": null,
            "grid_gap": null,
            "grid_row": null,
            "grid_template_areas": null,
            "grid_template_columns": null,
            "grid_template_rows": null,
            "height": null,
            "justify_content": null,
            "justify_items": null,
            "left": null,
            "margin": null,
            "max_height": null,
            "max_width": null,
            "min_height": null,
            "min_width": null,
            "object_fit": null,
            "object_position": null,
            "order": null,
            "overflow": null,
            "overflow_x": null,
            "overflow_y": null,
            "padding": null,
            "right": null,
            "top": null,
            "visibility": null,
            "width": null
          }
        },
        "a3c85f081ec8424c9fed2ffd9000ba88": {
          "model_module": "@jupyter-widgets/controls",
          "model_name": "DescriptionStyleModel",
          "model_module_version": "1.5.0",
          "state": {
            "_model_module": "@jupyter-widgets/controls",
            "_model_module_version": "1.5.0",
            "_model_name": "DescriptionStyleModel",
            "_view_count": null,
            "_view_module": "@jupyter-widgets/base",
            "_view_module_version": "1.2.0",
            "_view_name": "StyleView",
            "description_width": ""
          }
        },
        "bf38b02c6b1f40d0b5cbf4fcb67e3632": {
          "model_module": "@jupyter-widgets/base",
          "model_name": "LayoutModel",
          "model_module_version": "1.2.0",
          "state": {
            "_model_module": "@jupyter-widgets/base",
            "_model_module_version": "1.2.0",
            "_model_name": "LayoutModel",
            "_view_count": null,
            "_view_module": "@jupyter-widgets/base",
            "_view_module_version": "1.2.0",
            "_view_name": "LayoutView",
            "align_content": null,
            "align_items": null,
            "align_self": null,
            "border": null,
            "bottom": null,
            "display": null,
            "flex": null,
            "flex_flow": null,
            "grid_area": null,
            "grid_auto_columns": null,
            "grid_auto_flow": null,
            "grid_auto_rows": null,
            "grid_column": null,
            "grid_gap": null,
            "grid_row": null,
            "grid_template_areas": null,
            "grid_template_columns": null,
            "grid_template_rows": null,
            "height": null,
            "justify_content": null,
            "justify_items": null,
            "left": null,
            "margin": null,
            "max_height": null,
            "max_width": null,
            "min_height": null,
            "min_width": null,
            "object_fit": null,
            "object_position": null,
            "order": null,
            "overflow": null,
            "overflow_x": null,
            "overflow_y": null,
            "padding": null,
            "right": null,
            "top": null,
            "visibility": null,
            "width": null
          }
        },
        "bfedbdf0fec34a8d849cee8ed6fa6638": {
          "model_module": "@jupyter-widgets/controls",
          "model_name": "ProgressStyleModel",
          "model_module_version": "1.5.0",
          "state": {
            "_model_module": "@jupyter-widgets/controls",
            "_model_module_version": "1.5.0",
            "_model_name": "ProgressStyleModel",
            "_view_count": null,
            "_view_module": "@jupyter-widgets/base",
            "_view_module_version": "1.2.0",
            "_view_name": "StyleView",
            "bar_color": null,
            "description_width": ""
          }
        },
        "5d8a805a5d444fd4a740c0b366edf49b": {
          "model_module": "@jupyter-widgets/base",
          "model_name": "LayoutModel",
          "model_module_version": "1.2.0",
          "state": {
            "_model_module": "@jupyter-widgets/base",
            "_model_module_version": "1.2.0",
            "_model_name": "LayoutModel",
            "_view_count": null,
            "_view_module": "@jupyter-widgets/base",
            "_view_module_version": "1.2.0",
            "_view_name": "LayoutView",
            "align_content": null,
            "align_items": null,
            "align_self": null,
            "border": null,
            "bottom": null,
            "display": null,
            "flex": null,
            "flex_flow": null,
            "grid_area": null,
            "grid_auto_columns": null,
            "grid_auto_flow": null,
            "grid_auto_rows": null,
            "grid_column": null,
            "grid_gap": null,
            "grid_row": null,
            "grid_template_areas": null,
            "grid_template_columns": null,
            "grid_template_rows": null,
            "height": null,
            "justify_content": null,
            "justify_items": null,
            "left": null,
            "margin": null,
            "max_height": null,
            "max_width": null,
            "min_height": null,
            "min_width": null,
            "object_fit": null,
            "object_position": null,
            "order": null,
            "overflow": null,
            "overflow_x": null,
            "overflow_y": null,
            "padding": null,
            "right": null,
            "top": null,
            "visibility": null,
            "width": null
          }
        },
        "712ee1605e1d44bc8309700b46a3d59e": {
          "model_module": "@jupyter-widgets/controls",
          "model_name": "DescriptionStyleModel",
          "model_module_version": "1.5.0",
          "state": {
            "_model_module": "@jupyter-widgets/controls",
            "_model_module_version": "1.5.0",
            "_model_name": "DescriptionStyleModel",
            "_view_count": null,
            "_view_module": "@jupyter-widgets/base",
            "_view_module_version": "1.2.0",
            "_view_name": "StyleView",
            "description_width": ""
          }
        }
      }
    }
  },
  "cells": [
    {
      "cell_type": "markdown",
      "metadata": {
        "id": "view-in-github",
        "colab_type": "text"
      },
      "source": [
        "<a href=\"https://colab.research.google.com/github/hseongeun/projectmanager/blob/main/9_21.ipynb\" target=\"_parent\"><img src=\"https://colab.research.google.com/assets/colab-badge.svg\" alt=\"Open In Colab\"/></a>"
      ]
    },
    {
      "cell_type": "markdown",
      "source": [
        "# 웹 스크래핑\n",
        "(p.115)"
      ],
      "metadata": {
        "id": "YTZ_AIqtKQHM"
      }
    },
    {
      "cell_type": "code",
      "execution_count": 1,
      "metadata": {
        "colab": {
          "base_uri": "https://localhost:8080/"
        },
        "id": "zFzv_ypYJrcd",
        "outputId": "3d06f8c7-9ad4-43fb-adbc-cd02ab1ebec9"
      },
      "outputs": [
        {
          "output_type": "execute_result",
          "data": {
            "text/plain": [
              "<Response [200]>"
            ]
          },
          "metadata": {},
          "execution_count": 1
        }
      ],
      "source": [
        "# requests 실습\n",
        "import requests\n",
        "url = 'https://ko.wikipedia.org/wiki/HTML'\n",
        "res = requests.get(url)\n",
        "res"
      ]
    },
    {
      "cell_type": "markdown",
      "source": [
        "### 태그 클래스\n",
        "\n",
        "태그와 클래스를 한 번에 지정하려면 붙여서 표시\n",
        "\n",
        "CSS 선택자 div.content (.을 class라고 생각하면 됨)\n",
        "\n",
        "- <div>hello</div>\n",
        "<span class=\"content\">beautiful</div>\n",
        "<div class=\"content text\">world</div>\n",
        "\n",
        "div만 하면 1,3번 선택 / content만 하면 2,3번 선택되므로 div.content하면 됨"
      ],
      "metadata": {
        "id": "s06zKggqKSUP"
      }
    },
    {
      "cell_type": "code",
      "source": [
        "!pip install cssselect"
      ],
      "metadata": {
        "colab": {
          "base_uri": "https://localhost:8080/"
        },
        "id": "q59WL8fjc3js",
        "outputId": "5fc326a9-91a0-47b1-f133-9a87aee73ce3"
      },
      "execution_count": 2,
      "outputs": [
        {
          "output_type": "stream",
          "name": "stdout",
          "text": [
            "Collecting cssselect\n",
            "  Downloading cssselect-1.2.0-py2.py3-none-any.whl (18 kB)\n",
            "Installing collected packages: cssselect\n",
            "Successfully installed cssselect-1.2.0\n"
          ]
        }
      ]
    },
    {
      "cell_type": "code",
      "source": [
        "# 응답의 텍스트를 처리\n",
        "import lxml.html\n",
        "root = lxml.html.fromstring(res.text)"
      ],
      "metadata": {
        "id": "T74uHYqfc93b"
      },
      "execution_count": 4,
      "outputs": []
    },
    {
      "cell_type": "code",
      "source": [
        "# 개발자 도구(F12) 보면 title 태그 있는것 확인 가능\n",
        "ts = root.cssselect('title')\n",
        "# ts가 리스트기 때문에 첫번째 것을 추출해서 보여주라는 의미, 근데 확인해보면 여기는 어차피 하나만 들어있긴 함\n",
        "ts[0].text_content()"
      ],
      "metadata": {
        "colab": {
          "base_uri": "https://localhost:8080/",
          "height": 35
        },
        "id": "-s54hGMBdVWn",
        "outputId": "ef169b36-0ead-41ea-f29f-14c39669d85f"
      },
      "execution_count": 5,
      "outputs": [
        {
          "output_type": "execute_result",
          "data": {
            "text/plain": [
              "'HTML - 위키백과, 우리 모두의 백과사전'"
            ],
            "application/vnd.google.colaboratory.intrinsic+json": {
              "type": "string"
            }
          },
          "metadata": {},
          "execution_count": 5
        }
      ]
    },
    {
      "cell_type": "markdown",
      "source": [
        "### 다음 뉴스 스크래핑"
      ],
      "metadata": {
        "id": "pJVoPfKlhvkm"
      }
    },
    {
      "cell_type": "markdown",
      "source": [
        "#### 기사 주소(링크) 수집"
      ],
      "metadata": {
        "id": "iX6YfcmXqkXY"
      }
    },
    {
      "cell_type": "code",
      "source": [
        "# url에서 q : 검색어 p : 페이지\n",
        "# q랑 p값만 한글/숫자로 바꾸면 검색 가능\n",
        "url = 'https://search.daum.net/search?w=news&nil_search=btn&DA=PGD&enc=utf8&cluster=y&cluster_page=1&q=인공지능&p={}'\n",
        "res = requests.get(url.format(1))     # format(1) : p가 빈칸이니까 거기를 1로 채워라\n",
        "root = lxml.html.fromstring(res.text)\n",
        "for link in root.cssselect('span.cont_info a.f_nb'):\n",
        "    text = link.text_content().strip()    # strip : 앞 뒤의 공백 없애줌\n",
        "    if text == '다음뉴스':\n",
        "        print(link.attrib['href'])    # 링크를 가져와라"
      ],
      "metadata": {
        "colab": {
          "base_uri": "https://localhost:8080/"
        },
        "id": "uPmtWlqre0vG",
        "outputId": "8eee4670-4acd-4c8f-90d0-2bf0a2cc725e"
      },
      "execution_count": 10,
      "outputs": [
        {
          "output_type": "stream",
          "name": "stdout",
          "text": [
            "http://v.daum.net/v/20230919132700610\n",
            "http://v.daum.net/v/20230920180621489\n",
            "http://v.daum.net/v/20230920190011686\n",
            "http://v.daum.net/v/20230921114012945\n",
            "http://v.daum.net/v/20230920225911543\n",
            "http://v.daum.net/v/20230919120618559\n",
            "http://v.daum.net/v/20230921060909465\n",
            "http://v.daum.net/v/20230918090503295\n",
            "http://v.daum.net/v/20230919132700610\n",
            "http://v.daum.net/v/20230920180621489\n",
            "http://v.daum.net/v/20230920190011686\n",
            "http://v.daum.net/v/20230921114012945\n",
            "http://v.daum.net/v/20230920225911543\n",
            "http://v.daum.net/v/20230919120618559\n",
            "http://v.daum.net/v/20230921060909465\n",
            "http://v.daum.net/v/20230918090503295\n"
          ]
        }
      ]
    },
    {
      "cell_type": "code",
      "source": [
        "url = 'https://search.daum.net/search?w=news&nil_search=btn&DA=PGD&enc=utf8&cluster=y&cluster_page=1&q=인공지능&p={}'\n",
        "\n",
        "href = []\n",
        "for page in range(1, 3):\n",
        "    res = requests.get(url.format(page))\n",
        "    root = lxml.html.fromstring(res.text)\n",
        "    for link in root.cssselect('span.cont_info a.f_nb'):\n",
        "        text = link.text_content().strip()\n",
        "        if text == '다음뉴스':\n",
        "            href.append(link.attrib['href'])\n",
        "href"
      ],
      "metadata": {
        "colab": {
          "base_uri": "https://localhost:8080/"
        },
        "id": "Sqm4_-ZLiugw",
        "outputId": "e75e155d-67b6-4a56-d2fe-59e31f8caec2"
      },
      "execution_count": 16,
      "outputs": [
        {
          "output_type": "execute_result",
          "data": {
            "text/plain": [
              "['http://v.daum.net/v/20230919132700610',\n",
              " 'http://v.daum.net/v/20230920180621489',\n",
              " 'http://v.daum.net/v/20230920190011686',\n",
              " 'http://v.daum.net/v/20230921114012945',\n",
              " 'http://v.daum.net/v/20230920225911543',\n",
              " 'http://v.daum.net/v/20230919120618559',\n",
              " 'http://v.daum.net/v/20230921114914326',\n",
              " 'http://v.daum.net/v/20230921060909465',\n",
              " 'http://v.daum.net/v/20230918090503295',\n",
              " 'http://v.daum.net/v/20230921100311905',\n",
              " 'http://v.daum.net/v/20230921090110814',\n",
              " 'http://v.daum.net/v/20230916071016824',\n",
              " 'http://v.daum.net/v/20230920174410592',\n",
              " 'http://v.daum.net/v/20230921111116544',\n",
              " 'http://v.daum.net/v/20230920170205211',\n",
              " 'http://v.daum.net/v/20230920103232962',\n",
              " 'http://v.daum.net/v/20230920090020899']"
            ]
          },
          "metadata": {},
          "execution_count": 16
        }
      ]
    },
    {
      "cell_type": "markdown",
      "source": [
        "#### 기사 본문 스크랩"
      ],
      "metadata": {
        "id": "-9Mama5qqyT0"
      }
    },
    {
      "cell_type": "code",
      "source": [
        "# 기사 하나 긁어오기\n",
        "res = requests.get('http://v.daum.net/v/20230919132700610')\n",
        "root = lxml.html.fromstring(res.text)\n",
        "\n",
        "# 기사 본문이 HTML의 class 태그의 article_view view에 있기 때문\n",
        "article = root.cssselect('div.article_view')\n",
        "article[0].text_content()\n"
      ],
      "metadata": {
        "colab": {
          "base_uri": "https://localhost:8080/",
          "height": 274
        },
        "id": "72GngBV4h3Qm",
        "outputId": "03ce3bd6-d31f-4d12-fa09-8b5cd655667f"
      },
      "execution_count": 13,
      "outputs": [
        {
          "output_type": "execute_result",
          "data": {
            "text/plain": [
              "' \\n         \\n          \\n           \\n           \\n            경기도가 챗지피티(ChatGPT) 같은 생성형 인공지능(AI)을 도정에 속속 도입하는 가운데 한계점 등을 두려워 말고 활용하기 시작해 위기를 기회로 만들어야 한다는 의견이 나왔다. 사진은 기업토론 모습. / 사진제공=경기도\\n           \\n          \\n          \\n           경기도가 챗지피티(ChatGPT) 같은 생성형 인공지능(AI)을 도정에 속속 도입하는 가운데 한계점 등을 두려워 말고 활용하기 시작해 위기를 기회로 만들어야 한다는 의견이 나왔다.\\n          \\n          경기도와 경기콘텐츠진흥원은 지난 14일부터 15일까지 수원컨벤션센터에서 \\'인공지능이 확장한 문화기술의 세계\\'를 주제로 \\'2023년 문화기술 콘퍼런스\\'를 열었다. 이번 행사는 챗지피티(ChatGPT) 같은 생성형 인공지능이 콘텐츠 산업계에 불러온 혁신을 조명하고 문화기술의 미래를 전망하기 위해 마련됐다.\\n          이번 행사에는 \\'인공지능의 미래\\', \\'인간은 필요없다\\' 등을 저술한 제리 카플란(Jerry Kaplan) 교수와 유럽 인공지능 윤리학의 거두이자 \\'특이점의 신화\\'의 저자 장가브리엘 가나시아(Jean-Gabriel Ganascia) 소르본느 대학 교수 등 전 세계에서 저명한 석학들이 참석해 눈길을 끌었다.\\n          장가브리엘 가나시아 소르본느 대학 교수는 경기도의 인공지능 도정 활용에 대해 \"우선 기계를 사용해서 행정을 하고 있다는 것을 반드시 밝혀야 한다. 개인정보 침해를 조심해야 하고, 오답을 마치 정답처럼 말하는 환각(Hallucination) 문제를 경계해야 한다\"며 \"기계가 자동으로 무엇을 계속 생성하더라도 모든 것을 맡기지 말고, 대응 인력을 제대로 활용해야 한다\"고 조언했다.\\n          그러면서 \"생성형 인공지능을 두려워하기보다 이용할 수 있어야 한다\"며 \"인공지능은 생성형 인공지능에 국한되지 않으며, (경기도의 문화기술 콘퍼런스에서 다루는) 문화산업 곳곳에 활용할 수도 있다\"고 덧붙였다.\\n          제리 카플란 스탠퍼드대 교수도 \"예전에는 인간만이 범용 지능을 보유하고 있었다면 이제는 그렇지 않다는 불편한 사실을 받아들여야 한다\"며 \"인간보다 지능적인 생성형 인공지능은 독자적인 목표나 열망이 없다는 한계가 있지만 이를 활용해 더 적은 노력으로 생산성을 높이는 방법을 배움으로써 위기가 아닌 기회로 받아들이면 좋겠다\"고 강조했다. \\n          오후 기조세션에서는 국내 생성형 인공지능 최전선에 있는 대기업들의 발표와 대담이 이어졌다. 네이버클라우드 윤영진 인공지능 비즈니스 리더는 \"거대언어모델(LLM) 생성형 인공지능이 활발해지고 있지만 생성형 인공지능의 가치는 점차 일반화될 것\"이라며 \"이를 활용해 새로운 서비스를 만드는 사람들의 역할이 중요하다\"고 밝혔다.\\n          LG 인공지능 연구원의 김승환 비전랩장은 \"인공지능은 단방향의 기술이 아니라 인공지능을 통해 생성된 결과물을 작가와 상호작용하며 함께 완성해나가는 양방향적 기술이라고 할 수 있다\"며 \"4차 산업혁명과 디지털 전환에 생성형 인공지능이 큰 역할을 할 것\"이라고 말했다.\\n          한국마이크로소프트 이건복 애저 개발자리드는 \"인공지능이 인간의 창조성을 낮추거나 단순하게 만들기보다는 기존의 기술과 결합하면서 인간의 창의성을 폭발시키고 기존에 없던 창작물들이 나올 것으로 예측한다\"면서 \"이러한 생성형 인공지능 활성화를 위해서는 도출된 데이터를 공유·관리하고 안전하게 사용할 수 있는 문화적 변화를 병행해야 한다고\"고 피력했다.\\n          또한 각 3사는 \\'어떤 스타트업과 함께 일하고 싶은가\\' 또는 \\'인공지능 시대 기업이 원하는 인재의 역량은 무엇인가\\'라는 질문에 공통적으로 자신만의 철학과 창의성을 꼽았다. \\n          이번 행사에는 관련 산업 종사자 및 학생 등 총 1506명(현장 참석자 375명, 온라인 참여자 1131명)이 참여했다.\\n          한편, 도는 지난 3월 21일 \\'경기지피티(GPT) 추진 계획(로드맵)\\'을 발표한 바 있다. 이에 지난 6월부터는 인공지능 상담원이 주 1회 서비스 대상 노인의 휴대전화로 전화를 걸어 자연스러운 대화를 나누는 \\'경기도 인공지능 노인말벗서비스\\', 지난 5~6월 발달장애인에게 예술 창작에 기회를 제공하는 \\'인공지능 창작단\\', 2026년까지 인공지능에 기반해 도민 상담업무를 처리하는 120경기도콜센터 단계적 구축 등을 추진하고 있다.\\n          경기=김동우 기자 bosun1997@mt.co.kr<저작권자 ⓒ \\'성공을 꿈꾸는 사람들의 경제 뉴스\\' 머니S, 무단전재 및 재배포 금지>\\n          \\n        '"
            ],
            "application/vnd.google.colaboratory.intrinsic+json": {
              "type": "string"
            }
          },
          "metadata": {},
          "execution_count": 13
        }
      ]
    },
    {
      "cell_type": "code",
      "source": [
        "import tqdm.notebook\n",
        "articles = []   # 기사 본문을 저장할 빈 리스트\n",
        "for h in tqdm.notebook.tqdm(href):   # tqdm : 진행막대 표시\n",
        "    res = requests.get(h)\n",
        "    root = lxml.html.fromstring(res.text)\n",
        "    for article in root.cssselect('div.article_view'):\n",
        "        articles.append(article.text_content())\n",
        "articles"
      ],
      "metadata": {
        "colab": {
          "base_uri": "https://localhost:8080/",
          "height": 1000,
          "referenced_widgets": [
            "2456d23adf2d4ee1822c617e18ff82b6",
            "95152bc09afd48a0bd6a0112e99e76b9",
            "ea0f40f91b764ba78c18d9f1438f482f",
            "d15bdcb13322428eb24b6f65b899698c",
            "4891a42a880a4bffa3dd5955bcf69f65",
            "cc3a6d784df84ce08761dfa3f53be6fe",
            "bc5fa1f9992046808f134d4ea5c78ec6",
            "b4369c0074d74ac784d718cecb18209a",
            "c72061db82ed429b8b9742cebe66c46d",
            "74be319d0da642648bda2da3d8ed455b",
            "e22ad903984344a59c9efb0e4cfabd63"
          ]
        },
        "id": "_EN8Bi_HqIRq",
        "outputId": "a7a3c258-ea79-4485-a2ed-d3da0de9ec42"
      },
      "execution_count": 19,
      "outputs": [
        {
          "output_type": "display_data",
          "data": {
            "text/plain": [
              "  0%|          | 0/17 [00:00<?, ?it/s]"
            ],
            "application/vnd.jupyter.widget-view+json": {
              "version_major": 2,
              "version_minor": 0,
              "model_id": "2456d23adf2d4ee1822c617e18ff82b6"
            }
          },
          "metadata": {}
        },
        {
          "output_type": "execute_result",
          "data": {
            "text/plain": [
              "[' \\n         \\n          \\n           \\n           \\n            경기도가 챗지피티(ChatGPT) 같은 생성형 인공지능(AI)을 도정에 속속 도입하는 가운데 한계점 등을 두려워 말고 활용하기 시작해 위기를 기회로 만들어야 한다는 의견이 나왔다. 사진은 기업토론 모습. / 사진제공=경기도\\n           \\n          \\n          \\n           경기도가 챗지피티(ChatGPT) 같은 생성형 인공지능(AI)을 도정에 속속 도입하는 가운데 한계점 등을 두려워 말고 활용하기 시작해 위기를 기회로 만들어야 한다는 의견이 나왔다.\\n          \\n          경기도와 경기콘텐츠진흥원은 지난 14일부터 15일까지 수원컨벤션센터에서 \\'인공지능이 확장한 문화기술의 세계\\'를 주제로 \\'2023년 문화기술 콘퍼런스\\'를 열었다. 이번 행사는 챗지피티(ChatGPT) 같은 생성형 인공지능이 콘텐츠 산업계에 불러온 혁신을 조명하고 문화기술의 미래를 전망하기 위해 마련됐다.\\n          이번 행사에는 \\'인공지능의 미래\\', \\'인간은 필요없다\\' 등을 저술한 제리 카플란(Jerry Kaplan) 교수와 유럽 인공지능 윤리학의 거두이자 \\'특이점의 신화\\'의 저자 장가브리엘 가나시아(Jean-Gabriel Ganascia) 소르본느 대학 교수 등 전 세계에서 저명한 석학들이 참석해 눈길을 끌었다.\\n          장가브리엘 가나시아 소르본느 대학 교수는 경기도의 인공지능 도정 활용에 대해 \"우선 기계를 사용해서 행정을 하고 있다는 것을 반드시 밝혀야 한다. 개인정보 침해를 조심해야 하고, 오답을 마치 정답처럼 말하는 환각(Hallucination) 문제를 경계해야 한다\"며 \"기계가 자동으로 무엇을 계속 생성하더라도 모든 것을 맡기지 말고, 대응 인력을 제대로 활용해야 한다\"고 조언했다.\\n          그러면서 \"생성형 인공지능을 두려워하기보다 이용할 수 있어야 한다\"며 \"인공지능은 생성형 인공지능에 국한되지 않으며, (경기도의 문화기술 콘퍼런스에서 다루는) 문화산업 곳곳에 활용할 수도 있다\"고 덧붙였다.\\n          제리 카플란 스탠퍼드대 교수도 \"예전에는 인간만이 범용 지능을 보유하고 있었다면 이제는 그렇지 않다는 불편한 사실을 받아들여야 한다\"며 \"인간보다 지능적인 생성형 인공지능은 독자적인 목표나 열망이 없다는 한계가 있지만 이를 활용해 더 적은 노력으로 생산성을 높이는 방법을 배움으로써 위기가 아닌 기회로 받아들이면 좋겠다\"고 강조했다. \\n          오후 기조세션에서는 국내 생성형 인공지능 최전선에 있는 대기업들의 발표와 대담이 이어졌다. 네이버클라우드 윤영진 인공지능 비즈니스 리더는 \"거대언어모델(LLM) 생성형 인공지능이 활발해지고 있지만 생성형 인공지능의 가치는 점차 일반화될 것\"이라며 \"이를 활용해 새로운 서비스를 만드는 사람들의 역할이 중요하다\"고 밝혔다.\\n          LG 인공지능 연구원의 김승환 비전랩장은 \"인공지능은 단방향의 기술이 아니라 인공지능을 통해 생성된 결과물을 작가와 상호작용하며 함께 완성해나가는 양방향적 기술이라고 할 수 있다\"며 \"4차 산업혁명과 디지털 전환에 생성형 인공지능이 큰 역할을 할 것\"이라고 말했다.\\n          한국마이크로소프트 이건복 애저 개발자리드는 \"인공지능이 인간의 창조성을 낮추거나 단순하게 만들기보다는 기존의 기술과 결합하면서 인간의 창의성을 폭발시키고 기존에 없던 창작물들이 나올 것으로 예측한다\"면서 \"이러한 생성형 인공지능 활성화를 위해서는 도출된 데이터를 공유·관리하고 안전하게 사용할 수 있는 문화적 변화를 병행해야 한다고\"고 피력했다.\\n          또한 각 3사는 \\'어떤 스타트업과 함께 일하고 싶은가\\' 또는 \\'인공지능 시대 기업이 원하는 인재의 역량은 무엇인가\\'라는 질문에 공통적으로 자신만의 철학과 창의성을 꼽았다. \\n          이번 행사에는 관련 산업 종사자 및 학생 등 총 1506명(현장 참석자 375명, 온라인 참여자 1131명)이 참여했다.\\n          한편, 도는 지난 3월 21일 \\'경기지피티(GPT) 추진 계획(로드맵)\\'을 발표한 바 있다. 이에 지난 6월부터는 인공지능 상담원이 주 1회 서비스 대상 노인의 휴대전화로 전화를 걸어 자연스러운 대화를 나누는 \\'경기도 인공지능 노인말벗서비스\\', 지난 5~6월 발달장애인에게 예술 창작에 기회를 제공하는 \\'인공지능 창작단\\', 2026년까지 인공지능에 기반해 도민 상담업무를 처리하는 120경기도콜센터 단계적 구축 등을 추진하고 있다.\\n          경기=김동우 기자 bosun1997@mt.co.kr<저작권자 ⓒ \\'성공을 꿈꾸는 사람들의 경제 뉴스\\' 머니S, 무단전재 및 재배포 금지>\\n          \\n        ',\n",
              " ' \\n         \\n          \\'인공지능 챌린지 선도 기술 개발 사업\\' \\'인공지능 산업 융합 기술 개발\\' \\'인공지능 중심 산업융합집적단지 조성 사업\\'. 비슷한 이름을 가진 이들 사업은 모두 한 부처(과학기술정보통신부)에서 진행 중인 연구 사업이다. 이외에도 현재 과기정통부 내 인공지능(AI)·데이터 분야에서 진행되고 있는 유사·중복 사업은 9개다. \\n          국민의힘 과학기술특별위원회가 인공지능 분석을 통해 정부 부처 내, 부처 간 유사한 중복 과제들을 손보기 위한 작업에 나설 예정이라고 20일 밝혔다. 정우성 국민의힘 과기특위 위원장(포항공대 교수)은 \"연구개발(R&D) 비효율을 개선하기 위해서는 비슷한 이름으로 여러 부처에서 진행되고 있는 연구 과제들을 살펴보고, 이를 통합해 나가는 과정이 필요하다\"며 \"산업통상자원부와 과기정통부 등 R&D 과제를 수행하는 부처에서 중복 지원되고 있는 과제들을 우선 걸러내야 할 것\"이라고 말했다. \\n          현재는 R&D 과제 역시 각 연구 관리 전문기관과 부처별로 나눠 관리하고 있어 과제 중복 여부를 분석하는 것조차 불가능하다. 이에 과기특위는 부처별로 분산돼 진행되고 있는 연구 과제를 우선 취합하고, 이를 AI로 분석해 공개하겠다는 뜻을 밝혔다. 정 교수는 \"여러 부처에서 중복 사례가 많을 것으로 예상되는 연구 테마를 선정해 선제적으로 분석해볼 예정\"이라고 말했다. 분야별 혹은 1부처 1기관 체계로의 연구 관리 전문기관 통폐합도 추진한다. 전문기관은 정부 R&D 예산을 현장에 집행하는 주체다. \\n          그러나 다수 전문기관이 운영되면서 R&D 투자 효율성 저하 문제가 발생해 전문기관을 통폐합하고 범부처 차원의 전략적 R&D 기획을 강화한다는 계획이다. \\n          [이새봄 기자 / 고재원 기자]\\n          \\n        ',\n",
              " ' \\n         \\n          [로버트 파우저 사회의 언어]\\n          \\n           \\n           \\n            인공지능의 일상화는 사람들의 언어 생활에 어떤 변화를 가져올까. 이제 그 변화의 방향과 속도에 관한 진지한 고민을 시작할 때다. 게티이미지뱅크\\n           \\n          \\n          \\n           \\n          \\n          로버트 파우저 | 언어학자\\n          올 초 챗지피티(ChatGPT) 등장 이후 인공지능은 여전히 화제의 중심에 있다. 개발 속도가 빨라지면서 능력과 기능도 날로 향상되고 있다. 새로운 기술이 등장하면 늘 그랬듯 이를 두고 긍정적인 평가가 이어지다가 차츰 불안과 우려가 커지는 양상이다. 실제 미국을 비롯한 여러 나라에서 인공지능을 둘러싼 규제 필요성이 거론되고 있다. 개인정보보호부터 정보조작과 악용, 저작권 문제에 이르기까지 우려의 범위는 매우 넓다. 이러한 우려는 그 문제의 중요성만큼이나 매우 타당하다.\\n          언어학적 관점에서 보면 인공지능 도입은 긍정이냐 부정이냐보다는 어떤 변화를 가져올 것인가가 논의의 중심이다. 오늘날 사용하는 언어는 늘 변하고 있는데, 그 변화에 관한 지적은 대체로 비관적이다. 젊은 세대의 언어 사용은 문제가 있다거나, 학생들이 책을 읽지 않고 긴 글을 쓰지 못한다는 등의 이야기가 대부분이다. 언어 변화는 중립적 현상임에도, 그 사회가 그 현상을 어떻게 받아들이냐는 다른 문제다.\\n          그렇다면 인공지능으로 인한 언어 변화로는 어떤 게 있을까. 아직 초기 단계라 앞날을 예측하기는 어렵지만, 크게 네가지를 점칠 수 있다.\\n          첫째는 간소화다. 인공지능이 구사하는 언어에는 반복이나 말 끊기, 다시 말하기 등이 없다. 문법적 실수도 없이 간결하다. 사회적 기대에 맞추기 위한 포장이나 돌려 말하기 등이 없다. 누구의 눈치도 보지 않고 내용 중심으로 소통한다. 이런 소통 방식이 인간끼리의 소통에도 영향을 미칠 것이다. 무의식적으로 간소화된 말과 글을 사용하게 될 것이다. 예를 들면 컴퓨터나 인터넷 환경에서 맞닥뜨리는 오류 메시지는 그 내용만 전달할 뿐 요구가 없으면 원인을 따로 설명하지 않는다. 이런 간결한 메시지에 익숙해지면 사람들끼리의 대화도 어떤 설명 없이 상황 자체만 전달하게 된다.\\n          둘째는 언어의 벽이 사라진다. 20세기 중반부터 이미 컴퓨터가 언젠가 언어의 벽을 깰 거라는 예측이 있었다. 디지털 혁명 초기부터 여러 시도를 거듭해왔고, 인공지능이 드디어 그 서막을 열었다. 아직은 사용자가 많은 언어 중심이라는 한계가 있지만 클릭 한번으로 거의 모든 텍스트가 번역되는 세상에 이미 살고 있다. 서로 다른 언어의 말과 글이 쉽게 번역되면서 외국어 학습 필요성에 대한 논쟁이 불붙었고, 앞으로 더욱 그럴 것이다. 언어의 벽이 사라짐으로써 예전에는 그 벽에 가로막혔던 정보를 손쉽게 획득할 수 있게 되어 지구가 순식간에 확 줄어들었다.\\n          셋째는 언어 교육의 변화다. 아직까지 거의 모든 국가 교육과정에는 인공지능이 포함되어 있지 않다. 여전히 아날로그 시대의 흔적이 남아 있다. 사회적 책임이 무거운 까닭에 교육계는 세상의 변화를 너무 쉽게 받아들이거나 유행을 즉각 따르는 것에 주의해야 한다. 하지만 한편으로는 변화를 두려워하거나 너무 늦어짐으로써 현실에서 멀어져서도 안 된다. 인공지능은 앞으로 사라지지 않을 것이다. 외국어는 물론 다른 교육 전반에도 크게 영향을 미칠 수밖에 없다. 인공지능이 백과사전이자 보조교사, 나아가 소통의 상대가 될 수 있으니 언어 학습의 모델이자 동반자로 부상할 것이다. 나아가 미래세대는 언어습득 과정에서 오늘날의 부모 또는 교사의 역할을 인공지능을 통해 해결할 것이다.\\n          마지막은 변화의 속도다. 언어는 늘 변하지만, 변화의 속도와 내용은 이전과 비교할 수 없게 되었다. 대중문화의 유행이나 코로나19 같은 사건에 따라 새로운 말이 생성되고 빨리 보급되지만 발음과 문법은 상대적으로 천천히 변해왔다. 그러나 인공지능은 언어의 변화를 재빨리 파악하고 정착 가능성을 판단할 능력을 탑재함으로써 새로운 언어를 빛의 속도로 보급할 것이다.\\n          변화의 키워드는 영향, 변화, 속도, 그리고 판단이다. 인공지능 사용이 많아질수록 언어는 영향을 받을 것이며 변화할 것이다. 이는 거스를 수 없다. 주목할 것은 속도와 판단이다. 악용되지 않도록, 더 나은 세상을 위해 기여하도록 도입의 속도를 조절하고 올바른 방향으로 나아가도록 판단할 여유가 우리에게 주어지기 바란다.\\n          \\n        ',\n",
              " ' \\n         \\n          \\n           \\n           \\n            이평구 한국지질자원연구원 원장(앞줄 왼쪽 여섯번째)이 2023 지질자원 데이터 활용 및 인공지능 경진대회 수상자들과 기념촬영을 하고 있다.(KIGAM 제공)/뉴스1\\n           \\n          \\n          (대전=뉴스1) 김태진 기자 = 국내 연구진이 희소한 지구의 가치와 더 나은 미래를 위한 아이디어 발굴에 나섰다.\\n          한국지질자원연구원(KIGAM)은 20일 대전 본원에서 ‘2023 지질자원 데이터 활용 및 인공지능 경진대회’ 시상식을 개최했다고 21일 밝혔다.\\n          이번 대회는 ‘희소한 지구의 가치, 더 나은 미래를 위한 아이디어 챌린지’를 주제로 2개 부문으로 나뤄 진행됐다.\\n          총 32개 팀이 출전해 4개월 동안 서류평가와 발표평가 등 엄격한 심사과정을 거쳐 수상자가 결정됐다.\\n          데이터 활용·아이디어 부문에서는 ‘지질자원 데이터 활용, 메타버스 세계에 야외 가상지질학습장을 구축하다’를 주제로 발표를 진행한 ‘지오빅에듀’팀이 대상을 수상했다. \\n          인공지능(AI) 모형 개발 부문에서는 실제 해양 생산광구에 설치된 계측기로부터 관측된 데이터를 활용해 석유정(油井)의 이상 징후를 감지하기 위한 인공지능 모형 개발 및 해결방안 문제를 잘 풀어낸 ‘서울대학교 에너지시스템공학부’팀이 대상을 받았다.\\n          한국지질자원연구원은 국민 누구나 최신 지질자원 정보를 접하고 공유·활용할 수 있도록 지오빅데이터 오픈플랫폼을 운영하고 있다.\\n          이를 통해 지오빅테이터 및 AI 기반 분석 서비스를 고도화해 국가 사회 현안 대응을 위한 양질의 지질자원 연구데이터를 제공하고자 노력하고, 연구자가 보유한 연구자료를 공유·활용해 지질자원분야 오픈 사이언스 생태계를 선도하는 것을 목표로 하고 있다.\\n          이평구 지질자원연구원장은 “지질자원의 다양한 데이터와 AI 적용기술은 지구의 유한한 자원을 올바르고 효과적으로 활용할 수 있게 해주는 미래지향적 기술\"이라며 \"“현재 운영 중인 ‘지오빅데이터 오픈플랫폼과 2024년 오픈을 목표로 하고 있는 ’GeoAI 활용 플랫폼‘을 활용해 지질자원 미래인재양성은 물론 지질자원 오픈 사이언스 생태계를 활성화할 수 있도록 최선을 다하겠다”고 말했다.\\n          memory4444444@news1.kr \\n          \\n        ',\n",
              " ' \\n         \\n          \\n           \\n          \\n          임금님이 말했다. “세상에서 가장 재미있는 이야기를 만드는 자에게 왕국의 반을 주겠다.” 나라 안팎의 이야기꾼이 몰려들었다. 그러나 아무도 상을 받지 못할 것이다. 세상에서 가장 재미있는 이야기를 만들기란 불가능하다. 사람마다 취향이 다르기 때문이다. 그렇다면 이런 것은 어떨까? 누구나 재미있을 이야기는 포기하고, 임금님한테 가장 재미있을 이야기를 만든다면? 단 한 사람을 위한 이야기, 개인 맞춤형 이야기 말이다.\\n          지금의 인공지능(AI) 기술로 가능할까? 나는 가능할 것 같다. 비슷한 기술이 널리 쓰인다. 넷플릭스니 유튜브니 인스타그램이니 페이스북이니 숱한 서비스가, 내가 재미있어 할 창작물을 지치지 않고 추천한다. 이른바 ‘추천 알고리즘’이다. 나와 비슷한 취향을 가진 사람을 추리고 그들이 좋아한 창작물을 내게 권한다. 개인 맞춤형 이야기를 만들 때 이 기술을 이용할 수 있다. 판타지일지, 로맨스일지, 내가 어떤 장르를 좋아할지, 또 내가 어떤 성격과 외모의 남녀 주인공을 좋아할지, 인공지능이 맞추는 일은 어렵지 않을 것이다. 데이터가 충분하다면 말이다.\\n          또 하나 눈길 끄는 기술은 자연어 처리(NLP)다. 자연어 처리를 지금 가장 잘하는 친구는 챗GPT다. 챗GPT에 ‘역할’ 기능이 있다. 역할극을 시켜보았다. \\n          “당신 역할은 임금님을 즐겁게 하는 이야기꾼, 이야기가 재미없으면 목숨이 달아날 수도 있다. 그런데 당신 이야기가 별로라서 임금님이 화가 났다.” \\n          이야기꾼(챗GPT)은 목숨을 건지기 위해 왕국의 골칫거리인 드래건을 물리치러 가기로 한다. “하지만 당신은 이야기꾼인데 어떻게 드래건과 싸우나?” 나는 물었다. “마법을 이용하겠어요”라고 챗GPT는 대답했다. “나는 다양한 이야기에서 마법을 배웠습니다.” 대화가 오가며 이야기는 뜻밖의 방향으로 발전한다. 부족하지만, 나를 위한 맞춤형 이야기다.\\n          교육에 써도 좋을 것이다. 인공지능과 두번째 이야기를 만들어봤다. 조선시대의 이야기꾼 전기수에 대해 풀이된 인터넷 사이트 주소를 챗GPT에게 알려준 다음, “당신은 전기수, 사연을 들려달라”고 청했다. 인공지능은 “한때 벼슬길에 올랐으나, 자유로운 이야기꾼이 되고 싶어 벼슬을 떠났노라”며 이야기를 풀어간다.\\n          인공지능은 이미 개인 맞춤형 교육에 쓰인다. 내가 틀린 문제와 닮은 문제를 추려 나를 공부시킨다. 개인 맞춤형 이야기와 교육과 게임이 인공지능을 통해 연결될 때가 먼 미래는 아닐 것 같다. 초보적인 수준이라면 지금도 가능하리라.\\n          그런데 왜 지금 개인 맞춤형 이야기를 서비스하는 곳이 없을까? 돈이 안 돼서다. 마땅한 사업 모델이 당장은 없다. 챗GPT를 맞춤한 용도로 쓰려면 오픈AI라는 회사에 돈을 내야 한다. 그런데 썩 비싸다. 나도 교육 스토리 챗봇을 만들어 보려다 비용이 감당 안 돼 일단 접었다. 이야기는 처음으로 돌아간다. 이야기꾼이 모여든 까닭은 임금님이 상금을 걸었기 때문이다. 이야기꾼을 잘 먹여야 이야기가 나온다. 창작의 미래를 보기 위해 돈의 흐름을 본다.\\n          \\n           \\n           \\n            김태권 만화가\\n           \\n          \\n          김태권 만화가\\n          \\n        ',\n",
              " ' \\n         \\n          \\n           \\n           \\n            [제네바=신화/뉴시스]지난 7월 스위스 제네바에서 개최된 좋은 인공지능 정상회의에 등장한 인간형 로봇 소피아(왼쪽)가 다른 로봇 네이딘(오른쪽)과 대화하는 장면. 인공지능이 의식을 가진 존재인지를 규명하느라 과학자들이 골머리를 앓고 있다. 2023.9.19.\\n           \\n          \\n           [서울=뉴시스] 강영진 기자 = 최근 일련의 철학자들, 신경과학자들, 컴퓨터과학자들이 챗GPT와 같은 인공지능이 의식을 가진 존재인 지를 평가하는 기준을 발표했다고 미 뉴욕타임스(NYT)가 18일(현지시간) 보도했다. \\n          발표자 중 한 사람인 뉴욕대 신경과학자 그레이스 린지 박사는 자신이 발표한 내용이 초기 경험론의 요소들을 결합해 기계가 의식을 가졌는지를 평가하는 “새로운 방식”의 의식 과학이라고 주장했다. 예컨대 새 연구에 포함된 반복 처리 이론은 의식적 인지와 무의식적 인지 사이의 차이를 규명한다. \\n          신경과학에 따르면 사람은 시신경에서 1차시각피질로 전기신호가 넘어가고 이후 뇌로 전달되는 것을 무의식적 인지로 분류한다. 이 인지는 뇌에서 다시 1차시각피질로 전기신호가 반환되는 순환과정을 거친다. \\n          뇌의 특정 부위와 관련된 활동을 다루는 이론도 있다. 콩콩이를 신고 걸을 때 균형을 잡는 과정을 관장하는 뇌 부위는 주변을 넒게 인식한다. 모든 정보를 종합해야 하지만 균형을 잘 잡기는 쉽지 않다는 한계가 있다. 이와 관련 신경과학자들은 인간이 어디에 주목할 지를 결정하는 통제와 조율 담당 “범용 뇌 공간”이 있다고 추정한다. 인간의 의식은 바로 이 통합적이고 역동적인 공간에서 비롯된다는 것이다. \\n          그밖에 의식을 인지할 수 있는 능력에서 의식이 생겨날 수도 있다. 세상에 대한 가상 모델을 만들고 미래 경험을 예측해 신체가 어디로 움직여야 할 지를 결정하는 능력이다. \\n          새 보고서는 이들 중 어느 하나라도 있어야 의식이 존재하는 것으로 규정할 수 있다고 주장한다. 기계에서 이런 특징이 나타나면 기계 의식의 존재를 인정할 수 있다는 것이다. \\n          문제는 인공지능이 사람이 인식하지 못하는 방법으로 “학습”하는 심오한 신경망을 가졌다는 점이다. 의식의 요소를 완전히 규명해 낸다고 하더라도 인공지능에 이를 적용하기가 쉽지 않은 것이다. \\n          이번 보고서는 발표 내용이 의식의 존재를 결정하는 모든 요인을 담고 있지 않음을 인정한다. 의식이란 핀볼게임기계에서 오가는 정보의 조각으로 분해할 수 있다는 “계산 기능주의(computational functionalism)”를 예로 들 수 있다. 이 이론에 따르면 핀볼게임기는 복잡하지는 않다고 하더라도 기본적으로 의식을 가진 존재다. 그밖에 물리학적, 생물학적, 사회적, 문화적 맥락을 의식의 핵심 요인으로 간주하는 다양한 이론들이 있다. 이런 요인들은 기계에 프로그램 하기가 사실상 불가능하다. \\n          나아가 계산 기능주의를 신봉하는 사람들도 의식을 충분히 규정하기가 어렵다는 것을 인정한다.\\n          그렇다면 이 모든 것 가운데 어느 한 가지 또는 여러 가지의 결합이 의식적 경험을 구성하는 것일까? \\n          과학적 주관 경험과 순수 주관 경험 사이에는 분명한 차이가 있다. 인공지능이 반복적 처리 과정, 범용 공간, 공간 감각을 가진다고 하더라도 의식을 가진 존재로 느껴지기엔 부족한 대목이 있는 것이다. \\n          이에 대해 이번 연구를 주도한 AI 안전 센터의 로버트 롱 철학자는 “그런 느낌은 고도의 개념을 물리적 현상으로 축소함으로써 과학적인 설명을 시도할 때 생겨나는 것”이라고 말했다. \\n          그는 그러나 인공지능의 기계 학습 속도가 인간의 설명 능력보다 훨씬 빠르게 발전하고 있다면서 의식이 무엇인 지에 대한 규명을 서둘러야 한다고 강조했다. \\n          동물이 의식을 가진 존재인 지에 대한 연구는 오래 전부터 광범위하게 진행돼 왔다. 그 결과 두족류도 사람과는 다르지만 주관적 경험을 한다는 연구 결과도 나왔다. 문어는 다리 하나에 4000만 개의 뉴런을 가진다. \\n          인간이 아닌 존재의 의식에 대한 연구는 수많은 관찰과 추론, 실험을 바탕으로 진행된다. \\n          인간은 대화를 하고 감각을 느끼며 놀고, 가정하고, 찔러보고, 통제하고, X-레이 촬영을 하고 해부도 하지만 여전히 인간의 의식이 무엇인 지를 알지 못한다. 단지 인간이 인간임을 알 뿐이다.\\n          ☞공감언론 뉴시스 yjkang1@newsis.com \\n          \\n        ',\n",
              " \" \\n         \\n          \\n           \\n            \\n             \\n            \\n           \\n          \\n          [앵커] \\n          로봇이 인간의 안전을 지키기 위해 순찰을 도는 세상이 왔습니다. \\n          로봇이 혼자 돌아다니며 화재 같은 위험 상황을 실시간 전송하면, 이를 활용해 경찰이나 소방이 신속히 대응하게 하는 시스템이 세종시에서 구축되고 있습니다. \\n          이상곤 기자입니다. \\n          [기자] \\n          다리가 4개인 로봇이 불을 밝힌 채 걸어옵니다. \\n          길바닥에 쓰러진 남성을 발견하자 카메라로 영상을 촬영해서 인근 기기로 실시간 전송합니다. \\n          앞으로 세종시 금강 보행교 '이응다리'를 돌아다니며 순찰 임무를 수행할 인공지능 자율주행 로봇입니다. \\n          한번 충전에 90분 동안 운영이 가능하며 배터리가 떨어지면 충전시설을 스스로 찾아갈 수 있습니다. \\n          혼자서 계단도 올라가고 장애물이 나타나면 알아서 피합니다. \\n          기존 개발된 로봇에 열화상 카메라와 360도 카메라 등을 추가로 설치해 화재와 위험 상황을 감지할 수 있도록 했습니다. \\n          앞으로 로봇이 촬영한 영상을 CCTV를 관제하는 도시통합정보센터로 보내 소방과 경찰이 신속히 대응할 수 있는 시스템을 구축할 예정입니다. \\n          [권순일 / 로봇 전문 기업 사장 : 기존의 로봇은 자율적인 보행과 이동성에 중심이 되어 있는 로봇인데요. 사람들의 쓰러짐, 이상 행동들을 인공지능 데이터로 이미지를 분석해서 도시통합정보센터에 공유하도록 저희가 기능을 추가하였습니다.] \\n          순찰 로봇이 민간에 투입된 적은 있지만 자치단체가 상시 운영에 들어간 건 이번이 처음입니다. \\n          세종시는 올해 시범 운영으로 부족한 점을 보완해 내년에 로봇을 추가 도입할 계획을 세웠습니다. \\n          [최민호 / 세종 시장 : 사람이 할 수 없는 일, 사람보다 더 힘든 일을 해내는 로봇으로 이해하시고, 사람이 할 수 있는 기능들을 더 보강하고 더 안전을 도모하는 그런 역할을 할 것으로 생각합니다.] \\n          인공지능 로봇이 인간의 안전을 위해 순찰을 도는 세상. \\n          미래가 아닌 현실이 됐습니다. \\n          YTN 이상곤입니다. \\n          YTN 이상곤 (sklee1@ytn.co.kr)\\n          ※ '당신의 제보가 뉴스가 됩니다' \\n          [카카오톡] YTN 검색해 채널 추가 \\n          [전화] 02-398-8585 \\n          [메일] social@ytn.co.kr\\n          [저작권자(c) YTN 무단전재, 재배포 및 AI 데이터 활용 금지]\\n          \\n        \",\n",
              " ' \\n         \\n          \\n           \\n           \\n            KBS 2TV ‘옥탑방의 문제아들’ 캡처\\n           \\n          \\n          \\n           \\n           \\n            KBS 2TV ‘옥탑방의 문제아들’ 캡처\\n           \\n          \\n           궤도가 인공지능보다 강력한 인간의 힘이 복기에 있다고 말했다. \\n          9월 20일 방송된 KBS 2TV ‘옥탑방의 문제아들’에서는 과학 커뮤니케이터 궤도가 출연했다. \\n          이날 방송에서 궤도는 인공지능이 인간을 넘어설 수 있는지 질문을 받자 “그건 아직 멀었다”며 “한 부분을 잘하는 건 가능하다. 바둑을 둔다, 계산과 확률에 대한 문제라 만들 수 있다”고 말했다. 하지만 인공지능이 더 강해지면 바둑을 두다가 “내가 이걸 왜 해야 하지?”라며 자기가 그만두겠다고 할 수 있다고. \\n          이어 궤도는 “인류역사상 알파고를 이긴 건 이세돌이 유일하다. 사람의 가장 위대한 점 같다. 이세돌 9단이랑 알파고가 바둑을 했을 때 딱 끝나고 이세돌 9단이 자리를 못 떴다. 복기하고 싶어서. 왜 거기 수를 뒀는지. 알파고는 이기는 수라 둔 거지 모른다. 인간은 복기한다”고 말했다. \\n          궤도는 “인간은 끊임없이 복기하는 시도를 해야 한다. 그래야 인공지능을 맹신하지 않고 갈 수 있다. 찰스 다윈이 결국 살아남는 종은 가장 강하거나 똑똑한 종이 아니라 변화에 적응하는 종이라고 했다. 우리는 적응해야 한다. 인공지능의 신기함이 끝나면 활용할 수 있게 된다. 계속 배우고 쓸 수 있게 활용하게 되면 우리의 훌륭한 툴이 될 것”이라고 봤다. (사진=KBS 2TV ‘옥탑방의 문제아들’ 캡처)\\n          [뉴스엔 유경상 기자]뉴스엔 유경상 yooks@\\n          기사제보 및 보도자료 newsen@newsen.com copyrightⓒ 뉴스엔. 무단전재 & 재배포 금지 \\n          \\n        ',\n",
              " ' \\n         \\n          [강현숙의 ‘한뼘 기술’]\\n          \\n           \\n          \\n          지난해 11월30일 공개된 챗지피티 이후 생성형 인공지능이 생활 깊숙이 들어오고 있다. 미래 기술로 여겨지던 ‘가상 인간(버추얼 휴먼)’도 성큼 현실화하고 있다. 굳이 전문기술 없어도 유튜브 영상을 따라 하면 나만의 가상 인간을 쉽게 만들 수 있다. 생성형 인공지능을 이용하면 가상 인간을 만들고 실제 모델처럼 옷을 입혀 화보집을 영상으로 만드는 일도 간단하다. 이렇게 만든 영상 화보집을 ‘에이아이(AI) 룩북(lookbook)’이라고 부른다. 이런 생성 인공지능을 이용해 화보집을 만들어주는 제작도구도 서비스되고 있는 현실이다.(사진)\\n          \\n           \\n          \\n          그런데 문제가 생겨나고 있다. 일부 유튜버들은 인공지능 화보집을 만들면서 실제 사람 모델에게 시도하기 힘든 선정적인 포즈와 노출 동영상을 스스럼없이 제작해 올린다. 동기는 돈벌이다. 30만명이 구독하는 에이아이 룩북 채널의 한 달 수익은 3천만원 이상으로 추정된다.\\n          돈벌이가 되다보니 선정적인 인공지능 화보집 경쟁이 일어나고 있다. 유튜브에서 ‘AI 룩북’으로 검색하면 노출 심한 교복을 입은 영상, 속옷을 입고 선정적 포즈를 취하는 영상 등 다수의 영상을 볼 수 있다. 어떤 영상은 성인 인증을 하지 않아도 볼 수 있다. 범죄의 소지가 다분해 보이는 영상도 있다. 교복을 입고 선정적인 포즈를 취하는 가상모델 가운데는 아동 청소년으로 보이는 영상도 있다. 실제 아동 청소년을 대상으로 성착취물을 제작하면 최대 무기징역에 처해지지만 가상 모델은 실제 사람이 아니기 때문에 법망을 피해간다.\\n          전문가들은 가상 세계에 익숙해지면 실제 세상에서도 자연스럽게 받아들여지고 그대로 행해질 수 있다는 점을 우려한다. 사람과 거의 동일한 가상 인간의 성착취물을 보는 사람은 실제에서도 유사한 행동을 하거나 가상 인간에게 대하는 방식을 그대로 사람에게도 대할 가능성이 높다.\\n          문제 해결을 위해서는 플랫폼 사업자의 자율적인 규제 마련, 법·제도 개선과 함께 유튜버들의 윤리의식이 강화돼야 한다. 유튜브는 미성년자를 성적 대상화하는 경우에는 경고 조치를 취하거나 채널을 폐쇄하지만 인공지능 화보집에 대한 구체적인 규제 지침은 없다. \\n          생성 인공지능이 만들어내는 선정적 콘텐츠는 화보집만이 아니다. 딥페이크 기술은 생성 인공지능이 나오면서 날개를 단 모양새다. 한국콘텐츠진흥원 자료에 따르면, 인공지능을 활용한 콘텐츠의 80%가 성산업이나 범죄 등에 활용되고 있다. \\n          \\n           \\n          \\n          사실 이러한 문제들은 인터넷 초창기부터 불거졌다. 인터넷이 정보의 바다라는 점은 선정적 콘텐츠, 유해한 정보의 바다라는 것도 의미한다. 성인 콘텐츠 시장은 기술 발전과 함께 커져왔다. 인터넷 초창기 실시간 성인방송부터 가상현실(VR)·증강현실(VR) 속 낯뜨거운 이미지와 딥페이크 합성 성인물까지. 그런데도 인공지능 화보집을 보면서 느끼는 불안함은 약간 다르다. 생성형 인공지능의 대중화로 인해 성인물 세계로 들어가는 최소한의 기술적 문턱마저 사라지는 느낌을 받는다. 자국어가 최고의 코딩 언어가 된 지금, 글만 깨우치면 누구나 불법의 세계로 넘어갈 수 있다는 확장된 가능성이 문제다.\\n          강현숙 사단법인 코드 이사\\n          \\n        ',\n",
              " ' \\n         \\n          \\n           \\n           \\n            파주시청사전경. / 사진제공=파주시\\n           \\n          \\n          \\n           파주시(시장 김경일)의 24시간 잠들지 않는 인공지능 \\'지능형교통체계\\'가 주목을 받고 있다.\\n          \\n          전국적으로 인구 감소 추세에 비해 차량 보유는 최근 5년 전 대비 5만 대 이상 늘어났다. 이에따라 최근 높은 인구증가율로 가파른 차량 증가세를 보이는 상황이다. \\n          21일 시에 따르면 2023년 현재 파주시의 차량등록대수는 25만 대로 집계됐다. 10년 전에 비해 두 배가량 뛰었다. \\n          도로를 확장하거나 녹지를 철거하는 등 교차로 구조변경을 통해 도로 용량을 늘리는 데 해마다 막대한 예산을 투입하고 있지만, 늘어나는 인구와 차량 증가 속도를 따라잡기엔 역부족이다. 그렇다고 기반 시설을 무한정 늘릴 수는 없는 현실이다. 파주시가 지능형교통체계를 주목하는 이유가 여기 있다.\\n          지능형교통체계(ITS)는 이런 현실을 타개할 가장 효율적 대안을 제시해준다. 기존 교통시설에 전자·제어·통신 등 첨단기술을 접목해 교통체계의 운영·관리를 과학화·자동화해 교통의 효율성과 안정성 제고에 높은 효용성을 가져다주기 때문이다. \\n          실제로 국토부가 발간한 보고서에 따르면 지능형교통체계는 4차로 일반국도 건설비용의 1% 투자로 교통혼잡률 20% 감소 효과를 얻을 수 있다는 연구 결과도 있다. \\n          \\n           \\n           \\n            파주시지능형교통체계(ITS). / 자료제공=파주시\\n           \\n          \\n          \\n           지능형교통체계(ITS)의 \\'지능\\'이란 운전자에게 혼란을 주지 않으면서도 얼마나 원활하게 교통 흐름을 개선하고 사고를 예방해 시민안전을 지킬 수 있느냐에 달려 있다. 이를 위해서는 정교하게 분석된 실시간 교통 데이터가 필요한데, 파주 관내 주요교차로 총 90개소에 구축된 스마트교차로가 바로 이런 일을 담당한다. \\n          \\n          시는 인공지능을 기반으로 하는 스마트교차로는 카메라를 통한 영상데이터와 실시간 신호정보, 차종별, 방향별 교통량과 속도, 대기행렬 등의 교통정보를 24시간 자동으로 수집·분석해 데이터 기반으로 최적의 신호주기를 제어해 지정체로 인한 차량 소통의 비효율을 개선하고 출퇴근 시간대 시민 고충을 해소하는 데 도움이 될 것으로 기대하고 있다. \\n          시는 지능형교통체계 구축으로 교통정보센터의 역할도 한층 강화됐다고 밝혔다.\\n          시에 따르면 과거에는 수동적인 교통상황 모니터링 수준을 넘어서기 어려웠지만, 이제는 인공지능, 사물인터넷, 빅데이터 기반 첨단기술 장비를 통해 실시간으로 수집된 데이터와 실제 운영되는 신호정보를 연계해 교통류 변화를 자동으로 진단한 결과를 기반으로 실시간 분석과 대응이 가능해졌다. \\n          또한 신뢰성 높은 데이터를 기반으로 상황진단의 정확도가 높아지고, 적정한 현장 처방과 대응으로 과학적인 상황관제가 가능해지니 관계기관 협조체제를 통해 현장대응력을 최대치로 발휘할 수 있게 됐다는 것이다. \\n          \\n           \\n           \\n            감응신호시스템 그래픽. / 자료제공=파주시\\n           \\n          \\n          \\n           시는 일찍이 지난 2021년 9월부터 도입된 좌회전감응신호시스템도 소통 개선에 한몫하고 있다고 평가하고 있다. 주로 좌회전 통행량이 적고 보행자가 드문 76곳의 교차로에 구축된 감응신호는 직진 차선에 우선적으로 배정하되, 횡단보도에 보행자가 나타나거나, 좌회전 차량이 신호대기선 안으로 들어올 경우에는 자동으로 신호를 변경해주는 시스템이다.\\n          \\n          불필요한 신호 대기시간이 줄어드는 만큼, 주도로의 소통은 더 빨라진다. 실제로 한국ITS학회 용역조사에 따르면 각 지점을 통과하는 차량 통행 속도가 평균 12%가량 높아졌다. 불법 좌회전이나 무단횡단으로 인한 사고위험도 덩달아 줄어들기 마련이다. \\n          파주시 지능형교통체계 추진사업 중 효과성 면에서 가장 뚜렷한 성과를 보여주고 있는 것으로 긴급차량우선신호시스템을 꼽을 수 있다. \\n          시에 따르면 2021년 9월 긴급차량우선신호시스템이 가동되기 전까지 시는 소방 골든타임 확보율이 38.9%로 전국 평균인 65.7%에서 25% 이상 크게 뒤처지는 실정이었다. 그런데 2년이 지난 현재는 출퇴근 혼잡시간대 기준으로 평균 4.9Km 이동에 통행시간 평균 11분 29초였던 것이 6분 35초로 무려 5분이나 단축됐다. \\n          파주시는 관내 863곳의 교차로를 온라인으로 연결시켜 타지자체에 비해 이례적일 만큼 촘촘한 네트워크를 갖췄다고 밝혔다. \\n          \\n           이에따라 소방청과 도로교통공단, 경기도와 함께 관계기관 협조체제를 구축하고, 고양시와 파주시를 연결하는 구간에 전국 최초로 \\'광역단위 긴급차량 우선신호체계\\'도 도입해 지역 한계를 넘어서며 시민의 생명을 지키는 데 보다 폭넓은 선택지를 갖게 됐다는 게 시의 설명이다.\\n           \\n          \\n          \\n           \\n           \\n            긴급차량우선신호시스템 그래픽(개념도). / 자료제공=파주시\\n           \\n          \\n          \\n           지능형교통체계 구축사업이 성공적으로 마무리되었지만, 지속적인 도시팽창과 인구 유입에 발맞춰 내실을 다져나가는 노력도 이어져야 한다는 지적도 제기된다. \\n          \\n          김경일 파주시장은 \"지능형교통체계가 인구 100만 시대를 열어갈 교통혁신의 촉매제가 될 것임에는 이론의 여지가 없다\"라면서 \"앞으로 지능형교통체계의 \\'지능\\'을 최대한 끌어올려, 미래형 교통혁신의 성과가 시민들의 삶 속에 두루 스며들 수 있도록 앞으로도 지속적인 투자를 아끼지 않겠다\"라고 말했다.\\n          파주=김동우 기자 bosun1997@mt.co.kr<저작권자 ⓒ \\'성공을 꿈꾸는 사람들의 경제 뉴스\\' 머니S, 무단전재 및 재배포 금지>\\n          \\n        ',\n",
              " ' \\n         \\n          \\n           \\n           \\n            F&U신용정보가 인공지능 기술을 도입한 컨택센터를 구축한다. 사진=게티이미지뱅크\\n           \\n          \\n          F&U신용정보가 디지털 환경 변화에 따른 고객의 요구에 대응하고, AICC(인공지능 고객센터) 기반으로 성장하고 있는 컨택센터 BPO 시장을 공략하기 위해 인공지능 기술을 도입한 컨택센터를 구축한다고 21일 전했다.\\n          F&U신용정보는 컨택센터 등 BPO 서비스를 전문적으로 제공하는 SK기업집단 소속 회사로, AICC 구축을 위한 사업자로 SK텔레콤을 선정, 새로운 시스템을 11월 중 오픈할 예정이다. 이번 사업을 통해 F&U신용정보는 상담 인프라에 SK텔레콤의 기술력이 집약된 챗봇, 콜봇, 상담 어시스턴트 등의 AI 솔루션을 갖추게 될 예정이다.\\n          이러한 AI 컨택센터의 도입으로 F&U신용정보는 △AICC와 BPO 서비스가 결합된 풀 아웃소싱 제공 △상담사의 단순 반복 업무 대폭 감소 △업무 편의성의 확대 등을 효과를 예상하고 있다. 또한, 이를 통해 F&U신용정보의 BPO 서비스를 이용하는 고객에게 높은 비용 효율과 최적의 상담 품질까지 제공할 수 있을 것으로 기대하고 있다.\\n          김현국 F&U신용정보 대표는 “고객 상담을 위한 시스템을 아직 갖추지 못했거나, AI 고객센터 운영이 필요한 사업자는 대규모 투자 없이 적은 비용으로도 콜 인입량에 따라 탄력적으로 F&U신용정보의 BPO 서비스를 이용할 수 있다”며 “인공지능 기술을 보유한 모회사 SK텔레콤과의 제휴 확대를 통해 AICC 기반의 다양한 사업 영역을 확보해 나갈 것”이라고 밝혔다.\\n          전자신문인터넷 이원지 기자 news21g@etnews.com\\n          \\n        ',\n",
              " ' \\n         \\n          2016년 3월 구글 딥마인드가 개발한 인공지능(AI) 바둑 프로그램 알파고와 바둑기사 이세돌의 세기의 대국은 전 세계의 이목을 집중시켰으며, 대국의 결과 못지않게 인공지능에 대한 많은 관심을 불러일으켰다. 당시 사람들에게 다소 생소하였던 개념인 인공지능은 그 역사가 1943년으로 거슬러 올라간다. 미국의 워런 매컬러 교수와 월터 피츠는 ‘신경활동에 내재한 개념들의 논리적 계산’이라는 논문을 통해 인공신경망을 개념화하였다. 이후 1956년 영국 다트머스의 워크숍에서 AI(Artificial Intelligence)라는 용어가 등장한 후, 2000년대부터 컴퓨터 하드웨어의 발달에 힘입어 인공지능은 눈부신 발전을 이루어 왔다. 이미 우리는 생활 속에서 인공지능 기술이 접목된 다양한 제품과 서비스를 접하고 있다.\\n          \\n           \\n           \\n            부산진구 황령산 봉수대에서 바라본 하늘에 안개와 먹구름이 서서히 걷히며 청명한 하늘이 펼쳐지고 있다. 국제신문 DB.\\n           \\n          \\n           인공지능을 활용하는 세계적인 기술 혁신의 흐름은 기상 분야에도 이어지고 있다. 사실 기상은 인공지능 기술을 연구하고 활용하기에 더없이 좋은 분야다. 수십 년간 쌓아온 방대한 기상관측자료와 수치모델자료는 그야말로 고품질의 빅데이터이자 인공지능 학습데이터의 집합체라고 할 수 있다. 엔비디아의 ‘포캐스트넷’, 구글 딥마인드의 ‘그래프캐스트’, MS의 ‘클라이맥스’ 등 글로벌 기업들은 인공지능을 도입하여 기상자료를 분석하고 날씨를 예측하는 기술을 선보이고 있다.\\n          기상청도 기상예보와 관측, 기후변화 시나리오 예측 등 많은 부분에서 인공지능을 적용한 연구를 활발히 진행하고 있으며, 부산지방기상청에서는 인공지능 기술을 적용한 CCTV 안개 탐지 서비스를 개발하였다. 일반적으로 목표물을 식별할 수 있는 최대거리를 시정이라고 하며, 시정이 1km 미만인 경우를 안개라고 말한다. 보통 자동으로 안개를 관측할 때는 시정계라는 기상관측장비를 이용한다. 시정계는 빛의 산란 원리를 이용해 대기의 탁도를 측정하는데, 수평 방향의 시정을 숫자로 제공하며 정확도가 높다. 그러나 장비 가격이 비싸고 설치 환경의 제약이 많다는 단점이 있어, 이를 극복하기 위해 기상청은 지자체가 설치하여 운영 중인 다목적 CCTV의 실시간 영상을 인공지능 객체 탐지 기술로 안개를 탐지하는 서비스를 개발하였다. \\n          인공지능 객체 탐지 기술은 최근 자율주행이나 다양한 카메라 촬영 애플리케이션 등에 활용되고 있는 영상분석 알고리즘이다. 안개 탐지 서비스는 수많은 CCTV 영상을 사람이 하나하나 분석하여 안개를 감시하는 업무를 인공지능이 대신해 주고, 영상 내 목표물까지의 가시거리를 분석하여 표출함으로써 신속한 안개 탐지와 대응을 가능하게 한다. 2021부터 2년간 통영시와 협업하여 본 서비스를 개발하였으며, 개발이 완료된 지난해 12월 통영시에 기술을 이전하여 현재 해상방재용으로 활용되고 있다. 올해는 서비스 기능을 개선하고 다른 기관들로 서비스를 확산하기 위한 사업을 수행 중이다.\\n          그동안 인공지능 기술의 발전은 실험실을 넘어 우리의 생활 영역에서 다양한 형태로 편리함과 혁신을 제공해 왔다. 앞으로 인공지능 기술은 발전 속도가 더욱 빨라져 더 많은 데이터를 신속하고 효율적으로 처리할 뿐만 아니라 의료, 금융과 같은 보다 미세하고 정교한 분야로 확대될 것이다. 기상청은 가속화되는 인공지능 발전의 흐름을 적극적으로 받아들여, 신속하고 정확한 기상예보와 관측정보 등 변화하는 기후환경에 맞춘 수요자 중심의 우수한 기상정보를 제공해 나가도록 노력할 것이다. 유희동 기상청장\\n          \\n           \\n          \\n          \\n        ',\n",
              " ' \\n         \\n          \\n           \\n           \\n            20일 서울 강남구 베스트웨스턴 프리미어 호텔에서 열린 ‘한국AI법학회 국제 컨퍼런스’에 참석한 (왼쪽부터)최경진 한국AI법학회 회장, 아키라 요시다 아마존웹서비스(AWS) 북아시아 인공지능 정책 책임자, 정지은 코딧 CEO, 박민철 김앤장법률사무소 변호사, 김보라미 법률사무소 디케 변호사, 이원찬 한국AI기술 산업협회 회장, 엄열 과학기술정보통신부 국장, 양청삼 개인정보보호위원회 국장(사진=김가은 기자)\\n           \\n          \\n          [이데일리 김가은 기자]국회 과학기술정보방송통신위원회에 ‘인공지능산업 진흥 및 신뢰 기반 조성 등에 관한 법률안’이 계류돼 있는 가운데, 국내 AI 산업 발전과 생태계 조성을 위해선 관련 법적 기반 마련이 시급하다는 지적이 이어졌다.\\n          이 법안은 AI 기술의 개발과 산업 활성화의 지원 근거와 AI 신뢰성 확보 방안을 담고 있다. 특히, AI 산업 기반 조성을 위해 ‘우선허용·사후규제 원칙’을 도입해 빠르게 발전하는 기술을 법·제도가 따라가지 못한다는 IT 업계 의견을 반영했다는 평가다.\\n          20일 서울 강남구 논현동 베스트웨스턴 프리미어 호텔에서 열린 ‘한국AI법학회 국제 컨퍼런스’에서 엄열 과학기술정보통신부 AI기반정책관 국장은 “AI 생태계 활성화 측면에서 가장 중요한 건 법”이라며 “AI 기본법이 국회 상임위원회 법안소위를 통과했고, 상임위원회 의결을 앞두고 있다. 빠르게 제정되기를 기대하고 있다”고 했다.\\n          하지만 해당 법안은 상임위 의결을 앞두고 멈춰 서 있다. 일본 방사능 오염수 방류 문제, 방송법 처리 등 주요 쟁점을 두고 국회가 파행을 거듭한 탓이다.\\n          이날 행사에 참석한 정부와 학계, 업계 전문가들은 AI 생태계 활성화를 위한 법적 기반 마련이 필요하다고 입을 모았다. AI로 인한 부정적 이슈에 대한 충분한 논의도 필요하지만, 글로벌 AI 경쟁에서 우위를 점하기 위해선 빠른 의사결정이 필요하다는 지적이다.\\n          엄열 국장은 “초거대 AI는 신뢰성, 개인정보 이슈 등 기존 제도와 엄청나게 충돌하고 있다”며 “사회적, 문화적 이슈에 대한 논의와 공감대도 필요하지만 시간이 없는 것도 사실이다”라고 강조했다.\\n          이어 “AI법, 자율적 규제, 개인정보 이슈, 저작권법 등 환경적·제도적 측면을 빨리 마련해 시장 내 불확실성을 해소할 수 있도록 신호를 줘야 한다”고 덧붙였다.\\n          이원찬 한국AI기술산업협회장 또한 AI 기술 활용이 법의 범주 안에서 이뤄져야 한다고 강조했다. 그는 “법치국가에서 법은 사회를 규정하고 유지하는 코드이고, AI 기술은 그러한 법의 영역 안에서 보다 높은 성능을 발휘할 수 있다”며 “각 사회 분야에 대해 개별적으로 AI기술과 법의 연관 관계를 세밀히 분석해 적용목적이나 대상, 그리고 임계치를 정확히 예측해야 한다”고 역설했다.\\n          법을 만드는 주체가 기술이나 산업에 대한 이해도가 낮다는 지적도 나왔다. 정지은 코딧 최고경영자(CEO)는 “기술 관련해서 전문가 의견도 듣긴 하지만, 법안이 발의되는과정에서 사업자 의견이 반영되기가 어려운 부분들이 있다”며 “큰 사업자를 규제하려고 만든 내용이지만 저희 같은 스타트업들에게 영향을 미치는 경우가 있다”고 꼬집었다.\\n          중소·스타트업에 대한 고민이 더 필요하다는 의견도 피력했다. 정 대표는 “스타트업들은 법제도가 어떻게 바뀌는지 인지하지 못하고 있다가 바뀐 후에나 알거나, 아예 모르는 경우도 있다”며 “스몰 플레이어들이 개인정보보호·저작권 등 이슈를 어떻게 잘 이해하게 할지, 어떻게 생태계에 품을지에 대한 고민이 더 많이 필요하다”고 강조했다.\\n          법의 상호운용성을 고려해야 한다는 주장도 제기됐다. 아키라 요시다 아마존웹서비스(AWS) 북아시아 인공지능 정책 책임자는 “AI 규제가 효과적이려면 상호운용성이 중요하다”며 “AI는 한 국가에서만 사용되는게 아니라 전 세계에 배포되기 때문에 국가마다 규제가 다르다면 기업들은 규제와 관련해 어려움을 겪게 될 것”이라고 힘줘 말했다.\\n          또 그는 “스타트업이나 중소기업처럼 인력이 부족한 경우 다양한 규제 요건을 다루기에 인력이 부족하면 더 어려움을 겪을 것”이라며 “상호운용성과 정책적 조화가 AI 생태계 조성에 중요한 요소”라고 부연했다.\\n          김가은 (7rsilver@edaily.co.kr) \\n          \\n        ',\n",
              " ' \\n         \\n          \\n           \\n           \\n            [대전=뉴시스] ETRI 민기현 선임연구원(왼쪽)과 한국고전번역원 권경열 책임연구원(오른쪽)이 AI기반 고서번역 기술에 관해 논의하고 있다.(사진=ETRI 제공) *재판매 및 DB 금지\\n           \\n          \\n          [대전=뉴시스] 김양수 기자 = 한국전자통신연구원(ETRI)은 한문으로 된 고서를 번역하는 전문가의 번역작업을 지원하는 플랫폼 개발에 나섰다고 21일 밝혔다.\\n          한문 고서 번역전문가들은 고서 원문을 일일이 입력해 글자로 옮기고 확인한 후 여러 차례 한글로 변경하는 등 복잡한 과정을 거야야 한다.\\n          ETRI가 개발에 나선 한자인식 및 번역기술은 92%의 인식 정확도(한자 인식 알고리즘에 의해 인식된 결과와 실제 결과와의 매치율), 85점의 번역 정확도(일정량의 테스트용 한문 원문 샘플에 대한 AI번역 결과를 고전번역 전문가가 평가한 점수)를 목표로 한다.\\n          이 스마트워크 플랫폼의 주요 기능은 ▲정본화를 위한 이본 대조 지원기능 ▲문자인식 검수지원 기능 ▲어휘사전 ▲번역 패턴/특수 용어 공유기능 등으로 구성된다.\\n          정본화는 저술이 간행, 필사과정에서 발생할 수 있는 각종 오류를 바로 잡아 원 저술에 가장 가깝게 만드는 과정이고 동일한 저술에 대한 간행 여부, 간행 주체, 간행 시기, 간행 방법, 부분적 내용이 상이한 별도의 저술이 존재하는 경우 이를 이본이라 한다.\\n          이를 통해 번역가들이 개방형 공동번역과 해석작업이 가능토록 서비스를 제공할 예정이다.\\n          연구진은 번역가들에게 스마트 업무환경 기반을 마련하고 고서번역 전문가들의 작업효율을 향상시켜 약 3만 종의 고서와 수십만 점의 고문서들의 번역을 앞당겨 소중하고 자랑스러운 우리나라 기록문화유산에 대한 대국민 접근성이 높아질 것으로 기대하고 있다.\\n          ETRI는 또 일반인들을 위한 한문고서 한자 인식 및 번역 기술 확보에나서 인공지능을 활용해 고서의 한자 인식·번역 서비스를 개발, 일반인들이 고서번역을 체험할 수 있는 모바일웹(Web)과 앱(App)을 연말까지 제공할 방침이다.\\n          이미 연구진은 국회도서관, 대전광역시 한밭도서관, 제주특별자치도 한라도서관, 광주광역시립무등도서관, 국립중앙도서관 등 전국 11개 도서관과 문화원 등에에 시범용 키오스크를 설치해 일반인 대상 한자인식 및 번역 실증 서비스를 제공하고 있다.\\n          이와 함께 ETRI는 번역된 고서를 활용한 실감형 인터랙티브 콘텐츠를 개발할 방침이다. 번역된 고서의 스토리를 기반으로 미디어아트와 모션센서를 통해 상호작용하면서 체험할 수 있는 서비스로 고서에 대한 일반인들의 흥미를 유발할 수 있을 것으로 기대된다.\\n          이번 연구는 문화체육관광부와 한국콘텐츠진흥원의 연구개발 지원사업으로 \\'인공지능 기반 개방형 한문 고서 번역 및 해석 지원 기술 개발\\' 과제를 통해 진행 중이다. 한국고전번역원, 전주대학교, ㈜에이비씨, (재)전라북도콘텐츠융합진흥권이 함께 한다.\\n          한국고전번역원 권경열 고전문헌번역실 책임연구원은 \"그동안 번역 전문가들이 번역 이전단계의 공정을 처리하는데 많은 애로를 겪어왔는데 이번 기술 개발이 획기적으로 도움을 줄 것으로 생각한다\"고 기대했다.\\n          ETRI 강현서 호남권연구센터장은 \"번역 전문가의 작업환경이 그동안 노동집약적 업무로 과중했는데 디지털 전환을 통해 간소화하고 한자를 모르는 일반인들도 고서를 쉽게 접해 우리나라 문화기록유산인 고서에 관심을 갖는 계기가 될 수 있을 것\"이라고 말했다.\\n          ☞공감언론 뉴시스 kys0505@newsis.com \\n          \\n        ',\n",
              " ' \\n         \\n          \\n           \\n           \\n            [대전=뉴시스] 특허청이 입주해 있는 정부대전청사 전경.\\n           \\n          \\n          [대전=뉴시스] 김양수 기자 = 특허청은 양자와 인공지능 분야에서 표준특허 선점이 필요한 유망기술 발굴에 착수한다고 20일 밝혔다.\\n          표준특허는 표준화기구에서 정한 표준기술을 포함한 특허로 관련 제품 생산에 필수적으로 사용된다. \\n          양자와 인공지능은 세계 산업구조와 시장을 재편할 수 있는 혁신기술이다. 현재 여러 표준화 기구에서 이들 분야의 표준화가 논의되고 있으나 아직 초기단계다. \\n          특허청은 표준특허 선점 시 관련 시장경쟁에서 우위를 점할 수 있어 표준특허 확보에 필요한 유망기술을 발굴해 국내 산·학·연의 연구개발(R&D)을 전략적으로 지원한다는 방침이다.\\n          유망기술 발굴은 표준 반영 가능성, 우리나라의 특허 경쟁력 등 여러 지표를 활용한 종합적 평가와 산·학·연 전문가의 자문 등을 통해 이뤄진다.\\n          특허청은 올해 연말까지 유망기술을 도출하고 각 유망기술별 표준특허 확보전략을 담은 종합보고서를 발간할 예정이다. 보고서는 표준특허포털을 통해 배포할 계획이다.\\n          특허청 목성호 산업재산정책국장은 \"양자와 인공지능은 미래 산업의 게임체인저로 불리는 만큼 표준특허를 선점해 시장 영향력을 키울 필요가 있다\"면서 \"연구개발(R&D) 효율성 제고를 위한 전략적 지원을 계속 이어나갈 것\"이라고 말했다.\\n          ☞공감언론 뉴시스 kys0505@newsis.com \\n          \\n        ',\n",
              " ' \\n         \\n          연말까지 유망기술별 표준특허 확보 전략 종합보고서 발간\\n          \\n           \\n           \\n            특허청이 양자와 인공지능 분야 표준특허 선점을 위한 유망기술 발굴에 나선다. / 정부대전청사\\n           \\n          \\n          \\n           [더팩트 | 대전=박종명 기자] 특허청은 산·학·연의 R&D 기획을 지원하기 위해 양자와 인공지능 분야에서 표준특허 선점이 필요한 유망기술 발굴에 착수한다고 20일 밝혔다.\\n          \\n          양자와 인공지능은 전 세계 산업 구조와 시장을 재편할 수 있는 혁신 기술로 지난 8월 한미일 정상회담에서 논의된 3국간 글로벌 표준화 협력 대상 기술에도 포함됐다. 현재 여러 기구에서 이들 분야의 표준화가 논의되고 있지만 아직은 초기 단계다.\\n          특허청은 표준특허 확보 관점에서 유망기술을 발굴해 산·학·연의 경쟁력 향상에 도움이 되도록 할 방침이다.\\n          유망기술 발굴은 우리나라의 특허 경쟁력 등 여러 지표를 활용한 종합적 평가를 바탕으로 산·학·연 전문가의 자문을 통해 R&D·표준화 현장의 시각을 더하는 방식으로 추진된다.\\n          특허청은 연말까지 유망기술을 도출하고 각 유망기술별 표준특허 확보 전략을 함께 실은 종합보고서를 발간해 표준특허포털을 통해 배포할 계획이다.\\n          특허청 목성호 산업재산정책국장은 \"양자와 인공지능은 미래 산업의 ‘게임체인저’로 불리는 만큼 표준특허를 선점해 시장 영향력을 키울 필요가 있다\"며 \"특허청은 앞으로도 R&D 효율성 제고를 위한 지원을 계속 이어나갈 것\"이라고 말했다.\\n          thefactcc@tf.co.kr\\n          발로 뛰는 더팩트는 24시간 여러분의 제보를 기다립니다.▶카카오톡: \\'더팩트제보\\' 검색▶이메일: jebo@tf.co.kr▶뉴스 홈페이지: http://talk.tf.co.kr/bbs/report/write\\n          \\n        ',\n",
              " ' \\n         \\n          \\n           \\n           \\n            /뉴스1\\n           \\n          \\n          (대전=뉴스1) 박찬수 기자 = 특허청은 산·학·연의 R&D 기획을 지원하기 위해 양자와 인공지능 분야에서 표준특허 선점이 필요한 유망기술 발굴에 착수한다고 20일 밝혔다. 표준특허는 표준화기구에서 정한 표준기술을 포함한 특허로, 관련 제품 생산에 필수적으로 사용되는 것이다. \\n          양자와 인공지능은 전 세계 산업 구조와 시장을 완전히 재편할 수 있는 파괴적 혁신 기술이다. 지난 8월 한-미-일 정상회담에서 논의된 3국간 글로벌 표준화 협력 대상 기술에도 포함됐다. 현재 여러 표준화 기구에서 이들 분야의 표준화가 논의되고 있으나, 아직은 초기 단계이다. \\n          표준특허 선점 시 관련 시장을 선도할 기회가 열리는 만큼 특허청은 표준특허 확보 관점에서 유망기술을 발굴해 산·학·연의 경쟁력 향상에 일조하겠다는 방침이다.\\n          유망기술 발굴은 표준과 특허정보의 종합적인 분석을 기반으로 이루어진다. 표준 반영 가능성, 우리나라의 특허 경쟁력 등 여러 지표를 활용한 종합적 평가를 바탕으로 산·학·연 전문가의 자문을 통해 R&D·표준화 현장의 시각을 더하는 방식으로 추진된다. \\n          특허청은 연말까지 유망기술을 도출하고 각 유망기술별 표준특허 확보 전략을 함께 실은 종합보고서를 발간할 예정이다. 보고서는 표준특허포털을 통해 배포할 계획이다. \\n          목성호 특허청 산업재산정책국장은 “양자와 인공지능은 미래 산업의 ‘게임체인저’로 불리는 만큼 표준특허를 선점해 시장 영향력을 키울 필요가 있다”며 “앞으로도 R&D 효율성 제고를 위한 지원을 계속 이어나갈 것”이라고 밝혔다.\\n          pcs4200@news1.kr \\n          \\n        ']"
            ]
          },
          "metadata": {},
          "execution_count": 19
        }
      ]
    },
    {
      "cell_type": "markdown",
      "source": [
        "#### 파일 저장"
      ],
      "metadata": {
        "id": "3Ot39Ut1rY75"
      }
    },
    {
      "cell_type": "code",
      "source": [
        "import pandas as pd\n",
        "news = pd.DataFrame({'주소': href, '본문': articles})\n",
        "news.to_excel('기사.xlsx')"
      ],
      "metadata": {
        "id": "C6gCM9xZrYft"
      },
      "execution_count": 20,
      "outputs": []
    },
    {
      "cell_type": "code",
      "source": [
        "# 기사 제목도 함께 긁어오기\n",
        "import tqdm.notebook\n",
        "titles = []\n",
        "articles = []\n",
        "for h in tqdm.notebook.tqdm(href):\n",
        "    res = requests.get(h)\n",
        "    root = lxml.html.fromstring(res.text)\n",
        "    ta = zip(root.cssselect('h3.tit_view'),\n",
        "             root.cssselect('div.article_view'))\n",
        "    for title, article in ta:\n",
        "        titles.append(title.text_content())\n",
        "        articles.append(article.text_content())"
      ],
      "metadata": {
        "colab": {
          "base_uri": "https://localhost:8080/",
          "height": 49,
          "referenced_widgets": [
            "5971a1a5102d4b1babfd6bf4f966f254",
            "10a1ff7a1f7649a4be1eb149b9b3d998",
            "0fb750983c5d48968d9cccd7ae41288b",
            "e0e63ac4bd9944eda1892bca45452acf",
            "b79d04d6169a4b98aba9b46b5974514e",
            "4404fcf8335740f0888dd10e7df7f915",
            "a3c85f081ec8424c9fed2ffd9000ba88",
            "bf38b02c6b1f40d0b5cbf4fcb67e3632",
            "bfedbdf0fec34a8d849cee8ed6fa6638",
            "5d8a805a5d444fd4a740c0b366edf49b",
            "712ee1605e1d44bc8309700b46a3d59e"
          ]
        },
        "id": "_U8NwIImtL2o",
        "outputId": "bd5d9bc3-f8d0-4a72-9238-3e65ef14df83"
      },
      "execution_count": 21,
      "outputs": [
        {
          "output_type": "display_data",
          "data": {
            "text/plain": [
              "  0%|          | 0/17 [00:00<?, ?it/s]"
            ],
            "application/vnd.jupyter.widget-view+json": {
              "version_major": 2,
              "version_minor": 0,
              "model_id": "5971a1a5102d4b1babfd6bf4f966f254"
            }
          },
          "metadata": {}
        }
      ]
    },
    {
      "cell_type": "code",
      "source": [
        "# 기사 제목까지 함께 파일로 저장\n",
        "import pandas as pd\n",
        "news = pd.DataFrame({'주소': href, '제목': titles, '본문': articles})\n",
        "news.to_excel('기사.xlsx')"
      ],
      "metadata": {
        "id": "E5ZdI6dltRQh"
      },
      "execution_count": 22,
      "outputs": []
    },
    {
      "cell_type": "code",
      "source": [
        "!pip install kiwipiepy"
      ],
      "metadata": {
        "colab": {
          "base_uri": "https://localhost:8080/"
        },
        "id": "DbfNF94Qtz8q",
        "outputId": "117fc01d-ce65-4688-acee-eafbb76ac426"
      },
      "execution_count": 23,
      "outputs": [
        {
          "output_type": "stream",
          "name": "stdout",
          "text": [
            "Collecting kiwipiepy\n",
            "  Downloading kiwipiepy-0.16.0-cp310-cp310-manylinux_2_17_x86_64.manylinux2014_x86_64.whl (2.6 MB)\n",
            "\u001b[2K     \u001b[90m━━━━━━━━━━━━━━━━━━━━━━━━━━━━━━━━━━━━━━━━\u001b[0m \u001b[32m2.6/2.6 MB\u001b[0m \u001b[31m24.3 MB/s\u001b[0m eta \u001b[36m0:00:00\u001b[0m\n",
            "\u001b[?25hCollecting kiwipiepy-model~=0.16 (from kiwipiepy)\n",
            "  Downloading kiwipiepy_model-0.16.0.tar.gz (30.8 MB)\n",
            "\u001b[2K     \u001b[90m━━━━━━━━━━━━━━━━━━━━━━━━━━━━━━━━━━━━━━━━\u001b[0m \u001b[32m30.8/30.8 MB\u001b[0m \u001b[31m48.2 MB/s\u001b[0m eta \u001b[36m0:00:00\u001b[0m\n",
            "\u001b[?25h  Preparing metadata (setup.py) ... \u001b[?25l\u001b[?25hdone\n",
            "Requirement already satisfied: numpy in /usr/local/lib/python3.10/dist-packages (from kiwipiepy) (1.23.5)\n",
            "Requirement already satisfied: tqdm in /usr/local/lib/python3.10/dist-packages (from kiwipiepy) (4.66.1)\n",
            "Building wheels for collected packages: kiwipiepy-model\n",
            "  Building wheel for kiwipiepy-model (setup.py) ... \u001b[?25l\u001b[?25hdone\n",
            "  Created wheel for kiwipiepy-model: filename=kiwipiepy_model-0.16.0-py3-none-any.whl size=30813255 sha256=a443c69171454132bd99fc22471599fa89f412ccf1bad4275d7a9d869948f4d2\n",
            "  Stored in directory: /root/.cache/pip/wheels/6b/03/2b/ac2c97cc65ebd9df3516f4b900adc2f0a744df8d1375b2e2ef\n",
            "Successfully built kiwipiepy-model\n",
            "Installing collected packages: kiwipiepy-model, kiwipiepy\n",
            "Successfully installed kiwipiepy-0.16.0 kiwipiepy-model-0.16.0\n"
          ]
        }
      ]
    },
    {
      "cell_type": "code",
      "source": [
        "# 1번 ppt p.276\n",
        "from kiwipiepy import Kiwi\n",
        "kiwi = Kiwi()\n",
        "kiwi.add_user_word('인공지능', 'NNG')"
      ],
      "metadata": {
        "colab": {
          "base_uri": "https://localhost:8080/"
        },
        "id": "0SA7Wfoft4CS",
        "outputId": "8d4c9dcc-66b4-4461-a437-123778a6d724"
      },
      "execution_count": 25,
      "outputs": [
        {
          "output_type": "execute_result",
          "data": {
            "text/plain": [
              "True"
            ]
          },
          "metadata": {},
          "execution_count": 25
        }
      ]
    },
    {
      "cell_type": "code",
      "source": [
        "def extract_nouns(text):\n",
        "    for token in kiwi.tokenize(text):\n",
        "        if token.tag in {'NNG', 'NNP'}:\n",
        "            yield token.form"
      ],
      "metadata": {
        "id": "RT-wuexquN3i"
      },
      "execution_count": 26,
      "outputs": []
    },
    {
      "cell_type": "code",
      "source": [
        "from sklearn.feature_extraction.text import CountVectorizer\n",
        "cv = CountVectorizer(max_features=100, tokenizer=extract_nouns)\n",
        "dtm = cv.fit_transform(news['본문'])\n",
        "word_count = pd.DataFrame({\n",
        "    '단어': cv.get_feature_names_out(),\n",
        "    '빈도': dtm.sum(axis=0).flat\n",
        "})"
      ],
      "metadata": {
        "colab": {
          "base_uri": "https://localhost:8080/"
        },
        "id": "ChazROmguw5i",
        "outputId": "495cf1cc-2530-494c-cb59-c2c2a4d35792"
      },
      "execution_count": 27,
      "outputs": [
        {
          "output_type": "stream",
          "name": "stderr",
          "text": [
            "/usr/local/lib/python3.10/dist-packages/sklearn/feature_extraction/text.py:528: UserWarning: The parameter 'token_pattern' will not be used since 'tokenizer' is not None'\n",
            "  warnings.warn(\n"
          ]
        }
      ]
    },
    {
      "cell_type": "code",
      "source": [
        "word_count.sort_values('빈도', ascending=False).head(20)"
      ],
      "metadata": {
        "id": "wipKJcQkuxwH"
      },
      "execution_count": null,
      "outputs": []
    },
    {
      "cell_type": "markdown",
      "source": [
        "### 텍스트 지도 학습"
      ],
      "metadata": {
        "id": "Fsrq_BO9vUu8"
      }
    },
    {
      "cell_type": "markdown",
      "source": [
        "#### 머신 러닝"
      ],
      "metadata": {
        "id": "gcR58nrJ4i0A"
      }
    },
    {
      "cell_type": "markdown",
      "source": [
        "**지도 학습(supervised learning)**\n",
        "\n",
        "X -> Y관계의 데이터에서 X로 Y를 예측\n",
        "\n",
        "X와 Y, 두 가지 데이터가 필요\n",
        "\n",
        "보통 X가 텍스트\n",
        "\n",
        "Y에 해당하는 데이터가 반드시 필요하나 구하기 어려울 수도 있음\n",
        "- 예: 맛집 리뷰(X) 가 진짜(Y) 인가\n",
        "\n",
        "**비지도 학습(unsupervised learning)**\n",
        "\n",
        "데이터(X) 자체의 내재된 패턴을 발견\n",
        "- 예: 유사한 고객 리뷰끼리 묶기(clustering)\n",
        "\n",
        "지도학습과 달리 데이터에 Y가 없음"
      ],
      "metadata": {
        "id": "nIOw9_nr4hZm"
      }
    },
    {
      "cell_type": "code",
      "source": [
        "import pandas as pd\n",
        "df = pd.read_excel('yelp.xlsx')\n",
        "df.head()"
      ],
      "metadata": {
        "colab": {
          "base_uri": "https://localhost:8080/",
          "height": 206
        },
        "id": "Gn0mqAnKu9rq",
        "outputId": "776cf741-f298-4d81-be8f-5bc14e87e306"
      },
      "execution_count": 29,
      "outputs": [
        {
          "output_type": "execute_result",
          "data": {
            "text/plain": [
              "                                              review  sentiment\n",
              "0                           Wow... Loved this place.          1\n",
              "1                                 Crust is not good.          0\n",
              "2          Not tasty and the texture was just nasty.          0\n",
              "3  Stopped by during the late May bank holiday of...          1\n",
              "4  The selection on the menu was great and so wer...          1"
            ],
            "text/html": [
              "\n",
              "  <div id=\"df-1d0c5e52-0a66-41a1-87fe-55d4606e3402\" class=\"colab-df-container\">\n",
              "    <div>\n",
              "<style scoped>\n",
              "    .dataframe tbody tr th:only-of-type {\n",
              "        vertical-align: middle;\n",
              "    }\n",
              "\n",
              "    .dataframe tbody tr th {\n",
              "        vertical-align: top;\n",
              "    }\n",
              "\n",
              "    .dataframe thead th {\n",
              "        text-align: right;\n",
              "    }\n",
              "</style>\n",
              "<table border=\"1\" class=\"dataframe\">\n",
              "  <thead>\n",
              "    <tr style=\"text-align: right;\">\n",
              "      <th></th>\n",
              "      <th>review</th>\n",
              "      <th>sentiment</th>\n",
              "    </tr>\n",
              "  </thead>\n",
              "  <tbody>\n",
              "    <tr>\n",
              "      <th>0</th>\n",
              "      <td>Wow... Loved this place.</td>\n",
              "      <td>1</td>\n",
              "    </tr>\n",
              "    <tr>\n",
              "      <th>1</th>\n",
              "      <td>Crust is not good.</td>\n",
              "      <td>0</td>\n",
              "    </tr>\n",
              "    <tr>\n",
              "      <th>2</th>\n",
              "      <td>Not tasty and the texture was just nasty.</td>\n",
              "      <td>0</td>\n",
              "    </tr>\n",
              "    <tr>\n",
              "      <th>3</th>\n",
              "      <td>Stopped by during the late May bank holiday of...</td>\n",
              "      <td>1</td>\n",
              "    </tr>\n",
              "    <tr>\n",
              "      <th>4</th>\n",
              "      <td>The selection on the menu was great and so wer...</td>\n",
              "      <td>1</td>\n",
              "    </tr>\n",
              "  </tbody>\n",
              "</table>\n",
              "</div>\n",
              "    <div class=\"colab-df-buttons\">\n",
              "\n",
              "  <div class=\"colab-df-container\">\n",
              "    <button class=\"colab-df-convert\" onclick=\"convertToInteractive('df-1d0c5e52-0a66-41a1-87fe-55d4606e3402')\"\n",
              "            title=\"Convert this dataframe to an interactive table.\"\n",
              "            style=\"display:none;\">\n",
              "\n",
              "  <svg xmlns=\"http://www.w3.org/2000/svg\" height=\"24px\" viewBox=\"0 -960 960 960\">\n",
              "    <path d=\"M120-120v-720h720v720H120Zm60-500h600v-160H180v160Zm220 220h160v-160H400v160Zm0 220h160v-160H400v160ZM180-400h160v-160H180v160Zm440 0h160v-160H620v160ZM180-180h160v-160H180v160Zm440 0h160v-160H620v160Z\"/>\n",
              "  </svg>\n",
              "    </button>\n",
              "\n",
              "  <style>\n",
              "    .colab-df-container {\n",
              "      display:flex;\n",
              "      gap: 12px;\n",
              "    }\n",
              "\n",
              "    .colab-df-convert {\n",
              "      background-color: #E8F0FE;\n",
              "      border: none;\n",
              "      border-radius: 50%;\n",
              "      cursor: pointer;\n",
              "      display: none;\n",
              "      fill: #1967D2;\n",
              "      height: 32px;\n",
              "      padding: 0 0 0 0;\n",
              "      width: 32px;\n",
              "    }\n",
              "\n",
              "    .colab-df-convert:hover {\n",
              "      background-color: #E2EBFA;\n",
              "      box-shadow: 0px 1px 2px rgba(60, 64, 67, 0.3), 0px 1px 3px 1px rgba(60, 64, 67, 0.15);\n",
              "      fill: #174EA6;\n",
              "    }\n",
              "\n",
              "    .colab-df-buttons div {\n",
              "      margin-bottom: 4px;\n",
              "    }\n",
              "\n",
              "    [theme=dark] .colab-df-convert {\n",
              "      background-color: #3B4455;\n",
              "      fill: #D2E3FC;\n",
              "    }\n",
              "\n",
              "    [theme=dark] .colab-df-convert:hover {\n",
              "      background-color: #434B5C;\n",
              "      box-shadow: 0px 1px 3px 1px rgba(0, 0, 0, 0.15);\n",
              "      filter: drop-shadow(0px 1px 2px rgba(0, 0, 0, 0.3));\n",
              "      fill: #FFFFFF;\n",
              "    }\n",
              "  </style>\n",
              "\n",
              "    <script>\n",
              "      const buttonEl =\n",
              "        document.querySelector('#df-1d0c5e52-0a66-41a1-87fe-55d4606e3402 button.colab-df-convert');\n",
              "      buttonEl.style.display =\n",
              "        google.colab.kernel.accessAllowed ? 'block' : 'none';\n",
              "\n",
              "      async function convertToInteractive(key) {\n",
              "        const element = document.querySelector('#df-1d0c5e52-0a66-41a1-87fe-55d4606e3402');\n",
              "        const dataTable =\n",
              "          await google.colab.kernel.invokeFunction('convertToInteractive',\n",
              "                                                    [key], {});\n",
              "        if (!dataTable) return;\n",
              "\n",
              "        const docLinkHtml = 'Like what you see? Visit the ' +\n",
              "          '<a target=\"_blank\" href=https://colab.research.google.com/notebooks/data_table.ipynb>data table notebook</a>'\n",
              "          + ' to learn more about interactive tables.';\n",
              "        element.innerHTML = '';\n",
              "        dataTable['output_type'] = 'display_data';\n",
              "        await google.colab.output.renderOutput(dataTable, element);\n",
              "        const docLink = document.createElement('div');\n",
              "        docLink.innerHTML = docLinkHtml;\n",
              "        element.appendChild(docLink);\n",
              "      }\n",
              "    </script>\n",
              "  </div>\n",
              "\n",
              "\n",
              "<div id=\"df-3df0b9b7-57b4-4557-970c-a7e934fc11fa\">\n",
              "  <button class=\"colab-df-quickchart\" onclick=\"quickchart('df-3df0b9b7-57b4-4557-970c-a7e934fc11fa')\"\n",
              "            title=\"Suggest charts.\"\n",
              "            style=\"display:none;\">\n",
              "\n",
              "<svg xmlns=\"http://www.w3.org/2000/svg\" height=\"24px\"viewBox=\"0 0 24 24\"\n",
              "     width=\"24px\">\n",
              "    <g>\n",
              "        <path d=\"M19 3H5c-1.1 0-2 .9-2 2v14c0 1.1.9 2 2 2h14c1.1 0 2-.9 2-2V5c0-1.1-.9-2-2-2zM9 17H7v-7h2v7zm4 0h-2V7h2v10zm4 0h-2v-4h2v4z\"/>\n",
              "    </g>\n",
              "</svg>\n",
              "  </button>\n",
              "\n",
              "<style>\n",
              "  .colab-df-quickchart {\n",
              "      --bg-color: #E8F0FE;\n",
              "      --fill-color: #1967D2;\n",
              "      --hover-bg-color: #E2EBFA;\n",
              "      --hover-fill-color: #174EA6;\n",
              "      --disabled-fill-color: #AAA;\n",
              "      --disabled-bg-color: #DDD;\n",
              "  }\n",
              "\n",
              "  [theme=dark] .colab-df-quickchart {\n",
              "      --bg-color: #3B4455;\n",
              "      --fill-color: #D2E3FC;\n",
              "      --hover-bg-color: #434B5C;\n",
              "      --hover-fill-color: #FFFFFF;\n",
              "      --disabled-bg-color: #3B4455;\n",
              "      --disabled-fill-color: #666;\n",
              "  }\n",
              "\n",
              "  .colab-df-quickchart {\n",
              "    background-color: var(--bg-color);\n",
              "    border: none;\n",
              "    border-radius: 50%;\n",
              "    cursor: pointer;\n",
              "    display: none;\n",
              "    fill: var(--fill-color);\n",
              "    height: 32px;\n",
              "    padding: 0;\n",
              "    width: 32px;\n",
              "  }\n",
              "\n",
              "  .colab-df-quickchart:hover {\n",
              "    background-color: var(--hover-bg-color);\n",
              "    box-shadow: 0 1px 2px rgba(60, 64, 67, 0.3), 0 1px 3px 1px rgba(60, 64, 67, 0.15);\n",
              "    fill: var(--button-hover-fill-color);\n",
              "  }\n",
              "\n",
              "  .colab-df-quickchart-complete:disabled,\n",
              "  .colab-df-quickchart-complete:disabled:hover {\n",
              "    background-color: var(--disabled-bg-color);\n",
              "    fill: var(--disabled-fill-color);\n",
              "    box-shadow: none;\n",
              "  }\n",
              "\n",
              "  .colab-df-spinner {\n",
              "    border: 2px solid var(--fill-color);\n",
              "    border-color: transparent;\n",
              "    border-bottom-color: var(--fill-color);\n",
              "    animation:\n",
              "      spin 1s steps(1) infinite;\n",
              "  }\n",
              "\n",
              "  @keyframes spin {\n",
              "    0% {\n",
              "      border-color: transparent;\n",
              "      border-bottom-color: var(--fill-color);\n",
              "      border-left-color: var(--fill-color);\n",
              "    }\n",
              "    20% {\n",
              "      border-color: transparent;\n",
              "      border-left-color: var(--fill-color);\n",
              "      border-top-color: var(--fill-color);\n",
              "    }\n",
              "    30% {\n",
              "      border-color: transparent;\n",
              "      border-left-color: var(--fill-color);\n",
              "      border-top-color: var(--fill-color);\n",
              "      border-right-color: var(--fill-color);\n",
              "    }\n",
              "    40% {\n",
              "      border-color: transparent;\n",
              "      border-right-color: var(--fill-color);\n",
              "      border-top-color: var(--fill-color);\n",
              "    }\n",
              "    60% {\n",
              "      border-color: transparent;\n",
              "      border-right-color: var(--fill-color);\n",
              "    }\n",
              "    80% {\n",
              "      border-color: transparent;\n",
              "      border-right-color: var(--fill-color);\n",
              "      border-bottom-color: var(--fill-color);\n",
              "    }\n",
              "    90% {\n",
              "      border-color: transparent;\n",
              "      border-bottom-color: var(--fill-color);\n",
              "    }\n",
              "  }\n",
              "</style>\n",
              "\n",
              "  <script>\n",
              "    async function quickchart(key) {\n",
              "      const quickchartButtonEl =\n",
              "        document.querySelector('#' + key + ' button');\n",
              "      quickchartButtonEl.disabled = true;  // To prevent multiple clicks.\n",
              "      quickchartButtonEl.classList.add('colab-df-spinner');\n",
              "      try {\n",
              "        const charts = await google.colab.kernel.invokeFunction(\n",
              "            'suggestCharts', [key], {});\n",
              "      } catch (error) {\n",
              "        console.error('Error during call to suggestCharts:', error);\n",
              "      }\n",
              "      quickchartButtonEl.classList.remove('colab-df-spinner');\n",
              "      quickchartButtonEl.classList.add('colab-df-quickchart-complete');\n",
              "    }\n",
              "    (() => {\n",
              "      let quickchartButtonEl =\n",
              "        document.querySelector('#df-3df0b9b7-57b4-4557-970c-a7e934fc11fa button');\n",
              "      quickchartButtonEl.style.display =\n",
              "        google.colab.kernel.accessAllowed ? 'block' : 'none';\n",
              "    })();\n",
              "  </script>\n",
              "</div>\n",
              "    </div>\n",
              "  </div>\n"
            ]
          },
          "metadata": {},
          "execution_count": 29
        }
      ]
    },
    {
      "cell_type": "code",
      "source": [
        "from sklearn.feature_extraction.text import CountVectorizer\n",
        "cv = CountVectorizer(max_features=1000, stop_words='english')\n",
        "dtm = cv.fit_transform(df.review)"
      ],
      "metadata": {
        "id": "cFgXGmmD4bsB"
      },
      "execution_count": 30,
      "outputs": []
    },
    {
      "cell_type": "code",
      "source": [
        "x = dtm\n",
        "y = df.sentiment"
      ],
      "metadata": {
        "id": "4xyAhEGo4dv0"
      },
      "execution_count": 31,
      "outputs": []
    },
    {
      "cell_type": "markdown",
      "source": [
        "#### 감성분석 실습 : 데이터 분할\n",
        "\n",
        "데이터를 훈련(training) 데이터와 테스트(test) 데이터로 분할\n",
        "\n",
        "훈련 데이터만을 모형에 적합 → 테스트 데이터로 평가\n",
        "- 과소적합의 경우: 훈련 결과도, 테스트 결과도 나쁨\n",
        "- 과대적합의 경우: 훈련 결과는 좋지만, 테스트 결과가 나쁨"
      ],
      "metadata": {
        "id": "LEYjsTjx57Kp"
      }
    },
    {
      "cell_type": "code",
      "source": [
        "from sklearn.model_selection import train_test_split\n",
        "x_train, x_test, y_train, y_test = train_test_split(\n",
        "    x,\n",
        "    y,\n",
        "    test_size=0.2, # 20%의 데이터를 테스트용으로 유보\n",
        "    random_state=42) # 유사난수의 씨앗값 seed을 42로 설정"
      ],
      "metadata": {
        "id": "QgJfxWE254Q9"
      },
      "execution_count": 32,
      "outputs": []
    },
    {
      "cell_type": "code",
      "source": [
        "y_train"
      ],
      "metadata": {
        "colab": {
          "base_uri": "https://localhost:8080/"
        },
        "id": "uKzoXVUk6Fp3",
        "outputId": "f88d1fb8-aa89-4914-a0fa-b2b67c3e4ad5"
      },
      "execution_count": 33,
      "outputs": [
        {
          "output_type": "execute_result",
          "data": {
            "text/plain": [
              "29     0\n",
              "535    1\n",
              "695    0\n",
              "557    0\n",
              "836    1\n",
              "      ..\n",
              "106    1\n",
              "270    1\n",
              "860    1\n",
              "435    0\n",
              "102    1\n",
              "Name: sentiment, Length: 800, dtype: int64"
            ]
          },
          "metadata": {},
          "execution_count": 33
        }
      ]
    },
    {
      "cell_type": "markdown",
      "source": [
        "#### 정칙화(regularization)\n",
        "과대적합을 막기 위한 방법들\n",
        "\n",
        "w와 과대적합\n",
        "- 기본적인 로지스틱 회귀분석은 교차 엔트로피를 가장 작게 만드는 파라미터 w를 추정\n",
        "- w가 너무 커지면서 함수의 형태가 불규칙 → 과대적합\n",
        "\n",
        "정칙화\n",
        "- 손실함수 𝐽 (𝑤) 에 파라미터의 크기(norm)를 추가\n",
        "- 가능한 작은 파라미터로 손실을 낮추도록 학습\n",
        "- 함수형의 형태를 규칙적으로(=regular) 만들어 과대적합을 억제\n",
        "\n",
        "종류\n",
        "- 라쏘(lasso, L1) : 제약조건을 사각형으로 줌(p.163 참고)\n",
        "- 릿지(ridge, L2) : 제약조건을 원형으로 줌\n",
        "- 엘라스틱넷(elastic net) : 라쏘 + 릿지"
      ],
      "metadata": {
        "id": "ZoJS6bFI69qw"
      }
    },
    {
      "cell_type": "markdown",
      "source": [
        "#### 엘라스틱 넷\n",
        "\n",
        "𝜆 : L1 L1과 L2 norm 중 L1의 반영 비율 (0<= 𝜆 <=1)\n",
        "\n",
        "𝐶 : 정칙화의 강도를 결정\n",
        "\n",
        "L1은 일부 파라미터를 0으로 만드는 경향이 있음\n",
        "\n",
        "- 어떤 단어가 많고 적게 나오든지 긍/부정과는 무관\n",
        "\n",
        "- 성능은 L2가 좋음\n",
        "\n",
        "- L1과 L2의 비율을 정해야 함"
      ],
      "metadata": {
        "id": "C2gYebKV71sd"
      }
    },
    {
      "cell_type": "code",
      "source": [
        "from sklearn.linear_model import LogisticRegressionCV\n",
        "model = LogisticRegressionCV(\n",
        "    penalty='elasticnet', solver='saga', random_state=42,\n",
        "    Cs=[0.1, 1, 10], l1_ratios=[0, 0.5, 1], max_iter=4000)\n",
        "model.fit(x_train, y_train)"
      ],
      "metadata": {
        "colab": {
          "base_uri": "https://localhost:8080/",
          "height": 92
        },
        "id": "OiH-gwfg8k-l",
        "outputId": "2f8fc38c-0e2d-4c9f-f0ff-ece5da7ad80a"
      },
      "execution_count": 34,
      "outputs": [
        {
          "output_type": "execute_result",
          "data": {
            "text/plain": [
              "LogisticRegressionCV(Cs=[0.1, 1, 10], l1_ratios=[0, 0.5, 1], max_iter=4000,\n",
              "                     penalty='elasticnet', random_state=42, solver='saga')"
            ],
            "text/html": [
              "<style>#sk-container-id-1 {color: black;background-color: white;}#sk-container-id-1 pre{padding: 0;}#sk-container-id-1 div.sk-toggleable {background-color: white;}#sk-container-id-1 label.sk-toggleable__label {cursor: pointer;display: block;width: 100%;margin-bottom: 0;padding: 0.3em;box-sizing: border-box;text-align: center;}#sk-container-id-1 label.sk-toggleable__label-arrow:before {content: \"▸\";float: left;margin-right: 0.25em;color: #696969;}#sk-container-id-1 label.sk-toggleable__label-arrow:hover:before {color: black;}#sk-container-id-1 div.sk-estimator:hover label.sk-toggleable__label-arrow:before {color: black;}#sk-container-id-1 div.sk-toggleable__content {max-height: 0;max-width: 0;overflow: hidden;text-align: left;background-color: #f0f8ff;}#sk-container-id-1 div.sk-toggleable__content pre {margin: 0.2em;color: black;border-radius: 0.25em;background-color: #f0f8ff;}#sk-container-id-1 input.sk-toggleable__control:checked~div.sk-toggleable__content {max-height: 200px;max-width: 100%;overflow: auto;}#sk-container-id-1 input.sk-toggleable__control:checked~label.sk-toggleable__label-arrow:before {content: \"▾\";}#sk-container-id-1 div.sk-estimator input.sk-toggleable__control:checked~label.sk-toggleable__label {background-color: #d4ebff;}#sk-container-id-1 div.sk-label input.sk-toggleable__control:checked~label.sk-toggleable__label {background-color: #d4ebff;}#sk-container-id-1 input.sk-hidden--visually {border: 0;clip: rect(1px 1px 1px 1px);clip: rect(1px, 1px, 1px, 1px);height: 1px;margin: -1px;overflow: hidden;padding: 0;position: absolute;width: 1px;}#sk-container-id-1 div.sk-estimator {font-family: monospace;background-color: #f0f8ff;border: 1px dotted black;border-radius: 0.25em;box-sizing: border-box;margin-bottom: 0.5em;}#sk-container-id-1 div.sk-estimator:hover {background-color: #d4ebff;}#sk-container-id-1 div.sk-parallel-item::after {content: \"\";width: 100%;border-bottom: 1px solid gray;flex-grow: 1;}#sk-container-id-1 div.sk-label:hover label.sk-toggleable__label {background-color: #d4ebff;}#sk-container-id-1 div.sk-serial::before {content: \"\";position: absolute;border-left: 1px solid gray;box-sizing: border-box;top: 0;bottom: 0;left: 50%;z-index: 0;}#sk-container-id-1 div.sk-serial {display: flex;flex-direction: column;align-items: center;background-color: white;padding-right: 0.2em;padding-left: 0.2em;position: relative;}#sk-container-id-1 div.sk-item {position: relative;z-index: 1;}#sk-container-id-1 div.sk-parallel {display: flex;align-items: stretch;justify-content: center;background-color: white;position: relative;}#sk-container-id-1 div.sk-item::before, #sk-container-id-1 div.sk-parallel-item::before {content: \"\";position: absolute;border-left: 1px solid gray;box-sizing: border-box;top: 0;bottom: 0;left: 50%;z-index: -1;}#sk-container-id-1 div.sk-parallel-item {display: flex;flex-direction: column;z-index: 1;position: relative;background-color: white;}#sk-container-id-1 div.sk-parallel-item:first-child::after {align-self: flex-end;width: 50%;}#sk-container-id-1 div.sk-parallel-item:last-child::after {align-self: flex-start;width: 50%;}#sk-container-id-1 div.sk-parallel-item:only-child::after {width: 0;}#sk-container-id-1 div.sk-dashed-wrapped {border: 1px dashed gray;margin: 0 0.4em 0.5em 0.4em;box-sizing: border-box;padding-bottom: 0.4em;background-color: white;}#sk-container-id-1 div.sk-label label {font-family: monospace;font-weight: bold;display: inline-block;line-height: 1.2em;}#sk-container-id-1 div.sk-label-container {text-align: center;}#sk-container-id-1 div.sk-container {/* jupyter's `normalize.less` sets `[hidden] { display: none; }` but bootstrap.min.css set `[hidden] { display: none !important; }` so we also need the `!important` here to be able to override the default hidden behavior on the sphinx rendered scikit-learn.org. See: https://github.com/scikit-learn/scikit-learn/issues/21755 */display: inline-block !important;position: relative;}#sk-container-id-1 div.sk-text-repr-fallback {display: none;}</style><div id=\"sk-container-id-1\" class=\"sk-top-container\"><div class=\"sk-text-repr-fallback\"><pre>LogisticRegressionCV(Cs=[0.1, 1, 10], l1_ratios=[0, 0.5, 1], max_iter=4000,\n",
              "                     penalty=&#x27;elasticnet&#x27;, random_state=42, solver=&#x27;saga&#x27;)</pre><b>In a Jupyter environment, please rerun this cell to show the HTML representation or trust the notebook. <br />On GitHub, the HTML representation is unable to render, please try loading this page with nbviewer.org.</b></div><div class=\"sk-container\" hidden><div class=\"sk-item\"><div class=\"sk-estimator sk-toggleable\"><input class=\"sk-toggleable__control sk-hidden--visually\" id=\"sk-estimator-id-1\" type=\"checkbox\" checked><label for=\"sk-estimator-id-1\" class=\"sk-toggleable__label sk-toggleable__label-arrow\">LogisticRegressionCV</label><div class=\"sk-toggleable__content\"><pre>LogisticRegressionCV(Cs=[0.1, 1, 10], l1_ratios=[0, 0.5, 1], max_iter=4000,\n",
              "                     penalty=&#x27;elasticnet&#x27;, random_state=42, solver=&#x27;saga&#x27;)</pre></div></div></div></div></div>"
            ]
          },
          "metadata": {},
          "execution_count": 34
        }
      ]
    },
    {
      "cell_type": "code",
      "source": [
        "# 1일때가 가장 좋더라\n",
        "model.C_"
      ],
      "metadata": {
        "colab": {
          "base_uri": "https://localhost:8080/"
        },
        "id": "NxH56Nv09B7Y",
        "outputId": "f737c666-dd32-4e39-db3d-26c2bc8457b5"
      },
      "execution_count": 35,
      "outputs": [
        {
          "output_type": "execute_result",
          "data": {
            "text/plain": [
              "array([1.])"
            ]
          },
          "metadata": {},
          "execution_count": 35
        }
      ]
    },
    {
      "cell_type": "code",
      "source": [
        "# L1_ratio가 0일 때 가장 적합하다 = 원일 때 적합하다\n",
        "model.l1_ratio_   # ratio : 비율"
      ],
      "metadata": {
        "colab": {
          "base_uri": "https://localhost:8080/"
        },
        "id": "9sEsPmVp9HRz",
        "outputId": "dd540e48-8db9-457d-815e-b8650fe4659f"
      },
      "execution_count": 37,
      "outputs": [
        {
          "output_type": "execute_result",
          "data": {
            "text/plain": [
              "array([0])"
            ]
          },
          "metadata": {},
          "execution_count": 37
        }
      ]
    },
    {
      "cell_type": "code",
      "source": [
        "model.score(x_train, y_train)"
      ],
      "metadata": {
        "colab": {
          "base_uri": "https://localhost:8080/"
        },
        "id": "T0nZyFKm9pxE",
        "outputId": "67119090-3b35-43fc-c662-2106d5a50c76"
      },
      "execution_count": 39,
      "outputs": [
        {
          "output_type": "execute_result",
          "data": {
            "text/plain": [
              "0.94125"
            ]
          },
          "metadata": {},
          "execution_count": 39
        }
      ]
    },
    {
      "cell_type": "code",
      "source": [
        "model.score(x_test, y_test)"
      ],
      "metadata": {
        "colab": {
          "base_uri": "https://localhost:8080/"
        },
        "id": "sAEc2vOv9sPw",
        "outputId": "373014fa-787c-4ee6-a339-f2bb53366b3b"
      },
      "execution_count": 40,
      "outputs": [
        {
          "output_type": "execute_result",
          "data": {
            "text/plain": [
              "0.76"
            ]
          },
          "metadata": {},
          "execution_count": 40
        }
      ]
    },
    {
      "cell_type": "code",
      "source": [
        "# 단어별 가중치\n",
        "word_coef = pd.DataFrame({\n",
        "    '단어': cv.get_feature_names_out(),\n",
        "    '가중치': model.coef_.flat\n",
        "})"
      ],
      "metadata": {
        "id": "oW294Aci-rPw"
      },
      "execution_count": 41,
      "outputs": []
    },
    {
      "cell_type": "code",
      "source": [
        "# 긍정 단어\n",
        "word_coef.sort_values('가중치').tail(10)"
      ],
      "metadata": {
        "colab": {
          "base_uri": "https://localhost:8080/",
          "height": 363
        },
        "id": "DpOPsLnQ_EYO",
        "outputId": "7552c72c-47e1-40dd-b7f1-bc39d20fd28d"
      },
      "execution_count": 42,
      "outputs": [
        {
          "output_type": "execute_result",
          "data": {
            "text/plain": [
              "            단어       가중치\n",
              "208  excellent  1.340621\n",
              "221  fantastic  1.439516\n",
              "250   friendly  1.524526\n",
              "364       love  1.525609\n",
              "265       good  1.532660\n",
              "409       nice  1.555230\n",
              "32     awesome  1.714438\n",
              "12     amazing  1.779166\n",
              "153  delicious  2.201475\n",
              "268      great  2.867876"
            ],
            "text/html": [
              "\n",
              "  <div id=\"df-d1e1cfc1-d209-465d-b71e-4cf72e822779\" class=\"colab-df-container\">\n",
              "    <div>\n",
              "<style scoped>\n",
              "    .dataframe tbody tr th:only-of-type {\n",
              "        vertical-align: middle;\n",
              "    }\n",
              "\n",
              "    .dataframe tbody tr th {\n",
              "        vertical-align: top;\n",
              "    }\n",
              "\n",
              "    .dataframe thead th {\n",
              "        text-align: right;\n",
              "    }\n",
              "</style>\n",
              "<table border=\"1\" class=\"dataframe\">\n",
              "  <thead>\n",
              "    <tr style=\"text-align: right;\">\n",
              "      <th></th>\n",
              "      <th>단어</th>\n",
              "      <th>가중치</th>\n",
              "    </tr>\n",
              "  </thead>\n",
              "  <tbody>\n",
              "    <tr>\n",
              "      <th>208</th>\n",
              "      <td>excellent</td>\n",
              "      <td>1.340621</td>\n",
              "    </tr>\n",
              "    <tr>\n",
              "      <th>221</th>\n",
              "      <td>fantastic</td>\n",
              "      <td>1.439516</td>\n",
              "    </tr>\n",
              "    <tr>\n",
              "      <th>250</th>\n",
              "      <td>friendly</td>\n",
              "      <td>1.524526</td>\n",
              "    </tr>\n",
              "    <tr>\n",
              "      <th>364</th>\n",
              "      <td>love</td>\n",
              "      <td>1.525609</td>\n",
              "    </tr>\n",
              "    <tr>\n",
              "      <th>265</th>\n",
              "      <td>good</td>\n",
              "      <td>1.532660</td>\n",
              "    </tr>\n",
              "    <tr>\n",
              "      <th>409</th>\n",
              "      <td>nice</td>\n",
              "      <td>1.555230</td>\n",
              "    </tr>\n",
              "    <tr>\n",
              "      <th>32</th>\n",
              "      <td>awesome</td>\n",
              "      <td>1.714438</td>\n",
              "    </tr>\n",
              "    <tr>\n",
              "      <th>12</th>\n",
              "      <td>amazing</td>\n",
              "      <td>1.779166</td>\n",
              "    </tr>\n",
              "    <tr>\n",
              "      <th>153</th>\n",
              "      <td>delicious</td>\n",
              "      <td>2.201475</td>\n",
              "    </tr>\n",
              "    <tr>\n",
              "      <th>268</th>\n",
              "      <td>great</td>\n",
              "      <td>2.867876</td>\n",
              "    </tr>\n",
              "  </tbody>\n",
              "</table>\n",
              "</div>\n",
              "    <div class=\"colab-df-buttons\">\n",
              "\n",
              "  <div class=\"colab-df-container\">\n",
              "    <button class=\"colab-df-convert\" onclick=\"convertToInteractive('df-d1e1cfc1-d209-465d-b71e-4cf72e822779')\"\n",
              "            title=\"Convert this dataframe to an interactive table.\"\n",
              "            style=\"display:none;\">\n",
              "\n",
              "  <svg xmlns=\"http://www.w3.org/2000/svg\" height=\"24px\" viewBox=\"0 -960 960 960\">\n",
              "    <path d=\"M120-120v-720h720v720H120Zm60-500h600v-160H180v160Zm220 220h160v-160H400v160Zm0 220h160v-160H400v160ZM180-400h160v-160H180v160Zm440 0h160v-160H620v160ZM180-180h160v-160H180v160Zm440 0h160v-160H620v160Z\"/>\n",
              "  </svg>\n",
              "    </button>\n",
              "\n",
              "  <style>\n",
              "    .colab-df-container {\n",
              "      display:flex;\n",
              "      gap: 12px;\n",
              "    }\n",
              "\n",
              "    .colab-df-convert {\n",
              "      background-color: #E8F0FE;\n",
              "      border: none;\n",
              "      border-radius: 50%;\n",
              "      cursor: pointer;\n",
              "      display: none;\n",
              "      fill: #1967D2;\n",
              "      height: 32px;\n",
              "      padding: 0 0 0 0;\n",
              "      width: 32px;\n",
              "    }\n",
              "\n",
              "    .colab-df-convert:hover {\n",
              "      background-color: #E2EBFA;\n",
              "      box-shadow: 0px 1px 2px rgba(60, 64, 67, 0.3), 0px 1px 3px 1px rgba(60, 64, 67, 0.15);\n",
              "      fill: #174EA6;\n",
              "    }\n",
              "\n",
              "    .colab-df-buttons div {\n",
              "      margin-bottom: 4px;\n",
              "    }\n",
              "\n",
              "    [theme=dark] .colab-df-convert {\n",
              "      background-color: #3B4455;\n",
              "      fill: #D2E3FC;\n",
              "    }\n",
              "\n",
              "    [theme=dark] .colab-df-convert:hover {\n",
              "      background-color: #434B5C;\n",
              "      box-shadow: 0px 1px 3px 1px rgba(0, 0, 0, 0.15);\n",
              "      filter: drop-shadow(0px 1px 2px rgba(0, 0, 0, 0.3));\n",
              "      fill: #FFFFFF;\n",
              "    }\n",
              "  </style>\n",
              "\n",
              "    <script>\n",
              "      const buttonEl =\n",
              "        document.querySelector('#df-d1e1cfc1-d209-465d-b71e-4cf72e822779 button.colab-df-convert');\n",
              "      buttonEl.style.display =\n",
              "        google.colab.kernel.accessAllowed ? 'block' : 'none';\n",
              "\n",
              "      async function convertToInteractive(key) {\n",
              "        const element = document.querySelector('#df-d1e1cfc1-d209-465d-b71e-4cf72e822779');\n",
              "        const dataTable =\n",
              "          await google.colab.kernel.invokeFunction('convertToInteractive',\n",
              "                                                    [key], {});\n",
              "        if (!dataTable) return;\n",
              "\n",
              "        const docLinkHtml = 'Like what you see? Visit the ' +\n",
              "          '<a target=\"_blank\" href=https://colab.research.google.com/notebooks/data_table.ipynb>data table notebook</a>'\n",
              "          + ' to learn more about interactive tables.';\n",
              "        element.innerHTML = '';\n",
              "        dataTable['output_type'] = 'display_data';\n",
              "        await google.colab.output.renderOutput(dataTable, element);\n",
              "        const docLink = document.createElement('div');\n",
              "        docLink.innerHTML = docLinkHtml;\n",
              "        element.appendChild(docLink);\n",
              "      }\n",
              "    </script>\n",
              "  </div>\n",
              "\n",
              "\n",
              "<div id=\"df-b0c15a0d-c2fd-40c9-a6a0-e871c2a6a1c7\">\n",
              "  <button class=\"colab-df-quickchart\" onclick=\"quickchart('df-b0c15a0d-c2fd-40c9-a6a0-e871c2a6a1c7')\"\n",
              "            title=\"Suggest charts.\"\n",
              "            style=\"display:none;\">\n",
              "\n",
              "<svg xmlns=\"http://www.w3.org/2000/svg\" height=\"24px\"viewBox=\"0 0 24 24\"\n",
              "     width=\"24px\">\n",
              "    <g>\n",
              "        <path d=\"M19 3H5c-1.1 0-2 .9-2 2v14c0 1.1.9 2 2 2h14c1.1 0 2-.9 2-2V5c0-1.1-.9-2-2-2zM9 17H7v-7h2v7zm4 0h-2V7h2v10zm4 0h-2v-4h2v4z\"/>\n",
              "    </g>\n",
              "</svg>\n",
              "  </button>\n",
              "\n",
              "<style>\n",
              "  .colab-df-quickchart {\n",
              "      --bg-color: #E8F0FE;\n",
              "      --fill-color: #1967D2;\n",
              "      --hover-bg-color: #E2EBFA;\n",
              "      --hover-fill-color: #174EA6;\n",
              "      --disabled-fill-color: #AAA;\n",
              "      --disabled-bg-color: #DDD;\n",
              "  }\n",
              "\n",
              "  [theme=dark] .colab-df-quickchart {\n",
              "      --bg-color: #3B4455;\n",
              "      --fill-color: #D2E3FC;\n",
              "      --hover-bg-color: #434B5C;\n",
              "      --hover-fill-color: #FFFFFF;\n",
              "      --disabled-bg-color: #3B4455;\n",
              "      --disabled-fill-color: #666;\n",
              "  }\n",
              "\n",
              "  .colab-df-quickchart {\n",
              "    background-color: var(--bg-color);\n",
              "    border: none;\n",
              "    border-radius: 50%;\n",
              "    cursor: pointer;\n",
              "    display: none;\n",
              "    fill: var(--fill-color);\n",
              "    height: 32px;\n",
              "    padding: 0;\n",
              "    width: 32px;\n",
              "  }\n",
              "\n",
              "  .colab-df-quickchart:hover {\n",
              "    background-color: var(--hover-bg-color);\n",
              "    box-shadow: 0 1px 2px rgba(60, 64, 67, 0.3), 0 1px 3px 1px rgba(60, 64, 67, 0.15);\n",
              "    fill: var(--button-hover-fill-color);\n",
              "  }\n",
              "\n",
              "  .colab-df-quickchart-complete:disabled,\n",
              "  .colab-df-quickchart-complete:disabled:hover {\n",
              "    background-color: var(--disabled-bg-color);\n",
              "    fill: var(--disabled-fill-color);\n",
              "    box-shadow: none;\n",
              "  }\n",
              "\n",
              "  .colab-df-spinner {\n",
              "    border: 2px solid var(--fill-color);\n",
              "    border-color: transparent;\n",
              "    border-bottom-color: var(--fill-color);\n",
              "    animation:\n",
              "      spin 1s steps(1) infinite;\n",
              "  }\n",
              "\n",
              "  @keyframes spin {\n",
              "    0% {\n",
              "      border-color: transparent;\n",
              "      border-bottom-color: var(--fill-color);\n",
              "      border-left-color: var(--fill-color);\n",
              "    }\n",
              "    20% {\n",
              "      border-color: transparent;\n",
              "      border-left-color: var(--fill-color);\n",
              "      border-top-color: var(--fill-color);\n",
              "    }\n",
              "    30% {\n",
              "      border-color: transparent;\n",
              "      border-left-color: var(--fill-color);\n",
              "      border-top-color: var(--fill-color);\n",
              "      border-right-color: var(--fill-color);\n",
              "    }\n",
              "    40% {\n",
              "      border-color: transparent;\n",
              "      border-right-color: var(--fill-color);\n",
              "      border-top-color: var(--fill-color);\n",
              "    }\n",
              "    60% {\n",
              "      border-color: transparent;\n",
              "      border-right-color: var(--fill-color);\n",
              "    }\n",
              "    80% {\n",
              "      border-color: transparent;\n",
              "      border-right-color: var(--fill-color);\n",
              "      border-bottom-color: var(--fill-color);\n",
              "    }\n",
              "    90% {\n",
              "      border-color: transparent;\n",
              "      border-bottom-color: var(--fill-color);\n",
              "    }\n",
              "  }\n",
              "</style>\n",
              "\n",
              "  <script>\n",
              "    async function quickchart(key) {\n",
              "      const quickchartButtonEl =\n",
              "        document.querySelector('#' + key + ' button');\n",
              "      quickchartButtonEl.disabled = true;  // To prevent multiple clicks.\n",
              "      quickchartButtonEl.classList.add('colab-df-spinner');\n",
              "      try {\n",
              "        const charts = await google.colab.kernel.invokeFunction(\n",
              "            'suggestCharts', [key], {});\n",
              "      } catch (error) {\n",
              "        console.error('Error during call to suggestCharts:', error);\n",
              "      }\n",
              "      quickchartButtonEl.classList.remove('colab-df-spinner');\n",
              "      quickchartButtonEl.classList.add('colab-df-quickchart-complete');\n",
              "    }\n",
              "    (() => {\n",
              "      let quickchartButtonEl =\n",
              "        document.querySelector('#df-b0c15a0d-c2fd-40c9-a6a0-e871c2a6a1c7 button');\n",
              "      quickchartButtonEl.style.display =\n",
              "        google.colab.kernel.accessAllowed ? 'block' : 'none';\n",
              "    })();\n",
              "  </script>\n",
              "</div>\n",
              "    </div>\n",
              "  </div>\n"
            ]
          },
          "metadata": {},
          "execution_count": 42
        }
      ]
    },
    {
      "cell_type": "code",
      "source": [
        "# 부정 단어\n",
        "word_coef.sort_values('가중치').head(10)"
      ],
      "metadata": {
        "colab": {
          "base_uri": "https://localhost:8080/",
          "height": 363
        },
        "id": "9FhRf3wD_KAX",
        "outputId": "246342d9-cdf1-4d58-9b88-a197663747d6"
      },
      "execution_count": 43,
      "outputs": [
        {
          "output_type": "execute_result",
          "data": {
            "text/plain": [
              "                단어       가중치\n",
              "37             bad -1.448292\n",
              "179            don -1.397359\n",
              "65           bland -1.274375\n",
              "939           wasn -1.225014\n",
              "392        minutes -1.177965\n",
              "977          worst -1.146635\n",
              "607           rude -1.040134\n",
              "889  unfortunately -1.039067\n",
              "703           slow -1.036536\n",
              "546       probably -1.015125"
            ],
            "text/html": [
              "\n",
              "  <div id=\"df-4c91525f-a46d-4533-8724-28befc6be625\" class=\"colab-df-container\">\n",
              "    <div>\n",
              "<style scoped>\n",
              "    .dataframe tbody tr th:only-of-type {\n",
              "        vertical-align: middle;\n",
              "    }\n",
              "\n",
              "    .dataframe tbody tr th {\n",
              "        vertical-align: top;\n",
              "    }\n",
              "\n",
              "    .dataframe thead th {\n",
              "        text-align: right;\n",
              "    }\n",
              "</style>\n",
              "<table border=\"1\" class=\"dataframe\">\n",
              "  <thead>\n",
              "    <tr style=\"text-align: right;\">\n",
              "      <th></th>\n",
              "      <th>단어</th>\n",
              "      <th>가중치</th>\n",
              "    </tr>\n",
              "  </thead>\n",
              "  <tbody>\n",
              "    <tr>\n",
              "      <th>37</th>\n",
              "      <td>bad</td>\n",
              "      <td>-1.448292</td>\n",
              "    </tr>\n",
              "    <tr>\n",
              "      <th>179</th>\n",
              "      <td>don</td>\n",
              "      <td>-1.397359</td>\n",
              "    </tr>\n",
              "    <tr>\n",
              "      <th>65</th>\n",
              "      <td>bland</td>\n",
              "      <td>-1.274375</td>\n",
              "    </tr>\n",
              "    <tr>\n",
              "      <th>939</th>\n",
              "      <td>wasn</td>\n",
              "      <td>-1.225014</td>\n",
              "    </tr>\n",
              "    <tr>\n",
              "      <th>392</th>\n",
              "      <td>minutes</td>\n",
              "      <td>-1.177965</td>\n",
              "    </tr>\n",
              "    <tr>\n",
              "      <th>977</th>\n",
              "      <td>worst</td>\n",
              "      <td>-1.146635</td>\n",
              "    </tr>\n",
              "    <tr>\n",
              "      <th>607</th>\n",
              "      <td>rude</td>\n",
              "      <td>-1.040134</td>\n",
              "    </tr>\n",
              "    <tr>\n",
              "      <th>889</th>\n",
              "      <td>unfortunately</td>\n",
              "      <td>-1.039067</td>\n",
              "    </tr>\n",
              "    <tr>\n",
              "      <th>703</th>\n",
              "      <td>slow</td>\n",
              "      <td>-1.036536</td>\n",
              "    </tr>\n",
              "    <tr>\n",
              "      <th>546</th>\n",
              "      <td>probably</td>\n",
              "      <td>-1.015125</td>\n",
              "    </tr>\n",
              "  </tbody>\n",
              "</table>\n",
              "</div>\n",
              "    <div class=\"colab-df-buttons\">\n",
              "\n",
              "  <div class=\"colab-df-container\">\n",
              "    <button class=\"colab-df-convert\" onclick=\"convertToInteractive('df-4c91525f-a46d-4533-8724-28befc6be625')\"\n",
              "            title=\"Convert this dataframe to an interactive table.\"\n",
              "            style=\"display:none;\">\n",
              "\n",
              "  <svg xmlns=\"http://www.w3.org/2000/svg\" height=\"24px\" viewBox=\"0 -960 960 960\">\n",
              "    <path d=\"M120-120v-720h720v720H120Zm60-500h600v-160H180v160Zm220 220h160v-160H400v160Zm0 220h160v-160H400v160ZM180-400h160v-160H180v160Zm440 0h160v-160H620v160ZM180-180h160v-160H180v160Zm440 0h160v-160H620v160Z\"/>\n",
              "  </svg>\n",
              "    </button>\n",
              "\n",
              "  <style>\n",
              "    .colab-df-container {\n",
              "      display:flex;\n",
              "      gap: 12px;\n",
              "    }\n",
              "\n",
              "    .colab-df-convert {\n",
              "      background-color: #E8F0FE;\n",
              "      border: none;\n",
              "      border-radius: 50%;\n",
              "      cursor: pointer;\n",
              "      display: none;\n",
              "      fill: #1967D2;\n",
              "      height: 32px;\n",
              "      padding: 0 0 0 0;\n",
              "      width: 32px;\n",
              "    }\n",
              "\n",
              "    .colab-df-convert:hover {\n",
              "      background-color: #E2EBFA;\n",
              "      box-shadow: 0px 1px 2px rgba(60, 64, 67, 0.3), 0px 1px 3px 1px rgba(60, 64, 67, 0.15);\n",
              "      fill: #174EA6;\n",
              "    }\n",
              "\n",
              "    .colab-df-buttons div {\n",
              "      margin-bottom: 4px;\n",
              "    }\n",
              "\n",
              "    [theme=dark] .colab-df-convert {\n",
              "      background-color: #3B4455;\n",
              "      fill: #D2E3FC;\n",
              "    }\n",
              "\n",
              "    [theme=dark] .colab-df-convert:hover {\n",
              "      background-color: #434B5C;\n",
              "      box-shadow: 0px 1px 3px 1px rgba(0, 0, 0, 0.15);\n",
              "      filter: drop-shadow(0px 1px 2px rgba(0, 0, 0, 0.3));\n",
              "      fill: #FFFFFF;\n",
              "    }\n",
              "  </style>\n",
              "\n",
              "    <script>\n",
              "      const buttonEl =\n",
              "        document.querySelector('#df-4c91525f-a46d-4533-8724-28befc6be625 button.colab-df-convert');\n",
              "      buttonEl.style.display =\n",
              "        google.colab.kernel.accessAllowed ? 'block' : 'none';\n",
              "\n",
              "      async function convertToInteractive(key) {\n",
              "        const element = document.querySelector('#df-4c91525f-a46d-4533-8724-28befc6be625');\n",
              "        const dataTable =\n",
              "          await google.colab.kernel.invokeFunction('convertToInteractive',\n",
              "                                                    [key], {});\n",
              "        if (!dataTable) return;\n",
              "\n",
              "        const docLinkHtml = 'Like what you see? Visit the ' +\n",
              "          '<a target=\"_blank\" href=https://colab.research.google.com/notebooks/data_table.ipynb>data table notebook</a>'\n",
              "          + ' to learn more about interactive tables.';\n",
              "        element.innerHTML = '';\n",
              "        dataTable['output_type'] = 'display_data';\n",
              "        await google.colab.output.renderOutput(dataTable, element);\n",
              "        const docLink = document.createElement('div');\n",
              "        docLink.innerHTML = docLinkHtml;\n",
              "        element.appendChild(docLink);\n",
              "      }\n",
              "    </script>\n",
              "  </div>\n",
              "\n",
              "\n",
              "<div id=\"df-413ae8bc-17d0-4f9c-885c-bb8f7ede006b\">\n",
              "  <button class=\"colab-df-quickchart\" onclick=\"quickchart('df-413ae8bc-17d0-4f9c-885c-bb8f7ede006b')\"\n",
              "            title=\"Suggest charts.\"\n",
              "            style=\"display:none;\">\n",
              "\n",
              "<svg xmlns=\"http://www.w3.org/2000/svg\" height=\"24px\"viewBox=\"0 0 24 24\"\n",
              "     width=\"24px\">\n",
              "    <g>\n",
              "        <path d=\"M19 3H5c-1.1 0-2 .9-2 2v14c0 1.1.9 2 2 2h14c1.1 0 2-.9 2-2V5c0-1.1-.9-2-2-2zM9 17H7v-7h2v7zm4 0h-2V7h2v10zm4 0h-2v-4h2v4z\"/>\n",
              "    </g>\n",
              "</svg>\n",
              "  </button>\n",
              "\n",
              "<style>\n",
              "  .colab-df-quickchart {\n",
              "      --bg-color: #E8F0FE;\n",
              "      --fill-color: #1967D2;\n",
              "      --hover-bg-color: #E2EBFA;\n",
              "      --hover-fill-color: #174EA6;\n",
              "      --disabled-fill-color: #AAA;\n",
              "      --disabled-bg-color: #DDD;\n",
              "  }\n",
              "\n",
              "  [theme=dark] .colab-df-quickchart {\n",
              "      --bg-color: #3B4455;\n",
              "      --fill-color: #D2E3FC;\n",
              "      --hover-bg-color: #434B5C;\n",
              "      --hover-fill-color: #FFFFFF;\n",
              "      --disabled-bg-color: #3B4455;\n",
              "      --disabled-fill-color: #666;\n",
              "  }\n",
              "\n",
              "  .colab-df-quickchart {\n",
              "    background-color: var(--bg-color);\n",
              "    border: none;\n",
              "    border-radius: 50%;\n",
              "    cursor: pointer;\n",
              "    display: none;\n",
              "    fill: var(--fill-color);\n",
              "    height: 32px;\n",
              "    padding: 0;\n",
              "    width: 32px;\n",
              "  }\n",
              "\n",
              "  .colab-df-quickchart:hover {\n",
              "    background-color: var(--hover-bg-color);\n",
              "    box-shadow: 0 1px 2px rgba(60, 64, 67, 0.3), 0 1px 3px 1px rgba(60, 64, 67, 0.15);\n",
              "    fill: var(--button-hover-fill-color);\n",
              "  }\n",
              "\n",
              "  .colab-df-quickchart-complete:disabled,\n",
              "  .colab-df-quickchart-complete:disabled:hover {\n",
              "    background-color: var(--disabled-bg-color);\n",
              "    fill: var(--disabled-fill-color);\n",
              "    box-shadow: none;\n",
              "  }\n",
              "\n",
              "  .colab-df-spinner {\n",
              "    border: 2px solid var(--fill-color);\n",
              "    border-color: transparent;\n",
              "    border-bottom-color: var(--fill-color);\n",
              "    animation:\n",
              "      spin 1s steps(1) infinite;\n",
              "  }\n",
              "\n",
              "  @keyframes spin {\n",
              "    0% {\n",
              "      border-color: transparent;\n",
              "      border-bottom-color: var(--fill-color);\n",
              "      border-left-color: var(--fill-color);\n",
              "    }\n",
              "    20% {\n",
              "      border-color: transparent;\n",
              "      border-left-color: var(--fill-color);\n",
              "      border-top-color: var(--fill-color);\n",
              "    }\n",
              "    30% {\n",
              "      border-color: transparent;\n",
              "      border-left-color: var(--fill-color);\n",
              "      border-top-color: var(--fill-color);\n",
              "      border-right-color: var(--fill-color);\n",
              "    }\n",
              "    40% {\n",
              "      border-color: transparent;\n",
              "      border-right-color: var(--fill-color);\n",
              "      border-top-color: var(--fill-color);\n",
              "    }\n",
              "    60% {\n",
              "      border-color: transparent;\n",
              "      border-right-color: var(--fill-color);\n",
              "    }\n",
              "    80% {\n",
              "      border-color: transparent;\n",
              "      border-right-color: var(--fill-color);\n",
              "      border-bottom-color: var(--fill-color);\n",
              "    }\n",
              "    90% {\n",
              "      border-color: transparent;\n",
              "      border-bottom-color: var(--fill-color);\n",
              "    }\n",
              "  }\n",
              "</style>\n",
              "\n",
              "  <script>\n",
              "    async function quickchart(key) {\n",
              "      const quickchartButtonEl =\n",
              "        document.querySelector('#' + key + ' button');\n",
              "      quickchartButtonEl.disabled = true;  // To prevent multiple clicks.\n",
              "      quickchartButtonEl.classList.add('colab-df-spinner');\n",
              "      try {\n",
              "        const charts = await google.colab.kernel.invokeFunction(\n",
              "            'suggestCharts', [key], {});\n",
              "      } catch (error) {\n",
              "        console.error('Error during call to suggestCharts:', error);\n",
              "      }\n",
              "      quickchartButtonEl.classList.remove('colab-df-spinner');\n",
              "      quickchartButtonEl.classList.add('colab-df-quickchart-complete');\n",
              "    }\n",
              "    (() => {\n",
              "      let quickchartButtonEl =\n",
              "        document.querySelector('#df-413ae8bc-17d0-4f9c-885c-bb8f7ede006b button');\n",
              "      quickchartButtonEl.style.display =\n",
              "        google.colab.kernel.accessAllowed ? 'block' : 'none';\n",
              "    })();\n",
              "  </script>\n",
              "</div>\n",
              "    </div>\n",
              "  </div>\n"
            ]
          },
          "metadata": {},
          "execution_count": 43
        }
      ]
    }
  ]
}