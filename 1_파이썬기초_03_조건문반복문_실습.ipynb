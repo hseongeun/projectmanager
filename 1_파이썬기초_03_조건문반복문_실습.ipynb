{
  "cells": [
    {
      "cell_type": "markdown",
      "metadata": {
        "id": "view-in-github",
        "colab_type": "text"
      },
      "source": [
        "<a href=\"https://colab.research.google.com/github/hseongeun/projectmanager/blob/main/1_%ED%8C%8C%EC%9D%B4%EC%8D%AC%EA%B8%B0%EC%B4%88_03_%EC%A1%B0%EA%B1%B4%EB%AC%B8%EB%B0%98%EB%B3%B5%EB%AC%B8_%EC%8B%A4%EC%8A%B5.ipynb\" target=\"_parent\"><img src=\"https://colab.research.google.com/assets/colab-badge.svg\" alt=\"Open In Colab\"/></a>"
      ]
    },
    {
      "cell_type": "markdown",
      "id": "25f81d8c",
      "metadata": {
        "id": "25f81d8c"
      },
      "source": [
        "# 파이썬 기초 다지기"
      ]
    },
    {
      "cell_type": "markdown",
      "id": "3f3da3bd",
      "metadata": {
        "id": "3f3da3bd"
      },
      "source": [
        "## 3- 조건문과 반복문\n",
        "데이터와 처리의 흐름을 제어하는 조건문과 반목문"
      ]
    },
    {
      "cell_type": "markdown",
      "id": "0c52a67e",
      "metadata": {
        "id": "0c52a67e"
      },
      "source": [
        "----------------------------------"
      ]
    },
    {
      "cell_type": "markdown",
      "id": "aee8f2e8",
      "metadata": {
        "id": "aee8f2e8"
      },
      "source": [
        "## 3-1.if 조건문"
      ]
    },
    {
      "cell_type": "markdown",
      "id": "e89f3546",
      "metadata": {
        "id": "e89f3546"
      },
      "source": [
        "### 조건문: if"
      ]
    },
    {
      "cell_type": "code",
      "execution_count": null,
      "id": "4f161d86",
      "metadata": {
        "colab": {
          "base_uri": "https://localhost:8080/"
        },
        "id": "4f161d86",
        "outputId": "c91ea4c6-554e-415b-e9e2-ff74890fb64a"
      },
      "outputs": [
        {
          "name": "stdout",
          "output_type": "stream",
          "text": [
            "숫자를 입력하세요: 80\n"
          ]
        }
      ],
      "source": [
        "a = int(input('숫자를 입력하세요: '))\n",
        "if a > 100:\n",
        "  print(f'{a}는 100보다 크군요!')\n"
      ]
    },
    {
      "cell_type": "markdown",
      "id": "cb89ea65",
      "metadata": {
        "id": "cb89ea65"
      },
      "source": [
        "### 조건문: if ~ else"
      ]
    },
    {
      "cell_type": "code",
      "execution_count": null,
      "id": "6eca2413",
      "metadata": {
        "id": "6eca2413"
      },
      "outputs": [],
      "source": [
        "a = int(input('숫자를 입력하세요: '))\n",
        "if a > 100:\n",
        "  print(f'{a}는 100보다 크군요!')\n",
        "else:\n",
        "  print(f'{a}는 100보다 크지 않거나 같군요!')\n"
      ]
    },
    {
      "cell_type": "markdown",
      "id": "13b404bd",
      "metadata": {
        "id": "13b404bd"
      },
      "source": [
        "### 조건문 : 중첩if"
      ]
    },
    {
      "cell_type": "code",
      "execution_count": null,
      "id": "9575f530",
      "metadata": {
        "colab": {
          "base_uri": "https://localhost:8080/"
        },
        "id": "9575f530",
        "outputId": "29fa957a-c818-46e3-9ea9-2bfee7a687c7"
      },
      "outputs": [
        {
          "output_type": "stream",
          "name": "stdout",
          "text": [
            "숫자를 입력하세요: 100\n",
            "100는 100이군요!\n"
          ]
        }
      ],
      "source": [
        "a = int(input('숫자를 입력하세요: '))\n",
        "if a > 100:\n",
        "  print(f'{a}는 100보다 크군요!')\n",
        "  if a > 200:\n",
        "    print(f'{a}는 200보다 크군요!')\n",
        "  else:\n",
        "    print(f'{a}는 200보다 같거나 크지 않군요!')\n",
        "else:\n",
        "  if a == 100:\n",
        "    print(f'{a}는 100과 같군요!')\n",
        "  else:\n",
        "    print(f'{a}는 100보다 작군요!')"
      ]
    },
    {
      "cell_type": "markdown",
      "source": [
        "### 조건문 : if ~ elif ~ else"
      ],
      "metadata": {
        "id": "xYsmIcwPjC9-"
      },
      "id": "xYsmIcwPjC9-"
    },
    {
      "cell_type": "code",
      "source": [
        "a = int(input('숫자를 입력하세요: '))\n",
        "if a > 200:\n",
        "  print(f'{a}는 200보다 크군요!')\n",
        "elif a > 100:\n",
        "  print(f'{a}는 100보다 크고 200보다 작거나 같군요!')\n",
        "elif a == 100:\n",
        "  print(f'{a}는 100과 같군요!')\n",
        "else:\n",
        "    print(f'{a}는 100보다 작군요!')"
      ],
      "metadata": {
        "colab": {
          "base_uri": "https://localhost:8080/"
        },
        "id": "DWYSo6ixjHBp",
        "outputId": "2b045c52-ed8b-4365-f7d6-7e2fb207c0e2"
      },
      "id": "DWYSo6ixjHBp",
      "execution_count": null,
      "outputs": [
        {
          "output_type": "stream",
          "name": "stdout",
          "text": [
            "숫자를 입력하세요: 150\n",
            "150는 100보다 크고 200보다 작거나 같군요!\n"
          ]
        }
      ]
    },
    {
      "cell_type": "markdown",
      "id": "349dec8b",
      "metadata": {
        "id": "349dec8b"
      },
      "source": [
        "### [실습문제] 짝수/홀수 판별하기"
      ]
    },
    {
      "cell_type": "code",
      "execution_count": null,
      "id": "de48c13d",
      "metadata": {
        "colab": {
          "base_uri": "https://localhost:8080/"
        },
        "id": "de48c13d",
        "outputId": "9647ec5c-e248-4c86-9e86-65189a044065"
      },
      "outputs": [
        {
          "output_type": "stream",
          "name": "stdout",
          "text": [
            "정수를 입력하세요 : 4\n",
            "4는 짝수이군요!\n"
          ]
        }
      ],
      "source": [
        "a = int(input('정수를 입력하세요 : '))\n",
        "if a % 2 == 0:\n",
        "  print(f'{a}는 짝수이군요!')\n",
        "else:\n",
        "  print(f'{a}는 홀수이군요!')\n",
        "\n",
        "\n"
      ]
    },
    {
      "cell_type": "code",
      "source": [
        "# 멤버십 연산자 사용해서 조건문 판별하기\n",
        "a ="
      ],
      "metadata": {
        "id": "rKF_OktPlvcq"
      },
      "id": "rKF_OktPlvcq",
      "execution_count": null,
      "outputs": []
    },
    {
      "cell_type": "markdown",
      "id": "30919e6b",
      "metadata": {
        "id": "30919e6b"
      },
      "source": [
        "### [실습문제]\n",
        "피타고라스 정리에 의해 직각삼각형의 세 변의 길이에 대한 관계는 아래와 같습니다. 이 정리를 이용하여 세 변의 길이를 입력 받은 삼각형이 직각삼각형인지 아닌지 판별하는 프로그램을 만들어 보세요.\n"
      ]
    },
    {
      "cell_type": "code",
      "execution_count": null,
      "id": "f6e6ca29",
      "metadata": {
        "scrolled": false,
        "colab": {
          "base_uri": "https://localhost:8080/"
        },
        "id": "f6e6ca29",
        "outputId": "0d3b10c9-7f6f-425e-b924-a41cfd3f9e18"
      },
      "outputs": [
        {
          "output_type": "stream",
          "name": "stdout",
          "text": [
            "변 a의 길이: 3\n",
            "변 b의 길이: 4\n",
            "변 c의 길이: 5\n",
            "------------------------------\n",
            "직각삼각형입니다\n"
          ]
        }
      ],
      "source": [
        "# 1. 세 변의 길이 입력 받기\n",
        "a = int(input('변 a의 길이: '))\n",
        "b = int(input('변 b의 길이: '))\n",
        "c = int(input('변 c의 길이: '))\n",
        "\n",
        "print('-' * 30)  # 분리 선\n",
        "\n",
        "# 2. 직각삼각형 판별하기\n",
        "if a**2+b**2 == c**2:\n",
        "  print(f'직각삼각형입니다')\n",
        "else:\n",
        "  print(f'직각삼각형이 아닙니다')\n"
      ]
    },
    {
      "cell_type": "code",
      "source": [
        "# 성적 등급 판별\n",
        "score = int(input('성적을 입력해 주세요: '))\n",
        "print('-'*30)\n",
        "\n",
        "if score >= 90:\n",
        "  grade = \"A\"\n",
        "elif score >= 80:\n",
        "  grade = \"B\"\n",
        "elif score >= 70:\n",
        "  grade = \"C\"\n",
        "else :\n",
        "  grade = \"D\"\n",
        "\n",
        "print(f'성적: {score} 는 {grade} 등급 입니다.')"
      ],
      "metadata": {
        "colab": {
          "base_uri": "https://localhost:8080/"
        },
        "id": "8VsJ5uDctcql",
        "outputId": "c27ea2d7-6a70-4df5-f58b-94192d7b683c"
      },
      "id": "8VsJ5uDctcql",
      "execution_count": null,
      "outputs": [
        {
          "output_type": "stream",
          "name": "stdout",
          "text": [
            "성적을 입력해 주세요: 80\n",
            "------------------------------\n",
            "성적: 80 는 B 등급 입니다.\n"
          ]
        }
      ]
    },
    {
      "cell_type": "code",
      "source": [
        "temp = int(input(\"현재 온도를 넣으세요: \"))\n",
        "speaker = \"온도가 쾌적해요\"\n",
        "\n",
        "if temp >= 30:\n",
        "    speaker = \"에어컨을 켜세요\"\n",
        "elif temp < 15:\n",
        "    speaker = \"내복을 입으세요\"\n",
        "    if temp <= 10:\n",
        "        speaker = \"난방기를 켜세요\"\n",
        "\n",
        "print(f'온도 {temp}도 일때는 {speaker}')"
      ],
      "metadata": {
        "colab": {
          "base_uri": "https://localhost:8080/"
        },
        "id": "soa2Ojvpx_7F",
        "outputId": "ce560978-e201-45bf-8944-c4e2afe64df3"
      },
      "id": "soa2Ojvpx_7F",
      "execution_count": null,
      "outputs": [
        {
          "output_type": "stream",
          "name": "stdout",
          "text": [
            "현재 온도를 넣으세요: 8\n",
            "온도 8도 일때는 난방기를 켜세요\n"
          ]
        }
      ]
    },
    {
      "cell_type": "markdown",
      "source": [
        "### 코랩(윈도우)에서 gTTS 기능 사용하기\n",
        "1. 라이브러리 설치하기"
      ],
      "metadata": {
        "id": "BzLZOkuv-CG2"
      },
      "id": "BzLZOkuv-CG2"
    },
    {
      "cell_type": "code",
      "source": [
        "!pip install gtts"
      ],
      "metadata": {
        "colab": {
          "base_uri": "https://localhost:8080/"
        },
        "id": "Z_1iJGhK9764",
        "outputId": "e37e4f1f-78b2-4753-db4d-237b7e2603c7"
      },
      "id": "Z_1iJGhK9764",
      "execution_count": null,
      "outputs": [
        {
          "output_type": "stream",
          "name": "stdout",
          "text": [
            "Collecting gtts\n",
            "  Downloading gTTS-2.3.2-py3-none-any.whl (28 kB)\n",
            "Requirement already satisfied: requests<3,>=2.27 in /usr/local/lib/python3.10/dist-packages (from gtts) (2.31.0)\n",
            "Requirement already satisfied: click<8.2,>=7.1 in /usr/local/lib/python3.10/dist-packages (from gtts) (8.1.6)\n",
            "Requirement already satisfied: charset-normalizer<4,>=2 in /usr/local/lib/python3.10/dist-packages (from requests<3,>=2.27->gtts) (3.2.0)\n",
            "Requirement already satisfied: idna<4,>=2.5 in /usr/local/lib/python3.10/dist-packages (from requests<3,>=2.27->gtts) (3.4)\n",
            "Requirement already satisfied: urllib3<3,>=1.21.1 in /usr/local/lib/python3.10/dist-packages (from requests<3,>=2.27->gtts) (2.0.4)\n",
            "Requirement already satisfied: certifi>=2017.4.17 in /usr/local/lib/python3.10/dist-packages (from requests<3,>=2.27->gtts) (2023.7.22)\n",
            "Installing collected packages: gtts\n",
            "Successfully installed gtts-2.3.2\n"
          ]
        }
      ]
    },
    {
      "cell_type": "markdown",
      "source": [
        "2. 예제"
      ],
      "metadata": {
        "id": "QSdl7znS_jYT"
      },
      "id": "QSdl7znS_jYT"
    },
    {
      "cell_type": "code",
      "source": [
        "from gtts import gTTS\n",
        "from IPython.display import Audio\n",
        "\n",
        "# kor_wav = gTTS('안녕 여러분!', lang = 'ko')\n",
        "# kor_wav.save('kor.wav')\n",
        "# display(Audio('kor.way', autoplay=True))\n",
        "\n",
        "eng_wav = gTTS('hello everyone!', lang = 'en')\n",
        "eng_wav.save('kor.wav')\n",
        "display(Audio('kor.wav', autoplay=True))"
      ],
      "metadata": {
        "colab": {
          "base_uri": "https://localhost:8080/",
          "height": 74
        },
        "id": "E-7TEGSV-IYw",
        "outputId": "67c20f77-5bbd-4d67-a8fe-4de6b0971f4d"
      },
      "id": "E-7TEGSV-IYw",
      "execution_count": null,
      "outputs": [
        {
          "output_type": "display_data",
          "data": {
            "text/plain": [
              "<IPython.lib.display.Audio object>"
            ],
            "text/html": [
              "\n",
              "                <audio  controls=\"controls\" autoplay=\"autoplay\">\n",
              "                    <source src=\"data:audio/x-wav;base64,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\" type=\"audio/x-wav\" />\n",
              "                    Your browser does not support the audio element.\n",
              "                </audio>\n",
              "              "
            ]
          },
          "metadata": {}
        }
      ]
    },
    {
      "cell_type": "markdown",
      "id": "862598a5",
      "metadata": {
        "id": "862598a5"
      },
      "source": [
        "### [실습문제]\n",
        "아래 조건을 만족하는 커피 자동주문 머신을 만들어보세요.<br><br>\n",
        "[커피 자동주문 머신]<br>\n",
        "친구들과 현금 커피 자동주문 머신 앞에서\n",
        " - 아메리카노 2잔과 카페라테 2잔 카푸치노 1잔을 주문하였다.\n",
        " - 아메리카노 한잔에 2500원이고\n",
        " - 카페라테는 한잔에 3000원\n",
        " - 카푸치노는 한잔에 3000원이다.\n",
        "커피 종류와 잔 수를 결정한 후 현금 15000원을 투입하고 잔돈을 1000원 받았다."
      ]
    },
    {
      "cell_type": "code",
      "execution_count": null,
      "id": "0d6035c2",
      "metadata": {
        "colab": {
          "base_uri": "https://localhost:8080/"
        },
        "id": "0d6035c2",
        "outputId": "8f0c9e5e-3079-488e-a11f-db2e7c1f4154"
      },
      "outputs": [
        {
          "output_type": "stream",
          "name": "stdout",
          "text": [
            "[커피 자동주문 머신 메뉴]\n",
            "------------------------------\n",
            "-아메리카노는 2500원\n",
            "-카페라떼는 3000원\n",
            "-카푸치노는 3000원\n",
            "입니다. 원하시는 커피종류와 잔수를 입력하세요.\n",
            "------------------------------\n",
            "아메리카노 몇잔?2\n",
            "카페라떼 몇잔?2\n",
            "카푸치노 몇잔?1\n",
            "지불할 총 금액은  14000 원 입니다\n",
            "돈을 넣어주세요~20000\n",
            "거스름돈은 6000 원 입니다.\n"
          ]
        }
      ],
      "source": [
        "menu = '''[커피 자동주문 머신 메뉴]\n",
        "------------------------------\n",
        "-아메리카노는 2500원\n",
        "-카페라떼는 3000원\n",
        "-카푸치노는 3000원\n",
        "입니다. 원하시는 커피종류와 잔수를 입력하세요.\n",
        "------------------------------'''\n",
        "print(menu)\n",
        "coffee1 = int(input(\"아메리카노 몇잔?\"))\n",
        "coffee2 = int(input(\"카페라떼 몇잔?\"))\n",
        "coffee3 = int(input(\"카푸치노 몇잔?\"))\n",
        "\n",
        "money = coffee1*2500 + coffee2*3000 + coffee3*3000\n",
        "print(f'지불할 총 금액은  {money} 원 입니다')\n",
        "x = int(input('돈을 넣어주세요~'))\n",
        "\n",
        "if x < money:\n",
        "  print(f'입력한 금액이 부족합니다.  {money-x} 원을 더 넣어주세요.')\n",
        "else:\n",
        "  print(f'거스름돈은 {x-money} 원 입니다.')"
      ]
    },
    {
      "cell_type": "markdown",
      "source": [
        "### 간소화된 조건문 표현식"
      ],
      "metadata": {
        "id": "haXfhlk5GUhc"
      },
      "id": "haXfhlk5GUhc"
    },
    {
      "cell_type": "code",
      "source": [
        "score = int(input('점수를 입력하세요: '))\n",
        "if score >= 80:\n",
        "  message = '성공'\n",
        "else:\n",
        "  message = '실패'\n",
        "\n",
        "print(f'{score}점일 때 {message}')"
      ],
      "metadata": {
        "colab": {
          "base_uri": "https://localhost:8080/"
        },
        "id": "VrigC6mrGXz7",
        "outputId": "0fd093a4-5490-4434-f390-07c06a5406be"
      },
      "id": "VrigC6mrGXz7",
      "execution_count": null,
      "outputs": [
        {
          "output_type": "stream",
          "name": "stdout",
          "text": [
            "점수를 입력하세요: 85\n",
            "85일 때 성공\n"
          ]
        }
      ]
    },
    {
      "cell_type": "code",
      "source": [
        "score = int(input('점수를 입력하세요: '))\n",
        "# message = '성공' if score>=80 else '실패'\n",
        "print(f\"{score}점일 때 {'성공' if score>=80 else '실패'}!\")"
      ],
      "metadata": {
        "colab": {
          "base_uri": "https://localhost:8080/"
        },
        "id": "mlgcy_pqG3Mz",
        "outputId": "fcdb3780-b0dc-41cf-d078-ac76ce7e7caa"
      },
      "id": "mlgcy_pqG3Mz",
      "execution_count": null,
      "outputs": [
        {
          "output_type": "stream",
          "name": "stdout",
          "text": [
            "점수를 입력하세요: 80\n",
            "80점일 때 성공!\n"
          ]
        }
      ]
    },
    {
      "cell_type": "markdown",
      "id": "67412428",
      "metadata": {
        "id": "67412428"
      },
      "source": [
        "## 3-2.반복문"
      ]
    },
    {
      "cell_type": "markdown",
      "id": "44197774",
      "metadata": {
        "id": "44197774"
      },
      "source": [
        "### 반복문: for 반복문"
      ]
    },
    {
      "cell_type": "code",
      "execution_count": null,
      "id": "9f69ecc4",
      "metadata": {
        "scrolled": true,
        "id": "9f69ecc4"
      },
      "outputs": [],
      "source": []
    },
    {
      "cell_type": "markdown",
      "source": [
        "#### 1. range() 함수 사용하여 반복하기"
      ],
      "metadata": {
        "id": "9mtAXZ6rJsN4"
      },
      "id": "9mtAXZ6rJsN4"
    },
    {
      "cell_type": "code",
      "source": [
        "#for i in range(0,3,1):\n",
        "#for i in range(0,3):\n",
        "for i in range(3):\n",
        "  print(i)"
      ],
      "metadata": {
        "colab": {
          "base_uri": "https://localhost:8080/"
        },
        "id": "0-uqulVUJucO",
        "outputId": "3dfe9f8e-fd2c-4066-f10b-10b945612d4d"
      },
      "id": "0-uqulVUJucO",
      "execution_count": null,
      "outputs": [
        {
          "output_type": "stream",
          "name": "stdout",
          "text": [
            "0\n",
            "1\n",
            "2\n"
          ]
        }
      ]
    },
    {
      "cell_type": "markdown",
      "source": [
        "####2. 문자열 길이를 이용하여 반복하기"
      ],
      "metadata": {
        "id": "nBoS8fOPJ-gv"
      },
      "id": "nBoS8fOPJ-gv"
    },
    {
      "cell_type": "code",
      "source": [
        "사과 = 'apple'\n",
        "for i in 사과:\n",
        "  print(i)"
      ],
      "metadata": {
        "colab": {
          "base_uri": "https://localhost:8080/"
        },
        "id": "4b_HvHytKEFq",
        "outputId": "fb5e3179-8712-495e-bb92-9ef597ca025a"
      },
      "id": "4b_HvHytKEFq",
      "execution_count": null,
      "outputs": [
        {
          "output_type": "stream",
          "name": "stdout",
          "text": [
            "a\n",
            "p\n",
            "p\n",
            "l\n",
            "e\n"
          ]
        }
      ]
    },
    {
      "cell_type": "code",
      "source": [
        "사과 = 'apple'\n",
        "for i in 사과:\n",
        "  print(f'{i} 사과입니다.')"
      ],
      "metadata": {
        "colab": {
          "base_uri": "https://localhost:8080/"
        },
        "id": "yrFU8_4mKk92",
        "outputId": "b96f05b1-0080-4368-af36-becbb34a9e36"
      },
      "id": "yrFU8_4mKk92",
      "execution_count": null,
      "outputs": [
        {
          "output_type": "stream",
          "name": "stdout",
          "text": [
            "a 사과입니다.\n",
            "p 사과입니다.\n",
            "p 사과입니다.\n",
            "l 사과입니다.\n",
            "e 사과입니다.\n"
          ]
        }
      ]
    },
    {
      "cell_type": "markdown",
      "source": [
        "####3. 리스트를 이용하여 반복하기"
      ],
      "metadata": {
        "id": "XD0tP_1kLRN4"
      },
      "id": "XD0tP_1kLRN4"
    },
    {
      "cell_type": "code",
      "source": [
        "fruits = ['포도', '사과', '오렌지', '바나나', '체리']\n",
        "for fruit in fruits:\n",
        "  print(f'내가 좋아하는 과일 {fruit}!')"
      ],
      "metadata": {
        "colab": {
          "base_uri": "https://localhost:8080/"
        },
        "id": "EaxN1hpZMLjr",
        "outputId": "28166ab6-5758-43a0-d9f9-0c47023b2006"
      },
      "id": "EaxN1hpZMLjr",
      "execution_count": null,
      "outputs": [
        {
          "output_type": "stream",
          "name": "stdout",
          "text": [
            "내가 좋아하는 과일 포도\n",
            "내가 좋아하는 과일 사과\n",
            "내가 좋아하는 과일 오렌지\n",
            "내가 좋아하는 과일 바나나\n",
            "내가 좋아하는 과일 체리\n"
          ]
        }
      ]
    },
    {
      "cell_type": "code",
      "source": [
        "fruits = ['포도', '사과', '오렌지', '바나나', '체리']\n",
        "print('내가 좋아하는 과일은 ')\n",
        "for fruit in fruits:\n",
        "  print(fruit, end=' ')"
      ],
      "metadata": {
        "colab": {
          "base_uri": "https://localhost:8080/"
        },
        "id": "z9U9AFFDLULH",
        "outputId": "0bc21a0c-8892-44cf-e490-b8a471db92f7"
      },
      "id": "z9U9AFFDLULH",
      "execution_count": null,
      "outputs": [
        {
          "output_type": "stream",
          "name": "stdout",
          "text": [
            "내가 좋아하는 과일은 \n",
            "포도 사과 오렌지 바나나 체리 "
          ]
        }
      ]
    },
    {
      "cell_type": "markdown",
      "id": "8288e636",
      "metadata": {
        "id": "8288e636"
      },
      "source": [
        "### [실습문제]\n",
        "키보드로 양의 정수(n)을 입력 받아 1~n까지의 합을 구하는 프로그램을 만들어 보세요."
      ]
    },
    {
      "cell_type": "code",
      "execution_count": null,
      "id": "d6774150",
      "metadata": {
        "colab": {
          "base_uri": "https://localhost:8080/"
        },
        "id": "d6774150",
        "outputId": "c1feb17a-05f8-4371-85af-c6ff29b9a9a7"
      },
      "outputs": [
        {
          "output_type": "stream",
          "name": "stdout",
          "text": [
            "합계를 구할 숫자 입력:10\n",
            "1~10까지 합은: 55\n"
          ]
        }
      ],
      "source": [
        "n = int(input('합계를 구할 숫자 입력:'))\n",
        "hap = 0\n",
        "\n",
        "for i in range(1,n+1,1):\n",
        "  hap += i\n",
        "\n",
        "print(f'1~{n}까지 합은: {hap}')"
      ]
    },
    {
      "cell_type": "markdown",
      "id": "aae06acb",
      "metadata": {
        "id": "aae06acb"
      },
      "source": [
        "### [실습문제]\n",
        "키보드로 양의 정수(n)을 입력 받아 1~n까지의 합을 구할 때 짝수를 제외하고 합을 구하는 프로그램을 만들어 보세요."
      ]
    },
    {
      "cell_type": "code",
      "execution_count": null,
      "id": "c87285cf",
      "metadata": {
        "id": "c87285cf"
      },
      "outputs": [],
      "source": [
        "n = int(input('합계를 구할 숫자 입력:'))\n",
        "hap = 0\n",
        "\n",
        "for i in range(1,n+1,2):\n",
        "  hap += i\n",
        "\n",
        "print(f'1~{n}까지 합은: {hap}')"
      ]
    },
    {
      "cell_type": "markdown",
      "id": "ac62e6f7",
      "metadata": {
        "id": "ac62e6f7"
      },
      "source": [
        "### 반복문: while 반복문"
      ]
    },
    {
      "cell_type": "code",
      "source": [
        "num1, num2 = 1, 1\n",
        "\n",
        "while num1 != 0:\n",
        "  num1 = int(input(\"더할 첫 번째 숫자: \"))\n",
        "  num2 = int(input(\"더할 두 번째 숫자: \"))\n",
        "  print(f'{num1} + {num2} = {num1 + num2}')\n",
        "\n",
        "print(\"0을 입력해서 반복문을 탈출했습니다.\")"
      ],
      "metadata": {
        "colab": {
          "base_uri": "https://localhost:8080/"
        },
        "id": "Vp7SnxJaWgkR",
        "outputId": "1bac99d0-9363-444c-941c-8f4fa7801896"
      },
      "id": "Vp7SnxJaWgkR",
      "execution_count": null,
      "outputs": [
        {
          "output_type": "stream",
          "name": "stdout",
          "text": [
            "더할 첫 번째 숫자: 20\n",
            "더할 두 번째 숫자: 3\n",
            "20 + 3 = 23\n",
            "더할 첫 번째 숫자: 0\n",
            "더할 두 번째 숫자: 0\n",
            "0 + 0 = 0\n",
            "0을 입력해서 반복문을 탈출했습니다.\n"
          ]
        }
      ]
    },
    {
      "cell_type": "code",
      "execution_count": null,
      "id": "f2fb3ce9",
      "metadata": {
        "id": "f2fb3ce9"
      },
      "outputs": [],
      "source": [
        "num1, num2 = 0, 0\n",
        "\n",
        "while True:\n",
        "    num1 = int(input(\"더할 첫 번째 숫자: \"))\n",
        "    if num1 == 0:\n",
        "        break\n",
        "\n",
        "    num2 = int(input(\"더할 두 번째 숫자: \"))\n",
        "\n",
        "    print(f'{num1} + {num2} = {num1 + num2}')\n",
        "\n",
        "print(\"0을 입력해서 반복문을 탈출했습니다.\")"
      ]
    },
    {
      "cell_type": "markdown",
      "id": "02a797a4",
      "metadata": {
        "id": "02a797a4"
      },
      "source": [
        "### [실습문제] 도둑잡기 게임 만들기\n",
        "경찰에 쫓기던 범인이 3개의 방 중에 한 곳에 숨어버렸습니다. 범인은 방문을 열 때마다 무작위로 3개의 방 중 하나의 방으로 이동합니다. 3개의 방 중 하나의 방을 선택했을 때 범인이 있다면 100점, 없을 때 -10점을 부여하고 범인을 잡으면 게임을 종료하는 프로그램을 만들어 보세요."
      ]
    },
    {
      "cell_type": "code",
      "execution_count": null,
      "id": "e08b9dc4",
      "metadata": {
        "colab": {
          "base_uri": "https://localhost:8080/"
        },
        "id": "e08b9dc4",
        "outputId": "2c89c24b-2481-4fe4-faf3-13a1e725506b"
      },
      "outputs": [
        {
          "output_type": "stream",
          "name": "stdout",
          "text": [
            "도둑이 숨은 방 번호는? (1,2,3): 2\n",
            "그 방에는 도둑이 없습니다.\n",
            "도둑이 숨은 방 번호는? (1,2,3): 3\n",
            "찾았다! 도둑이 있는 방입니다. \n",
            "도둑이 있는 방은 3번 방 입니다. 점수는 90점\n"
          ]
        }
      ],
      "source": [
        "import random\n",
        "score = 0\n",
        "\n",
        "while True:\n",
        "  room = random.randint(1,3) # 1~3 정수 중 임의의 수 선택\n",
        "  n = int(input('도둑이 숨은 방 번호는? (1,2,3): '))\n",
        "  if n == room:\n",
        "    print(f'찾았다! 도둑이 있는 방입니다. ')\n",
        "    score += 100\n",
        "    break\n",
        "\n",
        "  else:\n",
        "    print(f'그 방에는 도둑이 없습니다.')\n",
        "    score -= 10\n",
        "\n",
        "print(f'게임이 종료됩니다.')\n",
        "print(f'도둑이 있는 방은 {room}번 방 입니다. 점수는 {score}점 !')"
      ]
    },
    {
      "cell_type": "markdown",
      "id": "0d03701c",
      "metadata": {
        "id": "0d03701c"
      },
      "source": [
        "### [실습문제] 공이 튕긴 횟수 구하기\n",
        "공을 일정 높이에서 떨어뜨리면, 원래 높이의 1/2만큼 튀어 오릅니다. 이를 반복하다가 높이가 0.00001m보다 낮으면 튀어 오르지 않습니다. while문을 이용하여 공이 튀어 오르는 총 횟수를 구하는 프로그램을 만들어 보세요."
      ]
    },
    {
      "cell_type": "code",
      "execution_count": 7,
      "id": "1ac5675e",
      "metadata": {
        "scrolled": true,
        "id": "1ac5675e",
        "colab": {
          "base_uri": "https://localhost:8080/"
        },
        "outputId": "701fc9b0-1006-4bac-e48e-cc85b398b532"
      },
      "outputs": [
        {
          "output_type": "stream",
          "name": "stdout",
          "text": [
            "공의 높이를 입력하세요(meter) : 30\n",
            "30 위치에서 공의 튕긴 횟수는 22번 입니다.\n"
          ]
        }
      ],
      "source": [
        "length = int(input('공의 높이를 입력하세요(meter) : '))\n",
        "meter, cnt = length, 0\n",
        "\n",
        "while True:\n",
        "  meter -= 1/2*meter\n",
        "  cnt += 1\n",
        "  if meter < 0.00001:\n",
        "    break\n",
        "\n",
        "print(f'{length} 위치에서 공의 튕긴 횟수는 {cnt}번 입니다.')\n"
      ]
    },
    {
      "cell_type": "markdown",
      "id": "ecdb476f",
      "metadata": {
        "id": "ecdb476f"
      },
      "source": [
        "### [실습문제] 커피 자동주문 프로그램 업그레이드\n",
        "앞에서 만들어 본 커피 자동주문 머신 프로그램을 while문을 이용하여 돈을 모두 지불할 때까지 돈을 입력 받도록 프로그램 기능 수정하기"
      ]
    },
    {
      "cell_type": "code",
      "execution_count": null,
      "id": "2ce8fbfc",
      "metadata": {
        "scrolled": true,
        "colab": {
          "base_uri": "https://localhost:8080/"
        },
        "id": "2ce8fbfc",
        "outputId": "0182285d-5dc2-423f-9f17-1d434f7b114d"
      },
      "outputs": [
        {
          "output_type": "stream",
          "name": "stdout",
          "text": [
            "[커피 자동주문 머신 메뉴]\n",
            "------------------------------\n",
            "-아메리카노는 2500원\n",
            "-카페라떼는 3000원\n",
            "-카푸치노는 3000원\n",
            "입니다. 원하시는 커피종류와 잔수를 입력하세요.\n",
            "------------------------------\n",
            "아메리카노 몇잔?1\n",
            "카페라떼 몇잔?1\n",
            "카푸치노 몇잔?1\n",
            "지불할 총 금액은  8500 원 입니다\n",
            "--------------------------------------------------\n",
            "[지불할 금액:8500] : 돈을 넣어주세요: 5000\n",
            "입력한 금액이 부족합니다. 3500원을 더 넣어주세요: \n",
            "--------------------------------------------------\n",
            "[지불할 금액:3500] : 돈을 넣어주세요: 5000\n",
            "거스름돈은 1500원 입니다.\n",
            "--------------------------------------------------\n",
            " 커피 맛있게 드세요~~~\n"
          ]
        }
      ],
      "source": [
        "menu = '''[커피 자동주문 머신 메뉴]\n",
        "------------------------------\n",
        "-아메리카노는 2500원\n",
        "-카페라떼는 3000원\n",
        "-카푸치노는 3000원\n",
        "입니다. 원하시는 커피종류와 잔수를 입력하세요.\n",
        "------------------------------'''\n",
        "print(menu)\n",
        "coffee1 = int(input(\"아메리카노 몇잔?\"))\n",
        "coffee2 = int(input(\"카페라떼 몇잔?\"))\n",
        "coffee3 = int(input(\"카푸치노 몇잔?\"))\n",
        "\n",
        "total = coffee1*2500 + coffee2*3000 + coffee3*3000\n",
        "print(\"지불할 총 금액은 \", total, \"원 입니다\")\n",
        "\n",
        "while True:\n",
        "  print('-'*50)\n",
        "  money = int(input(f'[지불할 금액:{total}] : 돈을 넣어주세요: '))\n",
        "  if total > money :\n",
        "    print(f'입력한 금액이 부족합니다. {total - money}원을 더 넣어주세요: ')\n",
        "    total -= money\n",
        "  else:\n",
        "    print(f'거스름돈은 {money - total}원 입니다.')\n",
        "    break\n",
        "\n",
        "print('-'*50)\n",
        "print(' 커피 맛있게 드세요~~~')\n"
      ]
    },
    {
      "cell_type": "markdown",
      "id": "af0e48ab",
      "metadata": {
        "id": "af0e48ab"
      },
      "source": [
        "## 3-3.난수(Random Variable)"
      ]
    },
    {
      "cell_type": "code",
      "source": [
        "import numpy as np\n",
        "np.random.randint(10,20,10)"
      ],
      "metadata": {
        "colab": {
          "base_uri": "https://localhost:8080/"
        },
        "id": "2Ny6VmbT1qkD",
        "outputId": "e965c23f-1fcb-45fc-f7ea-6f28458cba4d"
      },
      "id": "2Ny6VmbT1qkD",
      "execution_count": 9,
      "outputs": [
        {
          "output_type": "execute_result",
          "data": {
            "text/plain": [
              "array([17, 13, 14, 16, 17, 16, 16, 10, 12, 13])"
            ]
          },
          "metadata": {},
          "execution_count": 9
        }
      ]
    },
    {
      "cell_type": "code",
      "source": [
        "random.randint(10,20)       # randint는 20 포함\n",
        "\n",
        "random.randrange(10,20,2)   # range가 들어가면 20 미만"
      ],
      "metadata": {
        "id": "74z9pe-81-cJ"
      },
      "id": "74z9pe-81-cJ",
      "execution_count": null,
      "outputs": []
    },
    {
      "cell_type": "markdown",
      "id": "e34c55ca",
      "metadata": {
        "id": "e34c55ca"
      },
      "source": [
        "### [실습문제] 임의의 두 수 합 구하기\n",
        "1부터 10까지의 범위를 갖는 임의의 두 정수 a, b를 더하여 결과 출력하기"
      ]
    },
    {
      "cell_type": "code",
      "execution_count": 12,
      "id": "3c007936",
      "metadata": {
        "id": "3c007936",
        "colab": {
          "base_uri": "https://localhost:8080/"
        },
        "outputId": "dce5f813-0fbe-462a-c773-8764ad996862"
      },
      "outputs": [
        {
          "output_type": "stream",
          "name": "stdout",
          "text": [
            "8 + 8 = 16\n"
          ]
        }
      ],
      "source": [
        "import random\n",
        "\n",
        "a = random.randint(1,10)\n",
        "b = random.randint(1,10)\n",
        "\n",
        "print(f'{a} + {b} = {a+b}')"
      ]
    },
    {
      "cell_type": "markdown",
      "id": "357e1bdd",
      "metadata": {
        "id": "357e1bdd"
      },
      "source": [
        "### [실습문제]\n",
        "주사위를 100번 던져서 나오는 숫자를 각 숫자별로 카운트하고 가장 많이 나온 숫자와 그 숫자의 횟수를 출력하시오."
      ]
    },
    {
      "cell_type": "code",
      "execution_count": 20,
      "id": "782da2b4",
      "metadata": {
        "id": "782da2b4",
        "colab": {
          "base_uri": "https://localhost:8080/"
        },
        "outputId": "837645eb-2931-4708-aa0f-70f55f6ecd13"
      },
      "outputs": [
        {
          "output_type": "stream",
          "name": "stdout",
          "text": [
            "숫자별 개수: [14, 17, 16, 16, 15, 22]\n",
            "가장 많이 나온 주사위 숫자: 6, 횟수: 22\n"
          ]
        }
      ],
      "source": [
        "import random\n",
        "\n",
        "dice = [0,0,0,0,0,0]\n",
        "for i in range(0,100):\n",
        "  x = random.randint(1,6)\n",
        "  dice[x-1] += 1\n",
        "\n",
        "print(f'숫자별 개수: {dice}')\n",
        "print(f'가장 많이 나온 주사위 숫자: {dice.index(max(dice))+1}, 횟수: {max(dice)}') # 개어렵다 미췬.."
      ]
    },
    {
      "cell_type": "markdown",
      "id": "45e329e4",
      "metadata": {
        "id": "45e329e4"
      },
      "source": [
        "------------------------"
      ]
    },
    {
      "cell_type": "markdown",
      "id": "66025633",
      "metadata": {
        "id": "66025633"
      },
      "source": [
        "끝"
      ]
    }
  ],
  "metadata": {
    "kernelspec": {
      "display_name": "Python 3 (ipykernel)",
      "language": "python",
      "name": "python3"
    },
    "language_info": {
      "codemirror_mode": {
        "name": "ipython",
        "version": 3
      },
      "file_extension": ".py",
      "mimetype": "text/x-python",
      "name": "python",
      "nbconvert_exporter": "python",
      "pygments_lexer": "ipython3",
      "version": "3.10.9"
    },
    "vscode": {
      "interpreter": {
        "hash": "b41e41bff03a930185ac2cbea60ce521f7c8c2f5401ceb5c30214081f77ab4f5"
      }
    },
    "colab": {
      "provenance": [],
      "include_colab_link": true
    }
  },
  "nbformat": 4,
  "nbformat_minor": 5
}