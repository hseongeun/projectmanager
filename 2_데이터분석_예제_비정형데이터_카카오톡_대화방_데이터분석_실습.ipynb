{
  "cells": [
    {
      "cell_type": "markdown",
      "metadata": {
        "id": "view-in-github",
        "colab_type": "text"
      },
      "source": [
        "<a href=\"https://colab.research.google.com/github/hseongeun/projectmanager/blob/main/2_%EB%8D%B0%EC%9D%B4%ED%84%B0%EB%B6%84%EC%84%9D_%EC%98%88%EC%A0%9C_%EB%B9%84%EC%A0%95%ED%98%95%EB%8D%B0%EC%9D%B4%ED%84%B0_%EC%B9%B4%EC%B9%B4%EC%98%A4%ED%86%A1_%EB%8C%80%ED%99%94%EB%B0%A9_%EB%8D%B0%EC%9D%B4%ED%84%B0%EB%B6%84%EC%84%9D_%EC%8B%A4%EC%8A%B5.ipynb\" target=\"_parent\"><img src=\"https://colab.research.google.com/assets/colab-badge.svg\" alt=\"Open In Colab\"/></a>"
      ]
    },
    {
      "cell_type": "markdown",
      "id": "0e44d33f",
      "metadata": {
        "id": "0e44d33f"
      },
      "source": [
        "# [비정형 데이터 -> 정형 데이터로 만들기] : 카카오톡 데이터 분석\n",
        "\n",
        "- [참고] https://wikidocs.net/141389"
      ]
    },
    {
      "cell_type": "markdown",
      "id": "32dcff32",
      "metadata": {
        "id": "32dcff32"
      },
      "source": [
        "## 0. 데이터 준비하기(모바일에서)"
      ]
    },
    {
      "cell_type": "markdown",
      "id": "40c7b4b0",
      "metadata": {
        "id": "40c7b4b0"
      },
      "source": [
        "1. 분석할 특정 채팅방 선택하기\n",
        "2. 화면 우측 상단 더보기(줄세개) 선택하기\n",
        "3. 화면 우측 하단 채팅방 설정(톱니바퀴) 선택하기\n",
        "4. 대화 내용 내보내기 선택 (텍스트 메시지만 보내기)\n",
        "5. 메일 등을 이용하여 다운로드 받아 data 폴더로 이동시키기"
      ]
    },
    {
      "cell_type": "markdown",
      "id": "3308906b",
      "metadata": {
        "id": "3308906b"
      },
      "source": [
        "## 1. 원본데이터 살펴보기"
      ]
    },
    {
      "cell_type": "code",
      "execution_count": 11,
      "id": "15e8f876",
      "metadata": {
        "scrolled": true,
        "colab": {
          "base_uri": "https://localhost:8080/",
          "height": 424
        },
        "id": "15e8f876",
        "outputId": "c6cc8654-3a82-4185-8325-98c10f2efe81"
      },
      "outputs": [
        {
          "output_type": "execute_result",
          "data": {
            "text/plain": [
              "                                        더영이 님과 카카오톡 대화\n",
              "0                         저장한 날짜 : 2023-09-05 10:26:09\n",
              "1     --------------- 2022년 7월 17일 일요일 ---------------\n",
              "2                           [홍성은] [오후 7:29] 키키 조아조아 ~~\n",
              "3                             [홍성은] [오후 7:30] 카페도 가자💛💛\n",
              "4                         [더영이] [오후 11:43] 얌 당여나지 ~~!!\n",
              "...                                                ...\n",
              "2864                 [홍성은] [오전 9:44] ㅋㅋㅋㅋㅋㅋㅋㅋㅋㅋ나도 ㅠㅠㅠㅠ\n",
              "2865                             [홍성은] [오전 9:44] 아니 우리\n",
              "2866                             [홍성은] [오전 9:44] 왜 솔로야\n",
              "2867                          [홍성은] [오전 9:44] 언제까지 솔로야\n",
              "2868             [홍성은] [오전 9:44] 도대체 언제 연애할수잇는거지......\n",
              "\n",
              "[2869 rows x 1 columns]"
            ],
            "text/html": [
              "\n",
              "  <div id=\"df-5d736272-434d-401b-a4eb-ec2062831342\" class=\"colab-df-container\">\n",
              "    <div>\n",
              "<style scoped>\n",
              "    .dataframe tbody tr th:only-of-type {\n",
              "        vertical-align: middle;\n",
              "    }\n",
              "\n",
              "    .dataframe tbody tr th {\n",
              "        vertical-align: top;\n",
              "    }\n",
              "\n",
              "    .dataframe thead th {\n",
              "        text-align: right;\n",
              "    }\n",
              "</style>\n",
              "<table border=\"1\" class=\"dataframe\">\n",
              "  <thead>\n",
              "    <tr style=\"text-align: right;\">\n",
              "      <th></th>\n",
              "      <th>더영이 님과 카카오톡 대화</th>\n",
              "    </tr>\n",
              "  </thead>\n",
              "  <tbody>\n",
              "    <tr>\n",
              "      <th>0</th>\n",
              "      <td>저장한 날짜 : 2023-09-05 10:26:09</td>\n",
              "    </tr>\n",
              "    <tr>\n",
              "      <th>1</th>\n",
              "      <td>--------------- 2022년 7월 17일 일요일 ---------------</td>\n",
              "    </tr>\n",
              "    <tr>\n",
              "      <th>2</th>\n",
              "      <td>[홍성은] [오후 7:29] 키키 조아조아 ~~</td>\n",
              "    </tr>\n",
              "    <tr>\n",
              "      <th>3</th>\n",
              "      <td>[홍성은] [오후 7:30] 카페도 가자💛💛</td>\n",
              "    </tr>\n",
              "    <tr>\n",
              "      <th>4</th>\n",
              "      <td>[더영이] [오후 11:43] 얌 당여나지 ~~!!</td>\n",
              "    </tr>\n",
              "    <tr>\n",
              "      <th>...</th>\n",
              "      <td>...</td>\n",
              "    </tr>\n",
              "    <tr>\n",
              "      <th>2864</th>\n",
              "      <td>[홍성은] [오전 9:44] ㅋㅋㅋㅋㅋㅋㅋㅋㅋㅋ나도 ㅠㅠㅠㅠ</td>\n",
              "    </tr>\n",
              "    <tr>\n",
              "      <th>2865</th>\n",
              "      <td>[홍성은] [오전 9:44] 아니 우리</td>\n",
              "    </tr>\n",
              "    <tr>\n",
              "      <th>2866</th>\n",
              "      <td>[홍성은] [오전 9:44] 왜 솔로야</td>\n",
              "    </tr>\n",
              "    <tr>\n",
              "      <th>2867</th>\n",
              "      <td>[홍성은] [오전 9:44] 언제까지 솔로야</td>\n",
              "    </tr>\n",
              "    <tr>\n",
              "      <th>2868</th>\n",
              "      <td>[홍성은] [오전 9:44] 도대체 언제 연애할수잇는거지......</td>\n",
              "    </tr>\n",
              "  </tbody>\n",
              "</table>\n",
              "<p>2869 rows × 1 columns</p>\n",
              "</div>\n",
              "    <div class=\"colab-df-buttons\">\n",
              "\n",
              "  <div class=\"colab-df-container\">\n",
              "    <button class=\"colab-df-convert\" onclick=\"convertToInteractive('df-5d736272-434d-401b-a4eb-ec2062831342')\"\n",
              "            title=\"Convert this dataframe to an interactive table.\"\n",
              "            style=\"display:none;\">\n",
              "\n",
              "  <svg xmlns=\"http://www.w3.org/2000/svg\" height=\"24px\" viewBox=\"0 -960 960 960\">\n",
              "    <path d=\"M120-120v-720h720v720H120Zm60-500h600v-160H180v160Zm220 220h160v-160H400v160Zm0 220h160v-160H400v160ZM180-400h160v-160H180v160Zm440 0h160v-160H620v160ZM180-180h160v-160H180v160Zm440 0h160v-160H620v160Z\"/>\n",
              "  </svg>\n",
              "    </button>\n",
              "\n",
              "  <style>\n",
              "    .colab-df-container {\n",
              "      display:flex;\n",
              "      gap: 12px;\n",
              "    }\n",
              "\n",
              "    .colab-df-convert {\n",
              "      background-color: #E8F0FE;\n",
              "      border: none;\n",
              "      border-radius: 50%;\n",
              "      cursor: pointer;\n",
              "      display: none;\n",
              "      fill: #1967D2;\n",
              "      height: 32px;\n",
              "      padding: 0 0 0 0;\n",
              "      width: 32px;\n",
              "    }\n",
              "\n",
              "    .colab-df-convert:hover {\n",
              "      background-color: #E2EBFA;\n",
              "      box-shadow: 0px 1px 2px rgba(60, 64, 67, 0.3), 0px 1px 3px 1px rgba(60, 64, 67, 0.15);\n",
              "      fill: #174EA6;\n",
              "    }\n",
              "\n",
              "    .colab-df-buttons div {\n",
              "      margin-bottom: 4px;\n",
              "    }\n",
              "\n",
              "    [theme=dark] .colab-df-convert {\n",
              "      background-color: #3B4455;\n",
              "      fill: #D2E3FC;\n",
              "    }\n",
              "\n",
              "    [theme=dark] .colab-df-convert:hover {\n",
              "      background-color: #434B5C;\n",
              "      box-shadow: 0px 1px 3px 1px rgba(0, 0, 0, 0.15);\n",
              "      filter: drop-shadow(0px 1px 2px rgba(0, 0, 0, 0.3));\n",
              "      fill: #FFFFFF;\n",
              "    }\n",
              "  </style>\n",
              "\n",
              "    <script>\n",
              "      const buttonEl =\n",
              "        document.querySelector('#df-5d736272-434d-401b-a4eb-ec2062831342 button.colab-df-convert');\n",
              "      buttonEl.style.display =\n",
              "        google.colab.kernel.accessAllowed ? 'block' : 'none';\n",
              "\n",
              "      async function convertToInteractive(key) {\n",
              "        const element = document.querySelector('#df-5d736272-434d-401b-a4eb-ec2062831342');\n",
              "        const dataTable =\n",
              "          await google.colab.kernel.invokeFunction('convertToInteractive',\n",
              "                                                    [key], {});\n",
              "        if (!dataTable) return;\n",
              "\n",
              "        const docLinkHtml = 'Like what you see? Visit the ' +\n",
              "          '<a target=\"_blank\" href=https://colab.research.google.com/notebooks/data_table.ipynb>data table notebook</a>'\n",
              "          + ' to learn more about interactive tables.';\n",
              "        element.innerHTML = '';\n",
              "        dataTable['output_type'] = 'display_data';\n",
              "        await google.colab.output.renderOutput(dataTable, element);\n",
              "        const docLink = document.createElement('div');\n",
              "        docLink.innerHTML = docLinkHtml;\n",
              "        element.appendChild(docLink);\n",
              "      }\n",
              "    </script>\n",
              "  </div>\n",
              "\n",
              "\n",
              "<div id=\"df-11ba4aaf-ec80-42fd-aa65-d9bf9348e463\">\n",
              "  <button class=\"colab-df-quickchart\" onclick=\"quickchart('df-11ba4aaf-ec80-42fd-aa65-d9bf9348e463')\"\n",
              "            title=\"Suggest charts.\"\n",
              "            style=\"display:none;\">\n",
              "\n",
              "<svg xmlns=\"http://www.w3.org/2000/svg\" height=\"24px\"viewBox=\"0 0 24 24\"\n",
              "     width=\"24px\">\n",
              "    <g>\n",
              "        <path d=\"M19 3H5c-1.1 0-2 .9-2 2v14c0 1.1.9 2 2 2h14c1.1 0 2-.9 2-2V5c0-1.1-.9-2-2-2zM9 17H7v-7h2v7zm4 0h-2V7h2v10zm4 0h-2v-4h2v4z\"/>\n",
              "    </g>\n",
              "</svg>\n",
              "  </button>\n",
              "\n",
              "<style>\n",
              "  .colab-df-quickchart {\n",
              "      --bg-color: #E8F0FE;\n",
              "      --fill-color: #1967D2;\n",
              "      --hover-bg-color: #E2EBFA;\n",
              "      --hover-fill-color: #174EA6;\n",
              "      --disabled-fill-color: #AAA;\n",
              "      --disabled-bg-color: #DDD;\n",
              "  }\n",
              "\n",
              "  [theme=dark] .colab-df-quickchart {\n",
              "      --bg-color: #3B4455;\n",
              "      --fill-color: #D2E3FC;\n",
              "      --hover-bg-color: #434B5C;\n",
              "      --hover-fill-color: #FFFFFF;\n",
              "      --disabled-bg-color: #3B4455;\n",
              "      --disabled-fill-color: #666;\n",
              "  }\n",
              "\n",
              "  .colab-df-quickchart {\n",
              "    background-color: var(--bg-color);\n",
              "    border: none;\n",
              "    border-radius: 50%;\n",
              "    cursor: pointer;\n",
              "    display: none;\n",
              "    fill: var(--fill-color);\n",
              "    height: 32px;\n",
              "    padding: 0;\n",
              "    width: 32px;\n",
              "  }\n",
              "\n",
              "  .colab-df-quickchart:hover {\n",
              "    background-color: var(--hover-bg-color);\n",
              "    box-shadow: 0 1px 2px rgba(60, 64, 67, 0.3), 0 1px 3px 1px rgba(60, 64, 67, 0.15);\n",
              "    fill: var(--button-hover-fill-color);\n",
              "  }\n",
              "\n",
              "  .colab-df-quickchart-complete:disabled,\n",
              "  .colab-df-quickchart-complete:disabled:hover {\n",
              "    background-color: var(--disabled-bg-color);\n",
              "    fill: var(--disabled-fill-color);\n",
              "    box-shadow: none;\n",
              "  }\n",
              "\n",
              "  .colab-df-spinner {\n",
              "    border: 2px solid var(--fill-color);\n",
              "    border-color: transparent;\n",
              "    border-bottom-color: var(--fill-color);\n",
              "    animation:\n",
              "      spin 1s steps(1) infinite;\n",
              "  }\n",
              "\n",
              "  @keyframes spin {\n",
              "    0% {\n",
              "      border-color: transparent;\n",
              "      border-bottom-color: var(--fill-color);\n",
              "      border-left-color: var(--fill-color);\n",
              "    }\n",
              "    20% {\n",
              "      border-color: transparent;\n",
              "      border-left-color: var(--fill-color);\n",
              "      border-top-color: var(--fill-color);\n",
              "    }\n",
              "    30% {\n",
              "      border-color: transparent;\n",
              "      border-left-color: var(--fill-color);\n",
              "      border-top-color: var(--fill-color);\n",
              "      border-right-color: var(--fill-color);\n",
              "    }\n",
              "    40% {\n",
              "      border-color: transparent;\n",
              "      border-right-color: var(--fill-color);\n",
              "      border-top-color: var(--fill-color);\n",
              "    }\n",
              "    60% {\n",
              "      border-color: transparent;\n",
              "      border-right-color: var(--fill-color);\n",
              "    }\n",
              "    80% {\n",
              "      border-color: transparent;\n",
              "      border-right-color: var(--fill-color);\n",
              "      border-bottom-color: var(--fill-color);\n",
              "    }\n",
              "    90% {\n",
              "      border-color: transparent;\n",
              "      border-bottom-color: var(--fill-color);\n",
              "    }\n",
              "  }\n",
              "</style>\n",
              "\n",
              "  <script>\n",
              "    async function quickchart(key) {\n",
              "      const quickchartButtonEl =\n",
              "        document.querySelector('#' + key + ' button');\n",
              "      quickchartButtonEl.disabled = true;  // To prevent multiple clicks.\n",
              "      quickchartButtonEl.classList.add('colab-df-spinner');\n",
              "      try {\n",
              "        const charts = await google.colab.kernel.invokeFunction(\n",
              "            'suggestCharts', [key], {});\n",
              "      } catch (error) {\n",
              "        console.error('Error during call to suggestCharts:', error);\n",
              "      }\n",
              "      quickchartButtonEl.classList.remove('colab-df-spinner');\n",
              "      quickchartButtonEl.classList.add('colab-df-quickchart-complete');\n",
              "    }\n",
              "    (() => {\n",
              "      let quickchartButtonEl =\n",
              "        document.querySelector('#df-11ba4aaf-ec80-42fd-aa65-d9bf9348e463 button');\n",
              "      quickchartButtonEl.style.display =\n",
              "        google.colab.kernel.accessAllowed ? 'block' : 'none';\n",
              "    })();\n",
              "  </script>\n",
              "</div>\n",
              "    </div>\n",
              "  </div>\n"
            ]
          },
          "metadata": {},
          "execution_count": 11
        }
      ],
      "source": [
        "import pandas as pd\n",
        "\n",
        "# 자신의 카카오톡 데이터 파일명으로 변경한다.\n",
        "file = './sample_data/KaKaoTalkChats.txt'\n",
        "df = pd.read_table(file)\n",
        "df"
      ]
    },
    {
      "cell_type": "markdown",
      "id": "165639dc",
      "metadata": {
        "id": "165639dc"
      },
      "source": [
        "## 2. 데이터 전처리(카카오톡 데이터 파싱하기)\n",
        "- 참고:  https://regexr.com/"
      ]
    },
    {
      "cell_type": "markdown",
      "id": "6547fe64",
      "metadata": {
        "id": "6547fe64"
      },
      "source": [
        "[예제 문장] 2023년 3월 22일 오전 11:36, 송혜경 : 이모티콘 (Android)\n",
        "\n",
        "1. 카카오톡 데이터 쪼개기\n",
        "    - 날짜와 시간: (iOS: . / Android: 년,월,일\n",
        "    - 보낸 사람과 텍스트\n",
        "2. 카카오톡 데이터 파싱하기\n",
        "    - 정규표현식 매칭 & 메시지 파싱\n",
        "3. 데이터 프레임으로 만들기"
      ]
    },
    {
      "cell_type": "code",
      "execution_count": 33,
      "id": "025194e5",
      "metadata": {
        "scrolled": true,
        "colab": {
          "base_uri": "https://localhost:8080/"
        },
        "id": "025194e5",
        "outputId": "e5c9b8a8-2528-4724-dd55-e585caf1c747"
      },
      "outputs": [
        {
          "output_type": "stream",
          "name": "stdout",
          "text": [
            "파일 read count: 2871\n",
            "DataFrame count: 0\n",
            "Empty DataFrame\n",
            "Columns: []\n",
            "Index: []\n"
          ]
        }
      ],
      "source": [
        "import re\n",
        "import pandas as pd\n",
        "import os\n",
        "\n",
        "\n",
        "def katalk_msg_parse(file_path):\n",
        "    my_katalk_data = list()\n",
        "\n",
        "    # 정규 패턴 정의\n",
        "    #katalk_msg_pattern = \"[0-9]{4}[년.] [0-9]{1,2}[월.] [0-9]{1,2}[일.] 오\\S [0-9]{1,2}:[0-9]{1,2},.*:\"\n",
        "    katalk_msg_pattern = \"\\[.*\\] \\[오\\S [0-9]{1,2}:[0-9]{1,2}\\] \"\n",
        "    date_info = \"[0-9]{4}년 [0-9]{1,2}월 [0-9]{1,2}일 \\S요일\"\n",
        "    in_out_info = \"\\[.*\\] \\[오\\S [0-9]{1,2}:[0-9]{1,2}\\] \"\n",
        "\n",
        "\n",
        "    # 파일 데이터 읽기\n",
        "    cnt = 0\n",
        "    f = open(file_path, encoding='utf-8')\n",
        "    for line in f :\n",
        "        cnt += 1\n",
        "        if re.match(date_info, line) or re.match(in_out_info, line):\n",
        "            continue\n",
        "        elif line == '\\n': # 엔터\n",
        "            continue\n",
        "        elif re.match(katalk_msg_pattern, line):  # 카카오톡 메시지 패턴\n",
        "            print(line)\n",
        "            line = line.split(\" \")\n",
        "            user_name = line[0]\n",
        "            user_text = line[1].split(\" \", maxsplit = 1)\n",
        "            date_time = date_info\n",
        "\n",
        "\n",
        "            # date_time = line[0]                           # 년월일 시간\n",
        "            # user_text = line[1].split(\" : \", maxsplit=1)\n",
        "            # user_name = user_text[0].strip()              # 메시지 보낸 사람\n",
        "            # text = user_text[1].strip()                   # 메시지\n",
        "            # # DataFrame으로 나타내기 위해 my_katalk_data 리스트에 딕셔너리 타입으로 추가하기\n",
        "            # my_katalk_data.append({'date_time': date_time,\n",
        "            #                        'user_name': user_name,\n",
        "            #                        'text': text\n",
        "            #                        })\n",
        "\n",
        "        else:\n",
        "            if len(my_katalk_data) > 0:\n",
        "                my_katalk_data[-1]['text'] += \"\\n\"+line.strip()\n",
        "    print(f'파일 read count: {cnt}')\n",
        "\n",
        "    # DataFrame 데이터로 만들기\n",
        "    my_katalk_df = pd.DataFrame(my_katalk_data)\n",
        "    print(f'DataFrame count: {len(my_katalk_df)}')\n",
        "    return my_katalk_df\n",
        "\n",
        "\n",
        "df = katalk_msg_parse(file)\n",
        "\n",
        "print(df)"
      ]
    },
    {
      "cell_type": "markdown",
      "id": "fe379aa4",
      "metadata": {
        "id": "fe379aa4"
      },
      "source": [
        "## 3. 데이터 전처리(컬럼 분할)"
      ]
    },
    {
      "cell_type": "markdown",
      "id": "b56c5987",
      "metadata": {
        "id": "b56c5987"
      },
      "source": [
        "### 컬럼 추가하기"
      ]
    },
    {
      "cell_type": "code",
      "execution_count": 30,
      "id": "d560dc7d",
      "metadata": {
        "colab": {
          "base_uri": "https://localhost:8080/",
          "height": 539
        },
        "id": "d560dc7d",
        "outputId": "793f4132-2ddd-49a0-eb07-658ed7e82a19"
      },
      "outputs": [
        {
          "output_type": "error",
          "ename": "KeyError",
          "evalue": "ignored",
          "traceback": [
            "\u001b[0;31m---------------------------------------------------------------------------\u001b[0m",
            "\u001b[0;31mKeyError\u001b[0m                                  Traceback (most recent call last)",
            "\u001b[0;32m/usr/local/lib/python3.10/dist-packages/pandas/core/indexes/base.py\u001b[0m in \u001b[0;36mget_loc\u001b[0;34m(self, key, method, tolerance)\u001b[0m\n\u001b[1;32m   3801\u001b[0m             \u001b[0;32mtry\u001b[0m\u001b[0;34m:\u001b[0m\u001b[0;34m\u001b[0m\u001b[0;34m\u001b[0m\u001b[0m\n\u001b[0;32m-> 3802\u001b[0;31m                 \u001b[0;32mreturn\u001b[0m \u001b[0mself\u001b[0m\u001b[0;34m.\u001b[0m\u001b[0m_engine\u001b[0m\u001b[0;34m.\u001b[0m\u001b[0mget_loc\u001b[0m\u001b[0;34m(\u001b[0m\u001b[0mcasted_key\u001b[0m\u001b[0;34m)\u001b[0m\u001b[0;34m\u001b[0m\u001b[0;34m\u001b[0m\u001b[0m\n\u001b[0m\u001b[1;32m   3803\u001b[0m             \u001b[0;32mexcept\u001b[0m \u001b[0mKeyError\u001b[0m \u001b[0;32mas\u001b[0m \u001b[0merr\u001b[0m\u001b[0;34m:\u001b[0m\u001b[0;34m\u001b[0m\u001b[0;34m\u001b[0m\u001b[0m\n",
            "\u001b[0;32m/usr/local/lib/python3.10/dist-packages/pandas/_libs/index.pyx\u001b[0m in \u001b[0;36mpandas._libs.index.IndexEngine.get_loc\u001b[0;34m()\u001b[0m\n",
            "\u001b[0;32m/usr/local/lib/python3.10/dist-packages/pandas/_libs/index.pyx\u001b[0m in \u001b[0;36mpandas._libs.index.IndexEngine.get_loc\u001b[0;34m()\u001b[0m\n",
            "\u001b[0;32mpandas/_libs/hashtable_class_helper.pxi\u001b[0m in \u001b[0;36mpandas._libs.hashtable.PyObjectHashTable.get_item\u001b[0;34m()\u001b[0m\n",
            "\u001b[0;32mpandas/_libs/hashtable_class_helper.pxi\u001b[0m in \u001b[0;36mpandas._libs.hashtable.PyObjectHashTable.get_item\u001b[0;34m()\u001b[0m\n",
            "\u001b[0;31mKeyError\u001b[0m: 'date_time'",
            "\nThe above exception was the direct cause of the following exception:\n",
            "\u001b[0;31mKeyError\u001b[0m                                  Traceback (most recent call last)",
            "\u001b[0;32m<ipython-input-30-a7e8276e26dc>\u001b[0m in \u001b[0;36m<cell line: 1>\u001b[0;34m()\u001b[0m\n\u001b[0;32m----> 1\u001b[0;31m \u001b[0mdf\u001b[0m\u001b[0;34m[\u001b[0m\u001b[0;34m'datetime'\u001b[0m\u001b[0;34m]\u001b[0m \u001b[0;34m=\u001b[0m \u001b[0mdf\u001b[0m\u001b[0;34m[\u001b[0m\u001b[0;34m'date_time'\u001b[0m\u001b[0;34m]\u001b[0m\u001b[0;34m\u001b[0m\u001b[0;34m\u001b[0m\u001b[0m\n\u001b[0m",
            "\u001b[0;32m/usr/local/lib/python3.10/dist-packages/pandas/core/frame.py\u001b[0m in \u001b[0;36m__getitem__\u001b[0;34m(self, key)\u001b[0m\n\u001b[1;32m   3805\u001b[0m             \u001b[0;32mif\u001b[0m \u001b[0mself\u001b[0m\u001b[0;34m.\u001b[0m\u001b[0mcolumns\u001b[0m\u001b[0;34m.\u001b[0m\u001b[0mnlevels\u001b[0m \u001b[0;34m>\u001b[0m \u001b[0;36m1\u001b[0m\u001b[0;34m:\u001b[0m\u001b[0;34m\u001b[0m\u001b[0;34m\u001b[0m\u001b[0m\n\u001b[1;32m   3806\u001b[0m                 \u001b[0;32mreturn\u001b[0m \u001b[0mself\u001b[0m\u001b[0;34m.\u001b[0m\u001b[0m_getitem_multilevel\u001b[0m\u001b[0;34m(\u001b[0m\u001b[0mkey\u001b[0m\u001b[0;34m)\u001b[0m\u001b[0;34m\u001b[0m\u001b[0;34m\u001b[0m\u001b[0m\n\u001b[0;32m-> 3807\u001b[0;31m             \u001b[0mindexer\u001b[0m \u001b[0;34m=\u001b[0m \u001b[0mself\u001b[0m\u001b[0;34m.\u001b[0m\u001b[0mcolumns\u001b[0m\u001b[0;34m.\u001b[0m\u001b[0mget_loc\u001b[0m\u001b[0;34m(\u001b[0m\u001b[0mkey\u001b[0m\u001b[0;34m)\u001b[0m\u001b[0;34m\u001b[0m\u001b[0;34m\u001b[0m\u001b[0m\n\u001b[0m\u001b[1;32m   3808\u001b[0m             \u001b[0;32mif\u001b[0m \u001b[0mis_integer\u001b[0m\u001b[0;34m(\u001b[0m\u001b[0mindexer\u001b[0m\u001b[0;34m)\u001b[0m\u001b[0;34m:\u001b[0m\u001b[0;34m\u001b[0m\u001b[0;34m\u001b[0m\u001b[0m\n\u001b[1;32m   3809\u001b[0m                 \u001b[0mindexer\u001b[0m \u001b[0;34m=\u001b[0m \u001b[0;34m[\u001b[0m\u001b[0mindexer\u001b[0m\u001b[0;34m]\u001b[0m\u001b[0;34m\u001b[0m\u001b[0;34m\u001b[0m\u001b[0m\n",
            "\u001b[0;32m/usr/local/lib/python3.10/dist-packages/pandas/core/indexes/base.py\u001b[0m in \u001b[0;36mget_loc\u001b[0;34m(self, key, method, tolerance)\u001b[0m\n\u001b[1;32m   3802\u001b[0m                 \u001b[0;32mreturn\u001b[0m \u001b[0mself\u001b[0m\u001b[0;34m.\u001b[0m\u001b[0m_engine\u001b[0m\u001b[0;34m.\u001b[0m\u001b[0mget_loc\u001b[0m\u001b[0;34m(\u001b[0m\u001b[0mcasted_key\u001b[0m\u001b[0;34m)\u001b[0m\u001b[0;34m\u001b[0m\u001b[0;34m\u001b[0m\u001b[0m\n\u001b[1;32m   3803\u001b[0m             \u001b[0;32mexcept\u001b[0m \u001b[0mKeyError\u001b[0m \u001b[0;32mas\u001b[0m \u001b[0merr\u001b[0m\u001b[0;34m:\u001b[0m\u001b[0;34m\u001b[0m\u001b[0;34m\u001b[0m\u001b[0m\n\u001b[0;32m-> 3804\u001b[0;31m                 \u001b[0;32mraise\u001b[0m \u001b[0mKeyError\u001b[0m\u001b[0;34m(\u001b[0m\u001b[0mkey\u001b[0m\u001b[0;34m)\u001b[0m \u001b[0;32mfrom\u001b[0m \u001b[0merr\u001b[0m\u001b[0;34m\u001b[0m\u001b[0;34m\u001b[0m\u001b[0m\n\u001b[0m\u001b[1;32m   3805\u001b[0m             \u001b[0;32mexcept\u001b[0m \u001b[0mTypeError\u001b[0m\u001b[0;34m:\u001b[0m\u001b[0;34m\u001b[0m\u001b[0;34m\u001b[0m\u001b[0m\n\u001b[1;32m   3806\u001b[0m                 \u001b[0;31m# If we have a listlike key, _check_indexing_error will raise\u001b[0m\u001b[0;34m\u001b[0m\u001b[0;34m\u001b[0m\u001b[0m\n",
            "\u001b[0;31mKeyError\u001b[0m: 'date_time'"
          ]
        }
      ],
      "source": [
        "df['datetime'] = df['date_time']"
      ]
    },
    {
      "cell_type": "markdown",
      "id": "70fc736a",
      "metadata": {
        "id": "70fc736a"
      },
      "source": [
        "### 컬럼 순서 변경하기"
      ]
    },
    {
      "cell_type": "code",
      "execution_count": 14,
      "id": "a4714e88",
      "metadata": {
        "colab": {
          "base_uri": "https://localhost:8080/",
          "height": 355
        },
        "id": "a4714e88",
        "outputId": "4d7ec257-0641-47e7-e93a-837d888a47cb"
      },
      "outputs": [
        {
          "output_type": "error",
          "ename": "KeyError",
          "evalue": "ignored",
          "traceback": [
            "\u001b[0;31m---------------------------------------------------------------------------\u001b[0m",
            "\u001b[0;31mKeyError\u001b[0m                                  Traceback (most recent call last)",
            "\u001b[0;32m<ipython-input-14-af1f10e31690>\u001b[0m in \u001b[0;36m<cell line: 2>\u001b[0;34m()\u001b[0m\n\u001b[1;32m      1\u001b[0m \u001b[0mdf\u001b[0m\u001b[0;34m.\u001b[0m\u001b[0mcolumns\u001b[0m\u001b[0;34m\u001b[0m\u001b[0;34m\u001b[0m\u001b[0m\n\u001b[0;32m----> 2\u001b[0;31m \u001b[0mdf\u001b[0m \u001b[0;34m=\u001b[0m \u001b[0mdf\u001b[0m\u001b[0;34m[\u001b[0m \u001b[0;34m[\u001b[0m\u001b[0;34m'date_time'\u001b[0m\u001b[0;34m,\u001b[0m \u001b[0;34m'datetime'\u001b[0m\u001b[0;34m,\u001b[0m \u001b[0;34m'user_name'\u001b[0m\u001b[0;34m,\u001b[0m \u001b[0;34m'text'\u001b[0m\u001b[0;34m]\u001b[0m \u001b[0;34m]\u001b[0m\u001b[0;34m\u001b[0m\u001b[0;34m\u001b[0m\u001b[0m\n\u001b[0m",
            "\u001b[0;32m/usr/local/lib/python3.10/dist-packages/pandas/core/frame.py\u001b[0m in \u001b[0;36m__getitem__\u001b[0;34m(self, key)\u001b[0m\n\u001b[1;32m   3811\u001b[0m             \u001b[0;32mif\u001b[0m \u001b[0mis_iterator\u001b[0m\u001b[0;34m(\u001b[0m\u001b[0mkey\u001b[0m\u001b[0;34m)\u001b[0m\u001b[0;34m:\u001b[0m\u001b[0;34m\u001b[0m\u001b[0;34m\u001b[0m\u001b[0m\n\u001b[1;32m   3812\u001b[0m                 \u001b[0mkey\u001b[0m \u001b[0;34m=\u001b[0m \u001b[0mlist\u001b[0m\u001b[0;34m(\u001b[0m\u001b[0mkey\u001b[0m\u001b[0;34m)\u001b[0m\u001b[0;34m\u001b[0m\u001b[0;34m\u001b[0m\u001b[0m\n\u001b[0;32m-> 3813\u001b[0;31m             \u001b[0mindexer\u001b[0m \u001b[0;34m=\u001b[0m \u001b[0mself\u001b[0m\u001b[0;34m.\u001b[0m\u001b[0mcolumns\u001b[0m\u001b[0;34m.\u001b[0m\u001b[0m_get_indexer_strict\u001b[0m\u001b[0;34m(\u001b[0m\u001b[0mkey\u001b[0m\u001b[0;34m,\u001b[0m \u001b[0;34m\"columns\"\u001b[0m\u001b[0;34m)\u001b[0m\u001b[0;34m[\u001b[0m\u001b[0;36m1\u001b[0m\u001b[0;34m]\u001b[0m\u001b[0;34m\u001b[0m\u001b[0;34m\u001b[0m\u001b[0m\n\u001b[0m\u001b[1;32m   3814\u001b[0m \u001b[0;34m\u001b[0m\u001b[0m\n\u001b[1;32m   3815\u001b[0m         \u001b[0;31m# take() does not accept boolean indexers\u001b[0m\u001b[0;34m\u001b[0m\u001b[0;34m\u001b[0m\u001b[0m\n",
            "\u001b[0;32m/usr/local/lib/python3.10/dist-packages/pandas/core/indexes/base.py\u001b[0m in \u001b[0;36m_get_indexer_strict\u001b[0;34m(self, key, axis_name)\u001b[0m\n\u001b[1;32m   6068\u001b[0m             \u001b[0mkeyarr\u001b[0m\u001b[0;34m,\u001b[0m \u001b[0mindexer\u001b[0m\u001b[0;34m,\u001b[0m \u001b[0mnew_indexer\u001b[0m \u001b[0;34m=\u001b[0m \u001b[0mself\u001b[0m\u001b[0;34m.\u001b[0m\u001b[0m_reindex_non_unique\u001b[0m\u001b[0;34m(\u001b[0m\u001b[0mkeyarr\u001b[0m\u001b[0;34m)\u001b[0m\u001b[0;34m\u001b[0m\u001b[0;34m\u001b[0m\u001b[0m\n\u001b[1;32m   6069\u001b[0m \u001b[0;34m\u001b[0m\u001b[0m\n\u001b[0;32m-> 6070\u001b[0;31m         \u001b[0mself\u001b[0m\u001b[0;34m.\u001b[0m\u001b[0m_raise_if_missing\u001b[0m\u001b[0;34m(\u001b[0m\u001b[0mkeyarr\u001b[0m\u001b[0;34m,\u001b[0m \u001b[0mindexer\u001b[0m\u001b[0;34m,\u001b[0m \u001b[0maxis_name\u001b[0m\u001b[0;34m)\u001b[0m\u001b[0;34m\u001b[0m\u001b[0;34m\u001b[0m\u001b[0m\n\u001b[0m\u001b[1;32m   6071\u001b[0m \u001b[0;34m\u001b[0m\u001b[0m\n\u001b[1;32m   6072\u001b[0m         \u001b[0mkeyarr\u001b[0m \u001b[0;34m=\u001b[0m \u001b[0mself\u001b[0m\u001b[0;34m.\u001b[0m\u001b[0mtake\u001b[0m\u001b[0;34m(\u001b[0m\u001b[0mindexer\u001b[0m\u001b[0;34m)\u001b[0m\u001b[0;34m\u001b[0m\u001b[0;34m\u001b[0m\u001b[0m\n",
            "\u001b[0;32m/usr/local/lib/python3.10/dist-packages/pandas/core/indexes/base.py\u001b[0m in \u001b[0;36m_raise_if_missing\u001b[0;34m(self, key, indexer, axis_name)\u001b[0m\n\u001b[1;32m   6128\u001b[0m                 \u001b[0;32mif\u001b[0m \u001b[0muse_interval_msg\u001b[0m\u001b[0;34m:\u001b[0m\u001b[0;34m\u001b[0m\u001b[0;34m\u001b[0m\u001b[0m\n\u001b[1;32m   6129\u001b[0m                     \u001b[0mkey\u001b[0m \u001b[0;34m=\u001b[0m \u001b[0mlist\u001b[0m\u001b[0;34m(\u001b[0m\u001b[0mkey\u001b[0m\u001b[0;34m)\u001b[0m\u001b[0;34m\u001b[0m\u001b[0;34m\u001b[0m\u001b[0m\n\u001b[0;32m-> 6130\u001b[0;31m                 \u001b[0;32mraise\u001b[0m \u001b[0mKeyError\u001b[0m\u001b[0;34m(\u001b[0m\u001b[0;34mf\"None of [{key}] are in the [{axis_name}]\"\u001b[0m\u001b[0;34m)\u001b[0m\u001b[0;34m\u001b[0m\u001b[0;34m\u001b[0m\u001b[0m\n\u001b[0m\u001b[1;32m   6131\u001b[0m \u001b[0;34m\u001b[0m\u001b[0m\n\u001b[1;32m   6132\u001b[0m             \u001b[0mnot_found\u001b[0m \u001b[0;34m=\u001b[0m \u001b[0mlist\u001b[0m\u001b[0;34m(\u001b[0m\u001b[0mensure_index\u001b[0m\u001b[0;34m(\u001b[0m\u001b[0mkey\u001b[0m\u001b[0;34m)\u001b[0m\u001b[0;34m[\u001b[0m\u001b[0mmissing_mask\u001b[0m\u001b[0;34m.\u001b[0m\u001b[0mnonzero\u001b[0m\u001b[0;34m(\u001b[0m\u001b[0;34m)\u001b[0m\u001b[0;34m[\u001b[0m\u001b[0;36m0\u001b[0m\u001b[0;34m]\u001b[0m\u001b[0;34m]\u001b[0m\u001b[0;34m.\u001b[0m\u001b[0munique\u001b[0m\u001b[0;34m(\u001b[0m\u001b[0;34m)\u001b[0m\u001b[0;34m)\u001b[0m\u001b[0;34m\u001b[0m\u001b[0;34m\u001b[0m\u001b[0m\n",
            "\u001b[0;31mKeyError\u001b[0m: \"None of [Index(['date_time', 'datetime', 'user_name', 'text'], dtype='object')] are in the [columns]\""
          ]
        }
      ],
      "source": [
        "df.columns\n",
        "df = df[ ['date_time', 'datetime', 'user_name', 'text'] ]"
      ]
    },
    {
      "cell_type": "markdown",
      "id": "fbbe8ba4",
      "metadata": {
        "id": "fbbe8ba4"
      },
      "source": [
        "### 날짜, 시간 세분화하기"
      ]
    },
    {
      "cell_type": "code",
      "execution_count": 16,
      "id": "70f61e6c",
      "metadata": {
        "scrolled": true,
        "colab": {
          "base_uri": "https://localhost:8080/",
          "height": 539
        },
        "id": "70f61e6c",
        "outputId": "c49f9bda-1d53-4069-ca71-57c2c62f3121"
      },
      "outputs": [
        {
          "output_type": "error",
          "ename": "KeyError",
          "evalue": "ignored",
          "traceback": [
            "\u001b[0;31m---------------------------------------------------------------------------\u001b[0m",
            "\u001b[0;31mKeyError\u001b[0m                                  Traceback (most recent call last)",
            "\u001b[0;32m/usr/local/lib/python3.10/dist-packages/pandas/core/indexes/base.py\u001b[0m in \u001b[0;36mget_loc\u001b[0;34m(self, key, method, tolerance)\u001b[0m\n\u001b[1;32m   3801\u001b[0m             \u001b[0;32mtry\u001b[0m\u001b[0;34m:\u001b[0m\u001b[0;34m\u001b[0m\u001b[0;34m\u001b[0m\u001b[0m\n\u001b[0;32m-> 3802\u001b[0;31m                 \u001b[0;32mreturn\u001b[0m \u001b[0mself\u001b[0m\u001b[0;34m.\u001b[0m\u001b[0m_engine\u001b[0m\u001b[0;34m.\u001b[0m\u001b[0mget_loc\u001b[0m\u001b[0;34m(\u001b[0m\u001b[0mcasted_key\u001b[0m\u001b[0;34m)\u001b[0m\u001b[0;34m\u001b[0m\u001b[0;34m\u001b[0m\u001b[0m\n\u001b[0m\u001b[1;32m   3803\u001b[0m             \u001b[0;32mexcept\u001b[0m \u001b[0mKeyError\u001b[0m \u001b[0;32mas\u001b[0m \u001b[0merr\u001b[0m\u001b[0;34m:\u001b[0m\u001b[0;34m\u001b[0m\u001b[0;34m\u001b[0m\u001b[0m\n",
            "\u001b[0;32m/usr/local/lib/python3.10/dist-packages/pandas/_libs/index.pyx\u001b[0m in \u001b[0;36mpandas._libs.index.IndexEngine.get_loc\u001b[0;34m()\u001b[0m\n",
            "\u001b[0;32m/usr/local/lib/python3.10/dist-packages/pandas/_libs/index.pyx\u001b[0m in \u001b[0;36mpandas._libs.index.IndexEngine.get_loc\u001b[0;34m()\u001b[0m\n",
            "\u001b[0;32mpandas/_libs/hashtable_class_helper.pxi\u001b[0m in \u001b[0;36mpandas._libs.hashtable.PyObjectHashTable.get_item\u001b[0;34m()\u001b[0m\n",
            "\u001b[0;32mpandas/_libs/hashtable_class_helper.pxi\u001b[0m in \u001b[0;36mpandas._libs.hashtable.PyObjectHashTable.get_item\u001b[0;34m()\u001b[0m\n",
            "\u001b[0;31mKeyError\u001b[0m: 'datetime'",
            "\nThe above exception was the direct cause of the following exception:\n",
            "\u001b[0;31mKeyError\u001b[0m                                  Traceback (most recent call last)",
            "\u001b[0;32m<ipython-input-16-139606b6f6d6>\u001b[0m in \u001b[0;36m<cell line: 2>\u001b[0;34m()\u001b[0m\n\u001b[1;32m      1\u001b[0m \u001b[0;31m# 오전/오후 --> AM/PM 으로 변경\u001b[0m\u001b[0;34m\u001b[0m\u001b[0;34m\u001b[0m\u001b[0m\n\u001b[0;32m----> 2\u001b[0;31m \u001b[0mdf\u001b[0m\u001b[0;34m[\u001b[0m\u001b[0;34m'datetime'\u001b[0m\u001b[0;34m]\u001b[0m \u001b[0;34m=\u001b[0m \u001b[0mdf\u001b[0m\u001b[0;34m[\u001b[0m\u001b[0;34m'datetime'\u001b[0m\u001b[0;34m]\u001b[0m\u001b[0;34m.\u001b[0m\u001b[0mstr\u001b[0m\u001b[0;34m.\u001b[0m\u001b[0mreplace\u001b[0m\u001b[0;34m(\u001b[0m\u001b[0;34m'오전'\u001b[0m\u001b[0;34m,\u001b[0m \u001b[0;34m'AM'\u001b[0m\u001b[0;34m)\u001b[0m\u001b[0;34m\u001b[0m\u001b[0;34m\u001b[0m\u001b[0m\n\u001b[0m\u001b[1;32m      3\u001b[0m \u001b[0mdf\u001b[0m\u001b[0;34m[\u001b[0m\u001b[0;34m'datetime'\u001b[0m\u001b[0;34m]\u001b[0m \u001b[0;34m=\u001b[0m \u001b[0mdf\u001b[0m\u001b[0;34m[\u001b[0m\u001b[0;34m'datetime'\u001b[0m\u001b[0;34m]\u001b[0m\u001b[0;34m.\u001b[0m\u001b[0mstr\u001b[0m\u001b[0;34m.\u001b[0m\u001b[0mreplace\u001b[0m\u001b[0;34m(\u001b[0m\u001b[0;34m'오후'\u001b[0m\u001b[0;34m,\u001b[0m \u001b[0;34m'PM'\u001b[0m\u001b[0;34m)\u001b[0m\u001b[0;34m\u001b[0m\u001b[0;34m\u001b[0m\u001b[0m\n\u001b[1;32m      4\u001b[0m \u001b[0mdf\u001b[0m\u001b[0;34m.\u001b[0m\u001b[0mhead\u001b[0m\u001b[0;34m(\u001b[0m\u001b[0;36m3\u001b[0m\u001b[0;34m)\u001b[0m\u001b[0;34m\u001b[0m\u001b[0;34m\u001b[0m\u001b[0m\n",
            "\u001b[0;32m/usr/local/lib/python3.10/dist-packages/pandas/core/frame.py\u001b[0m in \u001b[0;36m__getitem__\u001b[0;34m(self, key)\u001b[0m\n\u001b[1;32m   3805\u001b[0m             \u001b[0;32mif\u001b[0m \u001b[0mself\u001b[0m\u001b[0;34m.\u001b[0m\u001b[0mcolumns\u001b[0m\u001b[0;34m.\u001b[0m\u001b[0mnlevels\u001b[0m \u001b[0;34m>\u001b[0m \u001b[0;36m1\u001b[0m\u001b[0;34m:\u001b[0m\u001b[0;34m\u001b[0m\u001b[0;34m\u001b[0m\u001b[0m\n\u001b[1;32m   3806\u001b[0m                 \u001b[0;32mreturn\u001b[0m \u001b[0mself\u001b[0m\u001b[0;34m.\u001b[0m\u001b[0m_getitem_multilevel\u001b[0m\u001b[0;34m(\u001b[0m\u001b[0mkey\u001b[0m\u001b[0;34m)\u001b[0m\u001b[0;34m\u001b[0m\u001b[0;34m\u001b[0m\u001b[0m\n\u001b[0;32m-> 3807\u001b[0;31m             \u001b[0mindexer\u001b[0m \u001b[0;34m=\u001b[0m \u001b[0mself\u001b[0m\u001b[0;34m.\u001b[0m\u001b[0mcolumns\u001b[0m\u001b[0;34m.\u001b[0m\u001b[0mget_loc\u001b[0m\u001b[0;34m(\u001b[0m\u001b[0mkey\u001b[0m\u001b[0;34m)\u001b[0m\u001b[0;34m\u001b[0m\u001b[0;34m\u001b[0m\u001b[0m\n\u001b[0m\u001b[1;32m   3808\u001b[0m             \u001b[0;32mif\u001b[0m \u001b[0mis_integer\u001b[0m\u001b[0;34m(\u001b[0m\u001b[0mindexer\u001b[0m\u001b[0;34m)\u001b[0m\u001b[0;34m:\u001b[0m\u001b[0;34m\u001b[0m\u001b[0;34m\u001b[0m\u001b[0m\n\u001b[1;32m   3809\u001b[0m                 \u001b[0mindexer\u001b[0m \u001b[0;34m=\u001b[0m \u001b[0;34m[\u001b[0m\u001b[0mindexer\u001b[0m\u001b[0;34m]\u001b[0m\u001b[0;34m\u001b[0m\u001b[0;34m\u001b[0m\u001b[0m\n",
            "\u001b[0;32m/usr/local/lib/python3.10/dist-packages/pandas/core/indexes/base.py\u001b[0m in \u001b[0;36mget_loc\u001b[0;34m(self, key, method, tolerance)\u001b[0m\n\u001b[1;32m   3802\u001b[0m                 \u001b[0;32mreturn\u001b[0m \u001b[0mself\u001b[0m\u001b[0;34m.\u001b[0m\u001b[0m_engine\u001b[0m\u001b[0;34m.\u001b[0m\u001b[0mget_loc\u001b[0m\u001b[0;34m(\u001b[0m\u001b[0mcasted_key\u001b[0m\u001b[0;34m)\u001b[0m\u001b[0;34m\u001b[0m\u001b[0;34m\u001b[0m\u001b[0m\n\u001b[1;32m   3803\u001b[0m             \u001b[0;32mexcept\u001b[0m \u001b[0mKeyError\u001b[0m \u001b[0;32mas\u001b[0m \u001b[0merr\u001b[0m\u001b[0;34m:\u001b[0m\u001b[0;34m\u001b[0m\u001b[0;34m\u001b[0m\u001b[0m\n\u001b[0;32m-> 3804\u001b[0;31m                 \u001b[0;32mraise\u001b[0m \u001b[0mKeyError\u001b[0m\u001b[0;34m(\u001b[0m\u001b[0mkey\u001b[0m\u001b[0;34m)\u001b[0m \u001b[0;32mfrom\u001b[0m \u001b[0merr\u001b[0m\u001b[0;34m\u001b[0m\u001b[0;34m\u001b[0m\u001b[0m\n\u001b[0m\u001b[1;32m   3805\u001b[0m             \u001b[0;32mexcept\u001b[0m \u001b[0mTypeError\u001b[0m\u001b[0;34m:\u001b[0m\u001b[0;34m\u001b[0m\u001b[0;34m\u001b[0m\u001b[0m\n\u001b[1;32m   3806\u001b[0m                 \u001b[0;31m# If we have a listlike key, _check_indexing_error will raise\u001b[0m\u001b[0;34m\u001b[0m\u001b[0;34m\u001b[0m\u001b[0m\n",
            "\u001b[0;31mKeyError\u001b[0m: 'datetime'"
          ]
        }
      ],
      "source": [
        "# 오전/오후 --> AM/PM 으로 변경\n",
        "df['datetime'] = df['datetime'].str.replace('오전', 'AM')\n",
        "df['datetime'] = df['datetime'].str.replace('오후', 'PM')\n",
        "df.head(3)"
      ]
    },
    {
      "cell_type": "code",
      "execution_count": null,
      "id": "c50983f9",
      "metadata": {
        "id": "c50983f9"
      },
      "outputs": [],
      "source": [
        "# pandas 표준 date_time 포맷으로 변경\n",
        "# df['datetime'] = pd.to_datetime(df['datetime'], format='%Y. %m. %d. %p %I:%M')\n",
        "df['datetime'] = pd.to_datetime(df['datetime'], format='%Y년 %m월 %d일 %p %H:%M')\n",
        "df.head(3)"
      ]
    },
    {
      "cell_type": "code",
      "execution_count": null,
      "id": "87a224ed",
      "metadata": {
        "scrolled": false,
        "id": "87a224ed"
      },
      "outputs": [],
      "source": [
        "# text\tdate\tyear\tmonth\tday\tweekday\thour 컬럼 추가\n",
        "df['date'] = df['datetime'].dt.date\n",
        "df['year'] = df['datetime'].dt.year\n",
        "df['month'] = df['datetime'].dt.month\n",
        "df['day'] = df['datetime'].dt.day\n",
        "df['weekday'] = df['datetime'].dt.day_name()\n",
        "df['hour'] = df['datetime'].dt.hour\n",
        "df.head(3)"
      ]
    },
    {
      "cell_type": "markdown",
      "id": "df1b0e08",
      "metadata": {
        "id": "df1b0e08"
      },
      "source": [
        "### 카카오톡 메시지 길이"
      ]
    },
    {
      "cell_type": "code",
      "execution_count": 17,
      "id": "205a011c",
      "metadata": {
        "colab": {
          "base_uri": "https://localhost:8080/",
          "height": 539
        },
        "id": "205a011c",
        "outputId": "1f4d14da-4425-48e7-9ceb-780f564e7aed"
      },
      "outputs": [
        {
          "output_type": "error",
          "ename": "KeyError",
          "evalue": "ignored",
          "traceback": [
            "\u001b[0;31m---------------------------------------------------------------------------\u001b[0m",
            "\u001b[0;31mKeyError\u001b[0m                                  Traceback (most recent call last)",
            "\u001b[0;32m/usr/local/lib/python3.10/dist-packages/pandas/core/indexes/base.py\u001b[0m in \u001b[0;36mget_loc\u001b[0;34m(self, key, method, tolerance)\u001b[0m\n\u001b[1;32m   3801\u001b[0m             \u001b[0;32mtry\u001b[0m\u001b[0;34m:\u001b[0m\u001b[0;34m\u001b[0m\u001b[0;34m\u001b[0m\u001b[0m\n\u001b[0;32m-> 3802\u001b[0;31m                 \u001b[0;32mreturn\u001b[0m \u001b[0mself\u001b[0m\u001b[0;34m.\u001b[0m\u001b[0m_engine\u001b[0m\u001b[0;34m.\u001b[0m\u001b[0mget_loc\u001b[0m\u001b[0;34m(\u001b[0m\u001b[0mcasted_key\u001b[0m\u001b[0;34m)\u001b[0m\u001b[0;34m\u001b[0m\u001b[0;34m\u001b[0m\u001b[0m\n\u001b[0m\u001b[1;32m   3803\u001b[0m             \u001b[0;32mexcept\u001b[0m \u001b[0mKeyError\u001b[0m \u001b[0;32mas\u001b[0m \u001b[0merr\u001b[0m\u001b[0;34m:\u001b[0m\u001b[0;34m\u001b[0m\u001b[0;34m\u001b[0m\u001b[0m\n",
            "\u001b[0;32m/usr/local/lib/python3.10/dist-packages/pandas/_libs/index.pyx\u001b[0m in \u001b[0;36mpandas._libs.index.IndexEngine.get_loc\u001b[0;34m()\u001b[0m\n",
            "\u001b[0;32m/usr/local/lib/python3.10/dist-packages/pandas/_libs/index.pyx\u001b[0m in \u001b[0;36mpandas._libs.index.IndexEngine.get_loc\u001b[0;34m()\u001b[0m\n",
            "\u001b[0;32mpandas/_libs/hashtable_class_helper.pxi\u001b[0m in \u001b[0;36mpandas._libs.hashtable.PyObjectHashTable.get_item\u001b[0;34m()\u001b[0m\n",
            "\u001b[0;32mpandas/_libs/hashtable_class_helper.pxi\u001b[0m in \u001b[0;36mpandas._libs.hashtable.PyObjectHashTable.get_item\u001b[0;34m()\u001b[0m\n",
            "\u001b[0;31mKeyError\u001b[0m: 'text'",
            "\nThe above exception was the direct cause of the following exception:\n",
            "\u001b[0;31mKeyError\u001b[0m                                  Traceback (most recent call last)",
            "\u001b[0;32m<ipython-input-17-5d30140eb56e>\u001b[0m in \u001b[0;36m<cell line: 2>\u001b[0;34m()\u001b[0m\n\u001b[1;32m      1\u001b[0m \u001b[0;31m# 메시지 길이, 메시지 단어 개수  컬럼 추가\u001b[0m\u001b[0;34m\u001b[0m\u001b[0;34m\u001b[0m\u001b[0m\n\u001b[0;32m----> 2\u001b[0;31m \u001b[0mdf\u001b[0m\u001b[0;34m[\u001b[0m\u001b[0;34m'msg_len'\u001b[0m\u001b[0;34m]\u001b[0m \u001b[0;34m=\u001b[0m \u001b[0mdf\u001b[0m\u001b[0;34m[\u001b[0m\u001b[0;34m'text'\u001b[0m\u001b[0;34m]\u001b[0m\u001b[0;34m.\u001b[0m\u001b[0mstr\u001b[0m\u001b[0;34m.\u001b[0m\u001b[0mlen\u001b[0m\u001b[0;34m(\u001b[0m\u001b[0;34m)\u001b[0m  \u001b[0;31m# 메시지 길이\u001b[0m\u001b[0;34m\u001b[0m\u001b[0;34m\u001b[0m\u001b[0m\n\u001b[0m\u001b[1;32m      3\u001b[0m \u001b[0mdf\u001b[0m\u001b[0;34m[\u001b[0m\u001b[0;34m'msg_word_count'\u001b[0m\u001b[0;34m]\u001b[0m \u001b[0;34m=\u001b[0m \u001b[0mdf\u001b[0m\u001b[0;34m[\u001b[0m\u001b[0;34m'text'\u001b[0m\u001b[0;34m]\u001b[0m\u001b[0;34m.\u001b[0m\u001b[0mstr\u001b[0m\u001b[0;34m.\u001b[0m\u001b[0msplit\u001b[0m\u001b[0;34m(\u001b[0m\u001b[0;34m)\u001b[0m\u001b[0;34m.\u001b[0m\u001b[0mstr\u001b[0m\u001b[0;34m.\u001b[0m\u001b[0mlen\u001b[0m\u001b[0;34m(\u001b[0m\u001b[0;34m)\u001b[0m \u001b[0;31m#메시지 단어 개수\u001b[0m\u001b[0;34m\u001b[0m\u001b[0;34m\u001b[0m\u001b[0m\n\u001b[1;32m      4\u001b[0m \u001b[0mdf\u001b[0m\u001b[0;34m.\u001b[0m\u001b[0mhead\u001b[0m\u001b[0;34m(\u001b[0m\u001b[0;34m)\u001b[0m\u001b[0;34m\u001b[0m\u001b[0;34m\u001b[0m\u001b[0m\n",
            "\u001b[0;32m/usr/local/lib/python3.10/dist-packages/pandas/core/frame.py\u001b[0m in \u001b[0;36m__getitem__\u001b[0;34m(self, key)\u001b[0m\n\u001b[1;32m   3805\u001b[0m             \u001b[0;32mif\u001b[0m \u001b[0mself\u001b[0m\u001b[0;34m.\u001b[0m\u001b[0mcolumns\u001b[0m\u001b[0;34m.\u001b[0m\u001b[0mnlevels\u001b[0m \u001b[0;34m>\u001b[0m \u001b[0;36m1\u001b[0m\u001b[0;34m:\u001b[0m\u001b[0;34m\u001b[0m\u001b[0;34m\u001b[0m\u001b[0m\n\u001b[1;32m   3806\u001b[0m                 \u001b[0;32mreturn\u001b[0m \u001b[0mself\u001b[0m\u001b[0;34m.\u001b[0m\u001b[0m_getitem_multilevel\u001b[0m\u001b[0;34m(\u001b[0m\u001b[0mkey\u001b[0m\u001b[0;34m)\u001b[0m\u001b[0;34m\u001b[0m\u001b[0;34m\u001b[0m\u001b[0m\n\u001b[0;32m-> 3807\u001b[0;31m             \u001b[0mindexer\u001b[0m \u001b[0;34m=\u001b[0m \u001b[0mself\u001b[0m\u001b[0;34m.\u001b[0m\u001b[0mcolumns\u001b[0m\u001b[0;34m.\u001b[0m\u001b[0mget_loc\u001b[0m\u001b[0;34m(\u001b[0m\u001b[0mkey\u001b[0m\u001b[0;34m)\u001b[0m\u001b[0;34m\u001b[0m\u001b[0;34m\u001b[0m\u001b[0m\n\u001b[0m\u001b[1;32m   3808\u001b[0m             \u001b[0;32mif\u001b[0m \u001b[0mis_integer\u001b[0m\u001b[0;34m(\u001b[0m\u001b[0mindexer\u001b[0m\u001b[0;34m)\u001b[0m\u001b[0;34m:\u001b[0m\u001b[0;34m\u001b[0m\u001b[0;34m\u001b[0m\u001b[0m\n\u001b[1;32m   3809\u001b[0m                 \u001b[0mindexer\u001b[0m \u001b[0;34m=\u001b[0m \u001b[0;34m[\u001b[0m\u001b[0mindexer\u001b[0m\u001b[0;34m]\u001b[0m\u001b[0;34m\u001b[0m\u001b[0;34m\u001b[0m\u001b[0m\n",
            "\u001b[0;32m/usr/local/lib/python3.10/dist-packages/pandas/core/indexes/base.py\u001b[0m in \u001b[0;36mget_loc\u001b[0;34m(self, key, method, tolerance)\u001b[0m\n\u001b[1;32m   3802\u001b[0m                 \u001b[0;32mreturn\u001b[0m \u001b[0mself\u001b[0m\u001b[0;34m.\u001b[0m\u001b[0m_engine\u001b[0m\u001b[0;34m.\u001b[0m\u001b[0mget_loc\u001b[0m\u001b[0;34m(\u001b[0m\u001b[0mcasted_key\u001b[0m\u001b[0;34m)\u001b[0m\u001b[0;34m\u001b[0m\u001b[0;34m\u001b[0m\u001b[0m\n\u001b[1;32m   3803\u001b[0m             \u001b[0;32mexcept\u001b[0m \u001b[0mKeyError\u001b[0m \u001b[0;32mas\u001b[0m \u001b[0merr\u001b[0m\u001b[0;34m:\u001b[0m\u001b[0;34m\u001b[0m\u001b[0;34m\u001b[0m\u001b[0m\n\u001b[0;32m-> 3804\u001b[0;31m                 \u001b[0;32mraise\u001b[0m \u001b[0mKeyError\u001b[0m\u001b[0;34m(\u001b[0m\u001b[0mkey\u001b[0m\u001b[0;34m)\u001b[0m \u001b[0;32mfrom\u001b[0m \u001b[0merr\u001b[0m\u001b[0;34m\u001b[0m\u001b[0;34m\u001b[0m\u001b[0m\n\u001b[0m\u001b[1;32m   3805\u001b[0m             \u001b[0;32mexcept\u001b[0m \u001b[0mTypeError\u001b[0m\u001b[0;34m:\u001b[0m\u001b[0;34m\u001b[0m\u001b[0;34m\u001b[0m\u001b[0m\n\u001b[1;32m   3806\u001b[0m                 \u001b[0;31m# If we have a listlike key, _check_indexing_error will raise\u001b[0m\u001b[0;34m\u001b[0m\u001b[0;34m\u001b[0m\u001b[0m\n",
            "\u001b[0;31mKeyError\u001b[0m: 'text'"
          ]
        }
      ],
      "source": [
        "# 메시지 길이, 메시지 단어 개수  컬럼 추가\n",
        "df['msg_len'] = df['text'].str.len()  # 메시지 길이\n",
        "df['msg_word_count'] = df['text'].str.split().str.len() #메시지 단어 개수\n",
        "df.head()"
      ]
    },
    {
      "cell_type": "markdown",
      "id": "97b7b12f",
      "metadata": {
        "id": "97b7b12f"
      },
      "source": [
        "### 사진, 동영상 정보 추출"
      ]
    },
    {
      "cell_type": "code",
      "execution_count": 15,
      "id": "1ed93014",
      "metadata": {
        "colab": {
          "base_uri": "https://localhost:8080/",
          "height": 539
        },
        "id": "1ed93014",
        "outputId": "c8d23cc6-d324-4f5e-a675-d09f8e3ec25f"
      },
      "outputs": [
        {
          "output_type": "error",
          "ename": "KeyError",
          "evalue": "ignored",
          "traceback": [
            "\u001b[0;31m---------------------------------------------------------------------------\u001b[0m",
            "\u001b[0;31mKeyError\u001b[0m                                  Traceback (most recent call last)",
            "\u001b[0;32m/usr/local/lib/python3.10/dist-packages/pandas/core/indexes/base.py\u001b[0m in \u001b[0;36mget_loc\u001b[0;34m(self, key, method, tolerance)\u001b[0m\n\u001b[1;32m   3801\u001b[0m             \u001b[0;32mtry\u001b[0m\u001b[0;34m:\u001b[0m\u001b[0;34m\u001b[0m\u001b[0;34m\u001b[0m\u001b[0m\n\u001b[0;32m-> 3802\u001b[0;31m                 \u001b[0;32mreturn\u001b[0m \u001b[0mself\u001b[0m\u001b[0;34m.\u001b[0m\u001b[0m_engine\u001b[0m\u001b[0;34m.\u001b[0m\u001b[0mget_loc\u001b[0m\u001b[0;34m(\u001b[0m\u001b[0mcasted_key\u001b[0m\u001b[0;34m)\u001b[0m\u001b[0;34m\u001b[0m\u001b[0;34m\u001b[0m\u001b[0m\n\u001b[0m\u001b[1;32m   3803\u001b[0m             \u001b[0;32mexcept\u001b[0m \u001b[0mKeyError\u001b[0m \u001b[0;32mas\u001b[0m \u001b[0merr\u001b[0m\u001b[0;34m:\u001b[0m\u001b[0;34m\u001b[0m\u001b[0;34m\u001b[0m\u001b[0m\n",
            "\u001b[0;32m/usr/local/lib/python3.10/dist-packages/pandas/_libs/index.pyx\u001b[0m in \u001b[0;36mpandas._libs.index.IndexEngine.get_loc\u001b[0;34m()\u001b[0m\n",
            "\u001b[0;32m/usr/local/lib/python3.10/dist-packages/pandas/_libs/index.pyx\u001b[0m in \u001b[0;36mpandas._libs.index.IndexEngine.get_loc\u001b[0;34m()\u001b[0m\n",
            "\u001b[0;32mpandas/_libs/hashtable_class_helper.pxi\u001b[0m in \u001b[0;36mpandas._libs.hashtable.PyObjectHashTable.get_item\u001b[0;34m()\u001b[0m\n",
            "\u001b[0;32mpandas/_libs/hashtable_class_helper.pxi\u001b[0m in \u001b[0;36mpandas._libs.hashtable.PyObjectHashTable.get_item\u001b[0;34m()\u001b[0m\n",
            "\u001b[0;31mKeyError\u001b[0m: 'text'",
            "\nThe above exception was the direct cause of the following exception:\n",
            "\u001b[0;31mKeyError\u001b[0m                                  Traceback (most recent call last)",
            "\u001b[0;32m<ipython-input-15-782b12e5ce54>\u001b[0m in \u001b[0;36m<cell line: 2>\u001b[0;34m()\u001b[0m\n\u001b[1;32m      1\u001b[0m \u001b[0maudio_visual_text\u001b[0m \u001b[0;34m=\u001b[0m \u001b[0;34m'^동영상$|^사진$|^사진 [0-9]{1,2}장$'\u001b[0m\u001b[0;34m\u001b[0m\u001b[0;34m\u001b[0m\u001b[0m\n\u001b[0;32m----> 2\u001b[0;31m \u001b[0mmask\u001b[0m \u001b[0;34m=\u001b[0m \u001b[0mdf\u001b[0m\u001b[0;34m[\u001b[0m\u001b[0;34m'text'\u001b[0m\u001b[0;34m]\u001b[0m\u001b[0;34m.\u001b[0m\u001b[0mstr\u001b[0m\u001b[0;34m.\u001b[0m\u001b[0mcontains\u001b[0m\u001b[0;34m(\u001b[0m\u001b[0maudio_visual_text\u001b[0m\u001b[0;34m)\u001b[0m\u001b[0;34m\u001b[0m\u001b[0;34m\u001b[0m\u001b[0m\n\u001b[0m\u001b[1;32m      3\u001b[0m \u001b[0mdf\u001b[0m\u001b[0;34m.\u001b[0m\u001b[0mloc\u001b[0m\u001b[0;34m[\u001b[0m\u001b[0mmask\u001b[0m\u001b[0;34m,\u001b[0m \u001b[0;34m'audio_visual'\u001b[0m\u001b[0;34m]\u001b[0m \u001b[0;34m=\u001b[0m \u001b[0;36m1\u001b[0m\u001b[0;34m\u001b[0m\u001b[0;34m\u001b[0m\u001b[0m\n\u001b[1;32m      4\u001b[0m \u001b[0mdf\u001b[0m\u001b[0;34m.\u001b[0m\u001b[0mloc\u001b[0m\u001b[0;34m[\u001b[0m\u001b[0;34m~\u001b[0m\u001b[0mmask\u001b[0m\u001b[0;34m,\u001b[0m \u001b[0;34m'audio_visual'\u001b[0m\u001b[0;34m]\u001b[0m \u001b[0;34m=\u001b[0m \u001b[0;36m0\u001b[0m\u001b[0;34m\u001b[0m\u001b[0;34m\u001b[0m\u001b[0m\n",
            "\u001b[0;32m/usr/local/lib/python3.10/dist-packages/pandas/core/frame.py\u001b[0m in \u001b[0;36m__getitem__\u001b[0;34m(self, key)\u001b[0m\n\u001b[1;32m   3805\u001b[0m             \u001b[0;32mif\u001b[0m \u001b[0mself\u001b[0m\u001b[0;34m.\u001b[0m\u001b[0mcolumns\u001b[0m\u001b[0;34m.\u001b[0m\u001b[0mnlevels\u001b[0m \u001b[0;34m>\u001b[0m \u001b[0;36m1\u001b[0m\u001b[0;34m:\u001b[0m\u001b[0;34m\u001b[0m\u001b[0;34m\u001b[0m\u001b[0m\n\u001b[1;32m   3806\u001b[0m                 \u001b[0;32mreturn\u001b[0m \u001b[0mself\u001b[0m\u001b[0;34m.\u001b[0m\u001b[0m_getitem_multilevel\u001b[0m\u001b[0;34m(\u001b[0m\u001b[0mkey\u001b[0m\u001b[0;34m)\u001b[0m\u001b[0;34m\u001b[0m\u001b[0;34m\u001b[0m\u001b[0m\n\u001b[0;32m-> 3807\u001b[0;31m             \u001b[0mindexer\u001b[0m \u001b[0;34m=\u001b[0m \u001b[0mself\u001b[0m\u001b[0;34m.\u001b[0m\u001b[0mcolumns\u001b[0m\u001b[0;34m.\u001b[0m\u001b[0mget_loc\u001b[0m\u001b[0;34m(\u001b[0m\u001b[0mkey\u001b[0m\u001b[0;34m)\u001b[0m\u001b[0;34m\u001b[0m\u001b[0;34m\u001b[0m\u001b[0m\n\u001b[0m\u001b[1;32m   3808\u001b[0m             \u001b[0;32mif\u001b[0m \u001b[0mis_integer\u001b[0m\u001b[0;34m(\u001b[0m\u001b[0mindexer\u001b[0m\u001b[0;34m)\u001b[0m\u001b[0;34m:\u001b[0m\u001b[0;34m\u001b[0m\u001b[0;34m\u001b[0m\u001b[0m\n\u001b[1;32m   3809\u001b[0m                 \u001b[0mindexer\u001b[0m \u001b[0;34m=\u001b[0m \u001b[0;34m[\u001b[0m\u001b[0mindexer\u001b[0m\u001b[0;34m]\u001b[0m\u001b[0;34m\u001b[0m\u001b[0;34m\u001b[0m\u001b[0m\n",
            "\u001b[0;32m/usr/local/lib/python3.10/dist-packages/pandas/core/indexes/base.py\u001b[0m in \u001b[0;36mget_loc\u001b[0;34m(self, key, method, tolerance)\u001b[0m\n\u001b[1;32m   3802\u001b[0m                 \u001b[0;32mreturn\u001b[0m \u001b[0mself\u001b[0m\u001b[0;34m.\u001b[0m\u001b[0m_engine\u001b[0m\u001b[0;34m.\u001b[0m\u001b[0mget_loc\u001b[0m\u001b[0;34m(\u001b[0m\u001b[0mcasted_key\u001b[0m\u001b[0;34m)\u001b[0m\u001b[0;34m\u001b[0m\u001b[0;34m\u001b[0m\u001b[0m\n\u001b[1;32m   3803\u001b[0m             \u001b[0;32mexcept\u001b[0m \u001b[0mKeyError\u001b[0m \u001b[0;32mas\u001b[0m \u001b[0merr\u001b[0m\u001b[0;34m:\u001b[0m\u001b[0;34m\u001b[0m\u001b[0;34m\u001b[0m\u001b[0m\n\u001b[0;32m-> 3804\u001b[0;31m                 \u001b[0;32mraise\u001b[0m \u001b[0mKeyError\u001b[0m\u001b[0;34m(\u001b[0m\u001b[0mkey\u001b[0m\u001b[0;34m)\u001b[0m \u001b[0;32mfrom\u001b[0m \u001b[0merr\u001b[0m\u001b[0;34m\u001b[0m\u001b[0;34m\u001b[0m\u001b[0m\n\u001b[0m\u001b[1;32m   3805\u001b[0m             \u001b[0;32mexcept\u001b[0m \u001b[0mTypeError\u001b[0m\u001b[0;34m:\u001b[0m\u001b[0;34m\u001b[0m\u001b[0;34m\u001b[0m\u001b[0m\n\u001b[1;32m   3806\u001b[0m                 \u001b[0;31m# If we have a listlike key, _check_indexing_error will raise\u001b[0m\u001b[0;34m\u001b[0m\u001b[0;34m\u001b[0m\u001b[0m\n",
            "\u001b[0;31mKeyError\u001b[0m: 'text'"
          ]
        }
      ],
      "source": [
        "audio_visual_text = '^동영상$|^사진$|^사진 [0-9]{1,2}장$'\n",
        "mask = df['text'].str.contains(audio_visual_text)\n",
        "df.loc[mask, 'audio_visual'] = 1\n",
        "df.loc[~mask, 'audio_visual'] = 0"
      ]
    },
    {
      "cell_type": "code",
      "execution_count": null,
      "id": "2aa57f72",
      "metadata": {
        "scrolled": false,
        "id": "2aa57f72"
      },
      "outputs": [],
      "source": [
        "# 메시지 건수 조정 (동영상/사진 등을 메시지로 인식한 경우 메시지 건수 0)\n",
        "df.loc[mask, 'msg_len'] = 0\n",
        "df.loc[mask, 'msg_word_count'] = 0\n",
        "df[df['audio_visual']==1]"
      ]
    },
    {
      "cell_type": "markdown",
      "id": "2161d681",
      "metadata": {
        "id": "2161d681"
      },
      "source": [
        "### 통화 정보 추출하기\n",
        "- 페이스톡 해요 (Face Call) : 통화 걸기\n",
        "- 페이스톡 취소 (Cancelled Face Call): 통화 취소\n",
        "- 페이스톡 부재중 (Missed Video Call): 상대방이 걸어왔지만 내가 응답 없었을 때\n",
        "- 페이스톡 응답없음 (No Answer on Video Call): 내가 걸었지만 상대방이 응답 없었을 때\n",
        "- 페이스톡 8:02 (Video Call 8:02): 10분 이내 통화\n",
        "- 페이스톡 26:25 (Video Call 26:25): 10분 이상 통화\n",
        "- 페이스톡 1:30:19 (Video Call 1:30:19): 1시간 이상 통화"
      ]
    },
    {
      "cell_type": "code",
      "execution_count": null,
      "id": "4e2b60c9",
      "metadata": {
        "id": "4e2b60c9"
      },
      "outputs": [],
      "source": [
        "df[df['text'].str.contains('보이스톡|페이스톡')]"
      ]
    },
    {
      "cell_type": "code",
      "execution_count": null,
      "id": "87f317cb",
      "metadata": {
        "id": "87f317cb"
      },
      "outputs": [],
      "source": [
        "def get_call_length(call_df):\n",
        "\n",
        "    call_mask = call_df.text.str.contains('해요|취소|부재중|응답없음')  # 0\n",
        "    call_df = call_df.text.str.extract('([0-9]{1,2}:)*([0-9]{1,2}):([0-9]{2})')  # 1\n",
        "    call_df[0] = call_df[0].str.replace(':', '')  # 2\n",
        "    call_df[0] = call_df[0].fillna(0)  # 3\n",
        "    call_df = call_df.astype(float)  # 4\n",
        "    call_df['call_len'] = call_df[0] * 3660 + call_df[1] * 60 + call_df[2]  # 5\n",
        "    call_df.loc[call_mask, 'call_len'] = 0  # 6\n",
        "\n",
        "    return call_df[['call_len']]  # 7\n",
        "\n",
        "call_col_dict = {\n",
        "    '페이스톡|Video Call': 'facetalk',\n",
        "    '보이스톡|Voice Call': 'voicetalk',\n",
        "}\n",
        "\n",
        "\n",
        "for call in call_col_dict:\n",
        "    mask = df['text'].str.contains(call)\n",
        "    call_df = get_call_length(df[mask])\n",
        "    call_df = call_df.rename(columns={'call_len': call_col_dict[call]})\n",
        "    call_df.head()\n",
        "\n",
        "    df = pd.concat([df, call_df], axis=1)"
      ]
    },
    {
      "cell_type": "code",
      "execution_count": null,
      "id": "aa1a7bd0",
      "metadata": {
        "id": "aa1a7bd0"
      },
      "outputs": [],
      "source": [
        "mask = (df['voicetalk'] >= 0) | (df['facetalk'] >= 0)\n",
        "df.loc[mask, 'msg_len'] = 0\n",
        "df.loc[mask, 'msg_word_count'] = 0"
      ]
    },
    {
      "cell_type": "code",
      "execution_count": null,
      "id": "e63f3ee3",
      "metadata": {
        "scrolled": true,
        "id": "e63f3ee3"
      },
      "outputs": [],
      "source": [
        "df[df['text'].str.contains('보이스톡|페이스톡')]"
      ]
    },
    {
      "cell_type": "markdown",
      "id": "33389716",
      "metadata": {
        "id": "33389716"
      },
      "source": [
        "### 비언어 표현 추출하기(이모티콘 등)"
      ]
    },
    {
      "cell_type": "markdown",
      "id": "755ca5aa",
      "metadata": {
        "id": "755ca5aa"
      },
      "source": [
        "| 비언어 표현 | 텍스트 데이터 예시 | 정규표현식 |\n",
        "|--|--|--|\n",
        "|웃음, 울음 (ㅋㅋ, ㅎㅎ)  |ㅋㅋ, ㅋㅋㅋㅋ, ㅎㅎㅎㅎㅎ  |[ㅋㅎㅠㅜ]+  |\n",
        "|느낌표 (!) , 물음표 (?)  |!, !!!!!!!, !?!?, ?????  |[!?~]+  |\n",
        "| 쉼표(,), 점(.) | ……. ,,,,,, | [,.]{2,} |\n",
        "| 이모티콘 타입 1 (입 중심)  | :) :D | \t[;:]{1}-?[)(DPpboOX] |\n",
        " |이모티콘 타입 1 (눈 중심)  | ^^, ㅜㅜ | ([>ㅜㅠㅡ@\\^-+][ㅁㅇ0oO._-] *[\\^ㅜㅠㅡ@<-+<];) |\n",
        "| 이모티콘 타입 2 | 😃😆😍❤ | 정규표현식 대신 emoji 라이브러리 사용 |\n",
        "| 이모티콘 타입 3 | (반함) (굿) (찡긋) (이모티콘 |  ((.*?)+) |"
      ]
    },
    {
      "cell_type": "code",
      "execution_count": null,
      "id": "5d2ad981",
      "metadata": {
        "scrolled": true,
        "id": "5d2ad981"
      },
      "outputs": [],
      "source": [
        "df"
      ]
    },
    {
      "cell_type": "code",
      "execution_count": null,
      "id": "46b67305",
      "metadata": {
        "id": "46b67305"
      },
      "outputs": [],
      "source": [
        "# 모두 포함하는 정규 표현식\n",
        "# (\\(.+?\\)) | ([ㅋㅎㅠㅜ!?~]+) | [,.]{2,} | ([;:]{1}[\\^\\'-]?[)(DPpboOX]) | ([>ㅜㅠㅡ@+\\^][ㅁㅇ0oO\\._\\-]*[\\^ㅜㅠㅡ@+<];*)"
      ]
    },
    {
      "cell_type": "code",
      "execution_count": null,
      "id": "87f69a2d",
      "metadata": {
        "id": "87f69a2d"
      },
      "outputs": [],
      "source": [
        "# 이모지 라이브러리 설치\n",
        "!pip install emoji"
      ]
    },
    {
      "cell_type": "code",
      "execution_count": null,
      "id": "842b87e8",
      "metadata": {
        "scrolled": true,
        "id": "842b87e8"
      },
      "outputs": [],
      "source": [
        "import emoji\n",
        "\n",
        "def extract_emojis(text):\n",
        "    emoji_list = list()\n",
        "    for c in text:\n",
        "#         if c in emoji.UNICODE_EMOJI['en']:\n",
        "        if c in emoji.EMOJI_DATA:\n",
        "            emoji_list.append(c)\n",
        "\n",
        "    return emoji_list\n",
        "\n",
        "mimetic= \"[ㅋㅎㅠㅜ!?~]+\"\n",
        "punctuations = \"[,.]{2,}\"\n",
        "emo_type1_facial1 = \"[;:]{1}[\\^\\'-]?[)(DPpboOX]\"\n",
        "emo_type1_facial2 = \"[>ㅜㅠㅡ@\\^][ㅁㅇ0oO\\._\\-]*[\\^ㅜㅠㅡ@<];*\"\n",
        "emo_type3 = \"\\(.+?\\)\"\n",
        "\n",
        "# 1개ㅔ 이상의 비언어 표현을 가지고 있는 데이터 출력하기\n",
        "nonverbal_list = [mimetic, punctuations, emo_type1_facial1, emo_type1_facial2, emo_type3]\n",
        "\n",
        "df['nonverbal'] = df['text'].str.findall('|'.join(nonverbal_list)) + df['text'].map(extract_emojis)\n",
        "df['nonverbal_count'] = df['nonverbal'].apply(len)\n",
        "df.loc[df['nonverbal_count'] > 0]\n"
      ]
    },
    {
      "cell_type": "markdown",
      "id": "3213cfc9",
      "metadata": {
        "id": "3213cfc9"
      },
      "source": [
        "#### 이모티콘 사용"
      ]
    },
    {
      "cell_type": "code",
      "execution_count": null,
      "id": "4e54f6b1",
      "metadata": {
        "scrolled": true,
        "id": "4e54f6b1"
      },
      "outputs": [],
      "source": [
        "# 이모티콘 사용한 레코드 변경\n",
        "df.loc[df['text'] == '이모티콘', 'nonverbal'] = '[emoticon]'\n",
        "df.loc[df['text'] == '이모티콘', 'nonverbal_count'] = 1\n",
        "df.loc[df['text'] == '이모티콘', 'msg_len'] = 0\n",
        "df.loc[df['text'] == '이모티콘', 'msg_word_count'] = 0\n",
        "df.loc[df['text'] == '이모티콘']"
      ]
    },
    {
      "cell_type": "code",
      "execution_count": null,
      "id": "351301b7",
      "metadata": {
        "id": "351301b7"
      },
      "outputs": [],
      "source": [
        "df.loc[df['text'] == '이모티콘'].count()"
      ]
    },
    {
      "cell_type": "markdown",
      "id": "e828e40b",
      "metadata": {
        "id": "e828e40b"
      },
      "source": [
        "### URL 추출하기"
      ]
    },
    {
      "cell_type": "code",
      "execution_count": null,
      "id": "0f0f48a0",
      "metadata": {
        "id": "0f0f48a0"
      },
      "outputs": [],
      "source": [
        "# URL 추출 라이브러리 설치하기\n",
        "!pip install urlextract"
      ]
    },
    {
      "cell_type": "code",
      "execution_count": null,
      "id": "8a9c04f1",
      "metadata": {
        "id": "8a9c04f1"
      },
      "outputs": [],
      "source": [
        "# URL 추출 예제\n",
        "from urlextract import URLExtract\n",
        "\n",
        "text = \"\"\"Google Colab: https://colab.research.google.com.\n",
        "       Introduction for google colab: https://colab.research.google.com/notebooks/intro.ipynb\"\"\"\n",
        "\n",
        "extractor = URLExtract()\n",
        "urls = extractor.find_urls(text)\n",
        "\n",
        "for url in urls:\n",
        "    print(url)"
      ]
    },
    {
      "cell_type": "code",
      "execution_count": null,
      "id": "b54e1ed2",
      "metadata": {
        "id": "b54e1ed2"
      },
      "outputs": [],
      "source": [
        "from urlextract import URLExtract\n",
        "\n",
        "\n",
        "extractor = URLExtract()\n",
        "\n",
        "df['url'] = df['text'].apply(extractor.find_urls)\n",
        "\n",
        "\n",
        "df['url_count'] = df['url'].apply(len)\n",
        "url_df = df.loc[df['url_count'] > 0]\n",
        "url_df[['date_time','user_name','url','url_count']]\n"
      ]
    },
    {
      "cell_type": "markdown",
      "id": "937638c2",
      "metadata": {
        "id": "937638c2"
      },
      "source": [
        "### 특정 조건의 컬럼 값 변경"
      ]
    },
    {
      "cell_type": "code",
      "execution_count": null,
      "id": "50589f72",
      "metadata": {
        "scrolled": true,
        "id": "50589f72"
      },
      "outputs": [],
      "source": [
        "df.loc[df['user_name'] == 'TMD-최수경-샘', 'user_name'] = '최수경'"
      ]
    },
    {
      "cell_type": "markdown",
      "id": "4f55e7e8",
      "metadata": {
        "id": "4f55e7e8"
      },
      "source": [
        "### 데이터 저장하기"
      ]
    },
    {
      "cell_type": "code",
      "execution_count": null,
      "id": "1b85a630",
      "metadata": {
        "id": "1b85a630"
      },
      "outputs": [],
      "source": [
        "fname = 'data/KakaoTalkChats_데이터분석_결과.csv'\n",
        "df.to_csv(fname)"
      ]
    },
    {
      "cell_type": "code",
      "execution_count": null,
      "id": "1528c7a0",
      "metadata": {
        "id": "1528c7a0"
      },
      "outputs": [],
      "source": [
        "df = pd.read_csv(fname, encoding='utf-8')\n",
        "df"
      ]
    },
    {
      "cell_type": "markdown",
      "id": "2bacaeaf",
      "metadata": {
        "id": "2bacaeaf"
      },
      "source": [
        "----------------------------------------"
      ]
    },
    {
      "cell_type": "markdown",
      "id": "7a8eaed1",
      "metadata": {
        "id": "7a8eaed1"
      },
      "source": [
        "## 4. (기술통계)데이터 시각화\n",
        "- https://wikidocs.net/162798"
      ]
    },
    {
      "cell_type": "markdown",
      "id": "6ac44080",
      "metadata": {
        "id": "6ac44080"
      },
      "source": [
        "### 일자별 선/막대 그래프 (plotly)"
      ]
    },
    {
      "cell_type": "code",
      "execution_count": null,
      "id": "e762472a",
      "metadata": {
        "scrolled": true,
        "id": "e762472a"
      },
      "outputs": [],
      "source": [
        "import plotly.express as px\n",
        "\n",
        "# 선그래프\n",
        "fig = px.line(df, x='date', title='카카오톡 일자별 메시지')\n",
        "fig"
      ]
    },
    {
      "cell_type": "code",
      "execution_count": null,
      "id": "6e3ddb57",
      "metadata": {
        "id": "6e3ddb57"
      },
      "outputs": [],
      "source": [
        "# 막대 그래프\n",
        "fig = px.bar(df, x='date', title='카카오톡 일자별 메시지')\n",
        "fig"
      ]
    },
    {
      "cell_type": "code",
      "execution_count": null,
      "id": "dd72bd18",
      "metadata": {
        "id": "dd72bd18"
      },
      "outputs": [],
      "source": [
        "# 점그래프\n",
        "fig = px.scatter(df, x='date', title='카카오톡 일자별 메시지')\n",
        "fig"
      ]
    },
    {
      "cell_type": "markdown",
      "id": "1f590970",
      "metadata": {
        "id": "1f590970"
      },
      "source": [
        "### 사용자별 메시지 건수"
      ]
    },
    {
      "cell_type": "code",
      "execution_count": null,
      "id": "4d3b1705",
      "metadata": {
        "id": "4d3b1705"
      },
      "outputs": [],
      "source": [
        "# 유니크한 사용자\n",
        "df['user_name'].unique()"
      ]
    },
    {
      "cell_type": "code",
      "execution_count": null,
      "id": "9c2cfca2",
      "metadata": {
        "id": "9c2cfca2"
      },
      "outputs": [],
      "source": [
        "# 사용자별 메시지 건수(default  파레토(Pareto) 분포: 내림차순 정렬)\n",
        "df['user_name'].value_counts()"
      ]
    },
    {
      "cell_type": "code",
      "execution_count": null,
      "id": "c2d43229",
      "metadata": {
        "scrolled": true,
        "id": "c2d43229"
      },
      "outputs": [],
      "source": [
        "# 사용자별 메시지 건수\n",
        "fig = px.bar(df['user_name'].value_counts())\n",
        "fig.show()"
      ]
    },
    {
      "cell_type": "markdown",
      "id": "3383b027",
      "metadata": {
        "id": "3383b027"
      },
      "source": [
        "### 요일별 / 시간별 메시지 건수"
      ]
    },
    {
      "cell_type": "code",
      "execution_count": null,
      "id": "e24f49d8",
      "metadata": {
        "id": "e24f49d8"
      },
      "outputs": [],
      "source": [
        "# 요일별 메시지 건수\n",
        "df['weekday'].value_counts()"
      ]
    },
    {
      "cell_type": "code",
      "execution_count": null,
      "id": "028815c3",
      "metadata": {
        "id": "028815c3"
      },
      "outputs": [],
      "source": [
        "# 시간별 메시지 건수\n",
        "df['hour'].value_counts()"
      ]
    },
    {
      "cell_type": "code",
      "execution_count": null,
      "id": "4ab28fe0",
      "metadata": {
        "id": "4ab28fe0"
      },
      "outputs": [],
      "source": [
        "# 시간별 메시지 건수(인덱스 순서대로 정렬)\n",
        "df['hour'].value_counts().sort_index()"
      ]
    },
    {
      "cell_type": "code",
      "execution_count": null,
      "id": "3c2ec4bf",
      "metadata": {
        "scrolled": true,
        "id": "3c2ec4bf"
      },
      "outputs": [],
      "source": [
        "# 시간별 메시지 건수\n",
        "fig = px.bar(df['hour'].value_counts().sort_index())\n",
        "fig.show()"
      ]
    },
    {
      "cell_type": "markdown",
      "id": "8926cd01",
      "metadata": {
        "id": "8926cd01"
      },
      "source": [
        "### 일자별 히스토그램 : 슬라이더 그래프"
      ]
    },
    {
      "cell_type": "code",
      "execution_count": null,
      "id": "f480a1fc",
      "metadata": {
        "scrolled": true,
        "id": "f480a1fc"
      },
      "outputs": [],
      "source": [
        "# 일자별 히스토그램\n",
        "fig = px.histogram(df, x='date')\n",
        "fig.show()"
      ]
    },
    {
      "cell_type": "code",
      "execution_count": null,
      "id": "0642c9da",
      "metadata": {
        "scrolled": false,
        "id": "0642c9da"
      },
      "outputs": [],
      "source": [
        "# 슬라이더 그래프 생성: 확대해서 보여준다.\n",
        "fig = px.histogram(df, x='date')\n",
        "\n",
        "fig.update_xaxes(\n",
        "    rangeslider_visible=True,\n",
        ")\n",
        "fig.show()"
      ]
    },
    {
      "cell_type": "code",
      "execution_count": null,
      "id": "3e152a31",
      "metadata": {
        "scrolled": true,
        "id": "3e152a31"
      },
      "outputs": [],
      "source": [
        "# 사용자별 히스토그램\n",
        "fig = px.histogram(df, x='date', color='user_name')\n",
        "fig.show()"
      ]
    },
    {
      "cell_type": "markdown",
      "id": "63a8711b",
      "metadata": {
        "id": "63a8711b"
      },
      "source": [
        "------------"
      ]
    },
    {
      "cell_type": "markdown",
      "id": "aa565f48",
      "metadata": {
        "id": "aa565f48"
      },
      "source": [
        "THE END"
      ]
    }
  ],
  "metadata": {
    "kernelspec": {
      "display_name": "Python 3 (ipykernel)",
      "language": "python",
      "name": "python3"
    },
    "language_info": {
      "codemirror_mode": {
        "name": "ipython",
        "version": 3
      },
      "file_extension": ".py",
      "mimetype": "text/x-python",
      "name": "python",
      "nbconvert_exporter": "python",
      "pygments_lexer": "ipython3",
      "version": "3.10.9"
    },
    "colab": {
      "provenance": [],
      "include_colab_link": true
    }
  },
  "nbformat": 4,
  "nbformat_minor": 5
}