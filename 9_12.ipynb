{
  "nbformat": 4,
  "nbformat_minor": 0,
  "metadata": {
    "colab": {
      "provenance": [],
      "authorship_tag": "ABX9TyPgCglSXnAOnpVpvhaCQJyH",
      "include_colab_link": true
    },
    "kernelspec": {
      "name": "python3",
      "display_name": "Python 3"
    },
    "language_info": {
      "name": "python"
    }
  },
  "cells": [
    {
      "cell_type": "markdown",
      "metadata": {
        "id": "view-in-github",
        "colab_type": "text"
      },
      "source": [
        "<a href=\"https://colab.research.google.com/github/hseongeun/projectmanager/blob/main/9_12.ipynb\" target=\"_parent\"><img src=\"https://colab.research.google.com/assets/colab-badge.svg\" alt=\"Open In Colab\"/></a>"
      ]
    },
    {
      "cell_type": "code",
      "execution_count": 2,
      "metadata": {
        "colab": {
          "base_uri": "https://localhost:8080/",
          "height": 206
        },
        "id": "YoxkAqBt1nsS",
        "outputId": "bf6187eb-a979-41d3-d7d4-bac1d724e4d0"
      },
      "outputs": [
        {
          "output_type": "execute_result",
          "data": {
            "text/plain": [
              "   mileage model  price  year  my_car_damage  other_car_damage\n",
              "0    63608    K3    970  2017              0            564596\n",
              "1    69336    K3   1130  2015        1839700           1140150\n",
              "2    36000    K3   1380  2016         446520           2244910\n",
              "3    19029    K3   1390  2017         889000           4196110\n",
              "4    97090    K3    760  2015        2339137           2029570"
            ],
            "text/html": [
              "\n",
              "  <div id=\"df-d65f1821-a1c8-4b05-8069-f1bdb74f9cda\" class=\"colab-df-container\">\n",
              "    <div>\n",
              "<style scoped>\n",
              "    .dataframe tbody tr th:only-of-type {\n",
              "        vertical-align: middle;\n",
              "    }\n",
              "\n",
              "    .dataframe tbody tr th {\n",
              "        vertical-align: top;\n",
              "    }\n",
              "\n",
              "    .dataframe thead th {\n",
              "        text-align: right;\n",
              "    }\n",
              "</style>\n",
              "<table border=\"1\" class=\"dataframe\">\n",
              "  <thead>\n",
              "    <tr style=\"text-align: right;\">\n",
              "      <th></th>\n",
              "      <th>mileage</th>\n",
              "      <th>model</th>\n",
              "      <th>price</th>\n",
              "      <th>year</th>\n",
              "      <th>my_car_damage</th>\n",
              "      <th>other_car_damage</th>\n",
              "    </tr>\n",
              "  </thead>\n",
              "  <tbody>\n",
              "    <tr>\n",
              "      <th>0</th>\n",
              "      <td>63608</td>\n",
              "      <td>K3</td>\n",
              "      <td>970</td>\n",
              "      <td>2017</td>\n",
              "      <td>0</td>\n",
              "      <td>564596</td>\n",
              "    </tr>\n",
              "    <tr>\n",
              "      <th>1</th>\n",
              "      <td>69336</td>\n",
              "      <td>K3</td>\n",
              "      <td>1130</td>\n",
              "      <td>2015</td>\n",
              "      <td>1839700</td>\n",
              "      <td>1140150</td>\n",
              "    </tr>\n",
              "    <tr>\n",
              "      <th>2</th>\n",
              "      <td>36000</td>\n",
              "      <td>K3</td>\n",
              "      <td>1380</td>\n",
              "      <td>2016</td>\n",
              "      <td>446520</td>\n",
              "      <td>2244910</td>\n",
              "    </tr>\n",
              "    <tr>\n",
              "      <th>3</th>\n",
              "      <td>19029</td>\n",
              "      <td>K3</td>\n",
              "      <td>1390</td>\n",
              "      <td>2017</td>\n",
              "      <td>889000</td>\n",
              "      <td>4196110</td>\n",
              "    </tr>\n",
              "    <tr>\n",
              "      <th>4</th>\n",
              "      <td>97090</td>\n",
              "      <td>K3</td>\n",
              "      <td>760</td>\n",
              "      <td>2015</td>\n",
              "      <td>2339137</td>\n",
              "      <td>2029570</td>\n",
              "    </tr>\n",
              "  </tbody>\n",
              "</table>\n",
              "</div>\n",
              "    <div class=\"colab-df-buttons\">\n",
              "\n",
              "  <div class=\"colab-df-container\">\n",
              "    <button class=\"colab-df-convert\" onclick=\"convertToInteractive('df-d65f1821-a1c8-4b05-8069-f1bdb74f9cda')\"\n",
              "            title=\"Convert this dataframe to an interactive table.\"\n",
              "            style=\"display:none;\">\n",
              "\n",
              "  <svg xmlns=\"http://www.w3.org/2000/svg\" height=\"24px\" viewBox=\"0 -960 960 960\">\n",
              "    <path d=\"M120-120v-720h720v720H120Zm60-500h600v-160H180v160Zm220 220h160v-160H400v160Zm0 220h160v-160H400v160ZM180-400h160v-160H180v160Zm440 0h160v-160H620v160ZM180-180h160v-160H180v160Zm440 0h160v-160H620v160Z\"/>\n",
              "  </svg>\n",
              "    </button>\n",
              "\n",
              "  <style>\n",
              "    .colab-df-container {\n",
              "      display:flex;\n",
              "      gap: 12px;\n",
              "    }\n",
              "\n",
              "    .colab-df-convert {\n",
              "      background-color: #E8F0FE;\n",
              "      border: none;\n",
              "      border-radius: 50%;\n",
              "      cursor: pointer;\n",
              "      display: none;\n",
              "      fill: #1967D2;\n",
              "      height: 32px;\n",
              "      padding: 0 0 0 0;\n",
              "      width: 32px;\n",
              "    }\n",
              "\n",
              "    .colab-df-convert:hover {\n",
              "      background-color: #E2EBFA;\n",
              "      box-shadow: 0px 1px 2px rgba(60, 64, 67, 0.3), 0px 1px 3px 1px rgba(60, 64, 67, 0.15);\n",
              "      fill: #174EA6;\n",
              "    }\n",
              "\n",
              "    .colab-df-buttons div {\n",
              "      margin-bottom: 4px;\n",
              "    }\n",
              "\n",
              "    [theme=dark] .colab-df-convert {\n",
              "      background-color: #3B4455;\n",
              "      fill: #D2E3FC;\n",
              "    }\n",
              "\n",
              "    [theme=dark] .colab-df-convert:hover {\n",
              "      background-color: #434B5C;\n",
              "      box-shadow: 0px 1px 3px 1px rgba(0, 0, 0, 0.15);\n",
              "      filter: drop-shadow(0px 1px 2px rgba(0, 0, 0, 0.3));\n",
              "      fill: #FFFFFF;\n",
              "    }\n",
              "  </style>\n",
              "\n",
              "    <script>\n",
              "      const buttonEl =\n",
              "        document.querySelector('#df-d65f1821-a1c8-4b05-8069-f1bdb74f9cda button.colab-df-convert');\n",
              "      buttonEl.style.display =\n",
              "        google.colab.kernel.accessAllowed ? 'block' : 'none';\n",
              "\n",
              "      async function convertToInteractive(key) {\n",
              "        const element = document.querySelector('#df-d65f1821-a1c8-4b05-8069-f1bdb74f9cda');\n",
              "        const dataTable =\n",
              "          await google.colab.kernel.invokeFunction('convertToInteractive',\n",
              "                                                    [key], {});\n",
              "        if (!dataTable) return;\n",
              "\n",
              "        const docLinkHtml = 'Like what you see? Visit the ' +\n",
              "          '<a target=\"_blank\" href=https://colab.research.google.com/notebooks/data_table.ipynb>data table notebook</a>'\n",
              "          + ' to learn more about interactive tables.';\n",
              "        element.innerHTML = '';\n",
              "        dataTable['output_type'] = 'display_data';\n",
              "        await google.colab.output.renderOutput(dataTable, element);\n",
              "        const docLink = document.createElement('div');\n",
              "        docLink.innerHTML = docLinkHtml;\n",
              "        element.appendChild(docLink);\n",
              "      }\n",
              "    </script>\n",
              "  </div>\n",
              "\n",
              "\n",
              "<div id=\"df-a76e53b0-e4f0-4031-9764-fe6ccc7b42ec\">\n",
              "  <button class=\"colab-df-quickchart\" onclick=\"quickchart('df-a76e53b0-e4f0-4031-9764-fe6ccc7b42ec')\"\n",
              "            title=\"Suggest charts.\"\n",
              "            style=\"display:none;\">\n",
              "\n",
              "<svg xmlns=\"http://www.w3.org/2000/svg\" height=\"24px\"viewBox=\"0 0 24 24\"\n",
              "     width=\"24px\">\n",
              "    <g>\n",
              "        <path d=\"M19 3H5c-1.1 0-2 .9-2 2v14c0 1.1.9 2 2 2h14c1.1 0 2-.9 2-2V5c0-1.1-.9-2-2-2zM9 17H7v-7h2v7zm4 0h-2V7h2v10zm4 0h-2v-4h2v4z\"/>\n",
              "    </g>\n",
              "</svg>\n",
              "  </button>\n",
              "\n",
              "<style>\n",
              "  .colab-df-quickchart {\n",
              "      --bg-color: #E8F0FE;\n",
              "      --fill-color: #1967D2;\n",
              "      --hover-bg-color: #E2EBFA;\n",
              "      --hover-fill-color: #174EA6;\n",
              "      --disabled-fill-color: #AAA;\n",
              "      --disabled-bg-color: #DDD;\n",
              "  }\n",
              "\n",
              "  [theme=dark] .colab-df-quickchart {\n",
              "      --bg-color: #3B4455;\n",
              "      --fill-color: #D2E3FC;\n",
              "      --hover-bg-color: #434B5C;\n",
              "      --hover-fill-color: #FFFFFF;\n",
              "      --disabled-bg-color: #3B4455;\n",
              "      --disabled-fill-color: #666;\n",
              "  }\n",
              "\n",
              "  .colab-df-quickchart {\n",
              "    background-color: var(--bg-color);\n",
              "    border: none;\n",
              "    border-radius: 50%;\n",
              "    cursor: pointer;\n",
              "    display: none;\n",
              "    fill: var(--fill-color);\n",
              "    height: 32px;\n",
              "    padding: 0;\n",
              "    width: 32px;\n",
              "  }\n",
              "\n",
              "  .colab-df-quickchart:hover {\n",
              "    background-color: var(--hover-bg-color);\n",
              "    box-shadow: 0 1px 2px rgba(60, 64, 67, 0.3), 0 1px 3px 1px rgba(60, 64, 67, 0.15);\n",
              "    fill: var(--button-hover-fill-color);\n",
              "  }\n",
              "\n",
              "  .colab-df-quickchart-complete:disabled,\n",
              "  .colab-df-quickchart-complete:disabled:hover {\n",
              "    background-color: var(--disabled-bg-color);\n",
              "    fill: var(--disabled-fill-color);\n",
              "    box-shadow: none;\n",
              "  }\n",
              "\n",
              "  .colab-df-spinner {\n",
              "    border: 2px solid var(--fill-color);\n",
              "    border-color: transparent;\n",
              "    border-bottom-color: var(--fill-color);\n",
              "    animation:\n",
              "      spin 1s steps(1) infinite;\n",
              "  }\n",
              "\n",
              "  @keyframes spin {\n",
              "    0% {\n",
              "      border-color: transparent;\n",
              "      border-bottom-color: var(--fill-color);\n",
              "      border-left-color: var(--fill-color);\n",
              "    }\n",
              "    20% {\n",
              "      border-color: transparent;\n",
              "      border-left-color: var(--fill-color);\n",
              "      border-top-color: var(--fill-color);\n",
              "    }\n",
              "    30% {\n",
              "      border-color: transparent;\n",
              "      border-left-color: var(--fill-color);\n",
              "      border-top-color: var(--fill-color);\n",
              "      border-right-color: var(--fill-color);\n",
              "    }\n",
              "    40% {\n",
              "      border-color: transparent;\n",
              "      border-right-color: var(--fill-color);\n",
              "      border-top-color: var(--fill-color);\n",
              "    }\n",
              "    60% {\n",
              "      border-color: transparent;\n",
              "      border-right-color: var(--fill-color);\n",
              "    }\n",
              "    80% {\n",
              "      border-color: transparent;\n",
              "      border-right-color: var(--fill-color);\n",
              "      border-bottom-color: var(--fill-color);\n",
              "    }\n",
              "    90% {\n",
              "      border-color: transparent;\n",
              "      border-bottom-color: var(--fill-color);\n",
              "    }\n",
              "  }\n",
              "</style>\n",
              "\n",
              "  <script>\n",
              "    async function quickchart(key) {\n",
              "      const quickchartButtonEl =\n",
              "        document.querySelector('#' + key + ' button');\n",
              "      quickchartButtonEl.disabled = true;  // To prevent multiple clicks.\n",
              "      quickchartButtonEl.classList.add('colab-df-spinner');\n",
              "      try {\n",
              "        const charts = await google.colab.kernel.invokeFunction(\n",
              "            'suggestCharts', [key], {});\n",
              "      } catch (error) {\n",
              "        console.error('Error during call to suggestCharts:', error);\n",
              "      }\n",
              "      quickchartButtonEl.classList.remove('colab-df-spinner');\n",
              "      quickchartButtonEl.classList.add('colab-df-quickchart-complete');\n",
              "    }\n",
              "    (() => {\n",
              "      let quickchartButtonEl =\n",
              "        document.querySelector('#df-a76e53b0-e4f0-4031-9764-fe6ccc7b42ec button');\n",
              "      quickchartButtonEl.style.display =\n",
              "        google.colab.kernel.accessAllowed ? 'block' : 'none';\n",
              "    })();\n",
              "  </script>\n",
              "</div>\n",
              "    </div>\n",
              "  </div>\n"
            ]
          },
          "metadata": {},
          "execution_count": 2
        }
      ],
      "source": [
        "import pandas as pd\n",
        "df = pd.read_excel('car.xlsx')\n",
        "df.head()"
      ]
    },
    {
      "cell_type": "code",
      "source": [
        "df.price.describe()"
      ],
      "metadata": {
        "colab": {
          "base_uri": "https://localhost:8080/"
        },
        "id": "EVX0-A5c453f",
        "outputId": "1ed7f606-d4da-48bf-aae6-724c911b7160"
      },
      "execution_count": 4,
      "outputs": [
        {
          "output_type": "execute_result",
          "data": {
            "text/plain": [
              "count     274.000000\n",
              "mean      853.660584\n",
              "std       332.613127\n",
              "min       190.000000\n",
              "25%       620.000000\n",
              "50%       805.000000\n",
              "75%      1090.000000\n",
              "max      1820.000000\n",
              "Name: price, dtype: float64"
            ]
          },
          "metadata": {},
          "execution_count": 4
        }
      ]
    },
    {
      "cell_type": "code",
      "source": [
        "df.describe()"
      ],
      "metadata": {
        "colab": {
          "base_uri": "https://localhost:8080/",
          "height": 300
        },
        "id": "wGChMPex4p8J",
        "outputId": "d04a6e00-2269-40fe-9117-ff49620c7051"
      },
      "execution_count": 3,
      "outputs": [
        {
          "output_type": "execute_result",
          "data": {
            "text/plain": [
              "             mileage        price         year  my_car_damage  \\\n",
              "count     274.000000   274.000000   274.000000   2.740000e+02   \n",
              "mean    77483.222628   853.660584  2013.273723   2.319453e+06   \n",
              "std     43015.794453   332.613127     2.589406   3.080107e+06   \n",
              "min      2287.000000   190.000000  2006.000000   0.000000e+00   \n",
              "25%     47597.500000   620.000000  2011.000000   0.000000e+00   \n",
              "50%     71649.000000   805.000000  2014.000000   1.100410e+06   \n",
              "75%    103193.750000  1090.000000  2015.000000   3.002840e+06   \n",
              "max    310000.000000  1820.000000  2018.000000   1.536732e+07   \n",
              "\n",
              "       other_car_damage  \n",
              "count      2.740000e+02  \n",
              "mean       1.807992e+06  \n",
              "std        4.655390e+06  \n",
              "min        0.000000e+00  \n",
              "25%        0.000000e+00  \n",
              "50%        3.986190e+05  \n",
              "75%        1.640666e+06  \n",
              "max        5.510890e+07  "
            ],
            "text/html": [
              "\n",
              "  <div id=\"df-ff76d6b4-b47e-45ee-b5bd-90682ac8cf82\" class=\"colab-df-container\">\n",
              "    <div>\n",
              "<style scoped>\n",
              "    .dataframe tbody tr th:only-of-type {\n",
              "        vertical-align: middle;\n",
              "    }\n",
              "\n",
              "    .dataframe tbody tr th {\n",
              "        vertical-align: top;\n",
              "    }\n",
              "\n",
              "    .dataframe thead th {\n",
              "        text-align: right;\n",
              "    }\n",
              "</style>\n",
              "<table border=\"1\" class=\"dataframe\">\n",
              "  <thead>\n",
              "    <tr style=\"text-align: right;\">\n",
              "      <th></th>\n",
              "      <th>mileage</th>\n",
              "      <th>price</th>\n",
              "      <th>year</th>\n",
              "      <th>my_car_damage</th>\n",
              "      <th>other_car_damage</th>\n",
              "    </tr>\n",
              "  </thead>\n",
              "  <tbody>\n",
              "    <tr>\n",
              "      <th>count</th>\n",
              "      <td>274.000000</td>\n",
              "      <td>274.000000</td>\n",
              "      <td>274.000000</td>\n",
              "      <td>2.740000e+02</td>\n",
              "      <td>2.740000e+02</td>\n",
              "    </tr>\n",
              "    <tr>\n",
              "      <th>mean</th>\n",
              "      <td>77483.222628</td>\n",
              "      <td>853.660584</td>\n",
              "      <td>2013.273723</td>\n",
              "      <td>2.319453e+06</td>\n",
              "      <td>1.807992e+06</td>\n",
              "    </tr>\n",
              "    <tr>\n",
              "      <th>std</th>\n",
              "      <td>43015.794453</td>\n",
              "      <td>332.613127</td>\n",
              "      <td>2.589406</td>\n",
              "      <td>3.080107e+06</td>\n",
              "      <td>4.655390e+06</td>\n",
              "    </tr>\n",
              "    <tr>\n",
              "      <th>min</th>\n",
              "      <td>2287.000000</td>\n",
              "      <td>190.000000</td>\n",
              "      <td>2006.000000</td>\n",
              "      <td>0.000000e+00</td>\n",
              "      <td>0.000000e+00</td>\n",
              "    </tr>\n",
              "    <tr>\n",
              "      <th>25%</th>\n",
              "      <td>47597.500000</td>\n",
              "      <td>620.000000</td>\n",
              "      <td>2011.000000</td>\n",
              "      <td>0.000000e+00</td>\n",
              "      <td>0.000000e+00</td>\n",
              "    </tr>\n",
              "    <tr>\n",
              "      <th>50%</th>\n",
              "      <td>71649.000000</td>\n",
              "      <td>805.000000</td>\n",
              "      <td>2014.000000</td>\n",
              "      <td>1.100410e+06</td>\n",
              "      <td>3.986190e+05</td>\n",
              "    </tr>\n",
              "    <tr>\n",
              "      <th>75%</th>\n",
              "      <td>103193.750000</td>\n",
              "      <td>1090.000000</td>\n",
              "      <td>2015.000000</td>\n",
              "      <td>3.002840e+06</td>\n",
              "      <td>1.640666e+06</td>\n",
              "    </tr>\n",
              "    <tr>\n",
              "      <th>max</th>\n",
              "      <td>310000.000000</td>\n",
              "      <td>1820.000000</td>\n",
              "      <td>2018.000000</td>\n",
              "      <td>1.536732e+07</td>\n",
              "      <td>5.510890e+07</td>\n",
              "    </tr>\n",
              "  </tbody>\n",
              "</table>\n",
              "</div>\n",
              "    <div class=\"colab-df-buttons\">\n",
              "\n",
              "  <div class=\"colab-df-container\">\n",
              "    <button class=\"colab-df-convert\" onclick=\"convertToInteractive('df-ff76d6b4-b47e-45ee-b5bd-90682ac8cf82')\"\n",
              "            title=\"Convert this dataframe to an interactive table.\"\n",
              "            style=\"display:none;\">\n",
              "\n",
              "  <svg xmlns=\"http://www.w3.org/2000/svg\" height=\"24px\" viewBox=\"0 -960 960 960\">\n",
              "    <path d=\"M120-120v-720h720v720H120Zm60-500h600v-160H180v160Zm220 220h160v-160H400v160Zm0 220h160v-160H400v160ZM180-400h160v-160H180v160Zm440 0h160v-160H620v160ZM180-180h160v-160H180v160Zm440 0h160v-160H620v160Z\"/>\n",
              "  </svg>\n",
              "    </button>\n",
              "\n",
              "  <style>\n",
              "    .colab-df-container {\n",
              "      display:flex;\n",
              "      gap: 12px;\n",
              "    }\n",
              "\n",
              "    .colab-df-convert {\n",
              "      background-color: #E8F0FE;\n",
              "      border: none;\n",
              "      border-radius: 50%;\n",
              "      cursor: pointer;\n",
              "      display: none;\n",
              "      fill: #1967D2;\n",
              "      height: 32px;\n",
              "      padding: 0 0 0 0;\n",
              "      width: 32px;\n",
              "    }\n",
              "\n",
              "    .colab-df-convert:hover {\n",
              "      background-color: #E2EBFA;\n",
              "      box-shadow: 0px 1px 2px rgba(60, 64, 67, 0.3), 0px 1px 3px 1px rgba(60, 64, 67, 0.15);\n",
              "      fill: #174EA6;\n",
              "    }\n",
              "\n",
              "    .colab-df-buttons div {\n",
              "      margin-bottom: 4px;\n",
              "    }\n",
              "\n",
              "    [theme=dark] .colab-df-convert {\n",
              "      background-color: #3B4455;\n",
              "      fill: #D2E3FC;\n",
              "    }\n",
              "\n",
              "    [theme=dark] .colab-df-convert:hover {\n",
              "      background-color: #434B5C;\n",
              "      box-shadow: 0px 1px 3px 1px rgba(0, 0, 0, 0.15);\n",
              "      filter: drop-shadow(0px 1px 2px rgba(0, 0, 0, 0.3));\n",
              "      fill: #FFFFFF;\n",
              "    }\n",
              "  </style>\n",
              "\n",
              "    <script>\n",
              "      const buttonEl =\n",
              "        document.querySelector('#df-ff76d6b4-b47e-45ee-b5bd-90682ac8cf82 button.colab-df-convert');\n",
              "      buttonEl.style.display =\n",
              "        google.colab.kernel.accessAllowed ? 'block' : 'none';\n",
              "\n",
              "      async function convertToInteractive(key) {\n",
              "        const element = document.querySelector('#df-ff76d6b4-b47e-45ee-b5bd-90682ac8cf82');\n",
              "        const dataTable =\n",
              "          await google.colab.kernel.invokeFunction('convertToInteractive',\n",
              "                                                    [key], {});\n",
              "        if (!dataTable) return;\n",
              "\n",
              "        const docLinkHtml = 'Like what you see? Visit the ' +\n",
              "          '<a target=\"_blank\" href=https://colab.research.google.com/notebooks/data_table.ipynb>data table notebook</a>'\n",
              "          + ' to learn more about interactive tables.';\n",
              "        element.innerHTML = '';\n",
              "        dataTable['output_type'] = 'display_data';\n",
              "        await google.colab.output.renderOutput(dataTable, element);\n",
              "        const docLink = document.createElement('div');\n",
              "        docLink.innerHTML = docLinkHtml;\n",
              "        element.appendChild(docLink);\n",
              "      }\n",
              "    </script>\n",
              "  </div>\n",
              "\n",
              "\n",
              "<div id=\"df-4d1092a8-f429-408a-9a82-8c073da524e5\">\n",
              "  <button class=\"colab-df-quickchart\" onclick=\"quickchart('df-4d1092a8-f429-408a-9a82-8c073da524e5')\"\n",
              "            title=\"Suggest charts.\"\n",
              "            style=\"display:none;\">\n",
              "\n",
              "<svg xmlns=\"http://www.w3.org/2000/svg\" height=\"24px\"viewBox=\"0 0 24 24\"\n",
              "     width=\"24px\">\n",
              "    <g>\n",
              "        <path d=\"M19 3H5c-1.1 0-2 .9-2 2v14c0 1.1.9 2 2 2h14c1.1 0 2-.9 2-2V5c0-1.1-.9-2-2-2zM9 17H7v-7h2v7zm4 0h-2V7h2v10zm4 0h-2v-4h2v4z\"/>\n",
              "    </g>\n",
              "</svg>\n",
              "  </button>\n",
              "\n",
              "<style>\n",
              "  .colab-df-quickchart {\n",
              "      --bg-color: #E8F0FE;\n",
              "      --fill-color: #1967D2;\n",
              "      --hover-bg-color: #E2EBFA;\n",
              "      --hover-fill-color: #174EA6;\n",
              "      --disabled-fill-color: #AAA;\n",
              "      --disabled-bg-color: #DDD;\n",
              "  }\n",
              "\n",
              "  [theme=dark] .colab-df-quickchart {\n",
              "      --bg-color: #3B4455;\n",
              "      --fill-color: #D2E3FC;\n",
              "      --hover-bg-color: #434B5C;\n",
              "      --hover-fill-color: #FFFFFF;\n",
              "      --disabled-bg-color: #3B4455;\n",
              "      --disabled-fill-color: #666;\n",
              "  }\n",
              "\n",
              "  .colab-df-quickchart {\n",
              "    background-color: var(--bg-color);\n",
              "    border: none;\n",
              "    border-radius: 50%;\n",
              "    cursor: pointer;\n",
              "    display: none;\n",
              "    fill: var(--fill-color);\n",
              "    height: 32px;\n",
              "    padding: 0;\n",
              "    width: 32px;\n",
              "  }\n",
              "\n",
              "  .colab-df-quickchart:hover {\n",
              "    background-color: var(--hover-bg-color);\n",
              "    box-shadow: 0 1px 2px rgba(60, 64, 67, 0.3), 0 1px 3px 1px rgba(60, 64, 67, 0.15);\n",
              "    fill: var(--button-hover-fill-color);\n",
              "  }\n",
              "\n",
              "  .colab-df-quickchart-complete:disabled,\n",
              "  .colab-df-quickchart-complete:disabled:hover {\n",
              "    background-color: var(--disabled-bg-color);\n",
              "    fill: var(--disabled-fill-color);\n",
              "    box-shadow: none;\n",
              "  }\n",
              "\n",
              "  .colab-df-spinner {\n",
              "    border: 2px solid var(--fill-color);\n",
              "    border-color: transparent;\n",
              "    border-bottom-color: var(--fill-color);\n",
              "    animation:\n",
              "      spin 1s steps(1) infinite;\n",
              "  }\n",
              "\n",
              "  @keyframes spin {\n",
              "    0% {\n",
              "      border-color: transparent;\n",
              "      border-bottom-color: var(--fill-color);\n",
              "      border-left-color: var(--fill-color);\n",
              "    }\n",
              "    20% {\n",
              "      border-color: transparent;\n",
              "      border-left-color: var(--fill-color);\n",
              "      border-top-color: var(--fill-color);\n",
              "    }\n",
              "    30% {\n",
              "      border-color: transparent;\n",
              "      border-left-color: var(--fill-color);\n",
              "      border-top-color: var(--fill-color);\n",
              "      border-right-color: var(--fill-color);\n",
              "    }\n",
              "    40% {\n",
              "      border-color: transparent;\n",
              "      border-right-color: var(--fill-color);\n",
              "      border-top-color: var(--fill-color);\n",
              "    }\n",
              "    60% {\n",
              "      border-color: transparent;\n",
              "      border-right-color: var(--fill-color);\n",
              "    }\n",
              "    80% {\n",
              "      border-color: transparent;\n",
              "      border-right-color: var(--fill-color);\n",
              "      border-bottom-color: var(--fill-color);\n",
              "    }\n",
              "    90% {\n",
              "      border-color: transparent;\n",
              "      border-bottom-color: var(--fill-color);\n",
              "    }\n",
              "  }\n",
              "</style>\n",
              "\n",
              "  <script>\n",
              "    async function quickchart(key) {\n",
              "      const quickchartButtonEl =\n",
              "        document.querySelector('#' + key + ' button');\n",
              "      quickchartButtonEl.disabled = true;  // To prevent multiple clicks.\n",
              "      quickchartButtonEl.classList.add('colab-df-spinner');\n",
              "      try {\n",
              "        const charts = await google.colab.kernel.invokeFunction(\n",
              "            'suggestCharts', [key], {});\n",
              "      } catch (error) {\n",
              "        console.error('Error during call to suggestCharts:', error);\n",
              "      }\n",
              "      quickchartButtonEl.classList.remove('colab-df-spinner');\n",
              "      quickchartButtonEl.classList.add('colab-df-quickchart-complete');\n",
              "    }\n",
              "    (() => {\n",
              "      let quickchartButtonEl =\n",
              "        document.querySelector('#df-4d1092a8-f429-408a-9a82-8c073da524e5 button');\n",
              "      quickchartButtonEl.style.display =\n",
              "        google.colab.kernel.accessAllowed ? 'block' : 'none';\n",
              "    })();\n",
              "  </script>\n",
              "</div>\n",
              "    </div>\n",
              "  </div>\n"
            ]
          },
          "metadata": {},
          "execution_count": 3
        }
      ]
    },
    {
      "cell_type": "code",
      "source": [
        "df.price.mean()"
      ],
      "metadata": {
        "colab": {
          "base_uri": "https://localhost:8080/"
        },
        "id": "tKezgWCq59K7",
        "outputId": "07daa41e-d265-4739-a60f-aed30f928b4e"
      },
      "execution_count": 5,
      "outputs": [
        {
          "output_type": "execute_result",
          "data": {
            "text/plain": [
              "853.6605839416059"
            ]
          },
          "metadata": {},
          "execution_count": 5
        }
      ]
    },
    {
      "cell_type": "code",
      "source": [
        "df.price.median()"
      ],
      "metadata": {
        "colab": {
          "base_uri": "https://localhost:8080/"
        },
        "id": "jrUMrHLW59Nd",
        "outputId": "b666beee-a1f9-450f-a3f8-1252922fe8d6"
      },
      "execution_count": 6,
      "outputs": [
        {
          "output_type": "execute_result",
          "data": {
            "text/plain": [
              "805.0"
            ]
          },
          "metadata": {},
          "execution_count": 6
        }
      ]
    },
    {
      "cell_type": "code",
      "source": [
        "df.model.value_counts()  # 범주별 빈도"
      ],
      "metadata": {
        "colab": {
          "base_uri": "https://localhost:8080/"
        },
        "id": "VROkaFO359Q1",
        "outputId": "05218e52-8688-48be-9d46-474714c2ba6d"
      },
      "execution_count": 7,
      "outputs": [
        {
          "output_type": "execute_result",
          "data": {
            "text/plain": [
              "Avante    205\n",
              "K3         69\n",
              "Name: model, dtype: int64"
            ]
          },
          "metadata": {},
          "execution_count": 7
        }
      ]
    },
    {
      "cell_type": "code",
      "source": [
        "df.price.min()"
      ],
      "metadata": {
        "colab": {
          "base_uri": "https://localhost:8080/"
        },
        "id": "moOaxK6I6iGa",
        "outputId": "3e0168e4-bbb3-4c77-fbf9-6cb69fe71fa4"
      },
      "execution_count": 8,
      "outputs": [
        {
          "output_type": "execute_result",
          "data": {
            "text/plain": [
              "190"
            ]
          },
          "metadata": {},
          "execution_count": 8
        }
      ]
    },
    {
      "cell_type": "code",
      "source": [
        "df.price.max()"
      ],
      "metadata": {
        "colab": {
          "base_uri": "https://localhost:8080/"
        },
        "id": "rS_33f9S6lGG",
        "outputId": "8df6b109-3827-4a86-9ff4-e615bcd71349"
      },
      "execution_count": 9,
      "outputs": [
        {
          "output_type": "execute_result",
          "data": {
            "text/plain": [
              "1820"
            ]
          },
          "metadata": {},
          "execution_count": 9
        }
      ]
    },
    {
      "cell_type": "code",
      "source": [
        "df.price.quantile(.25)  # 25 퍼센트 위치 (작은 값부터 25%까지)"
      ],
      "metadata": {
        "colab": {
          "base_uri": "https://localhost:8080/"
        },
        "id": "8UNb0DGc6pbf",
        "outputId": "4e5ca5cc-9730-41e6-8938-9ef2eb8fc4b1"
      },
      "execution_count": 11,
      "outputs": [
        {
          "output_type": "execute_result",
          "data": {
            "text/plain": [
              "620.0"
            ]
          },
          "metadata": {},
          "execution_count": 11
        }
      ]
    },
    {
      "cell_type": "code",
      "source": [
        "print(f'최댓값 - 최솟값 :',df.price.max() - df.price.min())   # 범위 = 최댓값 - 최솟값"
      ],
      "metadata": {
        "colab": {
          "base_uri": "https://localhost:8080/"
        },
        "id": "xBtnI4867njg",
        "outputId": "08b8c9d5-23c4-4b76-d4de-99041b090dce"
      },
      "execution_count": 16,
      "outputs": [
        {
          "output_type": "stream",
          "name": "stdout",
          "text": [
            "최댓값 - 최솟값 : 1630\n"
          ]
        }
      ]
    },
    {
      "cell_type": "code",
      "source": [
        "df.sort_values('price')    # price 순으로 정렬"
      ],
      "metadata": {
        "colab": {
          "base_uri": "https://localhost:8080/",
          "height": 424
        },
        "id": "QtH0c1fj8UNL",
        "outputId": "6d9a926d-1264-4089-dd3e-05c848d61a12"
      },
      "execution_count": 21,
      "outputs": [
        {
          "output_type": "execute_result",
          "data": {
            "text/plain": [
              "     mileage   model  price  year  my_car_damage  other_car_damage\n",
              "253   152000  Avante    190  2007        6748356            330800\n",
              "259    47743  Avante    220  2006        6249300          55108900\n",
              "260   105856  Avante    230  2009        9769990            417820\n",
              "267   310000  Avante    250  2008        1047529                 0\n",
              "266   184000  Avante    250  2006        1481678            925600\n",
              "..       ...     ...    ...   ...            ...               ...\n",
              "7       2287      K3   1599  2018              0                 0\n",
              "106    37152  Avante   1720  2016              0                 0\n",
              "84      9600  Avante   1799  2018         315398                 0\n",
              "120     9000  Avante   1820  2017         878760            793850\n",
              "143    25796  Avante   1820  2017              0                 0\n",
              "\n",
              "[274 rows x 6 columns]"
            ],
            "text/html": [
              "\n",
              "  <div id=\"df-68947c97-e843-424e-8dec-132760d7c460\" class=\"colab-df-container\">\n",
              "    <div>\n",
              "<style scoped>\n",
              "    .dataframe tbody tr th:only-of-type {\n",
              "        vertical-align: middle;\n",
              "    }\n",
              "\n",
              "    .dataframe tbody tr th {\n",
              "        vertical-align: top;\n",
              "    }\n",
              "\n",
              "    .dataframe thead th {\n",
              "        text-align: right;\n",
              "    }\n",
              "</style>\n",
              "<table border=\"1\" class=\"dataframe\">\n",
              "  <thead>\n",
              "    <tr style=\"text-align: right;\">\n",
              "      <th></th>\n",
              "      <th>mileage</th>\n",
              "      <th>model</th>\n",
              "      <th>price</th>\n",
              "      <th>year</th>\n",
              "      <th>my_car_damage</th>\n",
              "      <th>other_car_damage</th>\n",
              "    </tr>\n",
              "  </thead>\n",
              "  <tbody>\n",
              "    <tr>\n",
              "      <th>253</th>\n",
              "      <td>152000</td>\n",
              "      <td>Avante</td>\n",
              "      <td>190</td>\n",
              "      <td>2007</td>\n",
              "      <td>6748356</td>\n",
              "      <td>330800</td>\n",
              "    </tr>\n",
              "    <tr>\n",
              "      <th>259</th>\n",
              "      <td>47743</td>\n",
              "      <td>Avante</td>\n",
              "      <td>220</td>\n",
              "      <td>2006</td>\n",
              "      <td>6249300</td>\n",
              "      <td>55108900</td>\n",
              "    </tr>\n",
              "    <tr>\n",
              "      <th>260</th>\n",
              "      <td>105856</td>\n",
              "      <td>Avante</td>\n",
              "      <td>230</td>\n",
              "      <td>2009</td>\n",
              "      <td>9769990</td>\n",
              "      <td>417820</td>\n",
              "    </tr>\n",
              "    <tr>\n",
              "      <th>267</th>\n",
              "      <td>310000</td>\n",
              "      <td>Avante</td>\n",
              "      <td>250</td>\n",
              "      <td>2008</td>\n",
              "      <td>1047529</td>\n",
              "      <td>0</td>\n",
              "    </tr>\n",
              "    <tr>\n",
              "      <th>266</th>\n",
              "      <td>184000</td>\n",
              "      <td>Avante</td>\n",
              "      <td>250</td>\n",
              "      <td>2006</td>\n",
              "      <td>1481678</td>\n",
              "      <td>925600</td>\n",
              "    </tr>\n",
              "    <tr>\n",
              "      <th>...</th>\n",
              "      <td>...</td>\n",
              "      <td>...</td>\n",
              "      <td>...</td>\n",
              "      <td>...</td>\n",
              "      <td>...</td>\n",
              "      <td>...</td>\n",
              "    </tr>\n",
              "    <tr>\n",
              "      <th>7</th>\n",
              "      <td>2287</td>\n",
              "      <td>K3</td>\n",
              "      <td>1599</td>\n",
              "      <td>2018</td>\n",
              "      <td>0</td>\n",
              "      <td>0</td>\n",
              "    </tr>\n",
              "    <tr>\n",
              "      <th>106</th>\n",
              "      <td>37152</td>\n",
              "      <td>Avante</td>\n",
              "      <td>1720</td>\n",
              "      <td>2016</td>\n",
              "      <td>0</td>\n",
              "      <td>0</td>\n",
              "    </tr>\n",
              "    <tr>\n",
              "      <th>84</th>\n",
              "      <td>9600</td>\n",
              "      <td>Avante</td>\n",
              "      <td>1799</td>\n",
              "      <td>2018</td>\n",
              "      <td>315398</td>\n",
              "      <td>0</td>\n",
              "    </tr>\n",
              "    <tr>\n",
              "      <th>120</th>\n",
              "      <td>9000</td>\n",
              "      <td>Avante</td>\n",
              "      <td>1820</td>\n",
              "      <td>2017</td>\n",
              "      <td>878760</td>\n",
              "      <td>793850</td>\n",
              "    </tr>\n",
              "    <tr>\n",
              "      <th>143</th>\n",
              "      <td>25796</td>\n",
              "      <td>Avante</td>\n",
              "      <td>1820</td>\n",
              "      <td>2017</td>\n",
              "      <td>0</td>\n",
              "      <td>0</td>\n",
              "    </tr>\n",
              "  </tbody>\n",
              "</table>\n",
              "<p>274 rows × 6 columns</p>\n",
              "</div>\n",
              "    <div class=\"colab-df-buttons\">\n",
              "\n",
              "  <div class=\"colab-df-container\">\n",
              "    <button class=\"colab-df-convert\" onclick=\"convertToInteractive('df-68947c97-e843-424e-8dec-132760d7c460')\"\n",
              "            title=\"Convert this dataframe to an interactive table.\"\n",
              "            style=\"display:none;\">\n",
              "\n",
              "  <svg xmlns=\"http://www.w3.org/2000/svg\" height=\"24px\" viewBox=\"0 -960 960 960\">\n",
              "    <path d=\"M120-120v-720h720v720H120Zm60-500h600v-160H180v160Zm220 220h160v-160H400v160Zm0 220h160v-160H400v160ZM180-400h160v-160H180v160Zm440 0h160v-160H620v160ZM180-180h160v-160H180v160Zm440 0h160v-160H620v160Z\"/>\n",
              "  </svg>\n",
              "    </button>\n",
              "\n",
              "  <style>\n",
              "    .colab-df-container {\n",
              "      display:flex;\n",
              "      gap: 12px;\n",
              "    }\n",
              "\n",
              "    .colab-df-convert {\n",
              "      background-color: #E8F0FE;\n",
              "      border: none;\n",
              "      border-radius: 50%;\n",
              "      cursor: pointer;\n",
              "      display: none;\n",
              "      fill: #1967D2;\n",
              "      height: 32px;\n",
              "      padding: 0 0 0 0;\n",
              "      width: 32px;\n",
              "    }\n",
              "\n",
              "    .colab-df-convert:hover {\n",
              "      background-color: #E2EBFA;\n",
              "      box-shadow: 0px 1px 2px rgba(60, 64, 67, 0.3), 0px 1px 3px 1px rgba(60, 64, 67, 0.15);\n",
              "      fill: #174EA6;\n",
              "    }\n",
              "\n",
              "    .colab-df-buttons div {\n",
              "      margin-bottom: 4px;\n",
              "    }\n",
              "\n",
              "    [theme=dark] .colab-df-convert {\n",
              "      background-color: #3B4455;\n",
              "      fill: #D2E3FC;\n",
              "    }\n",
              "\n",
              "    [theme=dark] .colab-df-convert:hover {\n",
              "      background-color: #434B5C;\n",
              "      box-shadow: 0px 1px 3px 1px rgba(0, 0, 0, 0.15);\n",
              "      filter: drop-shadow(0px 1px 2px rgba(0, 0, 0, 0.3));\n",
              "      fill: #FFFFFF;\n",
              "    }\n",
              "  </style>\n",
              "\n",
              "    <script>\n",
              "      const buttonEl =\n",
              "        document.querySelector('#df-68947c97-e843-424e-8dec-132760d7c460 button.colab-df-convert');\n",
              "      buttonEl.style.display =\n",
              "        google.colab.kernel.accessAllowed ? 'block' : 'none';\n",
              "\n",
              "      async function convertToInteractive(key) {\n",
              "        const element = document.querySelector('#df-68947c97-e843-424e-8dec-132760d7c460');\n",
              "        const dataTable =\n",
              "          await google.colab.kernel.invokeFunction('convertToInteractive',\n",
              "                                                    [key], {});\n",
              "        if (!dataTable) return;\n",
              "\n",
              "        const docLinkHtml = 'Like what you see? Visit the ' +\n",
              "          '<a target=\"_blank\" href=https://colab.research.google.com/notebooks/data_table.ipynb>data table notebook</a>'\n",
              "          + ' to learn more about interactive tables.';\n",
              "        element.innerHTML = '';\n",
              "        dataTable['output_type'] = 'display_data';\n",
              "        await google.colab.output.renderOutput(dataTable, element);\n",
              "        const docLink = document.createElement('div');\n",
              "        docLink.innerHTML = docLinkHtml;\n",
              "        element.appendChild(docLink);\n",
              "      }\n",
              "    </script>\n",
              "  </div>\n",
              "\n",
              "\n",
              "<div id=\"df-e036c115-9450-4564-9ee9-71fa7c94c9db\">\n",
              "  <button class=\"colab-df-quickchart\" onclick=\"quickchart('df-e036c115-9450-4564-9ee9-71fa7c94c9db')\"\n",
              "            title=\"Suggest charts.\"\n",
              "            style=\"display:none;\">\n",
              "\n",
              "<svg xmlns=\"http://www.w3.org/2000/svg\" height=\"24px\"viewBox=\"0 0 24 24\"\n",
              "     width=\"24px\">\n",
              "    <g>\n",
              "        <path d=\"M19 3H5c-1.1 0-2 .9-2 2v14c0 1.1.9 2 2 2h14c1.1 0 2-.9 2-2V5c0-1.1-.9-2-2-2zM9 17H7v-7h2v7zm4 0h-2V7h2v10zm4 0h-2v-4h2v4z\"/>\n",
              "    </g>\n",
              "</svg>\n",
              "  </button>\n",
              "\n",
              "<style>\n",
              "  .colab-df-quickchart {\n",
              "      --bg-color: #E8F0FE;\n",
              "      --fill-color: #1967D2;\n",
              "      --hover-bg-color: #E2EBFA;\n",
              "      --hover-fill-color: #174EA6;\n",
              "      --disabled-fill-color: #AAA;\n",
              "      --disabled-bg-color: #DDD;\n",
              "  }\n",
              "\n",
              "  [theme=dark] .colab-df-quickchart {\n",
              "      --bg-color: #3B4455;\n",
              "      --fill-color: #D2E3FC;\n",
              "      --hover-bg-color: #434B5C;\n",
              "      --hover-fill-color: #FFFFFF;\n",
              "      --disabled-bg-color: #3B4455;\n",
              "      --disabled-fill-color: #666;\n",
              "  }\n",
              "\n",
              "  .colab-df-quickchart {\n",
              "    background-color: var(--bg-color);\n",
              "    border: none;\n",
              "    border-radius: 50%;\n",
              "    cursor: pointer;\n",
              "    display: none;\n",
              "    fill: var(--fill-color);\n",
              "    height: 32px;\n",
              "    padding: 0;\n",
              "    width: 32px;\n",
              "  }\n",
              "\n",
              "  .colab-df-quickchart:hover {\n",
              "    background-color: var(--hover-bg-color);\n",
              "    box-shadow: 0 1px 2px rgba(60, 64, 67, 0.3), 0 1px 3px 1px rgba(60, 64, 67, 0.15);\n",
              "    fill: var(--button-hover-fill-color);\n",
              "  }\n",
              "\n",
              "  .colab-df-quickchart-complete:disabled,\n",
              "  .colab-df-quickchart-complete:disabled:hover {\n",
              "    background-color: var(--disabled-bg-color);\n",
              "    fill: var(--disabled-fill-color);\n",
              "    box-shadow: none;\n",
              "  }\n",
              "\n",
              "  .colab-df-spinner {\n",
              "    border: 2px solid var(--fill-color);\n",
              "    border-color: transparent;\n",
              "    border-bottom-color: var(--fill-color);\n",
              "    animation:\n",
              "      spin 1s steps(1) infinite;\n",
              "  }\n",
              "\n",
              "  @keyframes spin {\n",
              "    0% {\n",
              "      border-color: transparent;\n",
              "      border-bottom-color: var(--fill-color);\n",
              "      border-left-color: var(--fill-color);\n",
              "    }\n",
              "    20% {\n",
              "      border-color: transparent;\n",
              "      border-left-color: var(--fill-color);\n",
              "      border-top-color: var(--fill-color);\n",
              "    }\n",
              "    30% {\n",
              "      border-color: transparent;\n",
              "      border-left-color: var(--fill-color);\n",
              "      border-top-color: var(--fill-color);\n",
              "      border-right-color: var(--fill-color);\n",
              "    }\n",
              "    40% {\n",
              "      border-color: transparent;\n",
              "      border-right-color: var(--fill-color);\n",
              "      border-top-color: var(--fill-color);\n",
              "    }\n",
              "    60% {\n",
              "      border-color: transparent;\n",
              "      border-right-color: var(--fill-color);\n",
              "    }\n",
              "    80% {\n",
              "      border-color: transparent;\n",
              "      border-right-color: var(--fill-color);\n",
              "      border-bottom-color: var(--fill-color);\n",
              "    }\n",
              "    90% {\n",
              "      border-color: transparent;\n",
              "      border-bottom-color: var(--fill-color);\n",
              "    }\n",
              "  }\n",
              "</style>\n",
              "\n",
              "  <script>\n",
              "    async function quickchart(key) {\n",
              "      const quickchartButtonEl =\n",
              "        document.querySelector('#' + key + ' button');\n",
              "      quickchartButtonEl.disabled = true;  // To prevent multiple clicks.\n",
              "      quickchartButtonEl.classList.add('colab-df-spinner');\n",
              "      try {\n",
              "        const charts = await google.colab.kernel.invokeFunction(\n",
              "            'suggestCharts', [key], {});\n",
              "      } catch (error) {\n",
              "        console.error('Error during call to suggestCharts:', error);\n",
              "      }\n",
              "      quickchartButtonEl.classList.remove('colab-df-spinner');\n",
              "      quickchartButtonEl.classList.add('colab-df-quickchart-complete');\n",
              "    }\n",
              "    (() => {\n",
              "      let quickchartButtonEl =\n",
              "        document.querySelector('#df-e036c115-9450-4564-9ee9-71fa7c94c9db button');\n",
              "      quickchartButtonEl.style.display =\n",
              "        google.colab.kernel.accessAllowed ? 'block' : 'none';\n",
              "    })();\n",
              "  </script>\n",
              "</div>\n",
              "    </div>\n",
              "  </div>\n"
            ]
          },
          "metadata": {},
          "execution_count": 21
        }
      ]
    },
    {
      "cell_type": "code",
      "source": [
        "df.price.quantile(.75) - df.price.quantile(.25)   # 사분위간 범위(1QR) = 3사분위수 - 1사분위수"
      ],
      "metadata": {
        "colab": {
          "base_uri": "https://localhost:8080/"
        },
        "id": "ROi0LO0V8ZJQ",
        "outputId": "61b6f1df-7cd2-4084-93dd-f99112f069b6"
      },
      "execution_count": 17,
      "outputs": [
        {
          "output_type": "execute_result",
          "data": {
            "text/plain": [
              "470.0"
            ]
          },
          "metadata": {},
          "execution_count": 17
        }
      ]
    },
    {
      "cell_type": "code",
      "source": [
        "df.price.quantile(.90) - df.price.quantile(.10)   # 십분위간 범위"
      ],
      "metadata": {
        "colab": {
          "base_uri": "https://localhost:8080/"
        },
        "id": "_AbWicKW808s",
        "outputId": "e96b680c-f199-4fb3-f2cf-ea2ebcb4c9b2"
      },
      "execution_count": 22,
      "outputs": [
        {
          "output_type": "execute_result",
          "data": {
            "text/plain": [
              "884.0"
            ]
          },
          "metadata": {},
          "execution_count": 22
        }
      ]
    },
    {
      "cell_type": "code",
      "source": [
        "import seaborn as sns\n",
        "sns.boxplot(x='price', data=df)   # 가운데 선이 중앙값, 상자 왼쪽 : 1/4, 상자 오른쪽 : 3/4, 맨 오른쪽 점 : 최대값"
      ],
      "metadata": {
        "colab": {
          "base_uri": "https://localhost:8080/",
          "height": 467
        },
        "id": "ghBDmyC69Yzn",
        "outputId": "889d3126-7655-49b0-f3f2-c1d7c6232b00"
      },
      "execution_count": 24,
      "outputs": [
        {
          "output_type": "execute_result",
          "data": {
            "text/plain": [
              "<Axes: xlabel='price'>"
            ]
          },
          "metadata": {},
          "execution_count": 24
        },
        {
          "output_type": "display_data",
          "data": {
            "text/plain": [
              "<Figure size 640x480 with 1 Axes>"
            ],
            "image/png": "[encoded data removed]"
          },
          "metadata": {}
        }
      ]
    },
    {
      "cell_type": "code",
      "source": [
        "sns.boxplot(x='price', y='model', data=df)"
      ],
      "metadata": {
        "colab": {
          "base_uri": "https://localhost:8080/",
          "height": 467
        },
        "id": "UtWb_pKw9NHF",
        "outputId": "1c6eed11-b6b9-40c9-d9f4-481d374bd613"
      },
      "execution_count": 25,
      "outputs": [
        {
          "output_type": "execute_result",
          "data": {
            "text/plain": [
              "<Axes: xlabel='price', ylabel='model'>"
            ]
          },
          "metadata": {},
          "execution_count": 25
        },
        {
          "output_type": "display_data",
          "data": {
            "text/plain": [
              "<Figure size 640x480 with 1 Axes>"
            ],
            "image/png": "[encoded data removed]"
          },
          "metadata": {}
        }
      ]
    },
    {
      "cell_type": "code",
      "source": [
        "df.price.var()    # 분산"
      ],
      "metadata": {
        "colab": {
          "base_uri": "https://localhost:8080/"
        },
        "id": "Hd5EdgdhCCRH",
        "outputId": "0cdf43b4-8e3a-46c3-c692-869ca3a9d81e"
      },
      "execution_count": 26,
      "outputs": [
        {
          "output_type": "execute_result",
          "data": {
            "text/plain": [
              "110631.4924333574"
            ]
          },
          "metadata": {},
          "execution_count": 26
        }
      ]
    },
    {
      "cell_type": "code",
      "source": [
        "df.price.std()    # 표준편차"
      ],
      "metadata": {
        "colab": {
          "base_uri": "https://localhost:8080/"
        },
        "id": "0tnRXimBCEx9",
        "outputId": "0ff97aa4-2b9e-4b73-c65b-f9bc5657aab7"
      },
      "execution_count": 27,
      "outputs": [
        {
          "output_type": "execute_result",
          "data": {
            "text/plain": [
              "332.61312727154564"
            ]
          },
          "metadata": {},
          "execution_count": 27
        }
      ]
    },
    {
      "cell_type": "code",
      "source": [
        "sns.histplot(x='price', data=df)"
      ],
      "metadata": {
        "colab": {
          "base_uri": "https://localhost:8080/",
          "height": 467
        },
        "id": "rA4xrZr5CI5m",
        "outputId": "0a67410a-eeac-4068-f77b-2182bd845f8f"
      },
      "execution_count": 31,
      "outputs": [
        {
          "output_type": "execute_result",
          "data": {
            "text/plain": [
              "<Axes: xlabel='price', ylabel='Count'>"
            ]
          },
          "metadata": {},
          "execution_count": 31
        },
        {
          "output_type": "display_data",
          "data": {
            "text/plain": [
              "<Figure size 640x480 with 1 Axes>"
            ],
            "image/png": "[encoded data removed]"
          },
          "metadata": {}
        }
      ]
    },
    {
      "cell_type": "code",
      "source": [
        "sns.histplot(x='price', data=df, bins=30)   # bins = 막대의 개수"
      ],
      "metadata": {
        "colab": {
          "base_uri": "https://localhost:8080/",
          "height": 467
        },
        "id": "qdch7fR4C4fZ",
        "outputId": "b19aa9bb-91ef-45cc-b0f8-e8e057da3ae8"
      },
      "execution_count": 29,
      "outputs": [
        {
          "output_type": "execute_result",
          "data": {
            "text/plain": [
              "<Axes: xlabel='price', ylabel='Count'>"
            ]
          },
          "metadata": {},
          "execution_count": 29
        },
        {
          "output_type": "display_data",
          "data": {
            "text/plain": [
              "<Figure size 640x480 with 1 Axes>"
            ],
            "image/png": "[encoded data removed]"
          },
          "metadata": {}
        }
      ]
    },
    {
      "cell_type": "code",
      "source": [
        "sns.histplot(x='price', data=df, kde=True)  # kde : 커널 밀도 추정 / 추정이므로 참고하는 용"
      ],
      "metadata": {
        "colab": {
          "base_uri": "https://localhost:8080/",
          "height": 467
        },
        "id": "8pw3r1hXEPa2",
        "outputId": "c2b5557c-f23d-4c39-ff0c-c4a8a342c46d"
      },
      "execution_count": 32,
      "outputs": [
        {
          "output_type": "execute_result",
          "data": {
            "text/plain": [
              "<Axes: xlabel='price', ylabel='Count'>"
            ]
          },
          "metadata": {},
          "execution_count": 32
        },
        {
          "output_type": "display_data",
          "data": {
            "text/plain": [
              "<Figure size 640x480 with 1 Axes>"
            ],
            "image/png": "[encoded data removed]"
          },
          "metadata": {}
        }
      ]
    },
    {
      "cell_type": "code",
      "source": [
        "!pip install pingouin"
      ],
      "metadata": {
        "id": "hXYnv8beYboX"
      },
      "execution_count": null,
      "outputs": []
    },
    {
      "cell_type": "code",
      "source": [
        "import pingouin as pg\n",
        "pg.ttest(df.price, 0, confidence=0.95)   # 중고차 평균 가격의 95% 신뢰구간"
      ],
      "metadata": {
        "colab": {
          "base_uri": "https://localhost:8080/",
          "height": 81
        },
        "id": "m7Y0xV3rEgD0",
        "outputId": "568ef825-5991-4f05-8561-faea4134dd23"
      },
      "execution_count": 35,
      "outputs": [
        {
          "output_type": "execute_result",
          "data": {
            "text/plain": [
              "                T  dof alternative          p-val            CI95%   cohen-d  \\\n",
              "T-test  42.483582  273   two-sided  2.486212e-122  [814.1, 893.22]  2.566527   \n",
              "\n",
              "              BF10  power  \n",
              "T-test  2.773e+118    1.0  "
            ],
            "text/html": [
              "\n",
              "  <div id=\"df-e822554e-4d60-4031-9d45-d220875f3481\" class=\"colab-df-container\">\n",
              "    <div>\n",
              "<style scoped>\n",
              "    .dataframe tbody tr th:only-of-type {\n",
              "        vertical-align: middle;\n",
              "    }\n",
              "\n",
              "    .dataframe tbody tr th {\n",
              "        vertical-align: top;\n",
              "    }\n",
              "\n",
              "    .dataframe thead th {\n",
              "        text-align: right;\n",
              "    }\n",
              "</style>\n",
              "<table border=\"1\" class=\"dataframe\">\n",
              "  <thead>\n",
              "    <tr style=\"text-align: right;\">\n",
              "      <th></th>\n",
              "      <th>T</th>\n",
              "      <th>dof</th>\n",
              "      <th>alternative</th>\n",
              "      <th>p-val</th>\n",
              "      <th>CI95%</th>\n",
              "      <th>cohen-d</th>\n",
              "      <th>BF10</th>\n",
              "      <th>power</th>\n",
              "    </tr>\n",
              "  </thead>\n",
              "  <tbody>\n",
              "    <tr>\n",
              "      <th>T-test</th>\n",
              "      <td>42.483582</td>\n",
              "      <td>273</td>\n",
              "      <td>two-sided</td>\n",
              "      <td>2.486212e-122</td>\n",
              "      <td>[814.1, 893.22]</td>\n",
              "      <td>2.566527</td>\n",
              "      <td>2.773e+118</td>\n",
              "      <td>1.0</td>\n",
              "    </tr>\n",
              "  </tbody>\n",
              "</table>\n",
              "</div>\n",
              "    <div class=\"colab-df-buttons\">\n",
              "\n",
              "  <div class=\"colab-df-container\">\n",
              "    <button class=\"colab-df-convert\" onclick=\"convertToInteractive('df-e822554e-4d60-4031-9d45-d220875f3481')\"\n",
              "            title=\"Convert this dataframe to an interactive table.\"\n",
              "            style=\"display:none;\">\n",
              "\n",
              "  <svg xmlns=\"http://www.w3.org/2000/svg\" height=\"24px\" viewBox=\"0 -960 960 960\">\n",
              "    <path d=\"M120-120v-720h720v720H120Zm60-500h600v-160H180v160Zm220 220h160v-160H400v160Zm0 220h160v-160H400v160ZM180-400h160v-160H180v160Zm440 0h160v-160H620v160ZM180-180h160v-160H180v160Zm440 0h160v-160H620v160Z\"/>\n",
              "  </svg>\n",
              "    </button>\n",
              "\n",
              "  <style>\n",
              "    .colab-df-container {\n",
              "      display:flex;\n",
              "      gap: 12px;\n",
              "    }\n",
              "\n",
              "    .colab-df-convert {\n",
              "      background-color: #E8F0FE;\n",
              "      border: none;\n",
              "      border-radius: 50%;\n",
              "      cursor: pointer;\n",
              "      display: none;\n",
              "      fill: #1967D2;\n",
              "      height: 32px;\n",
              "      padding: 0 0 0 0;\n",
              "      width: 32px;\n",
              "    }\n",
              "\n",
              "    .colab-df-convert:hover {\n",
              "      background-color: #E2EBFA;\n",
              "      box-shadow: 0px 1px 2px rgba(60, 64, 67, 0.3), 0px 1px 3px 1px rgba(60, 64, 67, 0.15);\n",
              "      fill: #174EA6;\n",
              "    }\n",
              "\n",
              "    .colab-df-buttons div {\n",
              "      margin-bottom: 4px;\n",
              "    }\n",
              "\n",
              "    [theme=dark] .colab-df-convert {\n",
              "      background-color: #3B4455;\n",
              "      fill: #D2E3FC;\n",
              "    }\n",
              "\n",
              "    [theme=dark] .colab-df-convert:hover {\n",
              "      background-color: #434B5C;\n",
              "      box-shadow: 0px 1px 3px 1px rgba(0, 0, 0, 0.15);\n",
              "      filter: drop-shadow(0px 1px 2px rgba(0, 0, 0, 0.3));\n",
              "      fill: #FFFFFF;\n",
              "    }\n",
              "  </style>\n",
              "\n",
              "    <script>\n",
              "      const buttonEl =\n",
              "        document.querySelector('#df-e822554e-4d60-4031-9d45-d220875f3481 button.colab-df-convert');\n",
              "      buttonEl.style.display =\n",
              "        google.colab.kernel.accessAllowed ? 'block' : 'none';\n",
              "\n",
              "      async function convertToInteractive(key) {\n",
              "        const element = document.querySelector('#df-e822554e-4d60-4031-9d45-d220875f3481');\n",
              "        const dataTable =\n",
              "          await google.colab.kernel.invokeFunction('convertToInteractive',\n",
              "                                                    [key], {});\n",
              "        if (!dataTable) return;\n",
              "\n",
              "        const docLinkHtml = 'Like what you see? Visit the ' +\n",
              "          '<a target=\"_blank\" href=https://colab.research.google.com/notebooks/data_table.ipynb>data table notebook</a>'\n",
              "          + ' to learn more about interactive tables.';\n",
              "        element.innerHTML = '';\n",
              "        dataTable['output_type'] = 'display_data';\n",
              "        await google.colab.output.renderOutput(dataTable, element);\n",
              "        const docLink = document.createElement('div');\n",
              "        docLink.innerHTML = docLinkHtml;\n",
              "        element.appendChild(docLink);\n",
              "      }\n",
              "    </script>\n",
              "  </div>\n",
              "\n",
              "    </div>\n",
              "  </div>\n"
            ]
          },
          "metadata": {},
          "execution_count": 35
        }
      ]
    },
    {
      "cell_type": "markdown",
      "source": [
        "-> 중고차 시장(약 360만대) 전수 조사를 하면 평균 가격이 814~893만원 사이에서 나올 것 같다고 추정 (우리가 이런 비슷한 추정을 100번 하면 95번은 저 범위에 들어감)"
      ],
      "metadata": {
        "id": "gtmZxZMjZevL"
      }
    },
    {
      "cell_type": "code",
      "source": [
        "df.price.mean()   # 852±40"
      ],
      "metadata": {
        "colab": {
          "base_uri": "https://localhost:8080/"
        },
        "id": "8_esiPWxfnsz",
        "outputId": "d6c626aa-5d0d-43a0-81d3-582de4c0c30e"
      },
      "execution_count": 36,
      "outputs": [
        {
          "output_type": "execute_result",
          "data": {
            "text/plain": [
              "853.6605839416059"
            ]
          },
          "metadata": {},
          "execution_count": 36
        }
      ]
    },
    {
      "cell_type": "code",
      "source": [
        "pg.ttest(df.price.sample(65), 0, confidence = 0.95)  # 랜덤으로 65개만 뽑아서"
      ],
      "metadata": {
        "colab": {
          "base_uri": "https://localhost:8080/",
          "height": 81
        },
        "id": "nof9qdHofs4n",
        "outputId": "5e5ed299-0eec-4a5f-b72d-02b5ba253040"
      },
      "execution_count": 37,
      "outputs": [
        {
          "output_type": "execute_result",
          "data": {
            "text/plain": [
              "                T  dof alternative         p-val            CI95%   cohen-d  \\\n",
              "T-test  19.653812   64   two-sided  8.239708e-29  [799.48, 980.4]  2.437755   \n",
              "\n",
              "             BF10  power  \n",
              "T-test  3.812e+25    1.0  "
            ],
            "text/html": [
              "\n",
              "  <div id=\"df-ba44a12e-8b32-4258-a95b-5f9a01ba3df6\" class=\"colab-df-container\">\n",
              "    <div>\n",
              "<style scoped>\n",
              "    .dataframe tbody tr th:only-of-type {\n",
              "        vertical-align: middle;\n",
              "    }\n",
              "\n",
              "    .dataframe tbody tr th {\n",
              "        vertical-align: top;\n",
              "    }\n",
              "\n",
              "    .dataframe thead th {\n",
              "        text-align: right;\n",
              "    }\n",
              "</style>\n",
              "<table border=\"1\" class=\"dataframe\">\n",
              "  <thead>\n",
              "    <tr style=\"text-align: right;\">\n",
              "      <th></th>\n",
              "      <th>T</th>\n",
              "      <th>dof</th>\n",
              "      <th>alternative</th>\n",
              "      <th>p-val</th>\n",
              "      <th>CI95%</th>\n",
              "      <th>cohen-d</th>\n",
              "      <th>BF10</th>\n",
              "      <th>power</th>\n",
              "    </tr>\n",
              "  </thead>\n",
              "  <tbody>\n",
              "    <tr>\n",
              "      <th>T-test</th>\n",
              "      <td>19.653812</td>\n",
              "      <td>64</td>\n",
              "      <td>two-sided</td>\n",
              "      <td>8.239708e-29</td>\n",
              "      <td>[799.48, 980.4]</td>\n",
              "      <td>2.437755</td>\n",
              "      <td>3.812e+25</td>\n",
              "      <td>1.0</td>\n",
              "    </tr>\n",
              "  </tbody>\n",
              "</table>\n",
              "</div>\n",
              "    <div class=\"colab-df-buttons\">\n",
              "\n",
              "  <div class=\"colab-df-container\">\n",
              "    <button class=\"colab-df-convert\" onclick=\"convertToInteractive('df-ba44a12e-8b32-4258-a95b-5f9a01ba3df6')\"\n",
              "            title=\"Convert this dataframe to an interactive table.\"\n",
              "            style=\"display:none;\">\n",
              "\n",
              "  <svg xmlns=\"http://www.w3.org/2000/svg\" height=\"24px\" viewBox=\"0 -960 960 960\">\n",
              "    <path d=\"M120-120v-720h720v720H120Zm60-500h600v-160H180v160Zm220 220h160v-160H400v160Zm0 220h160v-160H400v160ZM180-400h160v-160H180v160Zm440 0h160v-160H620v160ZM180-180h160v-160H180v160Zm440 0h160v-160H620v160Z\"/>\n",
              "  </svg>\n",
              "    </button>\n",
              "\n",
              "  <style>\n",
              "    .colab-df-container {\n",
              "      display:flex;\n",
              "      gap: 12px;\n",
              "    }\n",
              "\n",
              "    .colab-df-convert {\n",
              "      background-color: #E8F0FE;\n",
              "      border: none;\n",
              "      border-radius: 50%;\n",
              "      cursor: pointer;\n",
              "      display: none;\n",
              "      fill: #1967D2;\n",
              "      height: 32px;\n",
              "      padding: 0 0 0 0;\n",
              "      width: 32px;\n",
              "    }\n",
              "\n",
              "    .colab-df-convert:hover {\n",
              "      background-color: #E2EBFA;\n",
              "      box-shadow: 0px 1px 2px rgba(60, 64, 67, 0.3), 0px 1px 3px 1px rgba(60, 64, 67, 0.15);\n",
              "      fill: #174EA6;\n",
              "    }\n",
              "\n",
              "    .colab-df-buttons div {\n",
              "      margin-bottom: 4px;\n",
              "    }\n",
              "\n",
              "    [theme=dark] .colab-df-convert {\n",
              "      background-color: #3B4455;\n",
              "      fill: #D2E3FC;\n",
              "    }\n",
              "\n",
              "    [theme=dark] .colab-df-convert:hover {\n",
              "      background-color: #434B5C;\n",
              "      box-shadow: 0px 1px 3px 1px rgba(0, 0, 0, 0.15);\n",
              "      filter: drop-shadow(0px 1px 2px rgba(0, 0, 0, 0.3));\n",
              "      fill: #FFFFFF;\n",
              "    }\n",
              "  </style>\n",
              "\n",
              "    <script>\n",
              "      const buttonEl =\n",
              "        document.querySelector('#df-ba44a12e-8b32-4258-a95b-5f9a01ba3df6 button.colab-df-convert');\n",
              "      buttonEl.style.display =\n",
              "        google.colab.kernel.accessAllowed ? 'block' : 'none';\n",
              "\n",
              "      async function convertToInteractive(key) {\n",
              "        const element = document.querySelector('#df-ba44a12e-8b32-4258-a95b-5f9a01ba3df6');\n",
              "        const dataTable =\n",
              "          await google.colab.kernel.invokeFunction('convertToInteractive',\n",
              "                                                    [key], {});\n",
              "        if (!dataTable) return;\n",
              "\n",
              "        const docLinkHtml = 'Like what you see? Visit the ' +\n",
              "          '<a target=\"_blank\" href=https://colab.research.google.com/notebooks/data_table.ipynb>data table notebook</a>'\n",
              "          + ' to learn more about interactive tables.';\n",
              "        element.innerHTML = '';\n",
              "        dataTable['output_type'] = 'display_data';\n",
              "        await google.colab.output.renderOutput(dataTable, element);\n",
              "        const docLink = document.createElement('div');\n",
              "        docLink.innerHTML = docLinkHtml;\n",
              "        element.appendChild(docLink);\n",
              "      }\n",
              "    </script>\n",
              "  </div>\n",
              "\n",
              "    </div>\n",
              "  </div>\n"
            ]
          },
          "metadata": {},
          "execution_count": 37
        }
      ]
    },
    {
      "cell_type": "markdown",
      "source": [
        "차량 대수가 274 -> 65로 줄어들자 오차범위가 ±90 으로 늘어남\n",
        "* 오차범위 : (큰 값 - 작은 값) /2\n",
        "\n"
      ],
      "metadata": {
        "id": "Ndw6XeIgfyeE"
      }
    },
    {
      "cell_type": "markdown",
      "source": [
        "### 데이터를 왜 많이 모아야하는가?\n",
        "-> 같은 신뢰수준에서라도 데이터가 많으면 오차범위가 작다\n",
        "\n",
        "### 그렇다면 얼마나 데이터를 모아야 하나?\n",
        "-> 의사 결정에 필요한 만큼 모으면 된다\n",
        "\n",
        "\n",
        "* T라는 값이 처음 나온 논문을 보면 예로 드는 데이터 개수 4개\n",
        "--> 이론적으로는 데이터 개수가 2건만 있어도 통계적으로 올바른 통계가 됨.\n",
        "but 데이터 개수가 적으면 오차범위가 넓어지므로 충분히 모으는 것이 좋음.\n",
        "\n",
        "### 의사 결정할 기준이 불분명할 때\n",
        "-> 많으면 많을수록 좋지만 대체로 돈과 시간이 많이 듦"
      ],
      "metadata": {
        "id": "ZeVi7tdZgZrD"
      }
    },
    {
      "cell_type": "markdown",
      "source": [
        "## '신뢰수준', '데이터의 변산성'보다 '표본의 크기'가 중요함\n",
        "![image.png](data:image/png;base64,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)"
      ],
      "metadata": {
        "id": "FSTn9i-Zh80u"
      }
    },
    {
      "cell_type": "code",
      "source": [
        "import numpy as np\n",
        "import scipy as sp\n",
        "\n",
        "sp.stats.bootstrap(\n",
        "    [df.price],\n",
        "    np.median,\n",
        "    n_resamples = 10000,\n",
        "    confidence_level = 0.95\n",
        ")\n",
        "\n",
        "sp.stats.bootstrap(\n",
        "    [df.price],\n",
        "    np.mean,\n",
        "    n_resamples = 10000,\n",
        "    confidence_level = 0.95\n",
        ")"
      ],
      "metadata": {
        "colab": {
          "base_uri": "https://localhost:8080/"
        },
        "id": "5hXdBQeHjqTA",
        "outputId": "1de71fea-0a40-49eb-c069-4ac24b7dcc61"
      },
      "execution_count": 38,
      "outputs": [
        {
          "output_type": "execute_result",
          "data": {
            "text/plain": [
              "BootstrapResult(confidence_interval=ConfidenceInterval(low=815.2146005890381, high=894.3004831362797), bootstrap_distribution=array([836.03649635, 872.2810219 , 864.70437956, ..., 842.58394161,\n",
              "       851.1350365 , 867.08029197]), standard_error=19.9619708020057)"
            ]
          },
          "metadata": {},
          "execution_count": 38
        }
      ]
    },
    {
      "cell_type": "markdown",
      "source": [
        "- 중간값의 95% 신뢰구간 :\n",
        "    - 이론적 신뢰구간 : ? (안 구함)\n",
        "\n",
        "    - 부트스트랩 신뢰구간 : 775, 860\n",
        "- 평균의 95% 신뢰구간 :\n",
        "    - 이론적 신뢰구간 : 814 , 893\n",
        "\n",
        "    - 부트스트랩 신뢰구간 : 815, 894"
      ],
      "metadata": {
        "id": "aDxi_U6Bj8Nq"
      }
    },
    {
      "cell_type": "code",
      "source": [
        "n = 100\n",
        "1.96 * 50 / np.sqrt(n)"
      ],
      "metadata": {
        "colab": {
          "base_uri": "https://localhost:8080/"
        },
        "id": "eLhShNWimIVx",
        "outputId": "e466c385-5c91-40e0-a4e6-28d47e18567a"
      },
      "execution_count": 42,
      "outputs": [
        {
          "output_type": "execute_result",
          "data": {
            "text/plain": [
              "9.8"
            ]
          },
          "metadata": {},
          "execution_count": 42
        }
      ]
    },
    {
      "cell_type": "markdown",
      "source": [
        "1. 사업 아이디어 지지율 -> 30%이면 해볼만 할 것 같다\n",
        "\n",
        "2. 10명에게 물어보니 40% 지지(4명이 지지)\n",
        "3. 지지율이 40%인가? no. 오차범위 30% 계산 필요\n",
        " = 10%~ 70%\n",
        "4. 몇 명을 더 조사해야할까? (= 오차범위를 얼마나 좁혀야하나?)\n",
        "5. 내 기준 오차범위가 ±10%까지는 줄어야 결론이 난다\n",
        "6. n = 100일 때 오차범위가 ±9.8%니까 이 정도면 되겠군"
      ],
      "metadata": {
        "id": "B2CIqDXYng5L"
      }
    },
    {
      "cell_type": "code",
      "source": [],
      "metadata": {
        "id": "3F4Z3iqJnfis"
      },
      "execution_count": null,
      "outputs": []
    }
  ]
}